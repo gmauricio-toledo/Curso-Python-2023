{
  "nbformat": 4,
  "nbformat_minor": 0,
  "metadata": {
    "colab": {
      "provenance": [],
      "include_colab_link": true
    },
    "kernelspec": {
      "name": "python3",
      "display_name": "Python 3"
    }
  },
  "cells": [
    {
      "cell_type": "markdown",
      "metadata": {
        "id": "view-in-github",
        "colab_type": "text"
      },
      "source": [
        "<a href=\"https://colab.research.google.com/github/gmauricio-toledo/Curso-Python-2023/blob/main/01_2_M%C3%B3dulos.ipynb\" target=\"_parent\"><img src=\"https://colab.research.google.com/assets/colab-badge.svg\" alt=\"Open In Colab\"/></a>"
      ]
    },
    {
      "cell_type": "markdown",
      "metadata": {
        "id": "hHhum883xsK-"
      },
      "source": [
        "Un módulo es un script que contiene código de Pyhton. Su extención es `.py`. En los módulos se almacenan _variables_ y _funciones_ que nos permiten realizar ciertas actividades de manera más automatizada.\n",
        "\n",
        "Python cuenta con una biblioteca de módulos estándar. Algunos módulos se integran en el intérprete y estos proveen acceso a operaciones que no son parte del núcleo de Python pero que si están integrados.\n",
        "\n",
        "**La forma en la que podemos agregar un módulo a Python es con la función `import`.** Por ejemplo, el módulo [`math`](https://docs.python.org/3.7/library/math.html#module-math), que nos permite realizar operaciones como raiz cuadrada, usar funciones trigonométricas, exponenciales, etc., se importa de la siguiente manera:"
      ]
    },
    {
      "cell_type": "code",
      "metadata": {
        "id": "_vF3Zmn61YvO"
      },
      "source": [
        "import math # De esta forma importamos el módulo math"
      ],
      "execution_count": null,
      "outputs": []
    },
    {
      "cell_type": "markdown",
      "metadata": {
        "id": "Fp4uyJZv14No"
      },
      "source": [
        " Podemos importar solo algunas funciones de los módulos o importar todas las funciones. También podemos importar un módulo y renombrarlo para acceder a las funciones de una forma más sencilla."
      ]
    },
    {
      "cell_type": "code",
      "metadata": {
        "id": "XY8gQc_62Svn"
      },
      "source": [
        "from math import sqrt, exp # Solo estamos importando las funciones raiz cuadrada y exponencial"
      ],
      "execution_count": null,
      "outputs": []
    },
    {
      "cell_type": "markdown",
      "metadata": {
        "id": "-2v3Y8Ln2lTE"
      },
      "source": [
        "Al importar de esta manera las funciones, si queremos usarlas, solo debemos de llamarlas con el respectivo nombre."
      ]
    },
    {
      "cell_type": "code",
      "metadata": {
        "id": "l7p8FUMb2hhb"
      },
      "source": [
        "sqrt(25)"
      ],
      "execution_count": null,
      "outputs": []
    },
    {
      "cell_type": "code",
      "metadata": {
        "id": "nVXKQclTcKeu"
      },
      "source": [
        "exp(25)"
      ],
      "execution_count": null,
      "outputs": []
    },
    {
      "cell_type": "markdown",
      "metadata": {
        "id": "k_I1tyy72xv2"
      },
      "source": [
        "Cuando importamos un módulo con la sintaxis `import math`, para poder usar las funciones debemos llamarlas de la siguiente manera:"
      ]
    },
    {
      "cell_type": "code",
      "metadata": {
        "id": "xApAyklB269c"
      },
      "source": [
        "import math"
      ],
      "execution_count": null,
      "outputs": []
    },
    {
      "cell_type": "code",
      "metadata": {
        "id": "OrebnXL92837"
      },
      "source": [
        "math.sqrt(25)"
      ],
      "execution_count": null,
      "outputs": []
    },
    {
      "cell_type": "markdown",
      "metadata": {
        "id": "nhxklz6d3JRY"
      },
      "source": [
        "**¿Qué sucede si importamos un módulo con la sintaxis `import math` y tratamos de usar una función sin antes colocar la palabra `math`?**"
      ]
    },
    {
      "cell_type": "code",
      "metadata": {
        "id": "-8eCO2402_v7"
      },
      "source": [
        "sin(25) # Función sen(x)"
      ],
      "execution_count": null,
      "outputs": []
    },
    {
      "cell_type": "code",
      "metadata": {
        "id": "30ZKOxeY3A_-"
      },
      "source": [
        "# ¿De qué manera se debe usar la función sen(x)? Escribe aqui tu respuesta:"
      ],
      "execution_count": null,
      "outputs": []
    },
    {
      "cell_type": "markdown",
      "metadata": {
        "id": "PiguHmwZ3l8o"
      },
      "source": [
        "Como mencionamos anteriormente, también podemos renombrar los módulos de tal forma que sean más fáciles de usar. La forma de hacerlo es la siguiente:"
      ]
    },
    {
      "cell_type": "code",
      "metadata": {
        "id": "4fCjGrrS4Cks"
      },
      "source": [
        "import math as mt # Con esto renombramos el módulo math como mt. En general, a la palabra que utilizamos para renombrar un módulo se le denomina 'alias'."
      ],
      "execution_count": null,
      "outputs": []
    },
    {
      "cell_type": "code",
      "metadata": {
        "id": "ABaVbQaz4Mnu"
      },
      "source": [
        "mt.sqrt(25) # Ahora, en lugar de escribir math.sqrt, debemos/podemos escribir mt.sqrt"
      ],
      "execution_count": null,
      "outputs": []
    }
  ]
}