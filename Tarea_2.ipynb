{
  "cells": [
    {
      "cell_type": "markdown",
      "metadata": {
        "colab_type": "text",
        "id": "view-in-github"
      },
      "source": [
        "<a href=\"https://colab.research.google.com/github/gmauricio-toledo/Curso-Python-2023/blob/main/Tarea_1.ipynb\" target=\"_parent\"><img src=\"https://colab.research.google.com/assets/colab-badge.svg\" alt=\"Open In Colab\"/></a>"
      ]
    },
    {
      "cell_type": "markdown",
      "metadata": {
        "id": "44CIBP3WslvO"
      },
      "source": [
        "<h1>Tarea 2</h1>\n",
        "\n",
        "**Fecha límite de entrega: 5 de diciembre**"
      ]
    }
  ],
  "metadata": {
    "colab": {
      "collapsed_sections": [
        "9P2qhYwMnaiG",
        "QyfByHDwnc-K",
        "jolxYIdSTrDw",
        "bwY2TVBZOglF",
        "xiB-MHCWrM7z",
        "BY3autzcsx27",
        "GkwgU9-Gtty2"
      ],
      "include_colab_link": true,
      "provenance": []
    },
    "kernelspec": {
      "display_name": "Python 3",
      "name": "python3"
    },
    "language_info": {
      "name": "python"
    }
  },
  "nbformat": 4,
  "nbformat_minor": 0
}
