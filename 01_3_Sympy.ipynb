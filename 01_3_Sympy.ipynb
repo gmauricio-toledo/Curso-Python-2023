{
  "nbformat": 4,
  "nbformat_minor": 0,
  "metadata": {
    "colab": {
      "provenance": [],
      "include_colab_link": true
    },
    "kernelspec": {
      "name": "python3",
      "display_name": "Python 3"
    }
  },
  "cells": [
    {
      "cell_type": "markdown",
      "metadata": {
        "id": "view-in-github",
        "colab_type": "text"
      },
      "source": [
        "<a href=\"https://colab.research.google.com/github/gmauricio-toledo/Curso-Python-2023/blob/main/01_3_Sympy.ipynb\" target=\"_parent\"><img src=\"https://colab.research.google.com/assets/colab-badge.svg\" alt=\"Open In Colab\"/></a>"
      ]
    },
    {
      "cell_type": "markdown",
      "metadata": {
        "id": "lbER9rKS6fcQ"
      },
      "source": [
        "El módulo [`SymPy`](https://docs.sympy.org/latest/index.html) es una librería de Python que nos permite realizar cálculo simbólico. Como siempre, para poder acceder a ella y utilizar sus funciones, lo primero que debemos hacer es importarla.\n",
        "\n",
        "*   [https://www.sympy.org/en/index.html](https://www.sympy.org/en/index.html)\n",
        "*   [https://scipy-lectures.org/packages/sympy.html](https://scipy-lectures.org/packages/sympy.html)\n",
        "\n",
        "**Maneras en las que podemos importar `SymPy`:**  \n",
        "\n",
        "\n",
        "1.  `import sympy`\n",
        "2. `import sympy as sym`     (*renombrar SymPy como sym*)\n",
        "3. `from sympy import *`     (*importar todas las funciones de SymPy. Aunque no es muy recomendable importar de esta manera*)\n",
        "4. `from sympy import 'nombre de funciones separadas por comas'`     (*importar solo algunas funciones*)"
      ]
    },
    {
      "cell_type": "code",
      "metadata": {
        "id": "rLglhHq46ACK"
      },
      "source": [
        "# Importar el módulo SymPy\n",
        "import sympy as sym"
      ],
      "execution_count": 2,
      "outputs": []
    },
    {
      "cell_type": "markdown",
      "metadata": {
        "id": "D_YEGXqA-a3x"
      },
      "source": [
        "Una vez que hemos importado este módulo, lo siguiente es definir los __símbolos__ o __variables__ que usaremos. Por ejemplo, si vamos a realizar operaciones con la variable `x` debemos definirla de la siguiente manera:"
      ]
    },
    {
      "cell_type": "code",
      "metadata": {
        "id": "_W07twss_Edl"
      },
      "source": [
        "x = sym.symbols('x')"
      ],
      "execution_count": 3,
      "outputs": []
    },
    {
      "cell_type": "markdown",
      "metadata": {
        "id": "GWMxxI51_Mva"
      },
      "source": [
        "Si queremos usar las variables `x` e `y` las definiremos como:"
      ]
    },
    {
      "cell_type": "code",
      "metadata": {
        "id": "_8ALdSSu_UdB"
      },
      "source": [
        "x, y = sym.symbols('x, y')"
      ],
      "execution_count": 4,
      "outputs": []
    },
    {
      "cell_type": "markdown",
      "metadata": {
        "id": "ZUuphsK0Vyb5"
      },
      "source": [
        "**OBSERVACIÓN:**\n",
        "\n",
        "* Hay que advertir la diferencia entre designar el nombre de la variable en la que almacenamos una variable simbólica y el caracter usada para ésta."
      ]
    },
    {
      "cell_type": "markdown",
      "metadata": {
        "id": "u4plWTOqV2xg"
      },
      "source": [
        "Por ejemplo, podemos almanecaner la variagle simbólica `x` en una variable cuyo nombre contenga caracteres diferentes:"
      ]
    },
    {
      "cell_type": "code",
      "metadata": {
        "id": "pRykRjaVVyAO"
      },
      "source": [
        "pythan = sym.symbols('x')"
      ],
      "execution_count": 6,
      "outputs": []
    },
    {
      "cell_type": "code",
      "metadata": {
        "id": "O_H6BuP9Wy64",
        "colab": {
          "base_uri": "https://localhost:8080/",
          "height": 38
        },
        "outputId": "83913201-0527-453a-cac7-d018d7fff5e2"
      },
      "source": [
        "pythan"
      ],
      "execution_count": 7,
      "outputs": [
        {
          "output_type": "execute_result",
          "data": {
            "text/plain": [
              "x"
            ],
            "text/latex": "$\\displaystyle x$"
          },
          "metadata": {},
          "execution_count": 7
        }
      ]
    },
    {
      "cell_type": "markdown",
      "metadata": {
        "id": "zgvSvqtRWmdN"
      },
      "source": [
        "Luego, operar según se requiera:"
      ]
    },
    {
      "cell_type": "code",
      "metadata": {
        "id": "Ak9CqHDsWwfX",
        "colab": {
          "base_uri": "https://localhost:8080/",
          "height": 38
        },
        "outputId": "60940083-e467-4af2-dd57-fdb4e035067c"
      },
      "source": [
        "pythan * pythan"
      ],
      "execution_count": 8,
      "outputs": [
        {
          "output_type": "execute_result",
          "data": {
            "text/plain": [
              "x**2"
            ],
            "text/latex": "$\\displaystyle x^{2}$"
          },
          "metadata": {},
          "execution_count": 8
        }
      ]
    },
    {
      "cell_type": "code",
      "metadata": {
        "id": "jY_aEWWUW2N5",
        "colab": {
          "base_uri": "https://localhost:8080/",
          "height": 38
        },
        "outputId": "a4de6eef-e2e8-4c5d-ebe9-20b48125bfa7"
      },
      "source": [
        "pythan ** pythan"
      ],
      "execution_count": 9,
      "outputs": [
        {
          "output_type": "execute_result",
          "data": {
            "text/plain": [
              "x**x"
            ],
            "text/latex": "$\\displaystyle x^{x}$"
          },
          "metadata": {},
          "execution_count": 9
        }
      ]
    },
    {
      "cell_type": "markdown",
      "metadata": {
        "id": "iCosKRyAW8qL"
      },
      "source": [
        "Podemos almanecaner la variable simbólica `pythan` en una variable cuyo nombre sea `x`:"
      ]
    },
    {
      "cell_type": "code",
      "metadata": {
        "id": "Z7ZdlZdEW8Of"
      },
      "source": [
        "x = sym.symbols('pythan')"
      ],
      "execution_count": 10,
      "outputs": []
    },
    {
      "cell_type": "code",
      "metadata": {
        "id": "lz4FWmgpXHw_",
        "colab": {
          "base_uri": "https://localhost:8080/",
          "height": 38
        },
        "outputId": "a21fc491-dd83-4499-de7b-042831e1a39b"
      },
      "source": [
        "x"
      ],
      "execution_count": 11,
      "outputs": [
        {
          "output_type": "execute_result",
          "data": {
            "text/plain": [
              "pythan"
            ],
            "text/latex": "$\\displaystyle pythan$"
          },
          "metadata": {},
          "execution_count": 11
        }
      ]
    },
    {
      "cell_type": "markdown",
      "metadata": {
        "id": "W4zmS0WPXJ_P"
      },
      "source": [
        "Luego, operar según se requiera:"
      ]
    },
    {
      "cell_type": "code",
      "metadata": {
        "id": "-f3vastoXKhv",
        "colab": {
          "base_uri": "https://localhost:8080/",
          "height": 38
        },
        "outputId": "13e37051-3f1d-4d44-cf53-4dd23c105707"
      },
      "source": [
        "x * x"
      ],
      "execution_count": 12,
      "outputs": [
        {
          "output_type": "execute_result",
          "data": {
            "text/plain": [
              "pythan**2"
            ],
            "text/latex": "$\\displaystyle pythan^{2}$"
          },
          "metadata": {},
          "execution_count": 12
        }
      ]
    },
    {
      "cell_type": "code",
      "metadata": {
        "id": "Llv15_OoXMTH",
        "colab": {
          "base_uri": "https://localhost:8080/",
          "height": 39
        },
        "outputId": "f4273b1e-5299-48d5-90e7-27c6962db943"
      },
      "source": [
        "x ** x"
      ],
      "execution_count": 13,
      "outputs": [
        {
          "output_type": "execute_result",
          "data": {
            "text/plain": [
              "pythan**pythan"
            ],
            "text/latex": "$\\displaystyle pythan^{pythan}$"
          },
          "metadata": {},
          "execution_count": 13
        }
      ]
    },
    {
      "cell_type": "markdown",
      "metadata": {
        "id": "UBav1VlmFKlV"
      },
      "source": [
        "Ya que tenemos definidos nuestros _símbolos_, podemos empezar a realizar [_cálculo simbólico_](https://docs.sympy.org/latest/tutorial/intro.html)."
      ]
    }
  ]
}