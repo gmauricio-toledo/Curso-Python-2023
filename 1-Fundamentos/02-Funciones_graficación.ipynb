{
  "nbformat": 4,
  "nbformat_minor": 0,
  "metadata": {
    "colab": {
      "provenance": [],
      "authorship_tag": "ABX9TyPCzAujWl05oMGh9PKVj7gR",
      "include_colab_link": true
    },
    "kernelspec": {
      "name": "python3",
      "display_name": "Python 3"
    },
    "language_info": {
      "name": "python"
    }
  },
  "cells": [
    {
      "cell_type": "markdown",
      "metadata": {
        "id": "view-in-github",
        "colab_type": "text"
      },
      "source": [
        "<a href=\"https://colab.research.google.com/github/gmauricio-toledo/Curso-Python-2023/blob/main/1-Fundamentos/02-Funciones_graficaci%C3%B3n.ipynb\" target=\"_parent\"><img src=\"https://colab.research.google.com/assets/colab-badge.svg\" alt=\"Open In Colab\"/></a>"
      ]
    },
    {
      "cell_type": "markdown",
      "source": [
        "# Definición de funciones y graficación"
      ],
      "metadata": {
        "id": "pOGrrx8QYrmI"
      }
    },
    {
      "cell_type": "markdown",
      "source": [
        "En esta notebook revisaremos cómo definir, usar y graficar funciones usando funciones de Python.\n",
        "\n",
        "Las funciones son bloques de código organizado y reutilizable que se utiliza para realizar una única acción. Pueden llamarse con parámetros y pueden *regresar* datos de diversos tipos.\n",
        "\n",
        "La sintaxis es\n",
        "\n",
        "\n",
        "\n",
        "```\n",
        "# def nombre_de_la_funcion( parámetros opcionales ):\n",
        "    ... codigo de la función ...\n",
        "    return ...  <--- opcional\n",
        "```\n",
        "\n"
      ],
      "metadata": {
        "id": "0-g-lGDsYu-b"
      }
    },
    {
      "cell_type": "markdown",
      "source": [
        "Por ejemplo, podemos definir una función que eleve un número al cuadrado. Las tres opciones son equivalentes:"
      ],
      "metadata": {
        "id": "wZmKpae0aa0J"
      }
    },
    {
      "cell_type": "code",
      "execution_count": null,
      "metadata": {
        "id": "f-9_K3uIYpyo"
      },
      "outputs": [],
      "source": [
        "def elevar_al_cuadrado(x):\n",
        "    y = x*x\n",
        "    return y"
      ]
    },
    {
      "cell_type": "code",
      "source": [
        "def elevar_al_cuadrado(x):\n",
        "    y = x**2\n",
        "    return y"
      ],
      "metadata": {
        "id": "C9c52wsBaiXP"
      },
      "execution_count": null,
      "outputs": []
    },
    {
      "cell_type": "code",
      "source": [
        "def elevar_al_cuadrado(x):\n",
        "    return x**2"
      ],
      "metadata": {
        "id": "jRR5PDzpZvjn"
      },
      "execution_count": null,
      "outputs": []
    },
    {
      "cell_type": "markdown",
      "source": [
        "Las funciones lambda sirven para definir una función sencilla en una sola línea. Suelen usarse para pasar una función sencilla como argumento de un método; de esta manera no tenemos que usar un nombre/definición para una función que no volveremos a usar."
      ],
      "metadata": {
        "id": "B1a_WjH8T16I"
      }
    },
    {
      "cell_type": "code",
      "source": [
        "elevar_al_cuadrado = lambda x: x**2"
      ],
      "metadata": {
        "id": "FRQaQSAmalVr"
      },
      "execution_count": 1,
      "outputs": []
    },
    {
      "cell_type": "markdown",
      "source": [
        "Podemos probar cualquiera de las definiciones anteriores:"
      ],
      "metadata": {
        "id": "y8J93rpvUSIi"
      }
    },
    {
      "cell_type": "code",
      "source": [
        "elevar_al_cuadrado(3)"
      ],
      "metadata": {
        "colab": {
          "base_uri": "https://localhost:8080/"
        },
        "id": "0IItQdooT9eQ",
        "outputId": "31fd92e3-ea2e-4ff6-bfca-f638d9ee8aed"
      },
      "execution_count": 2,
      "outputs": [
        {
          "output_type": "execute_result",
          "data": {
            "text/plain": [
              "9"
            ]
          },
          "metadata": {},
          "execution_count": 2
        }
      ]
    },
    {
      "cell_type": "markdown",
      "source": [
        "# Numpy"
      ],
      "metadata": {
        "id": "Us4vG8mvXEfF"
      }
    },
    {
      "cell_type": "markdown",
      "source": [
        "[Numpy](https://numpy.org/) es un módulo de Python ..."
      ],
      "metadata": {
        "id": "hjcOg5zxXGmh"
      }
    },
    {
      "cell_type": "code",
      "source": [
        "import numpy"
      ],
      "metadata": {
        "id": "pAlxquVJXJBk"
      },
      "execution_count": null,
      "outputs": []
    },
    {
      "cell_type": "code",
      "source": [
        "import numpy as np"
      ],
      "metadata": {
        "id": "K-GpORpAXKMo"
      },
      "execution_count": 4,
      "outputs": []
    },
    {
      "cell_type": "markdown",
      "source": [
        "Una de las clases fundamentales y básicas de Numpy es el arreglo `numpy.array`. Este puede pensarse como un vector, matriz o tensor.\n",
        "\n",
        "Se puede definir a partir de varios métodos o a partir de una lista de python. [Detalles](https://numpy.org/doc/stable/user/basics.creation.html)"
      ],
      "metadata": {
        "id": "6plEOFRAYtU-"
      }
    },
    {
      "cell_type": "code",
      "source": [
        "valores = [3,2,-3,5.5]\n",
        "\n",
        "arreglo = np.array(valores)\n",
        "\n",
        "print(arreglo)"
      ],
      "metadata": {
        "colab": {
          "base_uri": "https://localhost:8080/"
        },
        "id": "iwPmRCiNY9CA",
        "outputId": "7da68ce5-ea71-458e-8fcd-0ec0cd1aa4c3"
      },
      "execution_count": 10,
      "outputs": [
        {
          "output_type": "stream",
          "name": "stdout",
          "text": [
            "[ 3.   2.  -3.   5.5]\n"
          ]
        }
      ]
    },
    {
      "cell_type": "markdown",
      "source": [
        "Una vez que tenemos un arreglo, podemos usar cualquiera de los métodos de un arreglo de numpy. Por ejemplo,\n",
        "\n",
        "* La forma del arreglo:"
      ],
      "metadata": {
        "id": "E3pxYWYqZGoG"
      }
    },
    {
      "cell_type": "code",
      "source": [
        "arreglo.shape"
      ],
      "metadata": {
        "colab": {
          "base_uri": "https://localhost:8080/"
        },
        "id": "K14x1rozZMEw",
        "outputId": "07088b4e-7776-4538-a5bc-8c07ea00e724"
      },
      "execution_count": 11,
      "outputs": [
        {
          "output_type": "execute_result",
          "data": {
            "text/plain": [
              "(4,)"
            ]
          },
          "metadata": {},
          "execution_count": 11
        }
      ]
    },
    {
      "cell_type": "markdown",
      "source": [
        "* El número de dimensiones del arreglo"
      ],
      "metadata": {
        "id": "EGyNm14KZTBy"
      }
    },
    {
      "cell_type": "code",
      "source": [
        "arreglo.ndim"
      ],
      "metadata": {
        "colab": {
          "base_uri": "https://localhost:8080/"
        },
        "id": "A3HkW-kfZPA1",
        "outputId": "9d5dec73-7664-47f2-fbae-4ab74f0cbfa1"
      },
      "execution_count": 12,
      "outputs": [
        {
          "output_type": "execute_result",
          "data": {
            "text/plain": [
              "1"
            ]
          },
          "metadata": {},
          "execution_count": 12
        }
      ]
    },
    {
      "cell_type": "markdown",
      "source": [
        "## Ejemplo: Calcular errores"
      ],
      "metadata": {
        "id": "b4piqB7WWcQv"
      }
    },
    {
      "cell_type": "markdown",
      "source": [
        "Definimos una función para calcular el error absoluto entre un valor real y una aproximación a este valor"
      ],
      "metadata": {
        "id": "JZyUphKihxHT"
      }
    },
    {
      "cell_type": "code",
      "source": [
        "import numpy as np\n",
        "\n",
        "def error_absoluto(real, aproximacion):\n",
        "    return np.abs(real-aproximacion)\n",
        "\n",
        "def error_relativo(real, aproximacion):\n",
        "    '''\n",
        "    Implementar la función\n",
        "    '''\n",
        "    pass  # instrucción para \"dejar en blanco\" el cuerpo de una función"
      ],
      "metadata": {
        "id": "qi6xeywGUQ2E"
      },
      "execution_count": 3,
      "outputs": []
    },
    {
      "cell_type": "markdown",
      "source": [
        "Como ejemplo, consideremos el siguiente valor real y una secuencia de aproximaciones a dicho valor real"
      ],
      "metadata": {
        "id": "LRx9klXwh8-y"
      }
    },
    {
      "cell_type": "code",
      "source": [
        "valor_real = 4.5\n",
        "\n",
        "aproximaciones = [2.5, 2.7, 3.1, 3.6, 3.9, 4.2, 4.6, 4.55]"
      ],
      "metadata": {
        "id": "xMDjPgIEWoR8"
      },
      "execution_count": 5,
      "outputs": []
    },
    {
      "cell_type": "markdown",
      "source": [
        "Usando un ciclo `for` calculamos e imprimimos el error absoluto entre cada valor de la secuencia y el valor real"
      ],
      "metadata": {
        "id": "0_OLoCf5iDqy"
      }
    },
    {
      "cell_type": "code",
      "source": [
        "for aprox in aproximaciones:\n",
        "    print(f\"Error absoluto: {error_absoluto(valor_real,aprox)}\")\n",
        "    # print(f\"Error absoluto: {round(error_absoluto(valor_real,aprox),3)}\")"
      ],
      "metadata": {
        "colab": {
          "base_uri": "https://localhost:8080/"
        },
        "id": "09bdXtsvYP9G",
        "outputId": "ff79d5fc-e6c8-463d-f3ab-847e008a1606"
      },
      "execution_count": 7,
      "outputs": [
        {
          "output_type": "stream",
          "name": "stdout",
          "text": [
            "Error absoluto: 2.0\n",
            "Error absoluto: 2.0\n",
            "Error absoluto: 1.7999999999999998\n",
            "Error absoluto: 1.8\n",
            "Error absoluto: 1.4\n",
            "Error absoluto: 1.4\n",
            "Error absoluto: 0.8999999999999999\n",
            "Error absoluto: 0.9\n",
            "Error absoluto: 0.6000000000000001\n",
            "Error absoluto: 0.6\n",
            "Error absoluto: 0.2999999999999998\n",
            "Error absoluto: 0.3\n",
            "Error absoluto: 0.09999999999999964\n",
            "Error absoluto: 0.1\n",
            "Error absoluto: 0.04999999999999982\n",
            "Error absoluto: 0.05\n"
          ]
        }
      ]
    },
    {
      "cell_type": "markdown",
      "source": [
        "Usando numpy podemos simplificar el proceso anterior y hacerlo más rápido. Esta es una de muchas ventajas de Numpy."
      ],
      "metadata": {
        "id": "ejCKplCZhYhv"
      }
    },
    {
      "cell_type": "code",
      "source": [
        "aproximaciones = np.array(aproximaciones)\n",
        "\n",
        "error_absoluto(valor_real, aproximaciones)"
      ],
      "metadata": {
        "colab": {
          "base_uri": "https://localhost:8080/"
        },
        "id": "LDyAQ4U-YbVh",
        "outputId": "a9b27e62-7fde-451a-cb98-2651b07ea929"
      },
      "execution_count": 9,
      "outputs": [
        {
          "output_type": "execute_result",
          "data": {
            "text/plain": [
              "array([2.  , 1.8 , 1.4 , 0.9 , 0.6 , 0.3 , 0.1 , 0.05])"
            ]
          },
          "metadata": {},
          "execution_count": 9
        }
      ]
    },
    {
      "cell_type": "code",
      "source": [],
      "metadata": {
        "id": "4BhTyMmQYnQi"
      },
      "execution_count": null,
      "outputs": []
    }
  ]
}