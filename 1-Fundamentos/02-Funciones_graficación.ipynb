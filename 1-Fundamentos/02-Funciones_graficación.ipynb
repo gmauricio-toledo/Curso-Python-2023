{
  "nbformat": 4,
  "nbformat_minor": 0,
  "metadata": {
    "colab": {
      "provenance": [],
      "authorship_tag": "ABX9TyNTATb60ihxh3VXkt2gak+1",
      "include_colab_link": true
    },
    "kernelspec": {
      "name": "python3",
      "display_name": "Python 3"
    },
    "language_info": {
      "name": "python"
    }
  },
  "cells": [
    {
      "cell_type": "markdown",
      "metadata": {
        "id": "view-in-github",
        "colab_type": "text"
      },
      "source": [
        "<a href=\"https://colab.research.google.com/github/gmauricio-toledo/Curso-Python-2023/blob/main/1-Fundamentos/02-Funciones_graficaci%C3%B3n.ipynb\" target=\"_parent\"><img src=\"https://colab.research.google.com/assets/colab-badge.svg\" alt=\"Open In Colab\"/></a>"
      ]
    },
    {
      "cell_type": "markdown",
      "source": [
        "# Definición de funciones y graficación"
      ],
      "metadata": {
        "id": "pOGrrx8QYrmI"
      }
    },
    {
      "cell_type": "markdown",
      "source": [
        "En esta notebook revisaremos cómo definir, usar y graficar funciones usando funciones de Python.\n",
        "\n",
        "Las funciones son bloques de código organizado y reutilizable que se utiliza para realizar una única acción. Pueden llamarse con parámetros y pueden *regresar* datos de diversos tipos.\n",
        "\n",
        "La sintaxis es\n",
        "\n",
        "\n",
        "\n",
        "```\n",
        "# def nombre_de_la_funcion( parámetros opcionales ):\n",
        "    ... codigo de la función ...\n",
        "    return ...  <--- opcional\n",
        "```\n",
        "\n"
      ],
      "metadata": {
        "id": "0-g-lGDsYu-b"
      }
    },
    {
      "cell_type": "markdown",
      "source": [
        "Por ejemplo, podemos definir una función que eleve un número al cuadrado. Las tres opciones son equivalentes:"
      ],
      "metadata": {
        "id": "wZmKpae0aa0J"
      }
    },
    {
      "cell_type": "code",
      "execution_count": 5,
      "metadata": {
        "id": "f-9_K3uIYpyo"
      },
      "outputs": [],
      "source": [
        "def elevar_al_cuadrado(x):\n",
        "    y = x*x\n",
        "    return y"
      ]
    },
    {
      "cell_type": "code",
      "source": [
        "def elevar_al_cuadrado(x):\n",
        "    y = x**2\n",
        "    return y"
      ],
      "metadata": {
        "id": "C9c52wsBaiXP"
      },
      "execution_count": 6,
      "outputs": []
    },
    {
      "cell_type": "code",
      "source": [
        "def elevar_al_cuadrado(x):\n",
        "    return x**2"
      ],
      "metadata": {
        "id": "jRR5PDzpZvjn"
      },
      "execution_count": 7,
      "outputs": []
    },
    {
      "cell_type": "code",
      "source": [],
      "metadata": {
        "id": "FRQaQSAmalVr"
      },
      "execution_count": null,
      "outputs": []
    }
  ]
}