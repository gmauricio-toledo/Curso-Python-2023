{
  "nbformat": 4,
  "nbformat_minor": 0,
  "metadata": {
    "colab": {
      "provenance": [],
      "authorship_tag": "ABX9TyN/YjFwag4CBZQE3ikNvgu6",
      "include_colab_link": true
    },
    "kernelspec": {
      "name": "python3",
      "display_name": "Python 3"
    },
    "language_info": {
      "name": "python"
    }
  },
  "cells": [
    {
      "cell_type": "markdown",
      "metadata": {
        "id": "view-in-github",
        "colab_type": "text"
      },
      "source": [
        "<a href=\"https://colab.research.google.com/github/gmauricio-toledo/Curso-Python-2023/blob/main/1-Fundamentos/02-Funciones_graficaci%C3%B3n.ipynb\" target=\"_parent\"><img src=\"https://colab.research.google.com/assets/colab-badge.svg\" alt=\"Open In Colab\"/></a>"
      ]
    },
    {
      "cell_type": "markdown",
      "source": [
        "# Definición de funciones"
      ],
      "metadata": {
        "id": "pOGrrx8QYrmI"
      }
    },
    {
      "cell_type": "markdown",
      "source": [
        "En esta notebook revisaremos cómo definir, usar y graficar funciones usando funciones de Python.\n",
        "\n",
        "Las funciones son bloques de código organizado y reutilizable que se utiliza para realizar una única acción. Pueden llamarse con parámetros y pueden *regresar* datos de diversos tipos.\n",
        "\n",
        "La sintaxis es\n",
        "\n",
        "\n",
        "\n",
        "```\n",
        "# def nombre_de_la_funcion( parámetros opcionales ):\n",
        "    ... codigo de la función ...\n",
        "    return ...  <--- opcional\n",
        "```\n",
        "\n"
      ],
      "metadata": {
        "id": "0-g-lGDsYu-b"
      }
    },
    {
      "cell_type": "markdown",
      "source": [
        "Por ejemplo, podemos definir una función que eleve un número al cuadrado. Las tres opciones son equivalentes:"
      ],
      "metadata": {
        "id": "wZmKpae0aa0J"
      }
    },
    {
      "cell_type": "code",
      "execution_count": null,
      "metadata": {
        "id": "f-9_K3uIYpyo"
      },
      "outputs": [],
      "source": [
        "def elevar_al_cuadrado(x):\n",
        "    y = x*x\n",
        "    return y"
      ]
    },
    {
      "cell_type": "code",
      "source": [
        "def elevar_al_cuadrado(x):\n",
        "    y = x**2\n",
        "    return y"
      ],
      "metadata": {
        "id": "C9c52wsBaiXP"
      },
      "execution_count": null,
      "outputs": []
    },
    {
      "cell_type": "code",
      "source": [
        "def elevar_al_cuadrado(x):\n",
        "    return x**2"
      ],
      "metadata": {
        "id": "jRR5PDzpZvjn"
      },
      "execution_count": null,
      "outputs": []
    },
    {
      "cell_type": "markdown",
      "source": [
        "Las funciones lambda sirven para definir una función sencilla en una sola línea. Suelen usarse para pasar una función sencilla como argumento de un método; de esta manera no tenemos que usar un nombre/definición para una función que no volveremos a usar."
      ],
      "metadata": {
        "id": "B1a_WjH8T16I"
      }
    },
    {
      "cell_type": "code",
      "source": [
        "elevar_al_cuadrado = lambda x: x**2"
      ],
      "metadata": {
        "id": "FRQaQSAmalVr"
      },
      "execution_count": 1,
      "outputs": []
    },
    {
      "cell_type": "markdown",
      "source": [
        "Podemos probar cualquiera de las definiciones anteriores:"
      ],
      "metadata": {
        "id": "y8J93rpvUSIi"
      }
    },
    {
      "cell_type": "code",
      "source": [
        "elevar_al_cuadrado(3)"
      ],
      "metadata": {
        "colab": {
          "base_uri": "https://localhost:8080/"
        },
        "id": "0IItQdooT9eQ",
        "outputId": "31fd92e3-ea2e-4ff6-bfca-f638d9ee8aed"
      },
      "execution_count": 2,
      "outputs": [
        {
          "output_type": "execute_result",
          "data": {
            "text/plain": [
              "9"
            ]
          },
          "metadata": {},
          "execution_count": 2
        }
      ]
    },
    {
      "cell_type": "markdown",
      "source": [
        "# Numpy"
      ],
      "metadata": {
        "id": "Us4vG8mvXEfF"
      }
    },
    {
      "cell_type": "markdown",
      "source": [
        "[NumPy](https://numpy.org/doc/stable/user/index.html#user) es el paquete fundamental para la computación científica en Python. Es una biblioteca de Python que proporciona un objeto de matriz multidimensional, varios objetos derivados y muchas rutinas para realizar operaciones rápidas con matrices, incluidas operaciones matemáticas, lógicas, de manipulación de formas, ordenación, selección, I/O, transformadas discretas de Fourier, álgebra lineal básica, operaciones estadísticas básicas, simulación aleatoria y mucho más.\n",
        "\n",
        "Además, NumPy es usado ampliamente por otros módulos importantes de Python como Pandas, Scikit learn, TensorFlow, etc."
      ],
      "metadata": {
        "id": "hjcOg5zxXGmh"
      }
    },
    {
      "cell_type": "code",
      "source": [
        "import numpy"
      ],
      "metadata": {
        "id": "pAlxquVJXJBk"
      },
      "execution_count": null,
      "outputs": []
    },
    {
      "cell_type": "code",
      "source": [
        "import numpy as np"
      ],
      "metadata": {
        "id": "K-GpORpAXKMo"
      },
      "execution_count": 4,
      "outputs": []
    },
    {
      "cell_type": "markdown",
      "source": [
        "## Arreglos `ndarray`"
      ],
      "metadata": {
        "id": "tc8FLu6ntsGv"
      }
    },
    {
      "cell_type": "markdown",
      "source": [
        "Una de las clases fundamentales y básicas de Numpy es el arreglo `numpy.array`. Este puede pensarse como un vector, matriz o tensor.\n",
        "\n",
        "Se puede definir a partir de varios métodos o a partir de una lista de python. [Detalles](https://numpy.org/doc/stable/user/basics.creation.html)"
      ],
      "metadata": {
        "id": "6plEOFRAYtU-"
      }
    },
    {
      "cell_type": "code",
      "source": [
        "valores = [3,2,-3,5.5]\n",
        "\n",
        "arreglo = np.array(valores)\n",
        "\n",
        "print(arreglo)"
      ],
      "metadata": {
        "colab": {
          "base_uri": "https://localhost:8080/"
        },
        "id": "iwPmRCiNY9CA",
        "outputId": "7da68ce5-ea71-458e-8fcd-0ec0cd1aa4c3"
      },
      "execution_count": 10,
      "outputs": [
        {
          "output_type": "stream",
          "name": "stdout",
          "text": [
            "[ 3.   2.  -3.   5.5]\n"
          ]
        }
      ]
    },
    {
      "cell_type": "markdown",
      "source": [
        "Una vez que tenemos un arreglo, podemos usar cualquiera de los métodos de un arreglo de numpy. Por ejemplo,\n",
        "\n",
        "* La forma del arreglo:"
      ],
      "metadata": {
        "id": "E3pxYWYqZGoG"
      }
    },
    {
      "cell_type": "code",
      "source": [
        "arreglo.shape"
      ],
      "metadata": {
        "colab": {
          "base_uri": "https://localhost:8080/"
        },
        "id": "K14x1rozZMEw",
        "outputId": "07088b4e-7776-4538-a5bc-8c07ea00e724"
      },
      "execution_count": 11,
      "outputs": [
        {
          "output_type": "execute_result",
          "data": {
            "text/plain": [
              "(4,)"
            ]
          },
          "metadata": {},
          "execution_count": 11
        }
      ]
    },
    {
      "cell_type": "markdown",
      "source": [
        "* El número de dimensiones del arreglo"
      ],
      "metadata": {
        "id": "EGyNm14KZTBy"
      }
    },
    {
      "cell_type": "code",
      "source": [
        "arreglo.ndim"
      ],
      "metadata": {
        "colab": {
          "base_uri": "https://localhost:8080/"
        },
        "id": "A3HkW-kfZPA1",
        "outputId": "9d5dec73-7664-47f2-fbae-4ab74f0cbfa1"
      },
      "execution_count": 12,
      "outputs": [
        {
          "output_type": "execute_result",
          "data": {
            "text/plain": [
              "1"
            ]
          },
          "metadata": {},
          "execution_count": 12
        }
      ]
    },
    {
      "cell_type": "markdown",
      "source": [
        "También podemos definir arreglos bidimensionales (matrices)."
      ],
      "metadata": {
        "id": "Ieph5p78t-R2"
      }
    },
    {
      "cell_type": "code",
      "source": [
        "valores = [[-1,1],[0,3],[2,-1],[0.5,-3]]\n",
        "\n",
        "matriz = np.array(valores)\n",
        "\n",
        "print(matriz)\n",
        "print(f\"Forma del arreglo: {matriz.shape}\")\n",
        "print(f\"Dimensiones del arreglo: {matriz.ndim}\")"
      ],
      "metadata": {
        "colab": {
          "base_uri": "https://localhost:8080/"
        },
        "id": "cfRNgtiluBSn",
        "outputId": "180dc76a-d175-4394-8a4f-8978b6d20d70"
      },
      "execution_count": 17,
      "outputs": [
        {
          "output_type": "stream",
          "name": "stdout",
          "text": [
            "[[-1.   1. ]\n",
            " [ 0.   3. ]\n",
            " [ 2.  -1. ]\n",
            " [ 0.5 -3. ]]\n",
            "Forma del arreglo: (4, 2)\n",
            "Dimensiones del arreglo: 2\n"
          ]
        }
      ]
    },
    {
      "cell_type": "markdown",
      "source": [
        "Podemos acceder a los valores individuales del arreglo, renglones o filas.\n",
        "\n",
        "**Recordar que en python enumeramos las secuencias como $0,1,2,...$ en lugar de $1,2,3,...$**"
      ],
      "metadata": {
        "id": "h1TB43BcuWCp"
      }
    },
    {
      "cell_type": "code",
      "source": [
        "entrada = matriz[1,0]\n",
        "print(f\"Elemento (2,1): {entrada}\")\n",
        "\n",
        "renglon = matriz[1]\n",
        "renglon = matriz[1,:]\n",
        "print(f\"Renglón 2: {renglon}\")\n",
        "\n",
        "columna = matriz[:,0]\n",
        "print(f\"Columna 1: {columna}\")"
      ],
      "metadata": {
        "colab": {
          "base_uri": "https://localhost:8080/"
        },
        "id": "DYNfwPqtuVG-",
        "outputId": "945bd0f2-061f-44ad-b854-8cd6f0c85408"
      },
      "execution_count": 21,
      "outputs": [
        {
          "output_type": "stream",
          "name": "stdout",
          "text": [
            "Elemento (2,1): 0.0\n",
            "Renglón 2: [0. 3.]\n",
            "Columna 1: [-1.   0.   2.   0.5]\n"
          ]
        }
      ]
    },
    {
      "cell_type": "markdown",
      "source": [
        "## Ejemplo: Calcular errores"
      ],
      "metadata": {
        "id": "b4piqB7WWcQv"
      }
    },
    {
      "cell_type": "markdown",
      "source": [
        "Definimos una función para calcular el error absoluto entre un valor real y una aproximación a este valor"
      ],
      "metadata": {
        "id": "JZyUphKihxHT"
      }
    },
    {
      "cell_type": "code",
      "source": [
        "import numpy as np\n",
        "\n",
        "def error_absoluto(real, aproximacion):\n",
        "    return np.abs(real-aproximacion)\n",
        "\n",
        "def error_relativo(real, aproximacion):\n",
        "    '''\n",
        "    Implementar la función\n",
        "    '''\n",
        "    pass  # instrucción para \"dejar en blanco\" el cuerpo de una función"
      ],
      "metadata": {
        "id": "qi6xeywGUQ2E"
      },
      "execution_count": 3,
      "outputs": []
    },
    {
      "cell_type": "markdown",
      "source": [
        "Como ejemplo, consideremos el siguiente valor real y una secuencia de aproximaciones a dicho valor real"
      ],
      "metadata": {
        "id": "LRx9klXwh8-y"
      }
    },
    {
      "cell_type": "code",
      "source": [
        "valor_real = 4.5\n",
        "\n",
        "aproximaciones = [2.5, 2.7, 3.1, 3.6, 3.9, 4.2, 4.6, 4.55]"
      ],
      "metadata": {
        "id": "xMDjPgIEWoR8"
      },
      "execution_count": 5,
      "outputs": []
    },
    {
      "cell_type": "markdown",
      "source": [
        "Usando un ciclo `for` calculamos e imprimimos el error absoluto entre cada valor de la secuencia y el valor real"
      ],
      "metadata": {
        "id": "0_OLoCf5iDqy"
      }
    },
    {
      "cell_type": "code",
      "source": [
        "for aprox in aproximaciones:\n",
        "    print(f\"Error absoluto: {error_absoluto(valor_real,aprox)}\")\n",
        "    # print(f\"Error absoluto: {round(error_absoluto(valor_real,aprox),3)}\")"
      ],
      "metadata": {
        "id": "09bdXtsvYP9G"
      },
      "execution_count": null,
      "outputs": []
    },
    {
      "cell_type": "markdown",
      "source": [
        "Usando numpy podemos simplificar el proceso anterior y hacerlo más rápido. Esta es una de muchas ventajas de Numpy."
      ],
      "metadata": {
        "id": "ejCKplCZhYhv"
      }
    },
    {
      "cell_type": "code",
      "source": [
        "aproximaciones = np.array(aproximaciones)\n",
        "\n",
        "error_absoluto(valor_real, aproximaciones)"
      ],
      "metadata": {
        "colab": {
          "base_uri": "https://localhost:8080/"
        },
        "id": "LDyAQ4U-YbVh",
        "outputId": "4216fda8-a86d-446a-9cb5-62fe464ac4f5"
      },
      "execution_count": 32,
      "outputs": [
        {
          "output_type": "execute_result",
          "data": {
            "text/plain": [
              "array([2.  , 1.8 , 1.4 , 0.9 , 0.6 , 0.3 , 0.1 , 0.05])"
            ]
          },
          "metadata": {},
          "execution_count": 32
        }
      ]
    },
    {
      "cell_type": "markdown",
      "source": [
        "# Graficación"
      ],
      "metadata": {
        "id": "M9L2qBsFmWp9"
      }
    },
    {
      "cell_type": "markdown",
      "source": [
        "[Matplotlib](https://matplotlib.org/stable/users/index) es una biblioteca muy completa para crear visualizaciones estáticas, animadas e interactivas en Python. El submodulo [pyplot](https://matplotlib.org/3.5.3/api/_as_gen/matplotlib.pyplot.html) es la interface de matplotlib con el usuario.\n",
        "\n",
        "Se acostumbra importar como"
      ],
      "metadata": {
        "id": "t9HlJ2eRnMv3"
      }
    },
    {
      "cell_type": "code",
      "source": [
        "import matplotlib.pyplot as plt"
      ],
      "metadata": {
        "id": "4BhTyMmQYnQi"
      },
      "execution_count": 14,
      "outputs": []
    },
    {
      "cell_type": "markdown",
      "source": [
        "Una de las clases fundamentales para graficar es [Figure](https://matplotlib.org/3.5.3/api/_as_gen/matplotlib.pyplot.figure.html).\n",
        "\n",
        "Con el método `show()` podemos mostrar la figura creada."
      ],
      "metadata": {
        "id": "lp6V_9TppYFG"
      }
    },
    {
      "cell_type": "code",
      "source": [
        "plt.figure()\n",
        "plt.show()"
      ],
      "metadata": {
        "colab": {
          "base_uri": "https://localhost:8080/",
          "height": 34
        },
        "id": "XfiTlMNopqjs",
        "outputId": "4cadcea2-d388-4842-aad8-0cfb4e13cca4"
      },
      "execution_count": 15,
      "outputs": [
        {
          "output_type": "display_data",
          "data": {
            "text/plain": [
              "<Figure size 640x480 with 0 Axes>"
            ]
          },
          "metadata": {}
        }
      ]
    },
    {
      "cell_type": "markdown",
      "source": [
        "Hay varios métodos para añadir *información* a la figura:\n",
        "\n",
        "* Una gráfica ([plot](https://matplotlib.org/stable/api/_as_gen/matplotlib.pyplot.plot.html))\n",
        "* Puntos ([scatter](https://matplotlib.org/stable/api/_as_gen/matplotlib.pyplot.scatter.html))\n",
        "* Histogramas ([hist](https://matplotlib.org/stable/api/_as_gen/matplotlib.pyplot.hist.html))\n",
        "* Boxplots ([boxplot](https://matplotlib.org/3.1.1/api/_as_gen/matplotlib.pyplot.boxplot.html))\n",
        "* Imágenes ([imshow](https://matplotlib.org/stable/api/_as_gen/matplotlib.pyplot.imshow.html))\n",
        "* ..."
      ],
      "metadata": {
        "id": "3bpieIHAp7Rb"
      }
    },
    {
      "cell_type": "code",
      "source": [
        "valores = [[-1,1],[0,3],[2,-1],[0.5,-3]]\n",
        "\n",
        "matriz = np.array(valores)\n",
        "\n",
        "coordenadas_x = matriz[:,0]\n",
        "coordenadas_y = matriz[:,1]\n",
        "\n",
        "plt.figure()\n",
        "plt.scatter(coordenadas_x,coordenadas_y)\n",
        "# # Podríamos agregar más parámetros para personalizar la gráfica\n",
        "# plt.scatter(coordenadas_x,coordenadas_y,\n",
        "#             alpha=0.75,\n",
        "#             s=80,\n",
        "#             c='red',\n",
        "#             marker='x',\n",
        "#             linewidth=3\n",
        "#             )\n",
        "# # ------------------\n",
        "plt.show()"
      ],
      "metadata": {
        "id": "T7WjpxExpuI1"
      },
      "execution_count": null,
      "outputs": []
    },
    {
      "cell_type": "markdown",
      "source": [
        "Retomemos el ejemplo del cálculo del error absoluto. Graficaremos los errores absolutos en cada iteración."
      ],
      "metadata": {
        "id": "cksgpuSh0YrO"
      }
    },
    {
      "cell_type": "code",
      "source": [
        "valor_real = 4.5\n",
        "\n",
        "aproximaciones = np.array([2.5, 2.7, 3.1, 3.6, 3.9, 4.2, 4.6, 4.55])\n",
        "num_aproximaciones = aproximaciones.shape[0]\n",
        "iteraciones = list(range(num_aproximaciones))\n",
        "\n",
        "errores_absolutos = error_absoluto(valor_real, aproximaciones)\n",
        "\n",
        "plt.figure()\n",
        "plt.plot(iteraciones,aproximaciones)\n",
        "plt.scatter(iteraciones,aproximaciones,color='black')\n",
        "plt.show()"
      ],
      "metadata": {
        "colab": {
          "base_uri": "https://localhost:8080/",
          "height": 430
        },
        "id": "15TOb8hsx4qn",
        "outputId": "2f345bbc-5aca-4122-cebe-bc0b0ab43033"
      },
      "execution_count": 34,
      "outputs": [
        {
          "output_type": "display_data",
          "data": {
            "text/plain": [
              "<Figure size 640x480 with 1 Axes>"
            ],
            "image/png": "[encoded data removed]"
          },
          "metadata": {}
        }
      ]
    },
    {
      "cell_type": "markdown",
      "source": [
        "⭕ Graficar ahora los errores relativos"
      ],
      "metadata": {
        "id": "O0eVE_ZB28P2"
      }
    },
    {
      "cell_type": "code",
      "source": [],
      "metadata": {
        "id": "t6Vr3Uta1PCQ"
      },
      "execution_count": null,
      "outputs": []
    }
  ]
}