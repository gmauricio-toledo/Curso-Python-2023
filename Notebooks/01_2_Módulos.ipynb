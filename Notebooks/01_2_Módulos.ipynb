{
  "cells": [
    {
      "cell_type": "markdown",
      "metadata": {
        "colab_type": "text",
        "id": "view-in-github"
      },
      "source": [
        "<a href=\"https://colab.research.google.com/github/gmauricio-toledo/Curso-Python-2023/blob/main/Notebooks/01_2_M%C3%B3dulos.ipynb\" target=\"_parent\"><img src=\"https://colab.research.google.com/assets/colab-badge.svg\" alt=\"Open In Colab\"/></a>"
      ]
    },
    {
      "cell_type": "markdown",
      "metadata": {
        "id": "hHhum883xsK-"
      },
      "source": [
        "Un módulo es un script que contiene código de Pyhton. Su extención es `.py`. En los módulos se almacenan _variables_ y _funciones_ que nos permiten realizar ciertas actividades de manera más automatizada.\n",
        "\n",
        "Python cuenta con una biblioteca de módulos estándar. Algunos módulos se integran en el intérprete y estos proveen acceso a operaciones que no son parte del núcleo de Python pero que si están integrados.\n",
        "\n",
        "**La forma en la que podemos agregar un módulo a Python es con la función `import`.** Por ejemplo, el módulo [`math`](https://docs.python.org/3.7/library/math.html#module-math), que nos permite realizar operaciones como raiz cuadrada, usar funciones trigonométricas, exponenciales, etc., se importa de la siguiente manera:"
      ]
    },
    {
      "cell_type": "code",
      "execution_count": null,
      "metadata": {
        "id": "_vF3Zmn61YvO"
      },
      "outputs": [],
      "source": [
        "import math # De esta forma importamos el módulo math"
      ]
    },
    {
      "cell_type": "markdown",
      "metadata": {
        "id": "Fp4uyJZv14No"
      },
      "source": [
        " Podemos importar solo algunas funciones de los módulos o importar todas las funciones. También podemos importar un módulo y renombrarlo para acceder a las funciones de una forma más sencilla."
      ]
    },
    {
      "cell_type": "code",
      "execution_count": null,
      "metadata": {
        "id": "XY8gQc_62Svn"
      },
      "outputs": [],
      "source": [
        "from math import sqrt, exp # Solo estamos importando las funciones raiz cuadrada y exponencial"
      ]
    },
    {
      "cell_type": "markdown",
      "metadata": {
        "id": "-2v3Y8Ln2lTE"
      },
      "source": [
        "Al importar de esta manera las funciones, si queremos usarlas, solo debemos de llamarlas con el respectivo nombre."
      ]
    },
    {
      "cell_type": "code",
      "execution_count": null,
      "metadata": {
        "id": "l7p8FUMb2hhb"
      },
      "outputs": [],
      "source": [
        "sqrt(25)"
      ]
    },
    {
      "cell_type": "code",
      "execution_count": null,
      "metadata": {
        "id": "nVXKQclTcKeu"
      },
      "outputs": [],
      "source": [
        "exp(25)"
      ]
    },
    {
      "cell_type": "markdown",
      "metadata": {
        "id": "k_I1tyy72xv2"
      },
      "source": [
        "Cuando importamos un módulo con la sintaxis `import math`, para poder usar las funciones debemos llamarlas de la siguiente manera:"
      ]
    },
    {
      "cell_type": "code",
      "execution_count": null,
      "metadata": {
        "id": "xApAyklB269c"
      },
      "outputs": [],
      "source": [
        "import math"
      ]
    },
    {
      "cell_type": "code",
      "execution_count": null,
      "metadata": {
        "id": "OrebnXL92837"
      },
      "outputs": [],
      "source": [
        "math.sqrt(25)"
      ]
    },
    {
      "cell_type": "markdown",
      "metadata": {
        "id": "nhxklz6d3JRY"
      },
      "source": [
        "**¿Qué sucede si importamos un módulo con la sintaxis `import math` y tratamos de usar una función sin antes colocar la palabra `math`?**"
      ]
    },
    {
      "cell_type": "code",
      "execution_count": null,
      "metadata": {
        "id": "-8eCO2402_v7"
      },
      "outputs": [],
      "source": [
        "sin(25) # Función sen(x)"
      ]
    },
    {
      "cell_type": "code",
      "execution_count": null,
      "metadata": {
        "id": "30ZKOxeY3A_-"
      },
      "outputs": [],
      "source": [
        "# ¿De qué manera se debe usar la función sen(x)? Escribe aqui tu respuesta:"
      ]
    },
    {
      "cell_type": "markdown",
      "metadata": {
        "id": "PiguHmwZ3l8o"
      },
      "source": [
        "Como mencionamos anteriormente, también podemos renombrar los módulos de tal forma que sean más fáciles de usar. La forma de hacerlo es la siguiente:"
      ]
    },
    {
      "cell_type": "code",
      "execution_count": null,
      "metadata": {
        "id": "4fCjGrrS4Cks"
      },
      "outputs": [],
      "source": [
        "import math as mt # Con esto renombramos el módulo math como mt. En general, a la palabra que utilizamos para renombrar un módulo se le denomina 'alias'."
      ]
    },
    {
      "cell_type": "code",
      "execution_count": null,
      "metadata": {
        "id": "ABaVbQaz4Mnu"
      },
      "outputs": [],
      "source": [
        "mt.sqrt(25) # Ahora, en lugar de escribir math.sqrt, debemos/podemos escribir mt.sqrt"
      ]
    }
  ],
  "metadata": {
    "colab": {
      "include_colab_link": true,
      "provenance": []
    },
    "kernelspec": {
      "display_name": "Python 3",
      "name": "python3"
    }
  },
  "nbformat": 4,
  "nbformat_minor": 0
}
