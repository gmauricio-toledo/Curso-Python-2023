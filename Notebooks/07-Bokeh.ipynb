{
  "nbformat": 4,
  "nbformat_minor": 0,
  "metadata": {
    "colab": {
      "provenance": [],
      "authorship_tag": "ABX9TyNgF1/rJ2tuSXv+/466b2jg",
      "include_colab_link": true
    },
    "kernelspec": {
      "name": "python3",
      "display_name": "Python 3"
    },
    "language_info": {
      "name": "python"
    }
  },
  "cells": [
    {
      "cell_type": "markdown",
      "metadata": {
        "id": "view-in-github",
        "colab_type": "text"
      },
      "source": [
        "<a href=\"https://colab.research.google.com/github/gmauricio-toledo/Curso-Python-2023/blob/main/Notebooks/07-Bokeh.ipynb\" target=\"_parent\"><img src=\"https://colab.research.google.com/assets/colab-badge.svg\" alt=\"Open In Colab\"/></a>"
      ]
    },
    {
      "cell_type": "markdown",
      "source": [
        "<div>\n",
        "<img src=\"https://github.com/gmauricio-toledo/Curso-Python-2023/blob/main/Notebooks/img/bokeh-logo.png?raw=1\" width=\"800\"/>\n",
        "</div>"
      ],
      "metadata": {
        "id": "c9a8P5WgR8_b"
      }
    },
    {
      "cell_type": "markdown",
      "source": [
        "<h1>Bokeh</h1>\n",
        "<h3>Graficación interactiva</h4>\n",
        "\n",
        "Bokeh es un módulo de Python para crear visualizaciones interactivas para navegadores web. Bokeh ayuda a crear gráficos llamativos, desde simples trazados hasta dashboards interactivos. Este módulo permite crear visualizaciones basadas en JavaScript sin necesidad de escribir JavaScript.\n",
        "\n",
        "[Documentación](https://docs.bokeh.org/en/latest/)"
      ],
      "metadata": {
        "id": "SvwkzYmjQFNj"
      }
    },
    {
      "cell_type": "code",
      "execution_count": null,
      "metadata": {
        "id": "p2Bjm3HWf0ua"
      },
      "outputs": [],
      "source": [
        "from bokeh.io import output_notebook, show\n",
        "output_notebook()"
      ]
    },
    {
      "cell_type": "markdown",
      "source": [
        "En esta breve notebook mostraremos algunas gráficas básicas con Bokeh usando scatter plots con información adicional sobre los puntos. Esto con la intención de dar una pequeña introducción y mostrar lo que se puede hacer con Bokeh."
      ],
      "metadata": {
        "id": "-eWrCaRgOOfk"
      }
    },
    {
      "cell_type": "markdown",
      "source": [
        "# Graficando puntos en el plano"
      ],
      "metadata": {
        "id": "NO-H4Qp-OOaP"
      }
    },
    {
      "cell_type": "markdown",
      "source": [
        "Definimos un arreglo con las coordenadas de los puntos que queremos graficar"
      ],
      "metadata": {
        "id": "ygY-DFwJTRag"
      }
    },
    {
      "cell_type": "code",
      "source": [
        "import numpy as np\n",
        "\n",
        "puntos = np.array([[1, 2, 3, 4, 5], [6, 7, 2, 4, 5]])\n",
        "print(puntos)"
      ],
      "metadata": {
        "id": "3Y26ojBFTQSL"
      },
      "execution_count": null,
      "outputs": []
    },
    {
      "cell_type": "markdown",
      "source": [
        "Observar que graficamos el gráfico tipo *scatter plot* con el método [`circle`](https://docs.bokeh.org/en/3.0.1/docs/reference/plotting/figure.html#bokeh.plotting.figure.circle). También podemos usar otro tipo de marcadores: [documentación](https://docs.bokeh.org/en/3.0.1/docs/user_guide/basic/scatters.html).\n",
        "\n",
        "Observar que hasta aquí, es una gráfica similar a las que hemos hecho con **matplotlib**. Aunque, en esta gráfica podemos hacer zoom y scrolling."
      ],
      "metadata": {
        "id": "qq8SNaFTTiD3"
      }
    },
    {
      "cell_type": "code",
      "source": [
        "from bokeh.plotting import figure, show\n",
        "\n",
        "# Inicializamos una figura con algunos atributos deseados:\n",
        "figura = figure(width=400, height=400,\n",
        "           toolbar_location=\"below\")\n",
        "\n",
        "figura.title.text = 'Varios puntos en el plano' # Añadimos un título a la figura\n",
        "\n",
        "figura.circle(puntos[0,:], puntos[1,:],\n",
        "         size=20, color=\"navy\", alpha=0.5) # Añadimos los marcadores tipo \"circle\" a la figura\n",
        "\n",
        "show(figura) # Mostramos el resultado"
      ],
      "metadata": {
        "id": "2PKRq7KCKIgv"
      },
      "execution_count": null,
      "outputs": []
    },
    {
      "cell_type": "markdown",
      "source": [
        "Ahora, añadamos algunos elementos interactivos a la figura.\n",
        "\n",
        "Añadamos una herramienta interactiva [HoverTool](https://docs.bokeh.org/en/2.4.2/docs/user_guide/tools.html#hovertool) para inspeccionar elementos en la gráfica. Esto lo hacemos mediante el método `add_tools()` de la figura."
      ],
      "metadata": {
        "id": "rNQtIPbvOkMX"
      }
    },
    {
      "cell_type": "code",
      "source": [
        "from bokeh.plotting import figure, show\n",
        "from bokeh.models import HoverTool\n",
        "\n",
        "# Inicializamos una figura con algunos atributos deseados:\n",
        "figura = figure(width=400, height=400,\n",
        "           toolbar_location=\"below\")\n",
        "\n",
        "figura.title.text = 'Varios puntos en el plano'\n",
        "\n",
        "# ---- Añadimos los marcadores tipo \"star\" a la figura\n",
        "figura.star(puntos[0,:], puntos[1,:],\n",
        "              size=20, color=\"navy\", alpha=0.5) # Añadimos los puntos a la gráfica\n",
        "\n",
        "# ---- Definimos la herramienta que añadiremos a la gráfica ----\n",
        "hover = HoverTool()\n",
        "hover.tooltips = [\n",
        "    (\"índice del punto\", \"$index\"),   # 'index', 'x', 'y' son atributos predefinidos\n",
        "    (\"(x,y)\", \"($x, $y)\")\n",
        "    ]\n",
        "\n",
        "# ---- Añadimos la herramienta a la gráfica ----\n",
        "figura.add_tools(hover)\n",
        "\n",
        "show(figura)"
      ],
      "metadata": {
        "id": "tC26vL07KLu2"
      },
      "execution_count": null,
      "outputs": []
    },
    {
      "cell_type": "markdown",
      "source": [
        "Cuando hemos terminado con la gráfica, la podemos salvar en un archivo HTML para visualizar en cualquier navegador de internet."
      ],
      "metadata": {
        "id": "Qz3DIQb6WGv_"
      }
    },
    {
      "cell_type": "code",
      "source": [
        "from bokeh.plotting import output_file, save\n",
        "\n",
        "output_file(\"grafica_bokeh.html\")\n",
        "save(figura)"
      ],
      "metadata": {
        "id": "eCNtjP9NKKgJ"
      },
      "execution_count": null,
      "outputs": []
    },
    {
      "cell_type": "markdown",
      "source": [
        "# Ejemplo"
      ],
      "metadata": {
        "id": "saxlM3g9WqPd"
      }
    },
    {
      "cell_type": "markdown",
      "source": [
        "Retomemos el ejemplo y gráfica de la notebook pasada en el cual calculabamos el error relativo a través de las iteraciones en los métodos de la falsa posición y la secante. Graficaremos los errores ahora usando Bokeh."
      ],
      "metadata": {
        "id": "qrrXK3IWW32r"
      }
    },
    {
      "cell_type": "markdown",
      "source": [
        "Primero, traemos un archivo *py* desde github. Este archivo contiene las definiciones de las funciones usadas en la notebook pasada.\n",
        "\n",
        "[El archivo](https://github.com/gmauricio-toledo/Curso-Python-2023/blob/main/Notebooks/funciones.py)\n",
        "\n",
        "Para traer un archivo desde github podemos usar el módulo [wget](https://pypi.org/project/wget/) de python.\n",
        "\n",
        "**Este es un ejemplo de cómo definir e importar funciones entre varias notebooks y proyectos.**"
      ],
      "metadata": {
        "id": "e7w4qURExSfx"
      }
    },
    {
      "cell_type": "code",
      "source": [
        "!pip install wget\n",
        "\n",
        "import wget\n",
        "import numpy as np\n",
        "\n",
        "url = \"https://github.com/gmauricio-toledo/Curso-Python-2023/raw/main/Notebooks/funciones.py\"\n",
        "fname = url.split('/')[-1]\n",
        "wget.download(url, fname)"
      ],
      "metadata": {
        "id": "S66y3SAwV_24"
      },
      "execution_count": null,
      "outputs": []
    },
    {
      "cell_type": "markdown",
      "source": [
        "**Observa que el archivo ya se encuentra en tu entorno de ejecución.** Al estar en el mismo directorio podemos importarlo como si fuera un módulo más y usar las funciones y clases que contenga."
      ],
      "metadata": {
        "id": "cqCEU64Yyrud"
      }
    },
    {
      "cell_type": "code",
      "source": [
        "from funciones import secante, falsa_posicion\n",
        "\n",
        "def f(x):\n",
        "    y = x**3 - 9*x**2 + 26*x - 23.8\n",
        "    return y\n",
        "\n",
        "resultados_fp = falsa_posicion(f,xl=2.5,xu=3.5,\n",
        "                               tolerancia=0.0001)\n",
        "resultados_sc = secante(f,x0=2.5,x1=3,tolerancia=0.0001)\n",
        "\n",
        "errores_fp = resultados_fp['errores']\n",
        "num_iteraciones_fp = resultados_fp['iteraciones']\n",
        "errores_sc = resultados_sc['errores']\n",
        "num_iteraciones_sc = resultados_sc['iteraciones']"
      ],
      "metadata": {
        "id": "W6pKSTH4X5ZR"
      },
      "execution_count": null,
      "outputs": []
    },
    {
      "cell_type": "markdown",
      "source": [
        "Recordemos qué son estas variables que acabamos de definir."
      ],
      "metadata": {
        "id": "MoNtZBxXzNLe"
      }
    },
    {
      "cell_type": "code",
      "source": [
        "num_iteraciones_fp, errores_fp"
      ],
      "metadata": {
        "id": "uMOWkegsoMSX"
      },
      "execution_count": null,
      "outputs": []
    },
    {
      "cell_type": "markdown",
      "source": [
        "Lo graficamos usando Bokeh. Esta vez:\n",
        "\n",
        "* Definimos dos figuras de Bokeh.\n",
        "* En cada una de ellas graficar los puntos y las líneas uniéndolos.\n",
        "* En cada figura añadimos una herramienta `HoverTool`\n",
        "* Al final, mostramos ambas figuras juntas en un grid de $1\\times 2$."
      ],
      "metadata": {
        "id": "EkKnsDSDzURB"
      }
    },
    {
      "cell_type": "code",
      "source": [
        "from bokeh.plotting import figure, show\n",
        "from bokeh.models import HoverTool\n",
        "from bokeh.layouts import gridplot\n",
        "\n",
        "# Inicializamos la figura 1\n",
        "figura1 = figure()\n",
        "figura1.title.text = 'Errores relativos (Falsa Posición)'\n",
        "\n",
        "# ---- Añadimos los marcadores tipo \"circle\" a la figura 1\n",
        "renderer_figura1 = figura1.circle(list(range(num_iteraciones_fp)), errores_fp,\n",
        "                                size=10, color=\"firebrick\")\n",
        "# ---- Añadimos las lineas entre puntos\n",
        "figura1.line(list(range(num_iteraciones_fp)), errores_fp, color=\"firebrick\", line_width=2)\n",
        "\n",
        "# ---- Definimos la herramienta que añadiremos a la gráfica ----\n",
        "hover1 = HoverTool(renderers=[renderer_figura1])\n",
        "hover1.tooltips = [(\"Error relativo\", \"$y\")]\n",
        "\n",
        "# ---- Añadimos la herramienta a la gráfica ----\n",
        "figura1.add_tools(hover1)\n",
        "\n",
        "# -------------------------------------------------\n",
        "# Inicializamos la figura 2\n",
        "figura2 = figure()\n",
        "figura2.title.text = 'Errores relativos (Secante)'\n",
        "\n",
        "# ---- Añadimos los marcadores tipo \"circle\" a la figura 2\n",
        "renderer_figura2 = figura2.circle(list(range(num_iteraciones_sc)), errores_sc,\n",
        "                                size=10, color=\"blue\")\n",
        "# ---- Añadimos las lineas entre puntos\n",
        "figura2.line(list(range(num_iteraciones_sc)), errores_sc, color=\"blue\", line_width=2)\n",
        "\n",
        "# ---- Definimos la herramienta que añadiremos a la gráfica ----\n",
        "hover2 = HoverTool(renderers=[renderer_figura2])\n",
        "hover2.tooltips = [(\"Error relativo\", \"$y\")]\n",
        "\n",
        "# ---- Añadimos la herramienta a la gráfica ----\n",
        "figura2.add_tools(hover2)\n",
        "\n",
        "# ---- Mostramos las dos figuras independientes al mismo tiempo\n",
        "show(gridplot([figura1, figura2], ncols=2, width=400, height=400))"
      ],
      "metadata": {
        "id": "0f6Ch6u3nQwk"
      },
      "execution_count": null,
      "outputs": []
    },
    {
      "cell_type": "code",
      "source": [],
      "metadata": {
        "id": "GXoqiIjPZHvB"
      },
      "execution_count": null,
      "outputs": []
    }
  ]
}