{
  "cells": [
    {
      "cell_type": "markdown",
      "metadata": {
        "colab_type": "text",
        "id": "view-in-github"
      },
      "source": [
        "<a href=\"https://colab.research.google.com/github/gmauricio-toledo/Curso-Python-2023/blob/main/Notebooks/05-Numpy.ipynb\" target=\"_parent\"><img src=\"https://colab.research.google.com/assets/colab-badge.svg\" alt=\"Open In Colab\"/></a>"
      ]
    },
    {
      "cell_type": "markdown",
      "metadata": {
        "id": "h2_l5ROtBwfF"
      },
      "source": [
        "<div>\n",
        "<img src=\"https://github.com/gmauricio-toledo/Curso-Python-2023/blob/main/Notebooks/img/numpy-logo.png?raw=1\" width=\"800\"/>\n",
        "</div>"
      ]
    },
    {
      "cell_type": "markdown",
      "metadata": {
        "id": "n4rmDnVtFfpJ"
      },
      "source": [
        "[NumPy](https://numpy.org/doc/stable/user/index.html#user) es el paquete fundamental para la computación científica en Python. Es una biblioteca de Python que proporciona un objeto de matriz multidimensional, varios objetos derivados y muchas rutinas para realizar operaciones rápidas con matrices, incluidas operaciones matemáticas, lógicas, de manipulación de formas, ordenación, selección, I/O, transformadas discretas de Fourier, álgebra lineal básica, operaciones estadísticas básicas, simulación aleatoria y mucho más.\n",
        "\n",
        "Además, NumPy es usado ampliamente por otros módulos importantes de Python como Pandas, Scikit learn, TensorFlow, etc.\n",
        "\n",
        "NumPy ofrece una enorme gama de formas rápidas y eficientes de crear arreglos y manipular datos numéricos dentro de ellos.\n",
        "\n",
        "Mientras que una lista Python puede contener diferentes tipos de datos dentro de una misma lista, todos los elementos de un array NumPy deben ser homogéneos. Las operaciones matemáticas que se realizan sobre arrays serían extremadamente ineficientes si los arrays no fueran homogéneos.\n",
        "\n",
        "Los arrays de NumPy son más rápidos y compactos que las listas de Python. Un array consume menos memoria y es cómodo de usar. NumPy utiliza mucha menos memoria para almacenar datos (ya que no necesita almacenar el tipo de dato de cada entrada) y proporciona un mecanismo de especificación de los tipos de datos. Esto permite optimizar aún más el código."
      ]
    },
    {
      "cell_type": "code",
      "execution_count": 1,
      "metadata": {
        "id": "pAlxquVJXJBk"
      },
      "outputs": [],
      "source": [
        "import numpy"
      ]
    },
    {
      "cell_type": "markdown",
      "metadata": {
        "id": "c6KtXqDQOTHA"
      },
      "source": [
        "*Tradicionalmente* se importa con el siguiente alias"
      ]
    },
    {
      "cell_type": "code",
      "execution_count": 2,
      "metadata": {
        "id": "K-GpORpAXKMo"
      },
      "outputs": [],
      "source": [
        "import numpy as np"
      ]
    },
    {
      "cell_type": "markdown",
      "metadata": {
        "id": "_NRRl6Q9CXD5"
      },
      "source": [
        "#Inicialización de arreglos `ndarray`"
      ]
    },
    {
      "cell_type": "markdown",
      "metadata": {
        "id": "6plEOFRAYtU-"
      },
      "source": [
        "Una de las clases fundamentales y básicas de Numpy es el arreglo `numpy.ndarray`. Este puede pensarse como un vector, matriz o tensor $n$-dimensional.\n",
        "\n",
        "* **Vectores**: Arreglos unidimensionales de tamaño (*forma*) $(n,)$.\n",
        "* **Matrices**: Arreglos bidimensionales de tamaño $(n,m)$. Son $n$ filas y $m$ columnas.\n",
        "\n",
        "Se puede definir a partir de varios métodos (funciones de Numpy que generan arreglos de acuerdo a ciertas condiciones) o a partir de una lista de python. [Detalles](https://numpy.org/doc/stable/user/basics.creation.html)"
      ]
    },
    {
      "cell_type": "markdown",
      "metadata": {
        "id": "yEqnefZqQlmd"
      },
      "source": [
        "**Ejemplo:** Definiendo un arreglo de numpy a partir de una lista de Python. Pensémoslo como un vector."
      ]
    },
    {
      "cell_type": "code",
      "execution_count": 3,
      "metadata": {
        "colab": {
          "base_uri": "https://localhost:8080/"
        },
        "id": "iwPmRCiNY9CA",
        "outputId": "beca4ae3-21b6-4c20-ca87-d1a4bc5a527a"
      },
      "outputs": [
        {
          "name": "stdout",
          "output_type": "stream",
          "text": [
            "[ 3.   2.  -3.   5.5]\n",
            "<class 'numpy.ndarray'>\n"
          ]
        }
      ],
      "source": [
        "valores = [3,2,-3,5.5]\n",
        "\n",
        "arreglo = np.array(valores)\n",
        "\n",
        "print(arreglo)\n",
        "print(type(arreglo))"
      ]
    },
    {
      "cell_type": "markdown",
      "metadata": {
        "id": "L2pMPnkkIxvy"
      },
      "source": [
        "**Ejemplo:** También podemos definir arreglos bidimensionales. Penśemoslos como matrices."
      ]
    },
    {
      "cell_type": "code",
      "execution_count": 12,
      "metadata": {
        "colab": {
          "base_uri": "https://localhost:8080/"
        },
        "id": "C4MZqpWUIxvz",
        "outputId": "8eea79ec-da39-443b-ed84-f275a5ad93e6"
      },
      "outputs": [
        {
          "name": "stdout",
          "output_type": "stream",
          "text": [
            "[[-1.   1. ]\n",
            " [ 0.   3. ]\n",
            " [ 2.  -1. ]\n",
            " [ 0.5 -3. ]]\n"
          ]
        }
      ],
      "source": [
        "valores = [[-1,1],[0,3],[2,-1],[0.5,-3]]\n",
        "\n",
        "matriz = np.array(valores,dtype=float)\n",
        "print(matriz)"
      ]
    },
    {
      "cell_type": "markdown",
      "metadata": {
        "id": "yxhCqv9iQrD0"
      },
      "source": [
        "**Ejemplo:** Definiendo un arreglo de numpy de tamaño determinado lleno con ceros o unos."
      ]
    },
    {
      "cell_type": "code",
      "execution_count": 6,
      "metadata": {
        "colab": {
          "base_uri": "https://localhost:8080/"
        },
        "id": "r9KD3Wv4QxWl",
        "outputId": "b2477f9d-6924-4154-853a-271e00c1b40a"
      },
      "outputs": [
        {
          "name": "stdout",
          "output_type": "stream",
          "text": [
            "[0. 0. 0. 0.]\n",
            "\n",
            "[[1. 1.]\n",
            " [1. 1.]\n",
            " [1. 1.]]\n"
          ]
        }
      ],
      "source": [
        "arreglo_ceros = np.zeros(shape=(4,))\n",
        "print(arreglo_ceros,end='\\n\\n')\n",
        "\n",
        "matriz_unos = np.ones(shape=(3,2))\n",
        "print(matriz_unos)"
      ]
    },
    {
      "cell_type": "markdown",
      "metadata": {
        "id": "heqyxKGBIxv2"
      },
      "source": [
        "**Ejemplo:** Definir una matriz de números aleatorios de una distribución normal\n",
        "\n",
        "[Documentación](https://numpy.org/doc/stable/reference/random/generated/numpy.random.normal.html)"
      ]
    },
    {
      "cell_type": "code",
      "execution_count": 7,
      "metadata": {
        "colab": {
          "base_uri": "https://localhost:8080/"
        },
        "id": "g5EO75_EIxv2",
        "outputId": "0f4b54ef-90cb-4753-9536-a8c8a4d1942f"
      },
      "outputs": [
        {
          "data": {
            "text/plain": [
              "array([[[ 0.88134638, -0.54589562,  0.40071278, -0.63076521],\n",
              "        [-0.3000468 , -0.14138992, -0.36463305, -1.0146553 ],\n",
              "        [ 0.4090241 , -2.01205925, -0.91815671, -0.25044343]],\n",
              "\n",
              "       [[-0.21029879,  0.10147179,  0.4132901 , -0.95354222],\n",
              "        [-0.29283636, -1.51137486,  0.10219655,  0.39231997],\n",
              "        [ 0.27822046, -1.00896218, -0.0095691 , -1.22278269]]])"
            ]
          },
          "execution_count": 7,
          "metadata": {},
          "output_type": "execute_result"
        }
      ],
      "source": [
        "# np.random.seed(55)\n",
        "\n",
        "arreglo_aleatorio = np.random.normal(size=(2,3,4))\n",
        "# arreglo_aleatorio = np.random.normal(loc=0,scale=1,size=(2,3,4))\n",
        "arreglo_aleatorio"
      ]
    },
    {
      "cell_type": "markdown",
      "metadata": {
        "id": "4y4N60xqIxv2"
      },
      "source": [
        "# Algunos métodos y atributos de los arreglos de Numpy\n",
        "\n",
        "[Lista de atributos y métodos de un arreglo de Numpy](https://numpy.org/doc/stable/reference/generated/numpy.ndarray.html)"
      ]
    },
    {
      "cell_type": "markdown",
      "metadata": {
        "id": "E3pxYWYqZGoG"
      },
      "source": [
        "Una vez que tenemos un arreglo, podemos usar cualquiera de los métodos de un arreglo de numpy. Por ejemplo,\n",
        "\n",
        "* La forma del arreglo:"
      ]
    },
    {
      "cell_type": "code",
      "execution_count": 8,
      "metadata": {
        "colab": {
          "base_uri": "https://localhost:8080/"
        },
        "id": "K14x1rozZMEw",
        "outputId": "4e5ce434-d32b-426f-d140-d0a4af728fe6"
      },
      "outputs": [
        {
          "name": "stdout",
          "output_type": "stream",
          "text": [
            "(4,)\n",
            "(3, 2)\n",
            "(2, 3, 4)\n"
          ]
        }
      ],
      "source": [
        "print(arreglo.shape)\n",
        "print(matriz_unos.shape)\n",
        "print(arreglo_aleatorio.shape)"
      ]
    },
    {
      "cell_type": "markdown",
      "metadata": {
        "id": "Q8t3vC0aIxv4"
      },
      "source": [
        "**Son tuplas**. Por lo tanto, podemos hacer:"
      ]
    },
    {
      "cell_type": "code",
      "execution_count": 9,
      "metadata": {
        "colab": {
          "base_uri": "https://localhost:8080/"
        },
        "id": "e0LMSsVdIxv4",
        "outputId": "0e00b421-bb6f-4898-a9e5-d6431110abf7"
      },
      "outputs": [
        {
          "name": "stdout",
          "output_type": "stream",
          "text": [
            "Tenemos 2 columnas en la matriz de 1's\n"
          ]
        }
      ],
      "source": [
        "print(f\"Tenemos {matriz_unos.shape[1]} columnas en la matriz de 1's\")"
      ]
    },
    {
      "cell_type": "markdown",
      "metadata": {
        "id": "EGyNm14KZTBy"
      },
      "source": [
        "* El número de dimensiones del arreglo"
      ]
    },
    {
      "cell_type": "code",
      "execution_count": 10,
      "metadata": {
        "colab": {
          "base_uri": "https://localhost:8080/"
        },
        "id": "A3HkW-kfZPA1",
        "outputId": "8a605870-f18d-4afe-e430-a45132b6866d"
      },
      "outputs": [
        {
          "name": "stdout",
          "output_type": "stream",
          "text": [
            "1\n",
            "2\n",
            "3\n"
          ]
        }
      ],
      "source": [
        "print(arreglo.ndim)\n",
        "print(matriz_unos.ndim)\n",
        "print(arreglo_aleatorio.ndim)"
      ]
    },
    {
      "cell_type": "markdown",
      "metadata": {
        "id": "RO3So_MjIxv6"
      },
      "source": [
        "## Métodos de los arreglos\n",
        "\n",
        "Cada arreglo tiene métodos, son funciones que el arreglo saber hacer sobre sí mismo."
      ]
    },
    {
      "cell_type": "markdown",
      "metadata": {
        "id": "CZVCEd9DIxv6"
      },
      "source": [
        "Podemos cambiar la forma de un arreglo usando el método `reshape`"
      ]
    },
    {
      "cell_type": "code",
      "execution_count": 15,
      "metadata": {
        "colab": {
          "base_uri": "https://localhost:8080/"
        },
        "id": "L_Ews6C3Ixv6",
        "outputId": "ae7fe3bf-479a-4610-bd3b-b1ec8cc52893"
      },
      "outputs": [
        {
          "name": "stdout",
          "output_type": "stream",
          "text": [
            "[ 0  1  2  3  4  5  6  7  8  9 10 11]\n",
            "[[ 0  1  2  3]\n",
            " [ 4  5  6  7]\n",
            " [ 8  9 10 11]]\n"
          ]
        }
      ],
      "source": [
        "v = np.array(list(range(12)))\n",
        "print(v)\n",
        "\n",
        "w = v.reshape(3,4)\n",
        "print(w)"
      ]
    },
    {
      "cell_type": "code",
      "execution_count": 20,
      "metadata": {
        "colab": {
          "base_uri": "https://localhost:8080/"
        },
        "id": "vSRlKPZ8Ixv7",
        "outputId": "fd7dba4d-295e-4144-d270-14c72f5dff7e"
      },
      "outputs": [
        {
          "name": "stdout",
          "output_type": "stream",
          "text": [
            "[[ 0  1  2  3]\n",
            " [ 4  5  6  7]\n",
            " [ 8  9 10 11]]\n"
          ]
        }
      ],
      "source": [
        "w = v.reshape(3,-1)\n",
        "print(w)"
      ]
    },
    {
      "cell_type": "markdown",
      "metadata": {
        "id": "7WaOTcAUIxv7"
      },
      "source": [
        "Cambiemos el vector a un vector columna:"
      ]
    },
    {
      "cell_type": "code",
      "execution_count": 17,
      "metadata": {
        "colab": {
          "base_uri": "https://localhost:8080/"
        },
        "id": "NkAjVo6qIxv7",
        "outputId": "df2bf4c1-c71b-4ede-c1d0-461d90bde8ff"
      },
      "outputs": [
        {
          "data": {
            "text/plain": [
              "array([[ 0],\n",
              "       [ 1],\n",
              "       [ 2],\n",
              "       [ 3],\n",
              "       [ 4],\n",
              "       [ 5],\n",
              "       [ 6],\n",
              "       [ 7],\n",
              "       [ 8],\n",
              "       [ 9],\n",
              "       [10],\n",
              "       [11]])"
            ]
          },
          "execution_count": 17,
          "metadata": {},
          "output_type": "execute_result"
        }
      ],
      "source": [
        "w = v.reshape(-1,1)\n",
        "w"
      ]
    },
    {
      "cell_type": "markdown",
      "metadata": {
        "id": "Une0ycMMIxv8"
      },
      "source": [
        "El método `transpose()` transpone la matriz"
      ]
    },
    {
      "cell_type": "code",
      "execution_count": 21,
      "metadata": {
        "colab": {
          "base_uri": "https://localhost:8080/"
        },
        "id": "DnbzN5hMIxv9",
        "outputId": "d1392a08-fd5b-48e0-ed61-2caa0d466ea4"
      },
      "outputs": [
        {
          "data": {
            "text/plain": [
              "array([[ 0,  4,  8],\n",
              "       [ 1,  5,  9],\n",
              "       [ 2,  6, 10],\n",
              "       [ 3,  7, 11]])"
            ]
          },
          "execution_count": 21,
          "metadata": {},
          "output_type": "execute_result"
        }
      ],
      "source": [
        "w = v.reshape(3,-1)\n",
        "w.transpose()"
      ]
    },
    {
      "cell_type": "markdown",
      "metadata": {
        "id": "h1TB43BcuWCp"
      },
      "source": [
        "# Indexación\n",
        "\n",
        "Podemos acceder a los valores individuales del arreglo, renglones o filas.\n",
        "\n",
        "**Recordar que en python indexamos las secuencias como $0,1,2,...$ en lugar de $1,2,3,...$**"
      ]
    },
    {
      "cell_type": "code",
      "execution_count": 22,
      "metadata": {
        "colab": {
          "base_uri": "https://localhost:8080/"
        },
        "id": "qLpYoRtaIxv-",
        "outputId": "58573e8e-5eaa-4fa0-d245-622c0feb1796"
      },
      "outputs": [
        {
          "data": {
            "text/plain": [
              "array([[-1. ,  1. ],\n",
              "       [ 0. ,  3. ],\n",
              "       [ 2. , -1. ],\n",
              "       [ 0.5, -3. ]])"
            ]
          },
          "execution_count": 22,
          "metadata": {},
          "output_type": "execute_result"
        }
      ],
      "source": [
        "matriz = np.array([[-1,1],[0,3],[2,-1],[0.5,-3]])\n",
        "matriz"
      ]
    },
    {
      "cell_type": "code",
      "execution_count": 23,
      "metadata": {
        "colab": {
          "base_uri": "https://localhost:8080/"
        },
        "id": "DYNfwPqtuVG-",
        "outputId": "f7cc6bd7-98e7-4cf8-b8cb-34128bb663f7"
      },
      "outputs": [
        {
          "name": "stdout",
          "output_type": "stream",
          "text": [
            "Elemento (2,1): 0.0\n",
            "Elemento en la segunda fila y última columna: 3.0\n",
            "Renglón segundo: [0. 3.]\n",
            "Columna primera: [-1.   0.   2.   0.5]\n"
          ]
        }
      ],
      "source": [
        "entrada = matriz[1,0]\n",
        "print(f\"Elemento (2,1): {entrada}\")\n",
        "\n",
        "entrada = matriz[1,-1]\n",
        "print(f\"Elemento en la segunda fila y última columna: {entrada}\")\n",
        "\n",
        "renglon = matriz[1]\n",
        "renglon = matriz[1,:]\n",
        "print(f\"Renglón segundo: {renglon}\")\n",
        "\n",
        "columna = matriz[:,0]\n",
        "print(f\"Columna primera: {columna}\")"
      ]
    },
    {
      "cell_type": "markdown",
      "metadata": {
        "id": "CNzCNtz2IxwA"
      },
      "source": [
        "La siguiente técnica se llama **slicing**. En este caso, extraemos la submatriz compuesta por el segundo y tercer renglón, segunda y tercer columna."
      ]
    },
    {
      "cell_type": "code",
      "execution_count": 24,
      "metadata": {
        "colab": {
          "base_uri": "https://localhost:8080/"
        },
        "id": "aJLdhEP6IxwA",
        "outputId": "cff306f0-14bd-4b9a-f1c1-2f7779e17b11"
      },
      "outputs": [
        {
          "name": "stdout",
          "output_type": "stream",
          "text": [
            "[[ 0  1  2  3]\n",
            " [ 4  5  6  7]\n",
            " [ 8  9 10 11]]\n"
          ]
        },
        {
          "data": {
            "text/plain": [
              "array([[ 5,  6],\n",
              "       [ 9, 10]])"
            ]
          },
          "execution_count": 24,
          "metadata": {},
          "output_type": "execute_result"
        }
      ],
      "source": [
        "A = np.array(list(range(12))).reshape(3,4)\n",
        "print(A)\n",
        "\n",
        "A[1:,1:-1]"
      ]
    },
    {
      "cell_type": "markdown",
      "metadata": {
        "id": "GLZ7PgddIxwB"
      },
      "source": [
        "**¡Precaución!** Cuando hacemos un slicing de un arreglo y queremos modificarlo, hay que tener en cuenta que esto modifica el arreglo original del cual se hizo el slicing. Para evitar esto, se hace una copia."
      ]
    },
    {
      "cell_type": "code",
      "execution_count": 25,
      "metadata": {
        "colab": {
          "base_uri": "https://localhost:8080/"
        },
        "id": "wmGNoKJsIxwC",
        "outputId": "5361b065-e4a4-445a-c81c-502826ff4c3c"
      },
      "outputs": [
        {
          "name": "stdout",
          "output_type": "stream",
          "text": [
            "[[ 0  1  2  3]\n",
            " [ 4  5  6  7]\n",
            " [ 8  9 10 11]]\n",
            "[[ 0  1  2  3]\n",
            " [ 4  8  9  7]\n",
            " [ 8 12 13 11]]\n"
          ]
        }
      ],
      "source": [
        "print(A)\n",
        "\n",
        "A0 = A[1:,1:-1]\n",
        "A0 += 3\n",
        "\n",
        "print(A)"
      ]
    },
    {
      "cell_type": "code",
      "execution_count": 26,
      "metadata": {
        "colab": {
          "base_uri": "https://localhost:8080/"
        },
        "id": "uN7PPZcGIxwC",
        "outputId": "3974b701-71c9-4d21-cc31-a6f17ac30ef1"
      },
      "outputs": [
        {
          "name": "stdout",
          "output_type": "stream",
          "text": [
            "[[ 0  1  2  3]\n",
            " [ 4  5  6  7]\n",
            " [ 8  9 10 11]]\n",
            "[[ 8  9]\n",
            " [12 13]]\n",
            "[[ 0  1  2  3]\n",
            " [ 4  5  6  7]\n",
            " [ 8  9 10 11]]\n"
          ]
        }
      ],
      "source": [
        "A = np.array(list(range(12))).reshape(3,4)\n",
        "print(A)\n",
        "\n",
        "A0 = A[1:,1:-1].copy()\n",
        "A0 += 3\n",
        "\n",
        "print(A0)\n",
        "print(A)"
      ]
    },
    {
      "cell_type": "markdown",
      "metadata": {
        "id": "CSxOV5LIIxwD"
      },
      "source": [
        "## Máscaras"
      ]
    },
    {
      "cell_type": "code",
      "execution_count": 27,
      "metadata": {
        "colab": {
          "base_uri": "https://localhost:8080/"
        },
        "id": "VVOr9cGZIxwD",
        "outputId": "0bc0f3d7-d6ed-4726-c90a-bf62c4c81bc8"
      },
      "outputs": [
        {
          "name": "stdout",
          "output_type": "stream",
          "text": [
            "[[ 0  1  2  3]\n",
            " [ 4  5  6  7]\n",
            " [ 8  9 10 11]]\n"
          ]
        }
      ],
      "source": [
        "A = np.array(list(range(12))).reshape(3,4)\n",
        "print(A)"
      ]
    },
    {
      "cell_type": "markdown",
      "metadata": {
        "id": "3XD5ybWqIxwD"
      },
      "source": [
        "Una **mascara** es un arreglo de booleanos que índica si una entrada de un arreglo satisface una condición."
      ]
    },
    {
      "cell_type": "code",
      "execution_count": 28,
      "metadata": {
        "colab": {
          "base_uri": "https://localhost:8080/"
        },
        "id": "yelRNaOYIxwE",
        "outputId": "4f1cc463-b3d5-45ad-829e-7cb16b5297ac"
      },
      "outputs": [
        {
          "data": {
            "text/plain": [
              "array([[False, False, False, False],\n",
              "       [False,  True,  True,  True],\n",
              "       [ True,  True,  True,  True]])"
            ]
          },
          "execution_count": 28,
          "metadata": {},
          "output_type": "execute_result"
        }
      ],
      "source": [
        "A>4"
      ]
    },
    {
      "cell_type": "markdown",
      "metadata": {
        "id": "eImTYbQNIxwE"
      },
      "source": [
        "Las mascaras son útiles para operar sobre partes de arreglos que satisfacen alguna condición"
      ]
    },
    {
      "cell_type": "code",
      "execution_count": 29,
      "metadata": {
        "colab": {
          "base_uri": "https://localhost:8080/"
        },
        "id": "H3a7CjjTIxwF",
        "outputId": "4d8e2dc6-5c7e-4ad2-f21e-17d8cd7f3100"
      },
      "outputs": [
        {
          "name": "stdout",
          "output_type": "stream",
          "text": [
            "[[ 0  1  2  3]\n",
            " [ 4 -1 -1 -1]\n",
            " [-1 -1 -1 -1]]\n"
          ]
        }
      ],
      "source": [
        "A[A>4]=-1\n",
        "print(A)"
      ]
    },
    {
      "cell_type": "markdown",
      "metadata": {
        "id": "PIWSHpuWIxwF"
      },
      "source": [
        "¿Qué entradas del arreglo son múltiplos de 3?"
      ]
    },
    {
      "cell_type": "code",
      "execution_count": 30,
      "metadata": {
        "colab": {
          "base_uri": "https://localhost:8080/"
        },
        "id": "Hn8Dvw8WIxwF",
        "outputId": "25f10a20-45c6-442e-9ba8-6dc70a59c507"
      },
      "outputs": [
        {
          "name": "stdout",
          "output_type": "stream",
          "text": [
            "[[ 0  1  2  3]\n",
            " [ 4  5  6  7]\n",
            " [ 8  9 10 11]]\n"
          ]
        },
        {
          "data": {
            "text/plain": [
              "array([[ True, False, False,  True],\n",
              "       [False, False,  True, False],\n",
              "       [False,  True, False, False]])"
            ]
          },
          "execution_count": 30,
          "metadata": {},
          "output_type": "execute_result"
        }
      ],
      "source": [
        "A = np.array(list(range(12))).reshape(3,4)\n",
        "print(A)\n",
        "\n",
        "A%3==0"
      ]
    },
    {
      "cell_type": "markdown",
      "metadata": {
        "id": "K-O1-ZzrIxwG"
      },
      "source": [
        "Estas entradas que sean múltiplos de 3, multipliquemoslas por 5:"
      ]
    },
    {
      "cell_type": "code",
      "execution_count": 31,
      "metadata": {
        "colab": {
          "base_uri": "https://localhost:8080/"
        },
        "id": "xxsrociHIxwG",
        "outputId": "fa037119-67a1-415d-8133-c7024e87dca3"
      },
      "outputs": [
        {
          "name": "stdout",
          "output_type": "stream",
          "text": [
            "[[ 0  1  2 15]\n",
            " [ 4  5 30  7]\n",
            " [ 8 45 10 11]]\n"
          ]
        }
      ],
      "source": [
        "A[A%3==0] *= 5\n",
        "print(A)"
      ]
    },
    {
      "cell_type": "markdown",
      "metadata": {
        "id": "-eObwLSsIxwG"
      },
      "source": [
        "# Aritmética en Numpy (Vectorización)"
      ]
    },
    {
      "cell_type": "markdown",
      "metadata": {
        "id": "hO6niWkPIxwH"
      },
      "source": [
        "Consideremos los vectores siguientes:"
      ]
    },
    {
      "cell_type": "code",
      "execution_count": 32,
      "metadata": {
        "id": "XDjeR15bIxwH"
      },
      "outputs": [],
      "source": [
        "v = np.array([-1,2,0,1,5,4])\n",
        "w = np.array([3,1,-2,5,-9,-3])"
      ]
    },
    {
      "cell_type": "markdown",
      "metadata": {
        "id": "CeEaxZJgIxwH"
      },
      "source": [
        "Un ejemplo más grande:"
      ]
    },
    {
      "cell_type": "code",
      "execution_count": null,
      "metadata": {
        "id": "FaiVHD5fIxwI",
        "outputId": "31b933c4-ab84-47c6-cb64-a76983217796"
      },
      "outputs": [
        {
          "name": "stdout",
          "output_type": "stream",
          "text": [
            "[0.96253767 0.72003781 0.0900582  0.39528106 0.31393015]\n",
            "[0.53925356 0.39193704 0.15014716 0.80323829 0.17361649]\n"
          ]
        }
      ],
      "source": [
        "# v = np.random.uniform(size=(10000,))\n",
        "# w = np.random.uniform(size=(10000,))\n",
        "\n",
        "# print(v[:5])\n",
        "# print(w[:5])"
      ]
    },
    {
      "cell_type": "markdown",
      "metadata": {
        "id": "eCrzm69XIxwI"
      },
      "source": [
        "¿Cómo sumaríamos dos vectores?"
      ]
    },
    {
      "cell_type": "code",
      "execution_count": 35,
      "metadata": {
        "colab": {
          "base_uri": "https://localhost:8080/"
        },
        "id": "y5v4ElsvIxwI",
        "outputId": "725395aa-8adc-4888-ba17-b26eb49ca0d0"
      },
      "outputs": [
        {
          "name": "stdout",
          "output_type": "stream",
          "text": [
            "Duración: 0.00018739700317382812 segundos\n",
            "[ 2  3 -2  6 -4  1]\n"
          ]
        }
      ],
      "source": [
        "import time\n",
        "\n",
        "suma = np.zeros_like(v)\n",
        "inicio = time.time()\n",
        "for j in range(v.shape[0]):\n",
        "    suma[j] = v[j]+w[j]\n",
        "final = time.time()\n",
        "print(f\"Duración: {final-inicio} segundos\")\n",
        "print(suma)"
      ]
    },
    {
      "cell_type": "markdown",
      "metadata": {
        "id": "1XgOu3XQIxwJ"
      },
      "source": [
        "Otra manera, usando la función `enumerate`:"
      ]
    },
    {
      "cell_type": "code",
      "execution_count": 34,
      "metadata": {
        "colab": {
          "base_uri": "https://localhost:8080/"
        },
        "id": "KmYMt30NIxwJ",
        "outputId": "19290b4b-2f25-4b4e-a65b-1b1c0971a648"
      },
      "outputs": [
        {
          "name": "stdout",
          "output_type": "stream",
          "text": [
            "0 -1 3\n",
            "1 2 1\n",
            "2 0 -2\n",
            "[ 2  3 -2  6 -4  1]\n"
          ]
        }
      ],
      "source": [
        "suma = np.zeros_like(v)\n",
        "\n",
        "for j,(vi,wi) in enumerate(zip(v,w)):\n",
        "    # if j <= 2:\n",
        "    #     print(j,vi,wi)\n",
        "    suma[j] = vi+wi\n",
        "print(suma)"
      ]
    },
    {
      "cell_type": "markdown",
      "metadata": {
        "id": "rwKow1hG9CLB"
      },
      "source": [
        "Usando vectorización de Numpy:"
      ]
    },
    {
      "cell_type": "code",
      "execution_count": 36,
      "metadata": {
        "colab": {
          "base_uri": "https://localhost:8080/"
        },
        "id": "eMxh2ni6FoWx",
        "outputId": "75ae05dc-9c5a-47c4-8ed1-68e4237174c3"
      },
      "outputs": [
        {
          "name": "stdout",
          "output_type": "stream",
          "text": [
            "Duración: 0.00013327598571777344 segundos\n",
            "[ 2  3 -2  6 -4  1]\n"
          ]
        }
      ],
      "source": [
        "import time\n",
        "\n",
        "inicio = time.time()\n",
        "suma = v+w\n",
        "final = time.time()\n",
        "print(f\"Duración: {final-inicio} segundos\")\n",
        "print(suma)"
      ]
    },
    {
      "cell_type": "markdown",
      "metadata": {
        "id": "cazXHag3IxwK"
      },
      "source": [
        "**Ejemplos:** Realizar una operación, coordenada a coordenada, con cada entrada de un vector o una matriz"
      ]
    },
    {
      "cell_type": "code",
      "execution_count": 37,
      "metadata": {
        "id": "wxfLelWgIxwK"
      },
      "outputs": [],
      "source": [
        "v = np.array([-1,2,0,1,5,4])\n",
        "w = np.array([3,1,-2,5,-9,-3])"
      ]
    },
    {
      "cell_type": "code",
      "execution_count": 38,
      "metadata": {
        "colab": {
          "base_uri": "https://localhost:8080/"
        },
        "id": "rnSmL-GZIxwK",
        "outputId": "70a5c443-1005-4a8b-b126-74a1b9b27563"
      },
      "outputs": [
        {
          "data": {
            "text/plain": [
              "array([0, 3, 1, 2, 6, 5])"
            ]
          },
          "execution_count": 38,
          "metadata": {},
          "output_type": "execute_result"
        }
      ],
      "source": [
        "v+1"
      ]
    },
    {
      "cell_type": "code",
      "execution_count": 39,
      "metadata": {
        "colab": {
          "base_uri": "https://localhost:8080/"
        },
        "id": "CvvGBr6bIxwL",
        "outputId": "ea9cbde6-8690-4c4c-dccf-bb07a3834cdb"
      },
      "outputs": [
        {
          "data": {
            "text/plain": [
              "array([-3,  6,  0,  3, 15, 12])"
            ]
          },
          "execution_count": 39,
          "metadata": {},
          "output_type": "execute_result"
        }
      ],
      "source": [
        "v*3"
      ]
    },
    {
      "cell_type": "code",
      "execution_count": 40,
      "metadata": {
        "colab": {
          "base_uri": "https://localhost:8080/"
        },
        "id": "isSLFZNCIxwL",
        "outputId": "38d35c95-2c9a-4dc8-e0bd-032d930482fe"
      },
      "outputs": [
        {
          "data": {
            "text/plain": [
              "array([ 1,  4,  0,  1, 25, 16])"
            ]
          },
          "execution_count": 40,
          "metadata": {},
          "output_type": "execute_result"
        }
      ],
      "source": [
        "v**2"
      ]
    },
    {
      "cell_type": "code",
      "execution_count": 42,
      "metadata": {
        "colab": {
          "base_uri": "https://localhost:8080/"
        },
        "id": "ViwL2ldPIxwL",
        "outputId": "8b86f0f4-f00c-4a23-ab76-837a19b5c6f1"
      },
      "outputs": [
        {
          "data": {
            "text/plain": [
              "array([-0.33333333,  2.        , -0.        ,  0.2       , -0.55555556,\n",
              "       -1.33333333])"
            ]
          },
          "execution_count": 42,
          "metadata": {},
          "output_type": "execute_result"
        }
      ],
      "source": [
        "v/w"
      ]
    },
    {
      "cell_type": "code",
      "execution_count": 43,
      "metadata": {
        "colab": {
          "base_uri": "https://localhost:8080/"
        },
        "id": "cUuEel-gIxwL",
        "outputId": "2a57e0a9-3807-4047-b314-d5a0807f3989"
      },
      "outputs": [
        {
          "data": {
            "text/plain": [
              "array([     -1,       2,       0,       1, 1953125,      64])"
            ]
          },
          "execution_count": 43,
          "metadata": {},
          "output_type": "execute_result"
        }
      ],
      "source": [
        "v**np.abs(w)"
      ]
    },
    {
      "cell_type": "code",
      "execution_count": 44,
      "metadata": {
        "colab": {
          "base_uri": "https://localhost:8080/"
        },
        "id": "bKHswTD7IxwM",
        "outputId": "6b513cf6-d6f9-4de9-cfa3-fe046961827e"
      },
      "outputs": [
        {
          "data": {
            "text/plain": [
              "array([1.        , 1.41421356, 0.        , 1.        , 2.23606798,\n",
              "       2.        ])"
            ]
          },
          "execution_count": 44,
          "metadata": {},
          "output_type": "execute_result"
        }
      ],
      "source": [
        "np.sqrt(np.abs(v))"
      ]
    },
    {
      "cell_type": "markdown",
      "metadata": {
        "id": "o4LZ51MQIxwM"
      },
      "source": [
        "Observar lo que ocurre si usamos la implementación de la raíz cuadrada del módulo `math`:"
      ]
    },
    {
      "cell_type": "code",
      "execution_count": 45,
      "metadata": {
        "colab": {
          "base_uri": "https://localhost:8080/",
          "height": 211
        },
        "id": "-PKiDb48IxwM",
        "outputId": "3dbb1a89-6857-47ad-9ba1-fd69ae1f4140"
      },
      "outputs": [
        {
          "ename": "TypeError",
          "evalue": "ignored",
          "output_type": "error",
          "traceback": [
            "\u001b[0;31m---------------------------------------------------------------------------\u001b[0m",
            "\u001b[0;31mTypeError\u001b[0m                                 Traceback (most recent call last)",
            "\u001b[0;32m<ipython-input-45-11cc7751e4b2>\u001b[0m in \u001b[0;36m<cell line: 3>\u001b[0;34m()\u001b[0m\n\u001b[1;32m      1\u001b[0m \u001b[0;32mfrom\u001b[0m \u001b[0mmath\u001b[0m \u001b[0;32mimport\u001b[0m \u001b[0msqrt\u001b[0m\u001b[0;34m\u001b[0m\u001b[0;34m\u001b[0m\u001b[0m\n\u001b[1;32m      2\u001b[0m \u001b[0;34m\u001b[0m\u001b[0m\n\u001b[0;32m----> 3\u001b[0;31m \u001b[0msqrt\u001b[0m\u001b[0;34m(\u001b[0m\u001b[0mnp\u001b[0m\u001b[0;34m.\u001b[0m\u001b[0mabs\u001b[0m\u001b[0;34m(\u001b[0m\u001b[0mv\u001b[0m\u001b[0;34m)\u001b[0m\u001b[0;34m)\u001b[0m\u001b[0;34m\u001b[0m\u001b[0;34m\u001b[0m\u001b[0m\n\u001b[0m",
            "\u001b[0;31mTypeError\u001b[0m: only size-1 arrays can be converted to Python scalars"
          ]
        }
      ],
      "source": [
        "from math import sqrt\n",
        "\n",
        "sqrt(np.abs(v))"
      ]
    },
    {
      "cell_type": "markdown",
      "metadata": {},
      "source": [
        "## Productos"
      ]
    },
    {
      "cell_type": "code",
      "execution_count": 22,
      "metadata": {},
      "outputs": [
        {
          "name": "stdout",
          "output_type": "stream",
          "text": [
            "[[1. 0. 0.]\n",
            " [0. 1. 1.]\n",
            " [0. 0. 1.]]\n",
            "[[ 3.  2.  1.]\n",
            " [ 5.  3.  4.]\n",
            " [ 1.  1. -1.]]\n",
            "[[ 3.  2.  1.]\n",
            " [ 6.  4.  3.]\n",
            " [ 1.  1. -1.]]\n",
            "[[ 3.  2.  1.]\n",
            " [ 6.  4.  3.]\n",
            " [ 1.  1. -1.]]\n"
          ]
        }
      ],
      "source": [
        "A = np.array([[3,2,1],[5,3,4],[1,1,-1]],dtype=float)\n",
        "B = np.array([[1,0,0],[0,1,1],[0,0,1]],dtype=float)\n",
        "\n",
        "print(B)\n",
        "print(A)"
      ]
    },
    {
      "cell_type": "markdown",
      "metadata": {},
      "source": [
        "Tres maneras de realizar el producto de matrices"
      ]
    },
    {
      "cell_type": "code",
      "execution_count": 24,
      "metadata": {},
      "outputs": [
        {
          "name": "stdout",
          "output_type": "stream",
          "text": [
            "[[ 3.  2.  1.]\n",
            " [ 6.  4.  3.]\n",
            " [ 1.  1. -1.]]\n",
            "[[ 3.  2.  1.]\n",
            " [ 6.  4.  3.]\n",
            " [ 1.  1. -1.]]\n",
            "[[ 3.  2.  1.]\n",
            " [ 6.  4.  3.]\n",
            " [ 1.  1. -1.]]\n"
          ]
        }
      ],
      "source": [
        "print(np.dot(B,A))\n",
        "print(B@A)\n",
        "print(np.matmul(B,A))"
      ]
    },
    {
      "cell_type": "markdown",
      "metadata": {},
      "source": [
        "Ahora, realicemos el producto punto de dos vectores"
      ]
    },
    {
      "cell_type": "code",
      "execution_count": 29,
      "metadata": {},
      "outputs": [
        {
          "name": "stdout",
          "output_type": "stream",
          "text": [
            "[ 3  2  0 -4] [-1  1  3 -2]\n"
          ]
        }
      ],
      "source": [
        "u = np.array([3,2,0,-4])\n",
        "v = np.array([-1,1,3,-2])\n",
        "\n",
        "print(u,v)"
      ]
    },
    {
      "cell_type": "markdown",
      "metadata": {},
      "source": [
        "Dos maneras de hacer el producto punto de dos maneras:"
      ]
    },
    {
      "cell_type": "code",
      "execution_count": 28,
      "metadata": {},
      "outputs": [
        {
          "name": "stdout",
          "output_type": "stream",
          "text": [
            "7\n",
            "7\n"
          ]
        }
      ],
      "source": [
        "print(np.dot(u,v))\n",
        "print(np.matmul(u,v))"
      ]
    },
    {
      "cell_type": "code",
      "execution_count": 30,
      "metadata": {},
      "outputs": [
        {
          "data": {
            "text/plain": [
              "7"
            ]
          },
          "execution_count": 30,
          "metadata": {},
          "output_type": "execute_result"
        }
      ],
      "source": [
        "np.sum(u*v)"
      ]
    },
    {
      "cell_type": "markdown",
      "metadata": {},
      "source": [
        "## Un poco de algebra lineal"
      ]
    },
    {
      "cell_type": "markdown",
      "metadata": {},
      "source": [
        "Numpy contiene el submodulo [`linalg`](https://numpy.org/doc/stable/reference/routines.linalg.html) con el cual podemos hacer algebra lineal. "
      ]
    },
    {
      "cell_type": "code",
      "execution_count": 8,
      "metadata": {},
      "outputs": [
        {
          "name": "stdout",
          "output_type": "stream",
          "text": [
            "[[ 3.  2.  0.  5.]\n",
            " [ 0.  1.  4.  2.]\n",
            " [ 0.  0. -2.  3.]\n",
            " [ 0.  0.  0. -5.]]\n"
          ]
        }
      ],
      "source": [
        "import numpy as np\n",
        "\n",
        "A = np.array([[3,2,0,5],[0,1,4,2],[0,0,-2,3],[0,0,0,-5]],dtype=float)\n",
        "print(A)"
      ]
    },
    {
      "cell_type": "markdown",
      "metadata": {},
      "source": [
        "Podemos importar el submodulo de varias formas. En este ejemplo, calculamos el determinante de la matriz A"
      ]
    },
    {
      "cell_type": "code",
      "execution_count": 9,
      "metadata": {},
      "outputs": [
        {
          "data": {
            "text/plain": [
              "29.99999999999999"
            ]
          },
          "execution_count": 9,
          "metadata": {},
          "output_type": "execute_result"
        }
      ],
      "source": [
        "from numpy import linalg\n",
        "\n",
        "linalg.det(A)"
      ]
    },
    {
      "cell_type": "code",
      "execution_count": 10,
      "metadata": {},
      "outputs": [
        {
          "data": {
            "text/plain": [
              "29.99999999999999"
            ]
          },
          "execution_count": 10,
          "metadata": {},
          "output_type": "execute_result"
        }
      ],
      "source": [
        "np.linalg.det(A)"
      ]
    },
    {
      "cell_type": "code",
      "execution_count": 11,
      "metadata": {},
      "outputs": [
        {
          "data": {
            "text/plain": [
              "29.99999999999999"
            ]
          },
          "execution_count": 11,
          "metadata": {},
          "output_type": "execute_result"
        }
      ],
      "source": [
        "from numpy.linalg import det\n",
        "\n",
        "det(A)"
      ]
    },
    {
      "cell_type": "markdown",
      "metadata": {},
      "source": [
        "**Ejemplo:** Calculamos la inversa de la matriz A"
      ]
    },
    {
      "cell_type": "code",
      "execution_count": 12,
      "metadata": {},
      "outputs": [
        {
          "data": {
            "text/plain": [
              "array([[ 0.33333333, -0.66666667, -1.33333333, -0.73333333],\n",
              "       [ 0.        ,  1.        ,  2.        ,  1.6       ],\n",
              "       [-0.        , -0.        , -0.5       , -0.3       ],\n",
              "       [-0.        , -0.        , -0.        , -0.2       ]])"
            ]
          },
          "execution_count": 12,
          "metadata": {},
          "output_type": "execute_result"
        }
      ],
      "source": [
        "np.linalg.inv(A)"
      ]
    },
    {
      "cell_type": "markdown",
      "metadata": {},
      "source": [
        "**Ejemplo:** Resolver el sistema de ecuaciones\n",
        "\n",
        "$$\\left(\\begin{array}{ccc}\n",
        "3 & 2 & 1 \\\\\n",
        "5 & 3 & 4 \\\\\n",
        "1 & 1 & -1  \n",
        "\\end{array}\\right)\n",
        "\\left(\n",
        "\\begin{array}{c}\n",
        "x \\\\\n",
        "y \\\\\n",
        "z  \n",
        "\\end{array}\n",
        "\\right)\n",
        "=\n",
        "\\left(\n",
        "\\begin{array}{c}\n",
        "1 \\\\\n",
        "2 \\\\\n",
        "1  \n",
        "\\end{array}\n",
        "\\right)\n",
        "$$\n",
        "\n",
        "usaremos la función [`solve`](https://numpy.org/doc/stable/reference/generated/numpy.linalg.solve.html) la cual usa la implementación [LAPACK routine _gesv](https://www.netlib.org/lapack/explore-html/d7/d3b/group__double_g_esolve_ga5ee879032a8365897c3ba91e3dc8d512.html)."
      ]
    },
    {
      "cell_type": "code",
      "execution_count": 16,
      "metadata": {},
      "outputs": [
        {
          "name": "stdout",
          "output_type": "stream",
          "text": [
            "[[ 3.  2.  1.]\n",
            " [ 5.  3.  4.]\n",
            " [ 1.  1. -1.]] [1 2 1]\n"
          ]
        },
        {
          "data": {
            "text/plain": [
              "array([-4.,  6.,  1.])"
            ]
          },
          "execution_count": 16,
          "metadata": {},
          "output_type": "execute_result"
        }
      ],
      "source": [
        "A = np.array([[3,2,1],[5,3,4],[1,1,-1]],dtype=float)\n",
        "b = np.array([1,2,1])\n",
        "print(A,b)\n",
        "\n",
        "np.linalg.solve(A,b)"
      ]
    },
    {
      "cell_type": "markdown",
      "metadata": {},
      "source": [
        "En el ejemplo anterior, calculemos la norma del vector $b$"
      ]
    },
    {
      "cell_type": "code",
      "execution_count": 15,
      "metadata": {},
      "outputs": [
        {
          "data": {
            "text/plain": [
              "2.449489742783178"
            ]
          },
          "execution_count": 15,
          "metadata": {},
          "output_type": "execute_result"
        }
      ],
      "source": [
        "np.linalg.norm(b)"
      ]
    },
    {
      "cell_type": "markdown",
      "metadata": {
        "id": "mMazEm2hIxwN"
      },
      "source": [
        "# Funciones de Numpy\n",
        "\n",
        "Numpy tiene también funciones que operan sobre arreglos"
      ]
    },
    {
      "cell_type": "code",
      "execution_count": 47,
      "metadata": {
        "colab": {
          "base_uri": "https://localhost:8080/"
        },
        "id": "g_BOzgq_IxwN",
        "outputId": "68aa21aa-921a-45c2-f51b-3b33c99fcfc1"
      },
      "outputs": [
        {
          "name": "stdout",
          "output_type": "stream",
          "text": [
            "[-1  2  0  1  5  4]\n"
          ]
        }
      ],
      "source": [
        "v = np.array([-1,2,0,1,5,4])\n",
        "print(v)"
      ]
    },
    {
      "cell_type": "markdown",
      "metadata": {
        "id": "RwF1XoXzIxwO"
      },
      "source": [
        "Promedio, suma, máximos y mínimos"
      ]
    },
    {
      "cell_type": "code",
      "execution_count": 48,
      "metadata": {
        "colab": {
          "base_uri": "https://localhost:8080/"
        },
        "id": "2fb5aq6UIxwO",
        "outputId": "f2e5bc0a-54d8-48d9-c52f-5eaa2db6f3f3"
      },
      "outputs": [
        {
          "name": "stdout",
          "output_type": "stream",
          "text": [
            "La suma de todos los elementos de v es 11\n",
            "El promedio de todos los elementos de v es 1.8333333333333333\n",
            "El máximo del arreglo es 5\n",
            "El máximo del arreglo se alcanza en el índice 4\n",
            "El mínimo del arreglo es -1\n",
            "El máximo del arreglo se alcanza en el mínimo 0\n"
          ]
        }
      ],
      "source": [
        "print(f\"La suma de todos los elementos de v es {np.sum(v)}\")\n",
        "print(f\"El promedio de todos los elementos de v es {np.mean(v)}\")\n",
        "print(f\"El máximo del arreglo es {np.max(v)}\")\n",
        "print(f\"El máximo del arreglo se alcanza en el índice {np.argmax(v)}\")\n",
        "print(f\"El mínimo del arreglo es {np.min(v)}\")\n",
        "print(f\"El máximo del arreglo se alcanza en el mínimo {np.argmin(v)}\")"
      ]
    },
    {
      "cell_type": "markdown",
      "metadata": {
        "id": "RQGItniTIxwP"
      },
      "source": [
        "Ahora, en matrices:"
      ]
    },
    {
      "cell_type": "code",
      "execution_count": 49,
      "metadata": {
        "colab": {
          "base_uri": "https://localhost:8080/"
        },
        "id": "d5V3IZniIxwQ",
        "outputId": "c31ed1da-7aef-4395-b7cf-f2c5cf6bcaef"
      },
      "outputs": [
        {
          "name": "stdout",
          "output_type": "stream",
          "text": [
            "[[ 0  1  2  3]\n",
            " [ 4  5  6  7]\n",
            " [ 8  9 10 11]]\n"
          ]
        }
      ],
      "source": [
        "A = np.array(list(range(12))).reshape(3,4)\n",
        "print(A)"
      ]
    },
    {
      "cell_type": "code",
      "execution_count": 50,
      "metadata": {
        "colab": {
          "base_uri": "https://localhost:8080/"
        },
        "id": "0LPoFuxOIxwR",
        "outputId": "0e94669d-1e5d-4d5d-9297-c6c0cedceb0d"
      },
      "outputs": [
        {
          "name": "stdout",
          "output_type": "stream",
          "text": [
            "La suma de todos los elementos de A es 66\n",
            "El promedio de todos los elementos de A es 5.5\n",
            "El máximo del arreglo es 11\n",
            "El máximo del arreglo se alcanza en el índice 11\n",
            "El mínimo del arreglo es 0\n",
            "El máximo del arreglo se alcanza en el mínimo 0\n"
          ]
        }
      ],
      "source": [
        "print(f\"La suma de todos los elementos de A es {np.sum(A)}\")\n",
        "print(f\"El promedio de todos los elementos de A es {np.mean(A)}\")\n",
        "print(f\"El máximo del arreglo es {np.max(A)}\")\n",
        "print(f\"El máximo del arreglo se alcanza en el índice {np.argmax(A)}\")\n",
        "print(f\"El mínimo del arreglo es {np.min(A)}\")\n",
        "print(f\"El máximo del arreglo se alcanza en el mínimo {np.argmin(A)}\")"
      ]
    },
    {
      "cell_type": "markdown",
      "metadata": {
        "id": "YPvsEopHIxwT"
      },
      "source": [
        "**Las operaciones se están haciendo sobre la matriz aplanada.** Si queremos que se por renglones o filas, hacemos:"
      ]
    },
    {
      "cell_type": "code",
      "execution_count": 51,
      "metadata": {
        "colab": {
          "base_uri": "https://localhost:8080/"
        },
        "id": "qWJBabrFIxwU",
        "outputId": "3882027a-44df-4acd-e303-bc4fd412288b"
      },
      "outputs": [
        {
          "name": "stdout",
          "output_type": "stream",
          "text": [
            "[[ 0  1  2  3]\n",
            " [ 4  5  6  7]\n",
            " [ 8  9 10 11]]\n"
          ]
        }
      ],
      "source": [
        "print(A)"
      ]
    },
    {
      "cell_type": "code",
      "execution_count": 52,
      "metadata": {
        "colab": {
          "base_uri": "https://localhost:8080/"
        },
        "id": "n770MI-KIxwU",
        "outputId": "e0ea70a9-7bf5-4664-cc28-bca59bc15df5"
      },
      "outputs": [
        {
          "name": "stdout",
          "output_type": "stream",
          "text": [
            "La suma de todos los elementos de A, por columna, es [12 15 18 21]\n",
            "La suma de todos los elementos de A, por fila, es [ 6 22 38]\n",
            "\n",
            "El promedio de todos los elementos de A, por columna, es [4. 5. 6. 7.]\n",
            "El promedio de todos los elementos de A, por fila, es [1.5 5.5 9.5]\n",
            "\n",
            "El máximo del arreglo, por columna, es [ 8  9 10 11]\n",
            "El máximo del arreglo, por fila, es [ 3  7 11]\n",
            "\n",
            "El máximo del arreglo, por columna, se alcanza en los índices [2 2 2 2] de las filas\n",
            "El máximo del arreglo, por fila, se alcanza en los índices [3 3 3] de las columnas\n",
            "\n"
          ]
        }
      ],
      "source": [
        "print(f\"La suma de todos los elementos de A, por columna, es {np.sum(A,axis=0)}\") # Desaparecemos el axis=0 (filas)\n",
        "print(f\"La suma de todos los elementos de A, por fila, es {np.sum(A,axis=1)}\\n\") # Desaparecemos el axis=1 (columnas)\n",
        "print(f\"El promedio de todos los elementos de A, por columna, es {np.mean(A,axis=0)}\")\n",
        "print(f\"El promedio de todos los elementos de A, por fila, es {np.mean(A,axis=1)}\\n\")\n",
        "print(f\"El máximo del arreglo, por columna, es {np.max(A,axis=0)}\")\n",
        "print(f\"El máximo del arreglo, por fila, es {np.max(A,axis=1)}\\n\")\n",
        "print(f\"El máximo del arreglo, por columna, se alcanza en los índices {np.argmax(A,axis=0)} de las filas\")\n",
        "print(f\"El máximo del arreglo, por fila, se alcanza en los índices {np.argmax(A,axis=1)} de las columnas\\n\")"
      ]
    },
    {
      "cell_type": "markdown",
      "metadata": {
        "id": "b4piqB7WWcQv"
      },
      "source": [
        "## Ejemplo 1: Calcular errores"
      ]
    },
    {
      "cell_type": "markdown",
      "metadata": {
        "id": "JZyUphKihxHT"
      },
      "source": [
        "Definimos una función para calcular el error absoluto entre un valor real y una aproximación a este valor"
      ]
    },
    {
      "cell_type": "code",
      "execution_count": 53,
      "metadata": {
        "id": "qi6xeywGUQ2E"
      },
      "outputs": [],
      "source": [
        "import numpy as np\n",
        "\n",
        "def error_absoluto(real, aproximacion):\n",
        "    return np.abs(real-aproximacion)\n",
        "\n",
        "def error_relativo(real, aproximacion):\n",
        "    '''\n",
        "    Implementar la función\n",
        "    '''\n",
        "    pass  # instrucción para \"dejar en blanco\" el cuerpo de una función"
      ]
    },
    {
      "cell_type": "markdown",
      "metadata": {
        "id": "LRx9klXwh8-y"
      },
      "source": [
        "Como ejemplo, consideremos el siguiente valor real y una secuencia de aproximaciones a dicho valor real"
      ]
    },
    {
      "cell_type": "code",
      "execution_count": 54,
      "metadata": {
        "id": "xMDjPgIEWoR8"
      },
      "outputs": [],
      "source": [
        "valor_real = 4.5\n",
        "\n",
        "aproximaciones = [2.5, 2.7, 3.1, 3.6, 3.9, 4.2, 4.6, 4.55]"
      ]
    },
    {
      "cell_type": "markdown",
      "metadata": {
        "id": "0_OLoCf5iDqy"
      },
      "source": [
        "Usando un ciclo `for` calculamos e imprimimos el error absoluto entre cada valor de la secuencia y el valor real"
      ]
    },
    {
      "cell_type": "code",
      "execution_count": 55,
      "metadata": {
        "colab": {
          "base_uri": "https://localhost:8080/"
        },
        "id": "09bdXtsvYP9G",
        "outputId": "da52eae7-dfce-417b-e8f8-f92a8b194e99"
      },
      "outputs": [
        {
          "name": "stdout",
          "output_type": "stream",
          "text": [
            "Error absoluto: 2.0\n",
            "Error absoluto: 1.7999999999999998\n",
            "Error absoluto: 1.4\n",
            "Error absoluto: 0.8999999999999999\n",
            "Error absoluto: 0.6000000000000001\n",
            "Error absoluto: 0.2999999999999998\n",
            "Error absoluto: 0.09999999999999964\n",
            "Error absoluto: 0.04999999999999982\n"
          ]
        }
      ],
      "source": [
        "for aprox in aproximaciones:\n",
        "    print(f\"Error absoluto: {error_absoluto(valor_real,aprox)}\")\n",
        "    # print(f\"Error absoluto: {round(error_absoluto(valor_real,aprox),3)}\")"
      ]
    },
    {
      "cell_type": "markdown",
      "metadata": {
        "id": "ejCKplCZhYhv"
      },
      "source": [
        "Usando numpy podemos simplificar el proceso anterior y hacerlo más rápido. Esta es una de muchas ventajas de Numpy."
      ]
    },
    {
      "cell_type": "code",
      "execution_count": 56,
      "metadata": {
        "colab": {
          "base_uri": "https://localhost:8080/"
        },
        "id": "LDyAQ4U-YbVh",
        "outputId": "c98e3303-33c6-44ea-fbad-c1eca09f1941"
      },
      "outputs": [
        {
          "data": {
            "text/plain": [
              "array([2.  , 1.8 , 1.4 , 0.9 , 0.6 , 0.3 , 0.1 , 0.05])"
            ]
          },
          "execution_count": 56,
          "metadata": {},
          "output_type": "execute_result"
        }
      ],
      "source": [
        "aproximaciones = np.array(aproximaciones)\n",
        "\n",
        "error_absoluto(valor_real, aproximaciones)"
      ]
    },
    {
      "cell_type": "markdown",
      "metadata": {
        "id": "A6qtZ0ycWvFw"
      },
      "source": [
        "## Ejemplo 2: Regresión Lineal"
      ]
    },
    {
      "cell_type": "markdown",
      "metadata": {
        "id": "lm734fF-X8f6"
      },
      "source": [
        "Implementaremos una función que realice la regresión lineal de un conjunto de datos. Lo haremos de dos maneras:\n",
        "\n",
        "1. Usando una implementación clásica, con ciclos.\n",
        "2. Usando vectorización de Numpy."
      ]
    },
    {
      "cell_type": "markdown",
      "metadata": {
        "id": "wqCNJIzLIxwY"
      },
      "source": [
        "La función regresará la pendiente y la ordenada al origen de la recta que mejor aproxima (por mínimos cuadrados) a los datos. Estos dos números están determinados por\n",
        "\n",
        "$$m=\\frac{n\\sum x_iy_i-\\sum x_i \\sum y_i}{n\\sum x_i^2-(\\sum x_i)^2}$$\n",
        "\n",
        "$$b=\\overline{y} - m \\overline{x}$$\n",
        "\n",
        "donde $\\overline{y}$, $\\overline{x}$ son los promedios de las coordenadas $y_i,x_i$ respectivamente. Los datos están dados por\n",
        "\n",
        "$$\n",
        "\\begin{array}{cc}\n",
        "x_1 & y_1 \\\\\n",
        "x_2 & y_2 \\\\\n",
        "\\cdots & \\cdots \\\\\n",
        "x_n & y_n\n",
        "\\end{array}\n",
        "$$\n",
        "\n",
        "**Observar que, en esta implementación, no estamos calculamos el coeficiente de determinación u otras métricas de rendimiento.**"
      ]
    },
    {
      "cell_type": "markdown",
      "metadata": {
        "id": "DuwXlMJlYXAk"
      },
      "source": [
        "1. Usando ciclos"
      ]
    },
    {
      "cell_type": "code",
      "execution_count": 57,
      "metadata": {
        "id": "8rwb1LIaWxxi"
      },
      "outputs": [],
      "source": [
        "def regresion_lineal(datos, report=False):\n",
        "    n = datos.shape[0]\n",
        "    #--- calculamos los promedios\n",
        "    sum_x = 0\n",
        "    for x in datos[:,0]:\n",
        "        sum_x += x\n",
        "    x_prom = sum_x/n\n",
        "    sum_y = 0\n",
        "    for x in datos[:,1]:\n",
        "        sum_y += x\n",
        "    y_prom = sum_y/n\n",
        "    #--- calculamos el resto de términos\n",
        "    sum_xy = np.sum(datos[:,0]*datos[:,1])\n",
        "    sum_x_2s = np.sum(datos[:,0]*datos[:,0])\n",
        "    if report:\n",
        "        print(f\"x_prom = {x_prom},\\ny_prom = {y_prom},\\nsum_xy = {sum_xy},\\nsum_x_2s = {sum_x_2s},\\nsum_x = {sum_x},\\nsum_y = {sum_y}\")\n",
        "    a_1 = (n*sum_xy - sum_x*sum_y)/(n*sum_x_2s - sum_x**2)\n",
        "    a_0 = y_prom - a_1*x_prom\n",
        "    print(f\"Pendiente: {a_1}, Intercepto: {a_0}\")\n",
        "    return (a_0,a_1)"
      ]
    },
    {
      "cell_type": "markdown",
      "metadata": {
        "id": "vYpdn5cWYYBJ"
      },
      "source": [
        "2. Usando vectorización de Numpy"
      ]
    },
    {
      "cell_type": "code",
      "execution_count": 58,
      "metadata": {
        "id": "Bxo60sd7YYem"
      },
      "outputs": [],
      "source": [
        "import numpy as np\n",
        "\n",
        "def regresion_lineal_vectorizada(datos, report=False):\n",
        "    n = datos.shape[0]\n",
        "    x_prom = np.mean(datos,axis=0)[0]\n",
        "    y_prom = np.mean(datos,axis=0)[1]\n",
        "    sum_xy = np.sum(datos[:,0]*datos[:,1])\n",
        "    sum_x_2s = np.sum(datos[:,0]*datos[:,0])\n",
        "    sum_x = np.sum(datos[:,0])\n",
        "    sum_y = np.sum(datos[:,1])\n",
        "    if report:\n",
        "        print(f\"x_prom = {x_prom},\\ny_prom = {y_prom},\\nsum_xy = {sum_xy},\\nsum_x_2s = {sum_x_2s},\\nsum_x = {sum_x},\\nsum_y = {sum_y}\")\n",
        "    a_1 = (n*sum_xy - sum_x*sum_y)/(n*sum_x_2s - sum_x**2)\n",
        "    a_0 = y_prom - a_1*x_prom\n",
        "    print(f\"Pendiente: {a_1}, Intercepto: {a_0}\")\n",
        "    return (a_0,a_1)"
      ]
    },
    {
      "cell_type": "markdown",
      "metadata": {
        "id": "8psMS09hZMu2"
      },
      "source": [
        "Probemos con un ejemplo"
      ]
    },
    {
      "cell_type": "code",
      "execution_count": 59,
      "metadata": {
        "colab": {
          "base_uri": "https://localhost:8080/"
        },
        "id": "x4ZamQg8ZFuW",
        "outputId": "c80665ce-3fe7-47be-eb39-43f83dabff31"
      },
      "outputs": [
        {
          "name": "stdout",
          "output_type": "stream",
          "text": [
            "[[ 0  5]\n",
            " [ 2  6]\n",
            " [ 4  7]\n",
            " [ 6  6]\n",
            " [ 9  9]\n",
            " [11  8]\n",
            " [12  7]\n",
            " [15 10]\n",
            " [17 12]\n",
            " [19 12]]\n"
          ]
        }
      ],
      "source": [
        "datos = np.array([[0,2,4,6,9,11,12,15,17,19],[5,6,7,6,9,8,7,10,12,12]]).transpose()\n",
        "print(datos)"
      ]
    },
    {
      "cell_type": "code",
      "execution_count": 60,
      "metadata": {
        "colab": {
          "base_uri": "https://localhost:8080/"
        },
        "id": "SFbw3XwYZMaF",
        "outputId": "888eee1c-5623-4cb3-d079-2ac9d1e4d339"
      },
      "outputs": [
        {
          "name": "stdout",
          "output_type": "stream",
          "text": [
            "Pendiente: 0.35246995994659547, Intercepto: 4.851535380507342\n"
          ]
        },
        {
          "data": {
            "text/plain": [
              "(4.851535380507342, 0.35246995994659547)"
            ]
          },
          "execution_count": 60,
          "metadata": {},
          "output_type": "execute_result"
        }
      ],
      "source": [
        "regresion_lineal(datos)"
      ]
    },
    {
      "cell_type": "code",
      "execution_count": 61,
      "metadata": {
        "colab": {
          "base_uri": "https://localhost:8080/"
        },
        "id": "8712K4SBZSWQ",
        "outputId": "552c497c-4cca-42f2-b0a0-804d5bfd7fe2"
      },
      "outputs": [
        {
          "name": "stdout",
          "output_type": "stream",
          "text": [
            "Pendiente: 0.35246995994659547, Intercepto: 4.851535380507342\n"
          ]
        },
        {
          "data": {
            "text/plain": [
              "(4.851535380507342, 0.35246995994659547)"
            ]
          },
          "execution_count": 61,
          "metadata": {},
          "output_type": "execute_result"
        }
      ],
      "source": [
        "regresion_lineal_vectorizada(datos)"
      ]
    },
    {
      "cell_type": "markdown",
      "metadata": {
        "id": "hxRNp67pIxwc"
      },
      "source": [
        "Podríamos graficar estas rectas y datos, esto lo haremos en la siguiente sesión"
      ]
    },
    {
      "cell_type": "markdown",
      "metadata": {
        "id": "ut6gzFAnK1TV"
      },
      "source": [
        "## Regresión Lineal con scikit-learn\n",
        "\n",
        "Hay varias implementaciones de regresión lineal usando Python. Usaremos la de scikit learn, que es el módulo estandar para aprendizaje automático."
      ]
    },
    {
      "cell_type": "code",
      "execution_count": 65,
      "metadata": {
        "colab": {
          "base_uri": "https://localhost:8080/",
          "height": 74
        },
        "id": "ZoUE0cTPK4jg",
        "outputId": "d67974ca-5190-4fb8-de71-d54274bd6789"
      },
      "outputs": [
        {
          "data": {
            "text/html": [
              "<style>#sk-container-id-1 {color: black;background-color: white;}#sk-container-id-1 pre{padding: 0;}#sk-container-id-1 div.sk-toggleable {background-color: white;}#sk-container-id-1 label.sk-toggleable__label {cursor: pointer;display: block;width: 100%;margin-bottom: 0;padding: 0.3em;box-sizing: border-box;text-align: center;}#sk-container-id-1 label.sk-toggleable__label-arrow:before {content: \"▸\";float: left;margin-right: 0.25em;color: #696969;}#sk-container-id-1 label.sk-toggleable__label-arrow:hover:before {color: black;}#sk-container-id-1 div.sk-estimator:hover label.sk-toggleable__label-arrow:before {color: black;}#sk-container-id-1 div.sk-toggleable__content {max-height: 0;max-width: 0;overflow: hidden;text-align: left;background-color: #f0f8ff;}#sk-container-id-1 div.sk-toggleable__content pre {margin: 0.2em;color: black;border-radius: 0.25em;background-color: #f0f8ff;}#sk-container-id-1 input.sk-toggleable__control:checked~div.sk-toggleable__content {max-height: 200px;max-width: 100%;overflow: auto;}#sk-container-id-1 input.sk-toggleable__control:checked~label.sk-toggleable__label-arrow:before {content: \"▾\";}#sk-container-id-1 div.sk-estimator input.sk-toggleable__control:checked~label.sk-toggleable__label {background-color: #d4ebff;}#sk-container-id-1 div.sk-label input.sk-toggleable__control:checked~label.sk-toggleable__label {background-color: #d4ebff;}#sk-container-id-1 input.sk-hidden--visually {border: 0;clip: rect(1px 1px 1px 1px);clip: rect(1px, 1px, 1px, 1px);height: 1px;margin: -1px;overflow: hidden;padding: 0;position: absolute;width: 1px;}#sk-container-id-1 div.sk-estimator {font-family: monospace;background-color: #f0f8ff;border: 1px dotted black;border-radius: 0.25em;box-sizing: border-box;margin-bottom: 0.5em;}#sk-container-id-1 div.sk-estimator:hover {background-color: #d4ebff;}#sk-container-id-1 div.sk-parallel-item::after {content: \"\";width: 100%;border-bottom: 1px solid gray;flex-grow: 1;}#sk-container-id-1 div.sk-label:hover label.sk-toggleable__label {background-color: #d4ebff;}#sk-container-id-1 div.sk-serial::before {content: \"\";position: absolute;border-left: 1px solid gray;box-sizing: border-box;top: 0;bottom: 0;left: 50%;z-index: 0;}#sk-container-id-1 div.sk-serial {display: flex;flex-direction: column;align-items: center;background-color: white;padding-right: 0.2em;padding-left: 0.2em;position: relative;}#sk-container-id-1 div.sk-item {position: relative;z-index: 1;}#sk-container-id-1 div.sk-parallel {display: flex;align-items: stretch;justify-content: center;background-color: white;position: relative;}#sk-container-id-1 div.sk-item::before, #sk-container-id-1 div.sk-parallel-item::before {content: \"\";position: absolute;border-left: 1px solid gray;box-sizing: border-box;top: 0;bottom: 0;left: 50%;z-index: -1;}#sk-container-id-1 div.sk-parallel-item {display: flex;flex-direction: column;z-index: 1;position: relative;background-color: white;}#sk-container-id-1 div.sk-parallel-item:first-child::after {align-self: flex-end;width: 50%;}#sk-container-id-1 div.sk-parallel-item:last-child::after {align-self: flex-start;width: 50%;}#sk-container-id-1 div.sk-parallel-item:only-child::after {width: 0;}#sk-container-id-1 div.sk-dashed-wrapped {border: 1px dashed gray;margin: 0 0.4em 0.5em 0.4em;box-sizing: border-box;padding-bottom: 0.4em;background-color: white;}#sk-container-id-1 div.sk-label label {font-family: monospace;font-weight: bold;display: inline-block;line-height: 1.2em;}#sk-container-id-1 div.sk-label-container {text-align: center;}#sk-container-id-1 div.sk-container {/* jupyter's `normalize.less` sets `[hidden] { display: none; }` but bootstrap.min.css set `[hidden] { display: none !important; }` so we also need the `!important` here to be able to override the default hidden behavior on the sphinx rendered scikit-learn.org. See: https://github.com/scikit-learn/scikit-learn/issues/21755 */display: inline-block !important;position: relative;}#sk-container-id-1 div.sk-text-repr-fallback {display: none;}</style><div id=\"sk-container-id-1\" class=\"sk-top-container\"><div class=\"sk-text-repr-fallback\"><pre>LinearRegression()</pre><b>In a Jupyter environment, please rerun this cell to show the HTML representation or trust the notebook. <br />On GitHub, the HTML representation is unable to render, please try loading this page with nbviewer.org.</b></div><div class=\"sk-container\" hidden><div class=\"sk-item\"><div class=\"sk-estimator sk-toggleable\"><input class=\"sk-toggleable__control sk-hidden--visually\" id=\"sk-estimator-id-1\" type=\"checkbox\" checked><label for=\"sk-estimator-id-1\" class=\"sk-toggleable__label sk-toggleable__label-arrow\">LinearRegression</label><div class=\"sk-toggleable__content\"><pre>LinearRegression()</pre></div></div></div></div></div>"
            ],
            "text/plain": [
              "LinearRegression()"
            ]
          },
          "execution_count": 65,
          "metadata": {},
          "output_type": "execute_result"
        }
      ],
      "source": [
        "from sklearn.linear_model import LinearRegression\n",
        "\n",
        "lr = LinearRegression()\n",
        "lr.fit(datos[:,0].reshape(-1,1),datos[:,1])"
      ]
    },
    {
      "cell_type": "code",
      "execution_count": 66,
      "metadata": {
        "colab": {
          "base_uri": "https://localhost:8080/"
        },
        "id": "2mLCJZUOLHqd",
        "outputId": "dc894405-5a51-4891-8b1a-85a9403eb109"
      },
      "outputs": [
        {
          "data": {
            "text/plain": [
              "(4.851535380507342, array([0.35246996]))"
            ]
          },
          "execution_count": 66,
          "metadata": {},
          "output_type": "execute_result"
        }
      ],
      "source": [
        "lr.intercept_, lr.coef_"
      ]
    },
    {
      "cell_type": "markdown",
      "metadata": {
        "id": "wpkjwSwcLOJf"
      },
      "source": [
        "Podemos calcular el coeficiente de determinación $r^2$"
      ]
    },
    {
      "cell_type": "code",
      "execution_count": 67,
      "metadata": {
        "colab": {
          "base_uri": "https://localhost:8080/"
        },
        "id": "SIF6D5xfLKzW",
        "outputId": "f8378889-5daf-4f2e-ac5b-00445fb43d3a"
      },
      "outputs": [
        {
          "data": {
            "text/plain": [
              "0.836799185484723"
            ]
          },
          "execution_count": 67,
          "metadata": {},
          "output_type": "execute_result"
        }
      ],
      "source": [
        "lr.score(datos[:,0].reshape(-1,1),datos[:,1])"
      ]
    },
    {
      "cell_type": "markdown",
      "metadata": {
        "id": "vED3XVF-Ixv0"
      },
      "source": [
        "### Opcional: Acerca del menor consumo de memoria de numpy vs listas:"
      ]
    },
    {
      "cell_type": "code",
      "execution_count": null,
      "metadata": {
        "id": "X840vFigIxv0",
        "outputId": "df78ef4d-0e7f-4e2f-909f-a3bf2548f520"
      },
      "outputs": [
        {
          "data": {
            "text/plain": [
              "(88, 128)"
            ]
          },
          "execution_count": 5,
          "metadata": {},
          "output_type": "execute_result"
        }
      ],
      "source": [
        "import sys\n",
        "\n",
        "valores = [3,2,-3,5.5]\n",
        "arreglo = np.array(valores)\n",
        "\n",
        "sys.getsizeof(valores), sys.getsizeof(arreglo)"
      ]
    },
    {
      "cell_type": "code",
      "execution_count": null,
      "metadata": {
        "id": "8MnzhqyEIxv1",
        "outputId": "34313c82-8123-4656-ed2e-81c6da833647"
      },
      "outputs": [
        {
          "name": "stdout",
          "output_type": "stream",
          "text": [
            "size of np.array: 80000096\n",
            "size of list    : 81528048\n"
          ]
        }
      ],
      "source": [
        "import numpy as np\n",
        "import sys\n",
        "\n",
        "N = int(1e7)\n",
        "\n",
        "narray = np.zeros(N)\n",
        "mylist = []\n",
        "\n",
        "for i in range(N):\n",
        "    mylist.append(narray[i])\n",
        "\n",
        "print(\"size of np.array:\", sys.getsizeof(narray))\n",
        "print(\"size of list    :\", sys.getsizeof(mylist))"
      ]
    }
  ],
  "metadata": {
    "colab": {
      "include_colab_link": true,
      "provenance": []
    },
    "kernelspec": {
      "display_name": "Python 3",
      "name": "python3"
    },
    "language_info": {
      "codemirror_mode": {
        "name": "ipython",
        "version": 3
      },
      "file_extension": ".py",
      "mimetype": "text/x-python",
      "name": "python",
      "nbconvert_exporter": "python",
      "pygments_lexer": "ipython3",
      "version": "3.8.10"
    }
  },
  "nbformat": 4,
  "nbformat_minor": 0
}
