{
  "cells": [
    {
      "cell_type": "markdown",
      "metadata": {
        "colab_type": "text",
        "id": "view-in-github"
      },
      "source": [
        "<a href=\"https://colab.research.google.com/github/gmauricio-toledo/Curso-Python-2023/blob/main/Notebooks/06-Numpy.ipynb\" target=\"_parent\"><img src=\"https://colab.research.google.com/assets/colab-badge.svg\" alt=\"Open In Colab\"/></a>"
      ]
    },
    {
      "cell_type": "markdown",
      "metadata": {
        "id": "h2_l5ROtBwfF"
      },
      "source": [
        "<div>\n",
        "<img src=\"https://github.com/gmauricio-toledo/Curso-Python-2023/blob/main/Notebooks/img/numpy-logo.png?raw=1\" width=\"800\"/>\n",
        "</div>"
      ]
    },
    {
      "cell_type": "markdown",
      "metadata": {
        "id": "n4rmDnVtFfpJ"
      },
      "source": [
        "[NumPy](https://numpy.org/doc/stable/user/index.html#user) es el paquete fundamental para la computación científica en Python. Es una biblioteca de Python que proporciona un objeto de matriz multidimensional, varios objetos derivados y muchas rutinas para realizar operaciones rápidas con matrices, incluidas operaciones matemáticas, lógicas, de manipulación de formas, ordenación, selección, I/O, transformadas discretas de Fourier, álgebra lineal básica, operaciones estadísticas básicas, simulación aleatoria y mucho más.\n",
        "\n",
        "Además, NumPy es usado ampliamente por otros módulos importantes de Python como Pandas, Scikit learn, TensorFlow, etc.\n",
        "\n",
        "NumPy ofrece una enorme gama de formas rápidas y eficientes de crear arreglos y manipular datos numéricos dentro de ellos.\n",
        "\n",
        "Mientras que una lista Python puede contener diferentes tipos de datos dentro de una misma lista, todos los elementos de un array NumPy deben ser homogéneos. Las operaciones matemáticas que se realizan sobre arrays serían extremadamente ineficientes si los arrays no fueran homogéneos.\n",
        "\n",
        "Los arrays de NumPy son más rápidos y compactos que las listas de Python. Un array consume menos memoria y es cómodo de usar. NumPy utiliza mucha menos memoria para almacenar datos (ya que no necesita almacenar el tipo de dato de cada entrada) y proporciona un mecanismo de especificación de los tipos de datos. Esto permite optimizar aún más el código."
      ]
    },
    {
      "cell_type": "code",
      "execution_count": null,
      "metadata": {
        "id": "pAlxquVJXJBk"
      },
      "outputs": [],
      "source": [
        "import numpy"
      ]
    },
    {
      "cell_type": "markdown",
      "metadata": {
        "id": "c6KtXqDQOTHA"
      },
      "source": [
        "*Tradicionalmente* se importa con el siguiente alias"
      ]
    },
    {
      "cell_type": "code",
      "execution_count": 16,
      "metadata": {
        "id": "K-GpORpAXKMo"
      },
      "outputs": [],
      "source": [
        "import numpy as np"
      ]
    },
    {
      "cell_type": "markdown",
      "metadata": {
        "id": "_NRRl6Q9CXD5"
      },
      "source": [
        "#Inicialización de arreglos `ndarray`"
      ]
    },
    {
      "cell_type": "markdown",
      "metadata": {
        "id": "6plEOFRAYtU-"
      },
      "source": [
        "Una de las clases fundamentales y básicas de Numpy es el arreglo `numpy.array`. Este puede pensarse como un vector, matriz o tensor $n$-dimensional.\n",
        "\n",
        "* **Vectores**: Arreglos unidimensionales de tamaño (*forma*) $(n,)$.\n",
        "* **Matrices**: Arreglos bidimensionales de tamaño $(n,m)$. Son $n$ filas y $m$ columnas.\n",
        "\n",
        "Se puede definir a partir de varios métodos o a partir de una lista de python. [Detalles](https://numpy.org/doc/stable/user/basics.creation.html)"
      ]
    },
    {
      "cell_type": "markdown",
      "metadata": {
        "id": "yEqnefZqQlmd"
      },
      "source": [
        "**Ejemplo:** Definiendo un arreglo de numpy a partir de una lista de Python. Pensémoslo como un vector."
      ]
    },
    {
      "cell_type": "code",
      "execution_count": 31,
      "metadata": {
        "colab": {
          "base_uri": "https://localhost:8080/"
        },
        "id": "iwPmRCiNY9CA",
        "outputId": "c49264fc-6117-4054-89c1-382f43404599"
      },
      "outputs": [
        {
          "name": "stdout",
          "output_type": "stream",
          "text": [
            "[ 3.   2.  -3.   5.5]\n",
            "<class 'numpy.ndarray'>\n"
          ]
        }
      ],
      "source": [
        "valores = [3,2,-3,5.5]\n",
        "\n",
        "arreglo = np.array(valores)\n",
        "\n",
        "print(arreglo)\n",
        "print(type(arreglo))"
      ]
    },
    {
      "cell_type": "markdown",
      "metadata": {},
      "source": [
        "**Ejemplo:** También podemos definir arreglos bidimensionales. Penśemoslos como matrices."
      ]
    },
    {
      "cell_type": "code",
      "execution_count": null,
      "metadata": {},
      "outputs": [],
      "source": [
        "valores = [[-1,1],[0,3],[2,-1],[0.5,-3]]\n",
        "\n",
        "matriz = np.array(valores)"
      ]
    },
    {
      "cell_type": "markdown",
      "metadata": {},
      "source": [
        "### Opcional: Acerca del menor consumo de memoria de numpy vs listas:"
      ]
    },
    {
      "cell_type": "code",
      "execution_count": 5,
      "metadata": {},
      "outputs": [
        {
          "data": {
            "text/plain": [
              "(88, 128)"
            ]
          },
          "execution_count": 5,
          "metadata": {},
          "output_type": "execute_result"
        }
      ],
      "source": [
        "import sys\n",
        "\n",
        "valores = [3,2,-3,5.5]\n",
        "arreglo = np.array(valores)\n",
        "\n",
        "sys.getsizeof(valores), sys.getsizeof(arreglo)"
      ]
    },
    {
      "cell_type": "code",
      "execution_count": 15,
      "metadata": {},
      "outputs": [
        {
          "name": "stdout",
          "output_type": "stream",
          "text": [
            "size of np.array: 80000096\n",
            "size of list    : 81528048\n"
          ]
        }
      ],
      "source": [
        "import numpy as np\n",
        "import sys\n",
        "\n",
        "N = int(1e7)\n",
        "\n",
        "narray = np.zeros(N)\n",
        "mylist = []\n",
        "\n",
        "for i in range(N):\n",
        "    mylist.append(narray[i])\n",
        "\n",
        "print(\"size of np.array:\", sys.getsizeof(narray))\n",
        "print(\"size of list    :\", sys.getsizeof(mylist))"
      ]
    },
    {
      "cell_type": "markdown",
      "metadata": {
        "id": "yxhCqv9iQrD0"
      },
      "source": [
        "**Ejemplo:** Definiendo un arreglo de numpy de tamaño determinado lleno con ceros o unos."
      ]
    },
    {
      "cell_type": "code",
      "execution_count": 29,
      "metadata": {
        "colab": {
          "base_uri": "https://localhost:8080/"
        },
        "id": "r9KD3Wv4QxWl",
        "outputId": "541a0346-6819-43b8-d492-2fb8413e8470"
      },
      "outputs": [
        {
          "name": "stdout",
          "output_type": "stream",
          "text": [
            "[0. 0. 0. 0.]\n",
            "\n",
            "[[1. 1.]\n",
            " [1. 1.]\n",
            " [1. 1.]]\n"
          ]
        }
      ],
      "source": [
        "arreglo_ceros = np.zeros(shape=(4,))\n",
        "print(arreglo_ceros,end='\\n\\n')\n",
        "\n",
        "matriz_unos = np.ones(shape=(3,2))\n",
        "print(matriz_unos)"
      ]
    },
    {
      "cell_type": "markdown",
      "metadata": {},
      "source": [
        "**Ejemplo:** Definir una matriz de números aleatorios de una distribución normal\n",
        "\n",
        "[Documentación](https://numpy.org/doc/stable/reference/random/generated/numpy.random.normal.html)"
      ]
    },
    {
      "cell_type": "code",
      "execution_count": 30,
      "metadata": {},
      "outputs": [
        {
          "data": {
            "text/plain": [
              "array([[[ 0.67862785, -1.58059395,  2.42696827,  0.98893747],\n",
              "        [ 0.73614046, -0.82157055, -0.68289584,  1.23945655],\n",
              "        [ 0.30007895,  0.05940931,  0.86640305, -1.45346154]],\n",
              "\n",
              "       [[ 0.52663966, -0.22519522,  1.13076532, -0.11028401],\n",
              "        [-0.57667171, -0.84829107,  0.58123634, -1.6580248 ],\n",
              "        [ 1.63929613, -0.05786003,  0.40608557, -1.77364054]]])"
            ]
          },
          "execution_count": 30,
          "metadata": {},
          "output_type": "execute_result"
        }
      ],
      "source": [
        "# np.random.seed(55)\n",
        "\n",
        "arreglo_aleatorio = np.random.normal(size=(2,3,4))\n",
        "# arreglo_aleatorio = np.random.normal(loc=0,scale=1,size=(2,3,4))\n",
        "arreglo_aleatorio"
      ]
    },
    {
      "cell_type": "markdown",
      "metadata": {},
      "source": [
        "# Algunos métodos y atributos de los arreglos de Numpy "
      ]
    },
    {
      "cell_type": "markdown",
      "metadata": {
        "id": "E3pxYWYqZGoG"
      },
      "source": [
        "Una vez que tenemos un arreglo, podemos usar cualquiera de los métodos de un arreglo de numpy. Por ejemplo,\n",
        "\n",
        "* La forma del arreglo:"
      ]
    },
    {
      "cell_type": "code",
      "execution_count": 32,
      "metadata": {
        "colab": {
          "base_uri": "https://localhost:8080/"
        },
        "id": "K14x1rozZMEw",
        "outputId": "07088b4e-7776-4538-a5bc-8c07ea00e724"
      },
      "outputs": [
        {
          "name": "stdout",
          "output_type": "stream",
          "text": [
            "(4,)\n",
            "(3, 2)\n",
            "(2, 3, 4)\n"
          ]
        }
      ],
      "source": [
        "print(arreglo.shape)\n",
        "print(matriz_unos.shape)\n",
        "print(arreglo_aleatorio.shape)"
      ]
    },
    {
      "cell_type": "markdown",
      "metadata": {},
      "source": [
        "**Son tuplas**. Por lo tanto, podemos hacer:"
      ]
    },
    {
      "cell_type": "code",
      "execution_count": 36,
      "metadata": {},
      "outputs": [
        {
          "name": "stdout",
          "output_type": "stream",
          "text": [
            "Tenemos 2 columnas en la matriz de 1's\n"
          ]
        }
      ],
      "source": [
        "print(f\"Tenemos {matriz_unos.shape[1]} columnas en la matriz de 1's\")"
      ]
    },
    {
      "cell_type": "markdown",
      "metadata": {
        "id": "EGyNm14KZTBy"
      },
      "source": [
        "* El número de dimensiones del arreglo"
      ]
    },
    {
      "cell_type": "code",
      "execution_count": 33,
      "metadata": {
        "colab": {
          "base_uri": "https://localhost:8080/"
        },
        "id": "A3HkW-kfZPA1",
        "outputId": "9d5dec73-7664-47f2-fbae-4ab74f0cbfa1"
      },
      "outputs": [
        {
          "name": "stdout",
          "output_type": "stream",
          "text": [
            "1\n",
            "2\n",
            "3\n"
          ]
        }
      ],
      "source": [
        "print(arreglo.ndim)\n",
        "print(matriz_unos.ndim)\n",
        "print(arreglo_aleatorio.ndim)"
      ]
    },
    {
      "cell_type": "markdown",
      "metadata": {},
      "source": [
        "## Métodos de los arreglos"
      ]
    },
    {
      "cell_type": "markdown",
      "metadata": {},
      "source": [
        "Podemos cambiar la forma de un arreglo usando el método `reshape`"
      ]
    },
    {
      "cell_type": "code",
      "execution_count": 82,
      "metadata": {},
      "outputs": [
        {
          "name": "stdout",
          "output_type": "stream",
          "text": [
            "[ 0  1  2  3  4  5  6  7  8  9 10 11]\n",
            "[[ 0  1  2  3]\n",
            " [ 4  5  6  7]\n",
            " [ 8  9 10 11]]\n"
          ]
        }
      ],
      "source": [
        "v = np.array(list(range(12)))\n",
        "print(v)\n",
        "\n",
        "w = v.reshape(3,4)\n",
        "print(w) "
      ]
    },
    {
      "cell_type": "code",
      "execution_count": 85,
      "metadata": {},
      "outputs": [
        {
          "name": "stdout",
          "output_type": "stream",
          "text": [
            "[[ 0  1  2  3]\n",
            " [ 4  5  6  7]\n",
            " [ 8  9 10 11]]\n"
          ]
        }
      ],
      "source": [
        "w = v.reshape(3,-1)\n",
        "print(w)"
      ]
    },
    {
      "cell_type": "markdown",
      "metadata": {},
      "source": [
        "Cambiemos el vector a un vector columna:"
      ]
    },
    {
      "cell_type": "code",
      "execution_count": 87,
      "metadata": {},
      "outputs": [
        {
          "data": {
            "text/plain": [
              "array([[ 0],\n",
              "       [ 1],\n",
              "       [ 2],\n",
              "       [ 3],\n",
              "       [ 4],\n",
              "       [ 5],\n",
              "       [ 6],\n",
              "       [ 7],\n",
              "       [ 8],\n",
              "       [ 9],\n",
              "       [10],\n",
              "       [11]])"
            ]
          },
          "execution_count": 87,
          "metadata": {},
          "output_type": "execute_result"
        }
      ],
      "source": [
        "w = v.reshape(-1,1)\n",
        "w"
      ]
    },
    {
      "cell_type": "markdown",
      "metadata": {},
      "source": [
        "El método `transpose()` transpone la matriz"
      ]
    },
    {
      "cell_type": "code",
      "execution_count": 86,
      "metadata": {},
      "outputs": [
        {
          "data": {
            "text/plain": [
              "array([[ 0,  4,  8],\n",
              "       [ 1,  5,  9],\n",
              "       [ 2,  6, 10],\n",
              "       [ 3,  7, 11]])"
            ]
          },
          "execution_count": 86,
          "metadata": {},
          "output_type": "execute_result"
        }
      ],
      "source": [
        "w.transpose()"
      ]
    },
    {
      "cell_type": "markdown",
      "metadata": {
        "id": "h1TB43BcuWCp"
      },
      "source": [
        "# Indexación\n",
        "\n",
        "Podemos acceder a los valores individuales del arreglo, renglones o filas.\n",
        "\n",
        "**Recordar que en python indexamos las secuencias como $0,1,2,...$ en lugar de $1,2,3,...$**"
      ]
    },
    {
      "cell_type": "code",
      "execution_count": 91,
      "metadata": {},
      "outputs": [
        {
          "data": {
            "text/plain": [
              "array([[-1. ,  1. ],\n",
              "       [ 0. ,  3. ],\n",
              "       [ 2. , -1. ],\n",
              "       [ 0.5, -3. ]])"
            ]
          },
          "execution_count": 91,
          "metadata": {},
          "output_type": "execute_result"
        }
      ],
      "source": [
        "matriz = np.array([[-1,1],[0,3],[2,-1],[0.5,-3]])\n",
        "matriz"
      ]
    },
    {
      "cell_type": "code",
      "execution_count": 40,
      "metadata": {
        "colab": {
          "base_uri": "https://localhost:8080/"
        },
        "id": "DYNfwPqtuVG-",
        "outputId": "945bd0f2-061f-44ad-b854-8cd6f0c85408"
      },
      "outputs": [
        {
          "name": "stdout",
          "output_type": "stream",
          "text": [
            "Elemento (2,1): 0.0\n",
            "Elemento en la segunda fila y última columna: 3.0\n",
            "Renglón segundo: [0. 3.]\n",
            "Columna primera: [-1.   0.   2.   0.5]\n"
          ]
        }
      ],
      "source": [
        "entrada = matriz[1,0]\n",
        "print(f\"Elemento (2,1): {entrada}\")\n",
        "\n",
        "entrada = matriz[1,-1]\n",
        "print(f\"Elemento en la segunda fila y última columna: {entrada}\")\n",
        "\n",
        "renglon = matriz[1]\n",
        "renglon = matriz[1,:]\n",
        "print(f\"Renglón segundo: {renglon}\")\n",
        "\n",
        "columna = matriz[:,0]\n",
        "print(f\"Columna primera: {columna}\")"
      ]
    },
    {
      "cell_type": "markdown",
      "metadata": {},
      "source": [
        "La siguiente técnica se llama **slicing**. En este caso, extraemos la submatriz compuesta por el segundo y tercer renglón, segunda y tercer columna. "
      ]
    },
    {
      "cell_type": "code",
      "execution_count": 94,
      "metadata": {},
      "outputs": [
        {
          "name": "stdout",
          "output_type": "stream",
          "text": [
            "[[ 0  1  2  3]\n",
            " [ 4  5  6  7]\n",
            " [ 8  9 10 11]]\n"
          ]
        },
        {
          "data": {
            "text/plain": [
              "array([[ 5,  6],\n",
              "       [ 9, 10]])"
            ]
          },
          "execution_count": 94,
          "metadata": {},
          "output_type": "execute_result"
        }
      ],
      "source": [
        "A = np.array(list(range(12))).reshape(3,4)\n",
        "print(A)\n",
        "\n",
        "A[1:,1:-1]"
      ]
    },
    {
      "cell_type": "markdown",
      "metadata": {},
      "source": [
        "**¡Precaución!** Cuando hacemos un slicing de un arreglo y queremos modificarlo, hay que tener en cuenta que esto modifica el arreglo original del cual se hizo el slicing. Para evitar esto, se hace una copia."
      ]
    },
    {
      "cell_type": "code",
      "execution_count": 95,
      "metadata": {},
      "outputs": [
        {
          "name": "stdout",
          "output_type": "stream",
          "text": [
            "[[ 0  1  2  3]\n",
            " [ 4  5  6  7]\n",
            " [ 8  9 10 11]]\n",
            "[[ 0  1  2  3]\n",
            " [ 4  8  9  7]\n",
            " [ 8 12 13 11]]\n"
          ]
        }
      ],
      "source": [
        "print(A)\n",
        "\n",
        "A0 = A[1:,1:-1]\n",
        "A0 += 3\n",
        "\n",
        "print(A)"
      ]
    },
    {
      "cell_type": "code",
      "execution_count": 96,
      "metadata": {},
      "outputs": [
        {
          "name": "stdout",
          "output_type": "stream",
          "text": [
            "[[ 0  1  2  3]\n",
            " [ 4  5  6  7]\n",
            " [ 8  9 10 11]]\n",
            "[[ 8  9]\n",
            " [12 13]]\n",
            "[[ 0  1  2  3]\n",
            " [ 4  5  6  7]\n",
            " [ 8  9 10 11]]\n"
          ]
        }
      ],
      "source": [
        "A = np.array(list(range(12))).reshape(3,4)\n",
        "print(A)\n",
        "\n",
        "A0 = A[1:,1:-1].copy()\n",
        "A0 += 3\n",
        "\n",
        "print(A0)\n",
        "print(A)"
      ]
    },
    {
      "cell_type": "markdown",
      "metadata": {},
      "source": [
        "## Mascaras"
      ]
    },
    {
      "cell_type": "code",
      "execution_count": 134,
      "metadata": {},
      "outputs": [
        {
          "name": "stdout",
          "output_type": "stream",
          "text": [
            "[[ 0  1  2  3]\n",
            " [ 4  5  6  7]\n",
            " [ 8  9 10 11]]\n"
          ]
        }
      ],
      "source": [
        "A = np.array(list(range(12))).reshape(3,4)\n",
        "print(A)"
      ]
    },
    {
      "cell_type": "markdown",
      "metadata": {},
      "source": [
        "Una **mascara** es un arreglo de booleanos que índica si una entrada de un arreglo satisface una condición."
      ]
    },
    {
      "cell_type": "code",
      "execution_count": 130,
      "metadata": {},
      "outputs": [
        {
          "data": {
            "text/plain": [
              "array([[False, False, False, False],\n",
              "       [False,  True,  True,  True],\n",
              "       [ True,  True,  True,  True]])"
            ]
          },
          "execution_count": 130,
          "metadata": {},
          "output_type": "execute_result"
        }
      ],
      "source": [
        "A>4"
      ]
    },
    {
      "cell_type": "markdown",
      "metadata": {},
      "source": [
        "Las mascaras son útiles para operar sobre partes de arreglos que satisfacen alguna condición"
      ]
    },
    {
      "cell_type": "code",
      "execution_count": 131,
      "metadata": {},
      "outputs": [
        {
          "name": "stdout",
          "output_type": "stream",
          "text": [
            "[[ 0  1  2  3]\n",
            " [ 4 -1 -1 -1]\n",
            " [-1 -1 -1 -1]]\n"
          ]
        }
      ],
      "source": [
        "A[A>4]=-1\n",
        "print(A)"
      ]
    },
    {
      "cell_type": "markdown",
      "metadata": {},
      "source": [
        "¿Qué entradas del arreglo son múltiplos de 3?"
      ]
    },
    {
      "cell_type": "code",
      "execution_count": 137,
      "metadata": {},
      "outputs": [
        {
          "name": "stdout",
          "output_type": "stream",
          "text": [
            "[[ 0  1  2  3]\n",
            " [ 4  5  6  7]\n",
            " [ 8  9 10 11]]\n"
          ]
        },
        {
          "data": {
            "text/plain": [
              "array([[ True, False, False,  True],\n",
              "       [False, False,  True, False],\n",
              "       [False,  True, False, False]])"
            ]
          },
          "execution_count": 137,
          "metadata": {},
          "output_type": "execute_result"
        }
      ],
      "source": [
        "A = np.array(list(range(12))).reshape(3,4)\n",
        "print(A)\n",
        "\n",
        "A%3==0"
      ]
    },
    {
      "cell_type": "markdown",
      "metadata": {},
      "source": [
        "Estas entradas que sean múltiplos de 3, multipliquemoslas por 5:"
      ]
    },
    {
      "cell_type": "code",
      "execution_count": 138,
      "metadata": {},
      "outputs": [
        {
          "name": "stdout",
          "output_type": "stream",
          "text": [
            "[[ 0  1  2 15]\n",
            " [ 4  5 30  7]\n",
            " [ 8 45 10 11]]\n"
          ]
        }
      ],
      "source": [
        "A[A%3==0] *= 5\n",
        "print(A)"
      ]
    },
    {
      "cell_type": "markdown",
      "metadata": {},
      "source": [
        "# Aritmética en Numpy (Vectorización)"
      ]
    },
    {
      "cell_type": "markdown",
      "metadata": {},
      "source": [
        "Consideremos los vectores siguientes:"
      ]
    },
    {
      "cell_type": "code",
      "execution_count": 43,
      "metadata": {},
      "outputs": [],
      "source": [
        "v = np.array([-1,2,0,1,5,4])\n",
        "w = np.array([3,1,-2,5,-9,-3])"
      ]
    },
    {
      "cell_type": "markdown",
      "metadata": {},
      "source": [
        "Un ejemplo más grande:"
      ]
    },
    {
      "cell_type": "code",
      "execution_count": 49,
      "metadata": {},
      "outputs": [
        {
          "name": "stdout",
          "output_type": "stream",
          "text": [
            "[0.96253767 0.72003781 0.0900582  0.39528106 0.31393015]\n",
            "[0.53925356 0.39193704 0.15014716 0.80323829 0.17361649]\n"
          ]
        }
      ],
      "source": [
        "# v = np.random.uniform(size=(10000,))\n",
        "# w = np.random.uniform(size=(10000,))\n",
        "\n",
        "# print(v[:5])\n",
        "# print(w[:5])"
      ]
    },
    {
      "cell_type": "markdown",
      "metadata": {},
      "source": [
        "¿Cómo sumaríamos dos vectores? "
      ]
    },
    {
      "cell_type": "code",
      "execution_count": 55,
      "metadata": {},
      "outputs": [
        {
          "name": "stdout",
          "output_type": "stream",
          "text": [
            "Duración 0.00754547119140625\n",
            "[1.50179123 1.11197485 0.24020537 ... 0.51203559 1.33850677 0.21153766]\n"
          ]
        }
      ],
      "source": [
        "import time \n",
        "\n",
        "suma = np.zeros_like(v)\n",
        "inicio = time.time()\n",
        "for j in range(v.shape[0]):\n",
        "    suma[j] = v[j]+w[j]\n",
        "final = time.time()\n",
        "print(f\"Duración: {final-inicio} segundos\")\n",
        "print(suma)"
      ]
    },
    {
      "cell_type": "markdown",
      "metadata": {},
      "source": [
        "Otra manera, usando la función `enumerate`:"
      ]
    },
    {
      "cell_type": "code",
      "execution_count": 54,
      "metadata": {},
      "outputs": [
        {
          "name": "stdout",
          "output_type": "stream",
          "text": [
            "0 0.9625376706596243 0.5392535630520363\n",
            "1 0.7200378128544731 0.3919370378277848\n",
            "2 0.09005820299173217 0.15014716242627235\n",
            "[1.50179123 1.11197485 0.24020537 ... 0.51203559 1.33850677 0.21153766]\n"
          ]
        }
      ],
      "source": [
        "suma = np.zeros_like(v)\n",
        "\n",
        "for j,(vi,wi) in enumerate(zip(v,w)):\n",
        "    if j <= 2:\n",
        "        print(j,vi,wi)\n",
        "    suma[j] = vi+wi\n",
        "print(suma)"
      ]
    },
    {
      "cell_type": "markdown",
      "metadata": {
        "id": "rwKow1hG9CLB"
      },
      "source": [
        "Usando vectorización de Numpy:"
      ]
    },
    {
      "cell_type": "code",
      "execution_count": 56,
      "metadata": {
        "id": "eMxh2ni6FoWx"
      },
      "outputs": [
        {
          "name": "stdout",
          "output_type": "stream",
          "text": [
            "Duración 0.0002486705780029297\n",
            "[1.50179123 1.11197485 0.24020537 ... 0.51203559 1.33850677 0.21153766]\n"
          ]
        }
      ],
      "source": [
        "import time \n",
        "\n",
        "inicio = time.time()\n",
        "suma = v+w\n",
        "final = time.time()\n",
        "print(f\"Duración: {final-inicio} segundos\")\n",
        "print(suma)"
      ]
    },
    {
      "cell_type": "markdown",
      "metadata": {},
      "source": [
        "**Ejemplos:** Realizar una operación, coordenada a coordenada, con cada entrada de un vector o una matriz"
      ]
    },
    {
      "cell_type": "code",
      "execution_count": 57,
      "metadata": {},
      "outputs": [],
      "source": [
        "v = np.array([-1,2,0,1,5,4])\n",
        "w = np.array([3,1,-2,5,-9,-3])"
      ]
    },
    {
      "cell_type": "code",
      "execution_count": 58,
      "metadata": {},
      "outputs": [
        {
          "data": {
            "text/plain": [
              "array([0, 3, 1, 2, 6, 5])"
            ]
          },
          "execution_count": 58,
          "metadata": {},
          "output_type": "execute_result"
        }
      ],
      "source": [
        "v+1"
      ]
    },
    {
      "cell_type": "code",
      "execution_count": 59,
      "metadata": {},
      "outputs": [
        {
          "data": {
            "text/plain": [
              "array([-3,  6,  0,  3, 15, 12])"
            ]
          },
          "execution_count": 59,
          "metadata": {},
          "output_type": "execute_result"
        }
      ],
      "source": [
        "v*3"
      ]
    },
    {
      "cell_type": "code",
      "execution_count": 60,
      "metadata": {},
      "outputs": [
        {
          "data": {
            "text/plain": [
              "array([ 1,  4,  0,  1, 25, 16])"
            ]
          },
          "execution_count": 60,
          "metadata": {},
          "output_type": "execute_result"
        }
      ],
      "source": [
        "v**2"
      ]
    },
    {
      "cell_type": "code",
      "execution_count": 69,
      "metadata": {},
      "outputs": [
        {
          "data": {
            "text/plain": [
              "array([-0.33333333,  2.        , -0.        ,  0.2       , -0.55555556,\n",
              "       -1.33333333])"
            ]
          },
          "execution_count": 69,
          "metadata": {},
          "output_type": "execute_result"
        }
      ],
      "source": [
        "v/w"
      ]
    },
    {
      "cell_type": "code",
      "execution_count": 62,
      "metadata": {},
      "outputs": [
        {
          "data": {
            "text/plain": [
              "array([     -1,       2,       0,       1, 1953125,      64])"
            ]
          },
          "execution_count": 62,
          "metadata": {},
          "output_type": "execute_result"
        }
      ],
      "source": [
        "v**np.abs(w)"
      ]
    },
    {
      "cell_type": "code",
      "execution_count": 63,
      "metadata": {},
      "outputs": [
        {
          "data": {
            "text/plain": [
              "array([1.        , 1.41421356, 0.        , 1.        , 2.23606798,\n",
              "       2.        ])"
            ]
          },
          "execution_count": 63,
          "metadata": {},
          "output_type": "execute_result"
        }
      ],
      "source": [
        "np.sqrt(np.abs(v))"
      ]
    },
    {
      "cell_type": "markdown",
      "metadata": {},
      "source": [
        "Observar lo que ocurre si usamos la implementación de la raíz cuadrada del módulo `math`:"
      ]
    },
    {
      "cell_type": "code",
      "execution_count": null,
      "metadata": {},
      "outputs": [],
      "source": [
        "from math import sqrt\n",
        "\n",
        "sqrt(np.abs(v))"
      ]
    },
    {
      "cell_type": "code",
      "execution_count": 65,
      "metadata": {},
      "outputs": [
        {
          "data": {
            "text/plain": [
              "-53"
            ]
          },
          "execution_count": 65,
          "metadata": {},
          "output_type": "execute_result"
        }
      ],
      "source": [
        "np.sum(v*w)"
      ]
    },
    {
      "cell_type": "markdown",
      "metadata": {},
      "source": [
        "# Funciones de Numpy\n",
        "\n",
        "Numpy tiene también funciones que operan sobre arreglos"
      ]
    },
    {
      "cell_type": "code",
      "execution_count": 107,
      "metadata": {},
      "outputs": [
        {
          "name": "stdout",
          "output_type": "stream",
          "text": [
            "[-1  2  0  1  5  4]\n"
          ]
        }
      ],
      "source": [
        "v = np.array([-1,2,0,1,5,4])\n",
        "print(v)"
      ]
    },
    {
      "cell_type": "markdown",
      "metadata": {},
      "source": [
        "Promedio, suma, máximos y mínimos"
      ]
    },
    {
      "cell_type": "code",
      "execution_count": 108,
      "metadata": {},
      "outputs": [
        {
          "name": "stdout",
          "output_type": "stream",
          "text": [
            "La suma de todos los elementos de v es 11\n",
            "El promedio de todos los elementos de v es 1.8333333333333333\n",
            "El máximo del arreglo es 5\n",
            "El máximo del arreglo se alcanza en el índice 4\n",
            "El mínimo del arreglo es -1\n",
            "El máximo del arreglo se alcanza en el mínimo 0\n"
          ]
        }
      ],
      "source": [
        "print(f\"La suma de todos los elementos de v es {np.sum(v)}\")\n",
        "print(f\"El promedio de todos los elementos de v es {np.mean(v)}\")\n",
        "print(f\"El máximo del arreglo es {np.max(v)}\")\n",
        "print(f\"El máximo del arreglo se alcanza en el índice {np.argmax(v)}\")\n",
        "print(f\"El mínimo del arreglo es {np.min(v)}\")\n",
        "print(f\"El máximo del arreglo se alcanza en el mínimo {np.argmin(v)}\")"
      ]
    },
    {
      "cell_type": "markdown",
      "metadata": {},
      "source": [
        "Ahora, en matrices:"
      ]
    },
    {
      "cell_type": "code",
      "execution_count": 105,
      "metadata": {},
      "outputs": [
        {
          "name": "stdout",
          "output_type": "stream",
          "text": [
            "[[ 0  1  2  3]\n",
            " [ 4  5  6  7]\n",
            " [ 8  9 10 11]]\n"
          ]
        }
      ],
      "source": [
        "A = np.array(list(range(12))).reshape(3,4)\n",
        "print(A)"
      ]
    },
    {
      "cell_type": "code",
      "execution_count": 110,
      "metadata": {},
      "outputs": [
        {
          "name": "stdout",
          "output_type": "stream",
          "text": [
            "La suma de todos los elementos de A es 66\n",
            "El promedio de todos los elementos de A es 5.5\n",
            "El máximo del arreglo es 11\n",
            "El máximo del arreglo se alcanza en el índice 11\n",
            "El mínimo del arreglo es 0\n",
            "El máximo del arreglo se alcanza en el mínimo 0\n"
          ]
        }
      ],
      "source": [
        "print(f\"La suma de todos los elementos de A es {np.sum(A)}\")\n",
        "print(f\"El promedio de todos los elementos de A es {np.mean(A)}\")\n",
        "print(f\"El máximo del arreglo es {np.max(A)}\")\n",
        "print(f\"El máximo del arreglo se alcanza en el índice {np.argmax(A)}\")\n",
        "print(f\"El mínimo del arreglo es {np.min(A)}\")\n",
        "print(f\"El máximo del arreglo se alcanza en el mínimo {np.argmin(A)}\")"
      ]
    },
    {
      "cell_type": "markdown",
      "metadata": {},
      "source": [
        "**Las operaciones se están haciendo sobre la matriz aplanada.** Si queremos que se por renglones o filas, hacemos: "
      ]
    },
    {
      "cell_type": "code",
      "execution_count": 113,
      "metadata": {},
      "outputs": [
        {
          "name": "stdout",
          "output_type": "stream",
          "text": [
            "[[ 0  1  2  3]\n",
            " [ 4  5  6  7]\n",
            " [ 8  9 10 11]]\n"
          ]
        }
      ],
      "source": [
        "print(A)"
      ]
    },
    {
      "cell_type": "code",
      "execution_count": 119,
      "metadata": {},
      "outputs": [
        {
          "name": "stdout",
          "output_type": "stream",
          "text": [
            "La suma de todos los elementos de A, por columna, es [12 15 18 21]\n",
            "La suma de todos los elementos de A, por fila, es [ 6 22 38]\n",
            "\n",
            "El promedio de todos los elementos de A, por columna, es [4. 5. 6. 7.]\n",
            "El promedio de todos los elementos de A, por fila, es [1.5 5.5 9.5]\n",
            "\n",
            "El máximo del arreglo, por columna, es [ 8  9 10 11]\n",
            "El máximo del arreglo, por fila, es [ 3  7 11]\n",
            "\n",
            "El máximo del arreglo, por columna, se alcanza en los índices [2 2 2 2] de las filas\n",
            "El máximo del arreglo, por fila, se alcanza en los índices [3 3 3] de las columnas\n",
            "\n"
          ]
        }
      ],
      "source": [
        "print(f\"La suma de todos los elementos de A, por columna, es {np.sum(A,axis=0)}\") # Desaparecemos el axis=0 (filas)\n",
        "print(f\"La suma de todos los elementos de A, por fila, es {np.sum(A,axis=1)}\\n\") # Desaparecemos el axis=1 (columnas)\n",
        "print(f\"El promedio de todos los elementos de A, por columna, es {np.mean(A,axis=0)}\")\n",
        "print(f\"El promedio de todos los elementos de A, por fila, es {np.mean(A,axis=1)}\\n\")\n",
        "print(f\"El máximo del arreglo, por columna, es {np.max(A,axis=0)}\")\n",
        "print(f\"El máximo del arreglo, por fila, es {np.max(A,axis=1)}\\n\")\n",
        "print(f\"El máximo del arreglo, por columna, se alcanza en los índices {np.argmax(A,axis=0)} de las filas\")\n",
        "print(f\"El máximo del arreglo, por fila, se alcanza en los índices {np.argmax(A,axis=1)} de las columnas\\n\")"
      ]
    },
    {
      "cell_type": "markdown",
      "metadata": {
        "id": "b4piqB7WWcQv"
      },
      "source": [
        "## Ejemplo 1: Calcular errores"
      ]
    },
    {
      "cell_type": "markdown",
      "metadata": {
        "id": "JZyUphKihxHT"
      },
      "source": [
        "Definimos una función para calcular el error absoluto entre un valor real y una aproximación a este valor"
      ]
    },
    {
      "cell_type": "code",
      "execution_count": 66,
      "metadata": {
        "id": "qi6xeywGUQ2E"
      },
      "outputs": [],
      "source": [
        "import numpy as np\n",
        "\n",
        "def error_absoluto(real, aproximacion):\n",
        "    return np.abs(real-aproximacion)\n",
        "\n",
        "def error_relativo(real, aproximacion):\n",
        "    '''\n",
        "    Implementar la función\n",
        "    '''\n",
        "    pass  # instrucción para \"dejar en blanco\" el cuerpo de una función"
      ]
    },
    {
      "cell_type": "markdown",
      "metadata": {
        "id": "LRx9klXwh8-y"
      },
      "source": [
        "Como ejemplo, consideremos el siguiente valor real y una secuencia de aproximaciones a dicho valor real"
      ]
    },
    {
      "cell_type": "code",
      "execution_count": 67,
      "metadata": {
        "id": "xMDjPgIEWoR8"
      },
      "outputs": [],
      "source": [
        "valor_real = 4.5\n",
        "\n",
        "aproximaciones = [2.5, 2.7, 3.1, 3.6, 3.9, 4.2, 4.6, 4.55]"
      ]
    },
    {
      "cell_type": "markdown",
      "metadata": {
        "id": "0_OLoCf5iDqy"
      },
      "source": [
        "Usando un ciclo `for` calculamos e imprimimos el error absoluto entre cada valor de la secuencia y el valor real"
      ]
    },
    {
      "cell_type": "code",
      "execution_count": 68,
      "metadata": {
        "id": "09bdXtsvYP9G"
      },
      "outputs": [
        {
          "name": "stdout",
          "output_type": "stream",
          "text": [
            "Error absoluto: 2.0\n",
            "Error absoluto: 1.7999999999999998\n",
            "Error absoluto: 1.4\n",
            "Error absoluto: 0.8999999999999999\n",
            "Error absoluto: 0.6000000000000001\n",
            "Error absoluto: 0.2999999999999998\n",
            "Error absoluto: 0.09999999999999964\n",
            "Error absoluto: 0.04999999999999982\n"
          ]
        }
      ],
      "source": [
        "for aprox in aproximaciones:\n",
        "    print(f\"Error absoluto: {error_absoluto(valor_real,aprox)}\")\n",
        "    # print(f\"Error absoluto: {round(error_absoluto(valor_real,aprox),3)}\")"
      ]
    },
    {
      "cell_type": "markdown",
      "metadata": {
        "id": "ejCKplCZhYhv"
      },
      "source": [
        "Usando numpy podemos simplificar el proceso anterior y hacerlo más rápido. Esta es una de muchas ventajas de Numpy."
      ]
    },
    {
      "cell_type": "code",
      "execution_count": 70,
      "metadata": {
        "colab": {
          "base_uri": "https://localhost:8080/"
        },
        "id": "LDyAQ4U-YbVh",
        "outputId": "4216fda8-a86d-446a-9cb5-62fe464ac4f5"
      },
      "outputs": [
        {
          "data": {
            "text/plain": [
              "array([2.  , 1.8 , 1.4 , 0.9 , 0.6 , 0.3 , 0.1 , 0.05])"
            ]
          },
          "execution_count": 70,
          "metadata": {},
          "output_type": "execute_result"
        }
      ],
      "source": [
        "aproximaciones = np.array(aproximaciones)\n",
        "\n",
        "error_absoluto(valor_real, aproximaciones)"
      ]
    },
    {
      "cell_type": "markdown",
      "metadata": {
        "id": "A6qtZ0ycWvFw"
      },
      "source": [
        "## Ejemplo 2: Regresión Lineal"
      ]
    },
    {
      "cell_type": "markdown",
      "metadata": {
        "id": "lm734fF-X8f6"
      },
      "source": [
        "Implementaremos una función que realice la regresión lineal de un conjunto de datos. Lo haremos de dos maneras:\n",
        "\n",
        "1. Usando una implementación clásica, con ciclos.\n",
        "2. Usando vectorización de Numpy."
      ]
    },
    {
      "cell_type": "markdown",
      "metadata": {},
      "source": [
        "La función regresará la pendiente y la ordenada al origen de la recta que mejor aproxima (por mínimos cuadrados) a los datos. Estos dos números están determinados por\n",
        "\n",
        "$$m=\\frac{n\\sum x_iy_i-\\sum x_i \\sum y_i}{n\\sum x_i^2-(\\sum x_i)^2}$$\n",
        "\n",
        "$$b=\\overline{y} - m \\overline{x}$$\n",
        "\n",
        "donde $\\overline{y}$, $\\overline{x}$ son los promedios de las coordenadas $y_i,x_i$ respectivamente. Los datos están dados por \n",
        "\n",
        "$$\n",
        "\\begin{array}{cc}\n",
        "x_1 & y_1 \\\\\n",
        "x_2 & y_2 \\\\\n",
        "\\cdots & \\cdots \\\\\n",
        "x_n & y_n\n",
        "\\end{array}\n",
        "$$\n",
        "\n",
        "**Observar que, en esta implementación, no estamos calculamos el coeficiente de determinación u otras métricas de rendimiento**"
      ]
    },
    {
      "cell_type": "markdown",
      "metadata": {
        "id": "DuwXlMJlYXAk"
      },
      "source": [
        "1. Usando ciclos"
      ]
    },
    {
      "cell_type": "code",
      "execution_count": 71,
      "metadata": {
        "id": "8rwb1LIaWxxi"
      },
      "outputs": [],
      "source": [
        "def regresion_lineal(datos, report=False):\n",
        "    n = datos.shape[0]\n",
        "    #--- calculamos los promedios\n",
        "    sum_x = 0\n",
        "    for x in datos[:,0]:\n",
        "        sum_x += x\n",
        "    x_prom = sum_x/n\n",
        "    sum_y = 0\n",
        "    for x in datos[:,1]:\n",
        "        sum_y += x\n",
        "    y_prom = sum_y/n\n",
        "    sum_xy = np.sum(datos[:,0]*datos[:,1])\n",
        "    sum_x_2s = np.sum(datos[:,0]*datos[:,0])\n",
        "    if report:\n",
        "        print(f\"x_prom = {x_prom},\\ny_prom = {y_prom},\\nsum_xy = {sum_xy},\\nsum_x_2s = {sum_x_2s},\\nsum_x = {sum_x},\\nsum_y = {sum_y}\")\n",
        "    a_1 = (n*sum_xy - sum_x*sum_y)/(n*sum_x_2s - sum_x**2)\n",
        "    a_0 = y_prom - a_1*x_prom\n",
        "    print(f\"Pendiente: {a_1}, Intercepto: {a_0}\")\n",
        "    return (a_0,a_1)"
      ]
    },
    {
      "cell_type": "markdown",
      "metadata": {
        "id": "vYpdn5cWYYBJ"
      },
      "source": [
        "2. Usando vectorización de Numpy"
      ]
    },
    {
      "cell_type": "code",
      "execution_count": 72,
      "metadata": {
        "id": "Bxo60sd7YYem"
      },
      "outputs": [],
      "source": [
        "import numpy as np\n",
        "\n",
        "def regresion_lineal_vectorizada(datos, report=False):\n",
        "    n = datos.shape[0]\n",
        "    x_prom = np.mean(datos,axis=0)[0]\n",
        "    y_prom = np.mean(datos,axis=0)[1]\n",
        "    sum_xy = np.sum(datos[:,0]*datos[:,1])\n",
        "    sum_x_2s = np.sum(datos[:,0]*datos[:,0])\n",
        "    sum_x = np.sum(datos[:,0])\n",
        "    sum_y = np.sum(datos[:,1])\n",
        "    if report:\n",
        "        print(f\"x_prom = {x_prom},\\ny_prom = {y_prom},\\nsum_xy = {sum_xy},\\nsum_x_2s = {sum_x_2s},\\nsum_x = {sum_x},\\nsum_y = {sum_y}\")\n",
        "    a_1 = (n*sum_xy - sum_x*sum_y)/(n*sum_x_2s - sum_x**2)\n",
        "    a_0 = y_prom - a_1*x_prom\n",
        "    print(f\"Pendiente: {a_1}, Intercepto: {a_0}\")\n",
        "    return (a_0,a_1)"
      ]
    },
    {
      "cell_type": "markdown",
      "metadata": {
        "id": "8psMS09hZMu2"
      },
      "source": [
        "Probemos con un ejemplo"
      ]
    },
    {
      "cell_type": "code",
      "execution_count": 73,
      "metadata": {
        "colab": {
          "base_uri": "https://localhost:8080/"
        },
        "id": "x4ZamQg8ZFuW",
        "outputId": "70c41c44-3230-436c-8832-c5d5e176bf87"
      },
      "outputs": [
        {
          "name": "stdout",
          "output_type": "stream",
          "text": [
            "[[ 0  5]\n",
            " [ 2  6]\n",
            " [ 4  7]\n",
            " [ 6  6]\n",
            " [ 9  9]\n",
            " [11  8]\n",
            " [12  7]\n",
            " [15 10]\n",
            " [17 12]\n",
            " [19 12]]\n"
          ]
        }
      ],
      "source": [
        "datos = np.array([[0,2,4,6,9,11,12,15,17,19],[5,6,7,6,9,8,7,10,12,12]]).transpose()\n",
        "print(datos)"
      ]
    },
    {
      "cell_type": "code",
      "execution_count": 78,
      "metadata": {
        "colab": {
          "base_uri": "https://localhost:8080/"
        },
        "id": "SFbw3XwYZMaF",
        "outputId": "9c48d457-da77-4e7e-93f5-716e1e694481"
      },
      "outputs": [
        {
          "name": "stdout",
          "output_type": "stream",
          "text": [
            "Pendiente: 0.35246995994659547, Intercepto: 4.851535380507342\n"
          ]
        },
        {
          "data": {
            "text/plain": [
              "(4.851535380507342, 0.35246995994659547)"
            ]
          },
          "execution_count": 78,
          "metadata": {},
          "output_type": "execute_result"
        }
      ],
      "source": [
        "regresion_lineal(datos)"
      ]
    },
    {
      "cell_type": "code",
      "execution_count": 79,
      "metadata": {
        "colab": {
          "base_uri": "https://localhost:8080/"
        },
        "id": "8712K4SBZSWQ",
        "outputId": "e3f417a9-7ec8-417e-e280-efa40790b145"
      },
      "outputs": [
        {
          "name": "stdout",
          "output_type": "stream",
          "text": [
            "Pendiente: 0.35246995994659547, Intercepto: 4.851535380507342\n"
          ]
        },
        {
          "data": {
            "text/plain": [
              "(4.851535380507342, 0.35246995994659547)"
            ]
          },
          "execution_count": 79,
          "metadata": {},
          "output_type": "execute_result"
        }
      ],
      "source": [
        "regresion_lineal_vectorizada(datos)"
      ]
    },
    {
      "cell_type": "markdown",
      "metadata": {},
      "source": [
        "Podríamos graficar estas rectas y datos, esto lo haremos en la siguiente sesión"
      ]
    },
    {
      "cell_type": "code",
      "execution_count": null,
      "metadata": {
        "id": "ktxecxUNblfG"
      },
      "outputs": [],
      "source": []
    }
  ],
  "metadata": {
    "colab": {
      "authorship_tag": "ABX9TyPYxcyokdzg8HNvV/HAevHY",
      "include_colab_link": true,
      "provenance": []
    },
    "kernelspec": {
      "display_name": "Python 3",
      "name": "python3"
    },
    "language_info": {
      "codemirror_mode": {
        "name": "ipython",
        "version": 3
      },
      "file_extension": ".py",
      "mimetype": "text/x-python",
      "name": "python",
      "nbconvert_exporter": "python",
      "pygments_lexer": "ipython3",
      "version": "3.8.10"
    }
  },
  "nbformat": 4,
  "nbformat_minor": 0
}
