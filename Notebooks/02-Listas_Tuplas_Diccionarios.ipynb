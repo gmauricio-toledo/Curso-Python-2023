{
  "cells": [
    {
      "cell_type": "markdown",
      "metadata": {
        "colab_type": "text",
        "id": "view-in-github"
      },
      "source": [
        "<a href=\"https://colab.research.google.com/github/gmauricio-toledo/Curso-Python-2023/blob/main/Notebooks/02-Listas_Tuplas_Diccionarios.ipynb\" target=\"_parent\"><img src=\"https://colab.research.google.com/assets/colab-badge.svg\" alt=\"Open In Colab\"/></a>"
      ]
    },
    {
      "cell_type": "markdown",
      "metadata": {
        "id": "aCBZvOZn3V6D"
      },
      "source": [
        "# Listas\n",
        "* Las listas se utilizan para almacenar varios elementos en una sola variable.\n",
        "* Las listas se crean utilizando corchetes.\n",
        "* Los elementos de la lista están **ordenados, son modificables y permiten valores duplicados**.\n",
        "* Cuando decimos que las listas están ordenadas, significa que los elementos tienen un orden definido, y ese orden no cambiará. Si se añaden nuevos elementos a una lista, éstos se colocarán al final de la misma.\n",
        "* La lista es modificable, lo que significa que podemos cambiar, añadir y eliminar elementos de una lista después de haberla creado.\n",
        "* Como las listas están indexadas, las listas pueden tener elementos distintos con el mismo valor.\n",
        "\n",
        "[Documentación](https://docs.python.org/3/tutorial/datastructures.html)"
      ]
    },
    {
      "cell_type": "markdown",
      "metadata": {
        "id": "0a2XKGuHaTR-"
      },
      "source": [
        "Lista vacía:"
      ]
    },
    {
      "cell_type": "code",
      "execution_count": null,
      "metadata": {
        "id": "1gUdm3jfzlCB"
      },
      "outputs": [],
      "source": [
        "empty = []\n",
        "empty"
      ]
    },
    {
      "cell_type": "markdown",
      "metadata": {
        "id": "BPmike6haV-I"
      },
      "source": [
        "Lista no vacía:"
      ]
    },
    {
      "cell_type": "code",
      "execution_count": null,
      "metadata": {
        "id": "X6_VTC9moTAM"
      },
      "outputs": [],
      "source": [
        "numbers = [1, 2, 3]\n",
        "numbers"
      ]
    },
    {
      "cell_type": "markdown",
      "metadata": {
        "id": "h9l7kUOC43iL"
      },
      "source": [
        "Las listas pueden contener distintos tipos de datos:"
      ]
    },
    {
      "cell_type": "code",
      "execution_count": null,
      "metadata": {
        "id": "jBqfcq6Q4-Yl"
      },
      "outputs": [],
      "source": [
        "mixed = ['a', 1, 2.0, [13], {}]\n",
        "mixed"
      ]
    },
    {
      "cell_type": "markdown",
      "metadata": {
        "id": "_rehYX145nEk"
      },
      "source": [
        "Se puede acceder a los elementos de las listas utilizando índices de forma similar a las cadenas:"
      ]
    },
    {
      "cell_type": "code",
      "execution_count": null,
      "metadata": {
        "id": "98QVzpN_ogFQ"
      },
      "outputs": [],
      "source": [
        "mixed[0]"
      ]
    },
    {
      "cell_type": "code",
      "execution_count": null,
      "metadata": {
        "id": "j5XB0hVZ6S5E"
      },
      "outputs": [],
      "source": [
        "mixed[-2]"
      ]
    },
    {
      "cell_type": "code",
      "execution_count": null,
      "metadata": {
        "id": "7EJZyQUl7y_5"
      },
      "outputs": [],
      "source": [
        "mixed[4]"
      ]
    },
    {
      "cell_type": "markdown",
      "metadata": {
        "id": "wzPgAr_s_CrC"
      },
      "source": [
        "**Cambiar valores de una lista:**"
      ]
    },
    {
      "cell_type": "code",
      "execution_count": null,
      "metadata": {
        "id": "UIrYSc-3bdWc"
      },
      "outputs": [],
      "source": [
        "letters = ['a', 'b', 'c', 'd', 'e', 'f', 'g']"
      ]
    },
    {
      "cell_type": "code",
      "execution_count": null,
      "metadata": {
        "id": "BZGy8c8bov2q"
      },
      "outputs": [],
      "source": [
        "letters[-1] = 'a'\n",
        "letters"
      ]
    },
    {
      "cell_type": "markdown",
      "metadata": {
        "id": "g4-XjayC8KO7"
      },
      "source": [
        "**Agregar elementos a una lista:**"
      ]
    },
    {
      "cell_type": "code",
      "execution_count": null,
      "metadata": {
        "id": "o1cDG_NTcL2X"
      },
      "outputs": [],
      "source": [
        "letters = ['a', 'b', 'c', 'd', 'e', 'f', 'g']"
      ]
    },
    {
      "cell_type": "code",
      "execution_count": null,
      "metadata": {
        "id": "7l9O1BOz89Sg"
      },
      "outputs": [],
      "source": [
        "letters.append('A')\n",
        "letters"
      ]
    },
    {
      "cell_type": "code",
      "execution_count": null,
      "metadata": {
        "id": "BMtM1P_GcSJp"
      },
      "outputs": [],
      "source": [
        "letters.append('B')\n",
        "letters"
      ]
    },
    {
      "cell_type": "code",
      "execution_count": null,
      "metadata": {
        "id": "G83ifb7DcmPX"
      },
      "outputs": [],
      "source": [
        "letters.append('C')\n",
        "letters"
      ]
    },
    {
      "cell_type": "markdown",
      "metadata": {
        "id": "GOWYij2p9bwL"
      },
      "source": [
        "Insertar al principio de la lista:"
      ]
    },
    {
      "cell_type": "code",
      "execution_count": null,
      "metadata": {
        "id": "KgMcKp5W9fI7"
      },
      "outputs": [],
      "source": [
        "letters.insert(0, 'A')\n",
        "letters"
      ]
    },
    {
      "cell_type": "code",
      "execution_count": null,
      "metadata": {
        "id": "XYa29cU8c09E"
      },
      "outputs": [],
      "source": [
        "letters.insert(0, 'B')\n",
        "letters"
      ]
    },
    {
      "cell_type": "code",
      "execution_count": null,
      "metadata": {
        "id": "N2F2Dp9hc3H-"
      },
      "outputs": [],
      "source": [
        "letters.insert(0, 'C')\n",
        "letters"
      ]
    },
    {
      "cell_type": "markdown",
      "metadata": {
        "id": "z2pfGnq7-PHc"
      },
      "source": [
        "Insertar en una posición arbitraria:"
      ]
    },
    {
      "cell_type": "code",
      "execution_count": null,
      "metadata": {
        "id": "SgovUUMS-TxT"
      },
      "outputs": [],
      "source": [
        "letters.insert(2, '1')\n",
        "letters"
      ]
    },
    {
      "cell_type": "markdown",
      "metadata": {
        "id": "W2WMgepZAjkO"
      },
      "source": [
        "**Concatenar listas:**"
      ]
    },
    {
      "cell_type": "code",
      "execution_count": null,
      "metadata": {
        "id": "ZJmmTw8zdXnS"
      },
      "outputs": [],
      "source": [
        "letters = ['a', 'b', 'c', 'd', 'e', 'f', 'g']"
      ]
    },
    {
      "cell_type": "code",
      "execution_count": null,
      "metadata": {
        "id": "UYn06yndAoNH"
      },
      "outputs": [],
      "source": [
        "letters.extend(numbers)\n",
        "letters"
      ]
    },
    {
      "cell_type": "code",
      "execution_count": null,
      "metadata": {
        "id": "7i2nzD19dhiC"
      },
      "outputs": [],
      "source": [
        "letters = ['a', 'b', 'c', 'd', 'e', 'f', 'g']"
      ]
    },
    {
      "cell_type": "code",
      "execution_count": null,
      "metadata": {
        "id": "7Qnkm9J-dc-O"
      },
      "outputs": [],
      "source": [
        "letters + numbers"
      ]
    },
    {
      "cell_type": "markdown",
      "metadata": {
        "id": "PGcA5_5__RZm"
      },
      "source": [
        "**Intercambiar dos elementos:**"
      ]
    },
    {
      "cell_type": "code",
      "execution_count": null,
      "metadata": {
        "id": "egbXdmQ__UB4"
      },
      "outputs": [],
      "source": [
        "letters[0], letters[1] = letters[1], letters[0]\n",
        "letters"
      ]
    },
    {
      "cell_type": "markdown",
      "metadata": {
        "id": "RNirVSMaHOp4"
      },
      "source": [
        "### Eliminar elementos de una lista (OPCIONAL)\n",
        "\n",
        "Hay dos métodos:\n",
        "\n",
        "* `pop()`: Borra elementos mediante el índice.\n",
        "* `remove()`: Borra elementos mediante el valor.\n",
        "\n",
        "[Documentación](https://docs.python.org/3/tutorial/datastructures.html#more-on-lists)\n"
      ]
    },
    {
      "cell_type": "markdown",
      "metadata": {
        "id": "K0ecop0OHXo_"
      },
      "source": [
        "\"Pop\" desde el final:"
      ]
    },
    {
      "cell_type": "code",
      "execution_count": null,
      "metadata": {
        "id": "ZfFG3MZ7HdXa"
      },
      "outputs": [],
      "source": [
        "letters = ['a', 'b', 'c', 'd', 'e', 'f']\n",
        "letters.pop()\n",
        "letters"
      ]
    },
    {
      "cell_type": "code",
      "execution_count": null,
      "metadata": {
        "id": "CeBTcmW2ee0N"
      },
      "outputs": [],
      "source": [
        "letters.pop()\n",
        "letters"
      ]
    },
    {
      "cell_type": "code",
      "execution_count": null,
      "metadata": {
        "id": "LsbjHgipefrt"
      },
      "outputs": [],
      "source": [
        "letters.pop()\n",
        "letters"
      ]
    },
    {
      "cell_type": "markdown",
      "metadata": {
        "id": "WSm1EhxBH8a2"
      },
      "source": [
        "\"Pop\" por índice:"
      ]
    },
    {
      "cell_type": "code",
      "execution_count": null,
      "metadata": {
        "id": "NmhD0RDTewJ4"
      },
      "outputs": [],
      "source": [
        "letters = ['a', 'b', 'c', 'd', 'e', 'f']"
      ]
    },
    {
      "cell_type": "code",
      "execution_count": null,
      "metadata": {
        "id": "R62Fg9l4IAYV"
      },
      "outputs": [],
      "source": [
        "letters.pop(2)\n",
        "letters"
      ]
    },
    {
      "cell_type": "code",
      "execution_count": null,
      "metadata": {
        "id": "dhsuj4MFezVC"
      },
      "outputs": [],
      "source": [
        "letters.pop(2)\n",
        "letters"
      ]
    },
    {
      "cell_type": "code",
      "execution_count": null,
      "metadata": {
        "id": "x1ZHY-pae1Ih"
      },
      "outputs": [],
      "source": [
        "letters.pop(2)\n",
        "letters"
      ]
    },
    {
      "cell_type": "markdown",
      "metadata": {
        "id": "wDhR89qxIUEh"
      },
      "source": [
        "Eliminar un elemento específico:"
      ]
    },
    {
      "cell_type": "code",
      "execution_count": 1,
      "metadata": {
        "id": "G8XssVkZe8aD"
      },
      "outputs": [],
      "source": [
        "letters = ['a', 'b', 'c', 'd', 'e', 'f']"
      ]
    },
    {
      "cell_type": "code",
      "execution_count": 2,
      "metadata": {
        "id": "cAyAJIeOpYrU"
      },
      "outputs": [
        {
          "data": {
            "text/plain": [
              "['a', 'b', 'c', 'e', 'f']"
            ]
          },
          "execution_count": 2,
          "metadata": {},
          "output_type": "execute_result"
        }
      ],
      "source": [
        "letters.remove('d')\n",
        "letters"
      ]
    },
    {
      "cell_type": "code",
      "execution_count": null,
      "metadata": {
        "id": "QiILx1x_e-9M"
      },
      "outputs": [],
      "source": [
        "letters.remove('d')\n",
        "letters"
      ]
    },
    {
      "cell_type": "code",
      "execution_count": null,
      "metadata": {
        "id": "61NR3kGGfBMJ"
      },
      "outputs": [],
      "source": [
        "letters.remove('a')\n",
        "letters"
      ]
    },
    {
      "cell_type": "markdown",
      "metadata": {
        "id": "RN5dAwcv4EwQ"
      },
      "source": [
        "## Función `list()`\n",
        "Cualquier iterable puede ser convertido en una lista"
      ]
    },
    {
      "cell_type": "code",
      "execution_count": null,
      "metadata": {
        "id": "IWCOdiiJ4Iv5"
      },
      "outputs": [],
      "source": [
        "numbers = list(range(10))\n",
        "numbers"
      ]
    },
    {
      "cell_type": "markdown",
      "metadata": {
        "id": "rQiPI4Wwff1r"
      },
      "source": [
        "**Nota.** Un *iterable* es un objeto que contiene un número contable de valores. Es un objeto sobre el que se puede iterar, lo que significa que se puede recorrer todos los valores."
      ]
    },
    {
      "cell_type": "markdown",
      "metadata": {
        "id": "m7FQdEVcAMJl"
      },
      "source": [
        "Lista por multiplicación:"
      ]
    },
    {
      "cell_type": "code",
      "execution_count": null,
      "metadata": {
        "id": "lanCHsNZATqK"
      },
      "outputs": [],
      "source": [
        "num = 10\n",
        "lista_ceros = [0] * num\n",
        "lista_ceros"
      ]
    },
    {
      "cell_type": "markdown",
      "metadata": {
        "id": "D9_M_6cwUAaX"
      },
      "source": [
        "# Tuplas\n",
        "\n",
        "* Las tuplas se utilizan para almacenar múltiples elementos en una sola variable.\n",
        "* Una tupla es una colección ordenada e inmutable.\n",
        "* Los elementos de las tuplas están **ordenados, son inmutables y permiten valores duplicados**.\n",
        "* Cuando decimos que las tuplas están ordenadas, significa que los elementos tienen un orden definido, y ese orden no cambiará.\n",
        "* Las tuplas no son modificables, lo que significa que no podemos cambiar, añadir o eliminar elementos después de la creación de la tupla.\n",
        "* Como las tuplas están indexadas, pueden tener distintos elementos con el mismo valor.\n"
      ]
    },
    {
      "cell_type": "markdown",
      "metadata": {
        "id": "a0DqNz2UglV3"
      },
      "source": [
        "Tupla vacía:"
      ]
    },
    {
      "cell_type": "code",
      "execution_count": null,
      "metadata": {
        "id": "amPcH8ytggL8"
      },
      "outputs": [],
      "source": [
        "empty = ()\n",
        "empty"
      ]
    },
    {
      "cell_type": "code",
      "execution_count": null,
      "metadata": {
        "id": "JyNGZaQZgkHy"
      },
      "outputs": [],
      "source": [
        "type(empty)"
      ]
    },
    {
      "cell_type": "markdown",
      "metadata": {
        "id": "zSbnfsTNgoMa"
      },
      "source": [
        "Tupla no vacía:"
      ]
    },
    {
      "cell_type": "code",
      "execution_count": null,
      "metadata": {
        "id": "7Zqb_MU2UEJa"
      },
      "outputs": [],
      "source": [
        "tup = (1, 2, 3)\n",
        "tup"
      ]
    },
    {
      "cell_type": "markdown",
      "metadata": {
        "id": "ep3XqjhqUIS1"
      },
      "source": [
        "Crear tuplas con comas:"
      ]
    },
    {
      "cell_type": "code",
      "execution_count": null,
      "metadata": {
        "id": "Oz8dkzlzUNEe"
      },
      "outputs": [],
      "source": [
        "tup = 1, 2, 3, 4, 5\n",
        "tup"
      ]
    },
    {
      "cell_type": "markdown",
      "metadata": {
        "id": "0YKr2HU6UzgT"
      },
      "source": [
        "Tupla con un solo elemento:"
      ]
    },
    {
      "cell_type": "code",
      "execution_count": null,
      "metadata": {
        "id": "4olPH2WLg5p2"
      },
      "outputs": [],
      "source": [
        "tup = (1)\n",
        "tup"
      ]
    },
    {
      "cell_type": "code",
      "execution_count": null,
      "metadata": {
        "id": "2d8cDnSKhBq5"
      },
      "outputs": [],
      "source": [
        "type(tup)"
      ]
    },
    {
      "cell_type": "code",
      "execution_count": null,
      "metadata": {
        "id": "9ib336cLU3iu"
      },
      "outputs": [],
      "source": [
        "tup = 1,\n",
        "tup"
      ]
    },
    {
      "cell_type": "code",
      "execution_count": null,
      "metadata": {
        "id": "E_zPvbb8hHRB"
      },
      "outputs": [],
      "source": [
        "type(tup)"
      ]
    },
    {
      "cell_type": "code",
      "execution_count": null,
      "metadata": {
        "id": "Z12CZ5AjhJUv"
      },
      "outputs": [],
      "source": [
        "tup = (1,)\n",
        "tup"
      ]
    },
    {
      "cell_type": "markdown",
      "metadata": {
        "id": "a_eqCY6XTy1x"
      },
      "source": [
        "# Métodos y Operaciones para listas y tuplas"
      ]
    },
    {
      "cell_type": "markdown",
      "metadata": {
        "id": "HpNqX6QFLmdK"
      },
      "source": [
        "**Comprobar pertenencia de elementos:**"
      ]
    },
    {
      "cell_type": "code",
      "execution_count": null,
      "metadata": {
        "id": "NpIdl5Cfp7-f"
      },
      "outputs": [],
      "source": [
        "3 in (1, 2, 3, 4, 5)"
      ]
    },
    {
      "cell_type": "code",
      "execution_count": null,
      "metadata": {
        "id": "gLXaJE6EMGyb"
      },
      "outputs": [],
      "source": [
        "'a' not in [1, 2, 3, 4, 5]"
      ]
    },
    {
      "cell_type": "code",
      "execution_count": null,
      "metadata": {
        "id": "xDjQca-vi4iv"
      },
      "outputs": [],
      "source": [
        "'a' in [1, 2, 3, 4, 5]"
      ]
    },
    {
      "cell_type": "markdown",
      "metadata": {
        "id": "UNKJxMb6Mipn"
      },
      "source": [
        "## Recorrimientos"
      ]
    },
    {
      "cell_type": "code",
      "execution_count": 4,
      "metadata": {
        "id": "098SVCIvsibb"
      },
      "outputs": [
        {
          "data": {
            "text/plain": [
              "('d',)"
            ]
          },
          "execution_count": 4,
          "metadata": {},
          "output_type": "execute_result"
        }
      ],
      "source": [
        "letters = 'a', 'b', 'c', 'd', 'e', 'f'\n",
        "letters[3 : 4]"
      ]
    },
    {
      "cell_type": "code",
      "execution_count": 5,
      "metadata": {
        "id": "QVNJeYVtNh56"
      },
      "outputs": [
        {
          "data": {
            "text/plain": [
              "('a', 'b', 'c', 'd')"
            ]
          },
          "execution_count": 5,
          "metadata": {},
          "output_type": "execute_result"
        }
      ],
      "source": [
        "letters[ : 4]"
      ]
    },
    {
      "cell_type": "code",
      "execution_count": 6,
      "metadata": {
        "id": "9XiynpN9M9V_"
      },
      "outputs": [
        {
          "data": {
            "text/plain": [
              "('c', 'd', 'e', 'f')"
            ]
          },
          "execution_count": 6,
          "metadata": {},
          "output_type": "execute_result"
        }
      ],
      "source": [
        "letters[-4: ]"
      ]
    },
    {
      "cell_type": "markdown",
      "metadata": {
        "id": "Lzkr-snEOEE9"
      },
      "source": [
        "**Saltos:**"
      ]
    },
    {
      "cell_type": "code",
      "execution_count": null,
      "metadata": {
        "id": "Fc3O6OhUjbtX"
      },
      "outputs": [],
      "source": [
        "letters = ('a', 'b', 'c', 'd', 'e', 'f')\n",
        "letters"
      ]
    },
    {
      "cell_type": "code",
      "execution_count": 7,
      "metadata": {
        "id": "fCzpKpbSOGy-"
      },
      "outputs": [
        {
          "data": {
            "text/plain": [
              "('f', 'e', 'd', 'c', 'b', 'a')"
            ]
          },
          "execution_count": 7,
          "metadata": {},
          "output_type": "execute_result"
        }
      ],
      "source": [
        "letters[ : : -1]"
      ]
    },
    {
      "cell_type": "code",
      "execution_count": 8,
      "metadata": {
        "id": "YUBmgFvljlXz"
      },
      "outputs": [
        {
          "data": {
            "text/plain": [
              "('a', 'b', 'c', 'd', 'e', 'f')"
            ]
          },
          "execution_count": 8,
          "metadata": {},
          "output_type": "execute_result"
        }
      ],
      "source": [
        "letters[ : : 1]"
      ]
    },
    {
      "cell_type": "code",
      "execution_count": 9,
      "metadata": {
        "id": "qNgpokpWjvs0"
      },
      "outputs": [
        {
          "data": {
            "text/plain": [
              "('a', 'c', 'e')"
            ]
          },
          "execution_count": 9,
          "metadata": {},
          "output_type": "execute_result"
        }
      ],
      "source": [
        "letters[ : : 2]"
      ]
    },
    {
      "cell_type": "code",
      "execution_count": 10,
      "metadata": {
        "id": "-YlbJVAqjxnR"
      },
      "outputs": [
        {
          "data": {
            "text/plain": [
              "('f', 'd', 'b')"
            ]
          },
          "execution_count": 10,
          "metadata": {},
          "output_type": "execute_result"
        }
      ],
      "source": [
        "letters[ : : -2]"
      ]
    },
    {
      "cell_type": "code",
      "execution_count": null,
      "metadata": {
        "id": "VJ8NV-XLjz4l"
      },
      "outputs": [],
      "source": [
        "letters[ : : 3]"
      ]
    },
    {
      "cell_type": "code",
      "execution_count": null,
      "metadata": {
        "id": "5-WXMDYRj37h"
      },
      "outputs": [],
      "source": [
        "letters[ : : -3]"
      ]
    },
    {
      "cell_type": "code",
      "execution_count": 12,
      "metadata": {
        "id": "i4ncH-zzj94g"
      },
      "outputs": [
        {
          "data": {
            "text/plain": [
              "('a', 'b', 'c', 'd', 'e', 'f')"
            ]
          },
          "execution_count": 12,
          "metadata": {},
          "output_type": "execute_result"
        }
      ],
      "source": [
        "letters"
      ]
    },
    {
      "cell_type": "code",
      "execution_count": 13,
      "metadata": {
        "id": "yW-35snIj64i"
      },
      "outputs": [
        {
          "data": {
            "text/plain": [
              "('b', 'd', 'f')"
            ]
          },
          "execution_count": 13,
          "metadata": {},
          "output_type": "execute_result"
        }
      ],
      "source": [
        "letters[1: : 2]"
      ]
    },
    {
      "cell_type": "code",
      "execution_count": 14,
      "metadata": {
        "id": "PLUJ1X1Vkjzs"
      },
      "outputs": [
        {
          "data": {
            "text/plain": [
              "('b', 'd')"
            ]
          },
          "execution_count": 14,
          "metadata": {},
          "output_type": "execute_result"
        }
      ],
      "source": [
        "letters[1: 5: 2]"
      ]
    },
    {
      "cell_type": "code",
      "execution_count": null,
      "metadata": {
        "id": "bJ-jooD6kEDw"
      },
      "outputs": [],
      "source": [
        "letters[0: : -1]"
      ]
    },
    {
      "cell_type": "code",
      "execution_count": null,
      "metadata": {
        "id": "QlM2RutYlZXs"
      },
      "outputs": [],
      "source": [
        "letters[1: : -1]"
      ]
    },
    {
      "cell_type": "code",
      "execution_count": null,
      "metadata": {
        "id": "Xp5mUNR9lbzm"
      },
      "outputs": [],
      "source": [
        "letters[2: : -1]"
      ]
    },
    {
      "cell_type": "code",
      "execution_count": null,
      "metadata": {
        "id": "vwJ8ObnXleWB"
      },
      "outputs": [],
      "source": [
        "letters[: 0: -1]"
      ]
    },
    {
      "cell_type": "code",
      "execution_count": null,
      "metadata": {
        "id": "7KOxWOt5lilD"
      },
      "outputs": [],
      "source": [
        "letters[: 1: -1]"
      ]
    },
    {
      "cell_type": "code",
      "execution_count": null,
      "metadata": {
        "id": "Gs-knLkdlp4n"
      },
      "outputs": [],
      "source": [
        "letters[: 2: -1]"
      ]
    },
    {
      "cell_type": "markdown",
      "metadata": {
        "id": "IR6wtY_oJlSv"
      },
      "source": [
        "**Listas, tuplas y cadena de caracteres**"
      ]
    },
    {
      "cell_type": "code",
      "execution_count": null,
      "metadata": {
        "id": "81hFjYCSmNqM"
      },
      "outputs": [],
      "source": [
        "Lista = [1, 2, 3]"
      ]
    },
    {
      "cell_type": "markdown",
      "metadata": {
        "id": "LJ7sHBWvnDRS"
      },
      "source": [
        "String a Lista"
      ]
    },
    {
      "cell_type": "code",
      "execution_count": null,
      "metadata": {
        "id": "Un35cmhynAxD"
      },
      "outputs": [],
      "source": [
        "list('Hola Grupo')"
      ]
    },
    {
      "cell_type": "markdown",
      "metadata": {
        "id": "2Qso0S3RnlYz"
      },
      "source": [
        "String a tupla"
      ]
    },
    {
      "cell_type": "code",
      "execution_count": null,
      "metadata": {
        "id": "FsBqPrl0nF3T"
      },
      "outputs": [],
      "source": [
        "tuple('Hola Grupo')"
      ]
    },
    {
      "cell_type": "markdown",
      "metadata": {
        "id": "GWZhTWptnxrM"
      },
      "source": [
        "Tupla a lista:"
      ]
    },
    {
      "cell_type": "code",
      "execution_count": null,
      "metadata": {
        "id": "4exkgKN-nqxa"
      },
      "outputs": [],
      "source": [
        "tup = (1, 2, 3, 4, 5)\n",
        "list(tup)"
      ]
    },
    {
      "cell_type": "code",
      "execution_count": null,
      "metadata": {
        "id": "4tlXa1_xnz9M"
      },
      "outputs": [],
      "source": [
        "lista = [1, 2, 3]\n",
        "tuple(lista)"
      ]
    },
    {
      "cell_type": "markdown",
      "metadata": {
        "id": "SxpzGoM_Z_RU"
      },
      "source": [
        "# Diccionarios\n",
        "\n",
        "* Los diccionarios se utilizan para almacenar valores de datos en pares `clave: valor`.\n",
        "* Los diccionarios son modificables, lo que significa que podemos cambiar, añadir o eliminar elementos una vez creado el diccionario.\n",
        "* Los elementos del diccionario se presentan en pares `clave: valor`, y se puede hacer referencia a ellos utilizando el nombre de la clave.\n",
        "* Los diccionarios no pueden tener dos elementos con la misma clave.\n",
        "* Tienen la ventaja de que es muy rápido consultar el valor de una clave ya que no se hace una busqueda lineal sobre todo el diccionario.\n",
        "\n",
        "**Los diccionarios son como funciones $\\{(x_1,f(x_1)),(x_2,f(x_2))...\\}$ presentados en la forma $\\{x_1:f(x_1),x_2:f(x_2),...\\}$**\n"
      ]
    },
    {
      "cell_type": "markdown",
      "metadata": {
        "id": "l9nWQuW1oLCE"
      },
      "source": [
        "Diccionario vacío:"
      ]
    },
    {
      "cell_type": "code",
      "execution_count": 15,
      "metadata": {
        "id": "45C_FS-eoR-3"
      },
      "outputs": [
        {
          "data": {
            "text/plain": [
              "{}"
            ]
          },
          "execution_count": 15,
          "metadata": {},
          "output_type": "execute_result"
        }
      ],
      "source": [
        "dictionary = {}\n",
        "dictionary"
      ]
    },
    {
      "cell_type": "markdown",
      "metadata": {
        "id": "uwNpFQFGo0C_"
      },
      "source": [
        "Diccionario no vacío:"
      ]
    },
    {
      "cell_type": "code",
      "execution_count": 18,
      "metadata": {
        "id": "xkdPoHJkqX1D"
      },
      "outputs": [
        {
          "data": {
            "text/plain": [
              "{'key-2': 'value-2', 'key-1': 'value-1'}"
            ]
          },
          "execution_count": 18,
          "metadata": {},
          "output_type": "execute_result"
        }
      ],
      "source": [
        "dictionary = {'key-1': 'value-1', 'key-2': 'value-2'}\n",
        "dictionary"
      ]
    },
    {
      "cell_type": "code",
      "execution_count": 17,
      "metadata": {
        "id": "VWYvp8peo5ok"
      },
      "outputs": [
        {
          "data": {
            "text/plain": [
              "{'key-1': 'value-1', 'key-2': 'value-2'}"
            ]
          },
          "execution_count": 17,
          "metadata": {},
          "output_type": "execute_result"
        }
      ],
      "source": [
        "key_values = [['key-1','value-1'], ['key-2', 'value-2']]\n",
        "dictionary = dict(key_values)\n",
        "dictionary"
      ]
    },
    {
      "cell_type": "markdown",
      "metadata": {
        "id": "vb9aP6o5pv_B"
      },
      "source": [
        "Acceder a un elemento:"
      ]
    },
    {
      "cell_type": "code",
      "execution_count": null,
      "metadata": {
        "id": "3-jz1H8Apzgm"
      },
      "outputs": [],
      "source": [
        "dictionary['key-2']"
      ]
    },
    {
      "cell_type": "code",
      "execution_count": null,
      "metadata": {
        "id": "YSSr9Ed9qwSY"
      },
      "outputs": [],
      "source": [
        "dictionary['key-1']"
      ]
    },
    {
      "cell_type": "markdown",
      "metadata": {
        "id": "UBSLRWEeqE-W"
      },
      "source": [
        "Agregar clave y valor:"
      ]
    },
    {
      "cell_type": "code",
      "execution_count": null,
      "metadata": {
        "id": "J98co3mWqJ5I"
      },
      "outputs": [],
      "source": [
        "dictionary['key-3'] = 'value-3'\n",
        "dictionary"
      ]
    },
    {
      "cell_type": "markdown",
      "metadata": {
        "id": "xmHWK2hHq7c_"
      },
      "source": [
        "Actualizar valor de una clave:"
      ]
    },
    {
      "cell_type": "code",
      "execution_count": null,
      "metadata": {
        "id": "VrV2r-vUq-JV"
      },
      "outputs": [],
      "source": [
        "dictionary['key-2'] = 'new-value-2'\n",
        "dictionary['key-2']"
      ]
    },
    {
      "cell_type": "markdown",
      "metadata": {
        "id": "_ot60Snlra6K"
      },
      "source": [
        "Conocer las llaves:"
      ]
    },
    {
      "cell_type": "code",
      "execution_count": null,
      "metadata": {
        "id": "Lv726tMhrYnh"
      },
      "outputs": [],
      "source": [
        "list(dictionary.keys())"
      ]
    },
    {
      "cell_type": "markdown",
      "metadata": {
        "id": "WGJyKhKgrf11"
      },
      "source": [
        "Conocer los valores:"
      ]
    },
    {
      "cell_type": "code",
      "execution_count": null,
      "metadata": {
        "id": "F7F-fNMMrhT5"
      },
      "outputs": [],
      "source": [
        "dictionary.values()"
      ]
    },
    {
      "cell_type": "markdown",
      "metadata": {
        "id": "tCpdFg8JrqKM"
      },
      "source": [
        "Conocer claves y valores:"
      ]
    },
    {
      "cell_type": "code",
      "execution_count": null,
      "metadata": {
        "id": "0dZRJamArlLg"
      },
      "outputs": [],
      "source": [
        "dictionary.items()"
      ]
    },
    {
      "cell_type": "markdown",
      "metadata": {
        "id": "9fqITS30sJC6"
      },
      "source": [
        "Verificar pertenencia de una clave:"
      ]
    },
    {
      "cell_type": "code",
      "execution_count": null,
      "metadata": {
        "id": "c1XdFLXNsWVq"
      },
      "outputs": [],
      "source": [
        "'key-5' in dictionary"
      ]
    },
    {
      "cell_type": "code",
      "execution_count": null,
      "metadata": {
        "id": "lhics7nMrddp"
      },
      "outputs": [],
      "source": [
        "'key-1' in dictionary"
      ]
    },
    {
      "cell_type": "markdown",
      "metadata": {
        "id": "G4Z2Pk3VsyUJ"
      },
      "source": [
        "Método `get()`:"
      ]
    },
    {
      "cell_type": "code",
      "execution_count": null,
      "metadata": {
        "id": "FnHIgV8_s1eQ"
      },
      "outputs": [],
      "source": [
        "dictionary.get(\"key-1\", \"Clave no existente\")"
      ]
    },
    {
      "cell_type": "code",
      "execution_count": null,
      "metadata": {
        "id": "AOzZAUqZr-ZY"
      },
      "outputs": [],
      "source": [
        "dictionary.get(\"key-5\", \"Clave no existente\")"
      ]
    },
    {
      "cell_type": "markdown",
      "metadata": {
        "id": "YmWqelbJthVB"
      },
      "source": [
        "Remover una clave (y su valor):"
      ]
    },
    {
      "cell_type": "code",
      "execution_count": null,
      "metadata": {
        "id": "tOLuWnHEtkjT"
      },
      "outputs": [],
      "source": [
        "del(dictionary['key-1'])\n",
        "dictionary"
      ]
    },
    {
      "cell_type": "markdown",
      "metadata": {
        "id": "rnKNsxuZinvy"
      },
      "source": [
        "Listas como claves? No, porque las listas son mutables:"
      ]
    },
    {
      "cell_type": "code",
      "execution_count": null,
      "metadata": {
        "id": "16t9F7PPipo4"
      },
      "outputs": [],
      "source": [
        "items = ['item-1', 'item-2', 'item-3']\n",
        "map = {}\n",
        "map[items] = \"some-value\""
      ]
    },
    {
      "cell_type": "markdown",
      "metadata": {
        "id": "_9vXIamIjLER"
      },
      "source": [
        "Tuplas como claves? Sí, porque son inmutables:"
      ]
    },
    {
      "cell_type": "code",
      "execution_count": null,
      "metadata": {
        "id": "K2pFCFu3jNRM"
      },
      "outputs": [],
      "source": [
        "items = 'item-1', 'item-2', 'item-3'\n",
        "map = {}\n",
        "map[items] = \"some-value\"\n",
        "\n",
        "map"
      ]
    }
  ],
  "metadata": {
    "colab": {
      "collapsed_sections": [
        "aCBZvOZn3V6D",
        "D9_M_6cwUAaX",
        "UNKJxMb6Mipn",
        "SxpzGoM_Z_RU"
      ],
      "include_colab_link": true,
      "provenance": []
    },
    "kernelspec": {
      "display_name": "Python 3",
      "language": "python",
      "name": "python3"
    },
    "language_info": {
      "codemirror_mode": {
        "name": "ipython",
        "version": 3
      },
      "file_extension": ".py",
      "mimetype": "text/x-python",
      "name": "python",
      "nbconvert_exporter": "python",
      "pygments_lexer": "ipython3",
      "version": "3.8.10"
    }
  },
  "nbformat": 4,
  "nbformat_minor": 0
}
