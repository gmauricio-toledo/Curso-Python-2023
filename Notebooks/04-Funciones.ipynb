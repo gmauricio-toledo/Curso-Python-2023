{
  "cells": [
    {
      "cell_type": "markdown",
      "metadata": {
        "colab_type": "text",
        "id": "view-in-github"
      },
      "source": [
        "<a href=\"https://colab.research.google.com/github/gmauricio-toledo/Curso-Python-2023/blob/main/Notebooks/04-Funciones.ipynb\" target=\"_parent\"><img src=\"https://colab.research.google.com/assets/colab-badge.svg\" alt=\"Open In Colab\"/></a>"
      ]
    },
    {
      "cell_type": "markdown",
      "metadata": {
        "id": "PsIhg3BDaNL2"
      },
      "source": [
        "<h1>Funciones</h1>"
      ]
    },
    {
      "cell_type": "markdown",
      "metadata": {
        "id": "0-g-lGDsYu-b"
      },
      "source": [
        "En esta notebook revisaremos cómo definir y usar y funciones en Python.\n",
        "\n",
        "En Python, una **función es un bloque de código organizado, reutilizable (DRY- Don't Repeat Yourself) con un nombre** que se utiliza para realizar una única tarea específica. Puede tomar argumentos y puede devuelve algún valor.\n",
        "\n",
        "Las funciones ayudan a dividir nuestro programa en partes más pequeñas y modulares. A medida que nuestro programa se hace más grande, las funciones lo hacen más organizado y manejable.\n",
        "\n",
        "Además, mejoran la eficiencia y reducen los errores gracias a la reutilización de un código.\n",
        "\n",
        "**<h4>Tipos de funciones</h4>**\n",
        "\n",
        "Python soporta dos tipos de funciones\n",
        "\n",
        "1. **Función Built-in**: Las funciones que vienen con Python se denominan funciones incorporadas o predefinidas. Algunas de ellas son:\n",
        "\n",
        "        `range()`, `print()`, `input()`, `type()`, `id()`, `eval()`, ...\n",
        "\n",
        "2. **Función definida por el usuario**: Son funciones creadas explícitamente por el programador según los requisitos respectivos.\n",
        "\n",
        "\n",
        "**Syntaxis:**\n",
        "\n",
        "```python\n",
        "def function_name(parameter1, parameter2, ...):\n",
        "    '''\n",
        "    Descripción ... # <---- descripción de la función (opcional)\n",
        "    '''  \n",
        "    # function body    \n",
        "    return value # Opcional\n",
        "```\n",
        "\n"
      ]
    },
    {
      "cell_type": "markdown",
      "metadata": {
        "id": "pUM4bPudp-Tj"
      },
      "source": [
        "**Ejemplo:** Una función sin parámetros ni `return`"
      ]
    },
    {
      "cell_type": "code",
      "execution_count": null,
      "metadata": {
        "id": "lyo6l2ZDfrNL"
      },
      "outputs": [],
      "source": [
        "def saludar():\n",
        "    print(\"Welcome to Python\")"
      ]
    },
    {
      "cell_type": "code",
      "execution_count": null,
      "metadata": {
        "id": "ObMHYfCTqIwX"
      },
      "outputs": [],
      "source": [
        "saludar()\n",
        "# saludar()"
      ]
    },
    {
      "cell_type": "markdown",
      "metadata": {
        "id": "C3j2B9vrqaXX"
      },
      "source": [
        "**Ejemplo:** Una función sin parámetros y que regrese un valor"
      ]
    },
    {
      "cell_type": "code",
      "execution_count": null,
      "metadata": {
        "id": "R3SCRe8qqe4u"
      },
      "outputs": [],
      "source": [
        "def sumar_numeros():\n",
        "    numero_1 = 3\n",
        "    numero_2 = 6\n",
        "    total = numero_1 + numero_2\n",
        "    return total"
      ]
    },
    {
      "cell_type": "code",
      "execution_count": null,
      "metadata": {
        "id": "KzEK1DgtqyBO"
      },
      "outputs": [],
      "source": [
        "sumar_numeros()"
      ]
    },
    {
      "cell_type": "markdown",
      "metadata": {},
      "source": [
        "Otro ejemplo: una función que genere un número entero en el rango $[0,100]$ siempre y cuando no sea múltiplo de 3"
      ]
    },
    {
      "cell_type": "code",
      "execution_count": 26,
      "metadata": {},
      "outputs": [
        {
          "name": "stdout",
          "output_type": "stream",
          "text": [
            "95\n",
            "<class 'int'>\n"
          ]
        }
      ],
      "source": [
        "from random import randint\n",
        "\n",
        "def generar_numero():\n",
        "    numero = randint(0,100)\n",
        "    if numero % 3 != 0:\n",
        "        return numero\n",
        "\n",
        "\n",
        "x = generar_numero()\n",
        "print(x)  # ¿qué pasa cuando no genera un número?\n",
        "print(type(x))"
      ]
    },
    {
      "cell_type": "markdown",
      "metadata": {},
      "source": [
        "Podríamos modificar esta función para que siempre regrese un número con las características deseadas."
      ]
    },
    {
      "cell_type": "markdown",
      "metadata": {
        "id": "wZmKpae0aa0J"
      },
      "source": [
        "**Ejemplo**: Una función con parámetros y que regresa un valor. Por ejemplo, podemos definir una función que eleve un número al cuadrado. Las tres opciones son equivalentes:"
      ]
    },
    {
      "cell_type": "code",
      "execution_count": null,
      "metadata": {
        "id": "f-9_K3uIYpyo"
      },
      "outputs": [],
      "source": [
        "def elevar_al_cuadrado(x):\n",
        "    y = x*x\n",
        "    return y"
      ]
    },
    {
      "cell_type": "code",
      "execution_count": null,
      "metadata": {
        "id": "C9c52wsBaiXP"
      },
      "outputs": [],
      "source": [
        "def elevar_al_cuadrado(x):\n",
        "    y = x**2\n",
        "    return y"
      ]
    },
    {
      "cell_type": "code",
      "execution_count": null,
      "metadata": {
        "id": "jRR5PDzpZvjn"
      },
      "outputs": [],
      "source": [
        "def elevar_al_cuadrado(x):\n",
        "    return x**2"
      ]
    },
    {
      "cell_type": "markdown",
      "metadata": {
        "id": "y8J93rpvUSIi"
      },
      "source": [
        "Podemos probar cualquiera de las definiciones anteriores:"
      ]
    },
    {
      "cell_type": "code",
      "execution_count": null,
      "metadata": {
        "colab": {
          "base_uri": "https://localhost:8080/"
        },
        "id": "0IItQdooT9eQ",
        "outputId": "31fd92e3-ea2e-4ff6-bfca-f638d9ee8aed"
      },
      "outputs": [
        {
          "data": {
            "text/plain": [
              "9"
            ]
          },
          "execution_count": 2,
          "metadata": {},
          "output_type": "execute_result"
        }
      ],
      "source": [
        "elevar_al_cuadrado(3)"
      ]
    },
    {
      "cell_type": "markdown",
      "metadata": {
        "id": "Uby1O3hAntOQ"
      },
      "source": [
        "**Ejemplo:** Una función también puede regresar otro tipo de valores"
      ]
    },
    {
      "cell_type": "code",
      "execution_count": null,
      "metadata": {
        "id": "oRXQryifr9ti"
      },
      "outputs": [],
      "source": [
        "from math import fabs\n",
        "\n",
        "def son_cercanos(x,y):\n",
        "    if fabs(x-y)<0.5:\n",
        "        return True\n",
        "    else:\n",
        "        return False"
      ]
    },
    {
      "cell_type": "code",
      "execution_count": null,
      "metadata": {
        "id": "Xe6wj7NOsTJG"
      },
      "outputs": [],
      "source": [
        "son_cercanos(3,6.5)"
      ]
    },
    {
      "cell_type": "markdown",
      "metadata": {
        "id": "dTeULz70sYwZ"
      },
      "source": [
        "## Argumentos nombrados y posicionales"
      ]
    },
    {
      "cell_type": "markdown",
      "metadata": {
        "id": "YvUsrJnqsnqa"
      },
      "source": [
        "**Ejemplo:** Una función también puede tomar argumentos nombrados"
      ]
    },
    {
      "cell_type": "code",
      "execution_count": 27,
      "metadata": {
        "id": "8w4UiBQhsrio"
      },
      "outputs": [],
      "source": [
        "def dividir(dividendo,divisor):\n",
        "    cociente = dividendo//divisor\n",
        "    residuo = dividendo%divisor\n",
        "    return (cociente,residuo) # Regresamos una tupla\n",
        "\n",
        "# def dividir(dividendo,divisor):\n",
        "#     '''\n",
        "#     Esta función regresa el cociente y el divisor de una división como un diccionario. \n",
        "#     '''\n",
        "#     cociente = dividendo//divisor\n",
        "#     residuo = dividendo%divisor\n",
        "#     return {'cociente':cociente, 'residuo':residuo} # Regresamos un diccionario"
      ]
    },
    {
      "cell_type": "markdown",
      "metadata": {},
      "source": [
        "Observar en el segundo ejemplo anterior la ventaja de escribir los comentarios. Escribir `dividir(`"
      ]
    },
    {
      "cell_type": "code",
      "execution_count": null,
      "metadata": {},
      "outputs": [],
      "source": [
        "# ..."
      ]
    },
    {
      "cell_type": "markdown",
      "metadata": {
        "id": "MBNe70WIpGEr"
      },
      "source": [
        "Observar que, con argumentos nombrados, no es necesario pasar los argumentos en el orden que están en la definición de la función."
      ]
    },
    {
      "cell_type": "code",
      "execution_count": null,
      "metadata": {
        "colab": {
          "base_uri": "https://localhost:8080/"
        },
        "id": "x1pgyX4ts9mV",
        "outputId": "4d5e473c-5740-457d-f7b7-46d1d0efd4eb"
      },
      "outputs": [
        {
          "data": {
            "text/plain": [
              "(11, 9)"
            ]
          },
          "execution_count": 4,
          "metadata": {},
          "output_type": "execute_result"
        }
      ],
      "source": [
        "dividir(divisor=13,dividendo=152)\n",
        "\n",
        "# # Esta es una forma organizada de llamar a una función con muchos argumentos nombrados\n",
        "# dividir(divisor=13,\n",
        "#         dividendo=152)"
      ]
    },
    {
      "cell_type": "code",
      "execution_count": null,
      "metadata": {
        "id": "EbL7Fz9ltS5p"
      },
      "outputs": [],
      "source": [
        "x = dividir(divisor=13,dividendo=152)\n",
        "\n",
        "print(x)\n",
        "\n",
        "# x['residuo']"
      ]
    },
    {
      "cell_type": "markdown",
      "metadata": {
        "id": "u4HI-JxXo8dd"
      },
      "source": [
        "Si no usamos los argummentos nombrados, se dice que usamos los argumentos posicionales, es decir, la función interpreta los argumentos de entrada en el orden que los recibe."
      ]
    },
    {
      "cell_type": "code",
      "execution_count": null,
      "metadata": {
        "colab": {
          "base_uri": "https://localhost:8080/"
        },
        "id": "YY792_gFpNZv",
        "outputId": "7e577dba-22b8-483e-c508-de9d12440724"
      },
      "outputs": [
        {
          "data": {
            "text/plain": [
              "(11, 9)"
            ]
          },
          "execution_count": 5,
          "metadata": {},
          "output_type": "execute_result"
        }
      ],
      "source": [
        "dividir(152,13)"
      ]
    },
    {
      "cell_type": "markdown",
      "metadata": {
        "id": "VzhrSbxUscEj"
      },
      "source": [
        "## Argumentos con valores por default"
      ]
    },
    {
      "cell_type": "code",
      "execution_count": null,
      "metadata": {
        "id": "gh3-ZuZVse_f"
      },
      "outputs": [],
      "source": [
        "def raiz_nsima(x,n=2):\n",
        "    '''\n",
        "    Esta función calcula la raíz n-sima de un número x>=0\n",
        "    '''\n",
        "    if x>=0:\n",
        "        return x**(1/n)\n",
        "    else:\n",
        "        print(f\"El número {x} debe ser mayor o igual a 0.\")"
      ]
    },
    {
      "cell_type": "markdown",
      "metadata": {
        "id": "0lceLkFezLbE"
      },
      "source": [
        "Esta función se puede usar de manera usual"
      ]
    },
    {
      "cell_type": "code",
      "execution_count": null,
      "metadata": {
        "colab": {
          "base_uri": "https://localhost:8080/"
        },
        "id": "ETJDrQgizLKm",
        "outputId": "389c31c9-7748-4b9e-f95e-c4dc0753397e"
      },
      "outputs": [
        {
          "data": {
            "text/plain": [
              "0.7663094323935531"
            ]
          },
          "execution_count": 2,
          "metadata": {},
          "output_type": "execute_result"
        }
      ],
      "source": [
        "raiz_nsima(0.45,3)"
      ]
    },
    {
      "cell_type": "markdown",
      "metadata": {
        "id": "HNOEchMkzU9u"
      },
      "source": [
        "También la podemos usar con argumentos nombrados"
      ]
    },
    {
      "cell_type": "code",
      "execution_count": null,
      "metadata": {
        "colab": {
          "base_uri": "https://localhost:8080/"
        },
        "id": "_PmsD9PJzcOg",
        "outputId": "c2a2b366-3e8f-4249-981d-acf2471c287c"
      },
      "outputs": [
        {
          "data": {
            "text/plain": [
              "0.7663094323935531"
            ]
          },
          "execution_count": 4,
          "metadata": {},
          "output_type": "execute_result"
        }
      ],
      "source": [
        "raiz_nsima(n=3,x=0.45)"
      ]
    },
    {
      "cell_type": "markdown",
      "metadata": {
        "id": "jsZrw0IXzSas"
      },
      "source": [
        "O, finalmente, se puede usar con el argumento por default"
      ]
    },
    {
      "cell_type": "code",
      "execution_count": null,
      "metadata": {
        "colab": {
          "base_uri": "https://localhost:8080/"
        },
        "id": "AXFYlmpHzcze",
        "outputId": "44298a97-0b9a-4f6c-86cb-94822d808b4a"
      },
      "outputs": [
        {
          "data": {
            "text/plain": [
              "8.0"
            ]
          },
          "execution_count": 5,
          "metadata": {},
          "output_type": "execute_result"
        }
      ],
      "source": [
        "raiz_nsima(64)"
      ]
    },
    {
      "cell_type": "code",
      "execution_count": null,
      "metadata": {},
      "outputs": [],
      "source": [
        "raiz_nsima(x=64)"
      ]
    },
    {
      "cell_type": "markdown",
      "metadata": {},
      "source": [
        "### La utilidad de los argumentos por default y posicionales"
      ]
    },
    {
      "cell_type": "markdown",
      "metadata": {
        "id": "WMS2zRDZzpb1"
      },
      "source": [
        "Las funciones con argumentos por default tienen una gran utilidad, sobre todo al usar funciones, métodos y clases ya implementadas en diferentes módulos. Por ejemplo, consideremos el problema de integrar una función usando la regla de Simpson.\n",
        "\n",
        "Usaremos la función `simpson` de scipy.integrate. En la [documentación](https://docs.scipy.org/doc/scipy/reference/generated/scipy.integrate.simpson.html#scipy.integrate.simpson) vemos que tenemos que especificar los puntos $(x,f(x))$ sampleados de la función que queremos integrar, posiblemente especificar que tan separados están las coordenadas $x$, y la estrategía para calcular el resultado."
      ]
    },
    {
      "cell_type": "code",
      "execution_count": 14,
      "metadata": {},
      "outputs": [
        {
          "name": "stdout",
          "output_type": "stream",
          "text": [
            "[0, 1, 2, 3, 4, 5, 6, 7, 8, 9, 10]\n",
            "[0, 1, 4, 9, 16, 25, 36, 49, 64, 81, 100]\n"
          ]
        },
        {
          "data": {
            "text/plain": [
              "333.3333333333333"
            ]
          },
          "execution_count": 14,
          "metadata": {},
          "output_type": "execute_result"
        }
      ],
      "source": [
        "from scipy.integrate import simpson\n",
        "\n",
        "xs = list(range(11))\n",
        "ys = []\n",
        "\n",
        "size_x = len(xs)\n",
        "for j in range(size_x):\n",
        "    ys.append(xs[j]**2)\n",
        "\n",
        "print(xs)\n",
        "print(ys)\n",
        "\n",
        "simpson(x = xs, y = ys)"
      ]
    },
    {
      "cell_type": "markdown",
      "metadata": {},
      "source": [
        "**Opcional**: Una forma más *Python* usando [**compresión de listas**](https://docs.python.org/3/tutorial/datastructures.html#list-comprehensions)."
      ]
    },
    {
      "cell_type": "code",
      "execution_count": 16,
      "metadata": {},
      "outputs": [
        {
          "name": "stdout",
          "output_type": "stream",
          "text": [
            "[0, 1, 2, 3, 4, 5, 6, 7, 8, 9, 10]\n",
            "[0, 1, 4, 9, 16, 25, 36, 49, 64, 81, 100]\n"
          ]
        },
        {
          "data": {
            "text/plain": [
              "333.3333333333333"
            ]
          },
          "execution_count": 16,
          "metadata": {},
          "output_type": "execute_result"
        }
      ],
      "source": [
        "# from scipy.integrate import simpson\n",
        "\n",
        "# xs = list(range(11))\n",
        "# ys = [x**2 for x in xs]\n",
        "\n",
        "# print(xs)\n",
        "# print(ys)\n",
        "\n",
        "# simpson(x = xs, y = ys)"
      ]
    },
    {
      "cell_type": "markdown",
      "metadata": {},
      "source": [
        "## Un ejemplo: La regla del trapecio"
      ]
    },
    {
      "cell_type": "markdown",
      "metadata": {},
      "source": [
        "También podemos definir funciones que reciban funciones como argumento. Consideremos la regla del trapecio para aproximar la integral de una función en un intervalo $[a,b]$\n",
        "\n",
        "$$\\int_a^b f(x)dx \\approx (b-a)\\frac{f(a)+(b)}{2}$$"
      ]
    },
    {
      "cell_type": "code",
      "execution_count": 1,
      "metadata": {},
      "outputs": [],
      "source": [
        "def regla_trapecio(f,a,b):\n",
        "    aproximacion = (b-a)*(f(a)+f(b))/2\n",
        "    return aproximacion"
      ]
    },
    {
      "cell_type": "markdown",
      "metadata": {},
      "source": [
        "Probemos la función para aproximar la integral\n",
        "\n",
        "$$\\int_0^2 (x^2+2x+3) dx = \\frac{38}{3}\\approx 12.667$$"
      ]
    },
    {
      "cell_type": "code",
      "execution_count": 4,
      "metadata": {},
      "outputs": [
        {
          "data": {
            "text/plain": [
              "14.0"
            ]
          },
          "execution_count": 4,
          "metadata": {},
          "output_type": "execute_result"
        }
      ],
      "source": [
        "def h(x):\n",
        "    return x**2+2*x+3\n",
        "\n",
        "regla_trapecio(h,0,2)"
      ]
    },
    {
      "cell_type": "markdown",
      "metadata": {
        "id": "cvtyvAT_c9Gq"
      },
      "source": [
        "## ⚡ Funciones lambda"
      ]
    },
    {
      "cell_type": "markdown",
      "metadata": {
        "id": "B1a_WjH8T16I"
      },
      "source": [
        "Las funciones lambda sirven para definir una función sencilla en una sola línea. Suelen usarse para pasar una función sencilla como argumento de un método; de esta manera no tenemos que usar un nombre/definición para una función que no volveremos a usar."
      ]
    },
    {
      "cell_type": "code",
      "execution_count": null,
      "metadata": {
        "id": "FRQaQSAmalVr"
      },
      "outputs": [],
      "source": [
        "elevar_al_cuadrado = lambda x: x**2"
      ]
    },
    {
      "cell_type": "markdown",
      "metadata": {
        "id": "JGrHRvF7dQro"
      },
      "source": [
        "**Ejemplo:** Elevar al cuadrado cada elemento de una lista. Esto lo haremos de tres maneras:\n",
        "\n",
        "* Manualmente, usando un ciclo `for`.\n",
        "* Usando la función de Python [`map()`](https://docs.python.org/3/library/functions.html#map). Observar que esta función regresa un *iterador*, por lo que hay que convertir a lista el resultado.\n",
        "* Usando la función `map()` y [funciones lambda](https://www.learnpython.org/en/Lambda_functions)."
      ]
    },
    {
      "cell_type": "code",
      "execution_count": null,
      "metadata": {
        "id": "_26slBhGeKio"
      },
      "outputs": [],
      "source": [
        "lista = [2,5,-3,4,7.3]"
      ]
    },
    {
      "cell_type": "markdown",
      "metadata": {
        "id": "fEDdyTOeemM8"
      },
      "source": [
        "Primero, usando un ciclo `for`:"
      ]
    },
    {
      "cell_type": "code",
      "execution_count": null,
      "metadata": {
        "colab": {
          "base_uri": "https://localhost:8080/"
        },
        "id": "Z51JManYeL7L",
        "outputId": "278a161c-c0e4-4ec0-e5d0-dbe02de136f8"
      },
      "outputs": [
        {
          "name": "stdout",
          "output_type": "stream",
          "text": [
            "4\n",
            "25\n",
            "9\n",
            "16\n",
            "53.29\n"
          ]
        }
      ],
      "source": [
        "for x in lista:\n",
        "    print(x**2)"
      ]
    },
    {
      "cell_type": "markdown",
      "metadata": {
        "id": "i6HPiIavesCI"
      },
      "source": [
        "Segundo, usando la función `map()`"
      ]
    },
    {
      "cell_type": "code",
      "execution_count": null,
      "metadata": {
        "colab": {
          "base_uri": "https://localhost:8080/"
        },
        "id": "n7M9-n2mdfQO",
        "outputId": "600cd6aa-0af9-42e7-87bb-3e7cd514af75"
      },
      "outputs": [
        {
          "data": {
            "text/plain": [
              "[4, 25, 9, 16, 53.29]"
            ]
          },
          "execution_count": 6,
          "metadata": {},
          "output_type": "execute_result"
        }
      ],
      "source": [
        "list(map(elevar_al_cuadrado, lista))"
      ]
    },
    {
      "cell_type": "markdown",
      "metadata": {},
      "source": [
        "Por último, usando el enfoque anterior, podemos omitir la definición explícita de la función usando funciones lambda."
      ]
    },
    {
      "cell_type": "code",
      "execution_count": null,
      "metadata": {
        "colab": {
          "base_uri": "https://localhost:8080/"
        },
        "id": "K4jkJi6mdGx1",
        "outputId": "fc5bf33f-c540-4ebc-8512-e06b8857a18e"
      },
      "outputs": [
        {
          "data": {
            "text/plain": [
              "[4, 25, 9, 16, 53.29]"
            ]
          },
          "execution_count": 7,
          "metadata": {},
          "output_type": "execute_result"
        }
      ],
      "source": [
        "list(map(lambda x: x**2, lista))"
      ]
    },
    {
      "cell_type": "markdown",
      "metadata": {},
      "source": [
        "Retomemos el ejemplo de la regla del trapecio usando funciones lambda"
      ]
    },
    {
      "cell_type": "code",
      "execution_count": 6,
      "metadata": {
        "id": "RgZv__2Corqp"
      },
      "outputs": [
        {
          "data": {
            "text/plain": [
              "14.0"
            ]
          },
          "execution_count": 6,
          "metadata": {},
          "output_type": "execute_result"
        }
      ],
      "source": [
        "regla_trapecio(f = lambda x: x**2+2*x+3,\n",
        "                a = 0,\n",
        "                b = 2)"
      ]
    },
    {
      "cell_type": "code",
      "execution_count": null,
      "metadata": {},
      "outputs": [],
      "source": []
    }
  ],
  "metadata": {
    "colab": {
      "include_colab_link": true,
      "provenance": []
    },
    "kernelspec": {
      "display_name": "Python 3",
      "name": "python3"
    },
    "language_info": {
      "codemirror_mode": {
        "name": "ipython",
        "version": 3
      },
      "file_extension": ".py",
      "mimetype": "text/x-python",
      "name": "python",
      "nbconvert_exporter": "python",
      "pygments_lexer": "ipython3",
      "version": "3.8.10"
    }
  },
  "nbformat": 4,
  "nbformat_minor": 0
}
