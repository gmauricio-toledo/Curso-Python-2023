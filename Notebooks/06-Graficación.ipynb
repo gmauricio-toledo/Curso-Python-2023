{
  "cells": [
    {
      "cell_type": "markdown",
      "metadata": {
        "id": "view-in-github",
        "colab_type": "text"
      },
      "source": [
        "<a href=\"https://colab.research.google.com/github/gmauricio-toledo/Curso-Python-2023/blob/main/Notebooks/06-Graficaci%C3%B3n.ipynb\" target=\"_parent\"><img src=\"https://colab.research.google.com/assets/colab-badge.svg\" alt=\"Open In Colab\"/></a>"
      ]
    },
    {
      "cell_type": "markdown",
      "metadata": {
        "id": "wlLSOuTPgchZ"
      },
      "source": [
        "<div>\n",
        "<img src=\"https://github.com/gmauricio-toledo/Curso-Python-2023/blob/main/Notebooks/img/matplotlib.png?raw=1\" width=\"800\"/>\n",
        "</div>"
      ]
    },
    {
      "cell_type": "markdown",
      "metadata": {
        "id": "M9L2qBsFmWp9"
      },
      "source": [
        "# Graficación"
      ]
    },
    {
      "cell_type": "markdown",
      "metadata": {
        "id": "t9HlJ2eRnMv3"
      },
      "source": [
        "[Matplotlib](https://matplotlib.org/stable/users/index) es una biblioteca muy completa para crear visualizaciones estáticas, animadas e interactivas en Python. El submodulo [pyplot](https://matplotlib.org/3.5.3/api/_as_gen/matplotlib.pyplot.html) es la interface de matplotlib con el usuario.\n",
        "\n",
        "Se acostumbra importar como"
      ]
    },
    {
      "cell_type": "code",
      "execution_count": null,
      "metadata": {
        "id": "4BhTyMmQYnQi"
      },
      "outputs": [],
      "source": [
        "import matplotlib.pyplot as plt"
      ]
    },
    {
      "cell_type": "markdown",
      "metadata": {
        "id": "lp6V_9TppYFG"
      },
      "source": [
        "Una de las clases fundamentales para graficar es [Figure](https://matplotlib.org/3.5.3/api/_as_gen/matplotlib.pyplot.figure.html).\n",
        "\n",
        "Otra clase importante es [Axes](https://matplotlib.org/stable/api/_as_gen/matplotlib.axes.Axes.html#matplotlib.axes.Axes), la cual sirve para crear subfiguras dentro de una `Figure`.\n",
        "\n",
        "Con el método `show()` podemos mostrar la figura creada."
      ]
    },
    {
      "cell_type": "code",
      "execution_count": null,
      "metadata": {
        "id": "XfiTlMNopqjs"
      },
      "outputs": [],
      "source": [
        "plt.figure()\n",
        "plt.show()"
      ]
    },
    {
      "cell_type": "markdown",
      "metadata": {
        "id": "3bpieIHAp7Rb"
      },
      "source": [
        "Hay varios métodos para añadir *información* a la figura:\n",
        "\n",
        "* Una gráfica ([plot](https://matplotlib.org/stable/api/_as_gen/matplotlib.pyplot.plot.html))\n",
        "* Puntos ([scatter](https://matplotlib.org/stable/api/_as_gen/matplotlib.pyplot.scatter.html))\n",
        "* Histogramas ([hist](https://matplotlib.org/stable/api/_as_gen/matplotlib.pyplot.hist.html))\n",
        "* Boxplots ([boxplot](https://matplotlib.org/3.1.1/api/_as_gen/matplotlib.pyplot.boxplot.html))\n",
        "* Imágenes ([imshow](https://matplotlib.org/stable/api/_as_gen/matplotlib.pyplot.imshow.html))\n",
        "* ..."
      ]
    },
    {
      "cell_type": "markdown",
      "metadata": {
        "id": "lDcjAtgYhHRE"
      },
      "source": [
        "**Ejemplo:** Usando [scatter](https://matplotlib.org/stable/api/_as_gen/matplotlib.pyplot.scatter.html), graficar los puntos con coordenadas\n",
        "$$(-1,1),(0,3),(2,-1),(0.5,-3).$$"
      ]
    },
    {
      "cell_type": "code",
      "execution_count": null,
      "metadata": {
        "id": "T7WjpxExpuI1"
      },
      "outputs": [],
      "source": [
        "import numpy as np\n",
        "\n",
        "valores = [[-1,1],[0,3],[2,-1],[0.5,-3]]\n",
        "\n",
        "matriz = np.array(valores)\n",
        "\n",
        "coordenadas_x = matriz[:,0]\n",
        "coordenadas_y = matriz[:,1]\n",
        "\n",
        "plt.figure()\n",
        "plt.scatter(coordenadas_x,coordenadas_y)\n",
        "# # Podríamos agregar más parámetros para personalizar la gráfica\n",
        "# plt.scatter(coordenadas_x,coordenadas_y,\n",
        "#             alpha=0.75,\n",
        "#             s=80,\n",
        "#             c='red',\n",
        "#             marker='x',\n",
        "#             linewidth=3\n",
        "#             )\n",
        "# # ------------------\n",
        "plt.show()"
      ]
    },
    {
      "cell_type": "markdown",
      "metadata": {
        "id": "_wL6jWdwhelY"
      },
      "source": [
        "**Ejemplo:** Usando [plot](https://matplotlib.org/stable/api/_as_gen/matplotlib.pyplot.plot.html), graficar la función\n",
        "$$f(x)=x^3-2x+1$$\n",
        "en el intervalo $[-3,3]$."
      ]
    },
    {
      "cell_type": "code",
      "execution_count": null,
      "metadata": {
        "id": "U5CEsBD1hulS"
      },
      "outputs": [],
      "source": [
        "import numpy as np\n",
        "\n",
        "def f(x):\n",
        "    return x**3-2*x+1\n",
        "\n",
        "valores_x = np.linspace(-3,3,num=200)\n",
        "valores_y = [f(x) for x in valores_x] # Lista de compresión\n",
        "\n",
        "plt.figure(dpi=100)\n",
        "plt.plot(valores_x,valores_y)\n",
        "plt.show()"
      ]
    },
    {
      "cell_type": "markdown",
      "metadata": {
        "id": "cHG2Ph6miKT0"
      },
      "source": [
        "Las siguientes funciones son útiles para gráficar los ejes o algunas líneas de referencia:\n",
        "\n",
        "* [axhline](https://matplotlib.org/stable/api/_as_gen/matplotlib.pyplot.axhline.html): Dibuja una línea horizontal en la coordenada $y$ especificada cruzando toda la gráfica.\n",
        "* [axvline](https://matplotlib.org/stable/api/_as_gen/matplotlib.pyplot.axvline.html): Dibuja una línea vertical en la coordenada $x$ especificada cruzando toda la gráfica."
      ]
    },
    {
      "cell_type": "code",
      "execution_count": null,
      "metadata": {
        "id": "OOBJIZB7iZyP"
      },
      "outputs": [],
      "source": [
        "plt.figure(dpi=100)\n",
        "plt.plot(valores_x,valores_y)\n",
        "plt.axhline(0)\n",
        "plt.axvline(0)\n",
        "plt.show()"
      ]
    },
    {
      "cell_type": "markdown",
      "source": [
        "Podemos cambiar el estilo de los ejes. Observa el parámetro `dpi`"
      ],
      "metadata": {
        "id": "QdtJ6suz1BjG"
      }
    },
    {
      "cell_type": "code",
      "execution_count": null,
      "metadata": {
        "id": "p9E3U5UYid4n"
      },
      "outputs": [],
      "source": [
        "plt.figure(dpi=100)\n",
        "plt.plot(valores_x,valores_y,color='red',linewidth=3)\n",
        "plt.axhline(0,color='gray',linestyle='--')\n",
        "plt.axvline(0,color='gray',linestyle='-.')\n",
        "plt.show()"
      ]
    },
    {
      "cell_type": "markdown",
      "metadata": {
        "id": "cksgpuSh0YrO"
      },
      "source": [
        "Retomemos el ejemplo del cálculo del error relativo. Graficaremos los errores relativos en cada iteración."
      ]
    },
    {
      "cell_type": "code",
      "execution_count": null,
      "metadata": {
        "id": "cPDYcDZkHTTO"
      },
      "outputs": [],
      "source": [
        "def error_relativo(real, aproximacion):\n",
        "    return np.abs((real-aproximacion)/real)"
      ]
    },
    {
      "cell_type": "markdown",
      "source": [
        "Observar que podemos aplicar la función anterior a un float y un arreglo de numpy, esto gracias a la vectorización de Numpy."
      ],
      "metadata": {
        "id": "03aX5GB004lE"
      }
    },
    {
      "cell_type": "code",
      "execution_count": null,
      "metadata": {
        "id": "15TOb8hsx4qn"
      },
      "outputs": [],
      "source": [
        "valor_real = 4.5\n",
        "\n",
        "aproximaciones = np.array([2.5, 2.7, 3.1, 3.6, 3.9, 4.2, 4.6, 4.55])\n",
        "num_aproximaciones = aproximaciones.shape[0]\n",
        "iteraciones = list(range(num_aproximaciones))\n",
        "\n",
        "errores_absolutos = error_relativo(valor_real, aproximaciones)\n",
        "\n",
        "plt.figure()\n",
        "plt.plot(iteraciones,errores_absolutos)\n",
        "plt.scatter(iteraciones,errores_absolutos,color='black')\n",
        "plt.show()"
      ]
    },
    {
      "cell_type": "markdown",
      "metadata": {
        "id": "YhrhNCkAHTTP"
      },
      "source": [
        "## Ejemplo: Comparación entre el método de la falsa posición y el de la secante"
      ]
    },
    {
      "cell_type": "markdown",
      "metadata": {
        "id": "zekDWCt8HTTP"
      },
      "source": [
        "Retomamos las implementaciones del método de falsa posición y la secante, ahora implementados como funciones.\n",
        "\n",
        "Limitaciones de esta implementación:\n",
        "* $f(x_l)=f(x_u)$\n",
        "* Revisar que $x_l<x_u$\n",
        "* ¿Qué pasa si una nueva aproximación es $x_m=0$?\n",
        "* Posible diferencia entre el tamaño del arreglo de aproximaciones y errores"
      ]
    },
    {
      "cell_type": "code",
      "execution_count": null,
      "metadata": {
        "id": "t6Vr3Uta1PCQ"
      },
      "outputs": [],
      "source": [
        "def falsa_posicion(f,xl,xu,tolerancia):\n",
        "    '''\n",
        "    f:      función\n",
        "    xl:     extremo inferior del intervalo\n",
        "    xu:     extremo superior del intervalo\n",
        "    tol:    tolerancia\n",
        "    '''\n",
        "    x_m = xl\n",
        "    error = 2*tolerancia\n",
        "    errores = []\n",
        "    aproximaciones = []\n",
        "    n_iteraciones = 0\n",
        "    while (error>tolerancia):\n",
        "        n_iteraciones += 1\n",
        "        x_m_anterior = x_m # aproximación anterior\n",
        "        x_m = xu - (f(xu)*(xl-xu))/(f(xl)-f(xu))\n",
        "        aproximaciones.append(x_m)\n",
        "        if x_m != 0:\n",
        "            error = error_relativo(x_m,x_m_anterior)\n",
        "            errores.append(error)\n",
        "        test = f(xl)*f(x_m)\n",
        "        if test<0:\n",
        "            xu = x_m\n",
        "        elif test>0:\n",
        "            xl = x_m\n",
        "        else:\n",
        "            error = 0\n",
        "    return {'raiz': x_m,\n",
        "            'error': error,\n",
        "            'iteraciones': n_iteraciones,\n",
        "            'errores': np.array(errores),\n",
        "            'aproximaciones': np.array(aproximaciones)\n",
        "            }"
      ]
    },
    {
      "cell_type": "code",
      "execution_count": null,
      "metadata": {
        "id": "AQIRphS0HTTQ"
      },
      "outputs": [],
      "source": [
        "def secante(f,x0,x1,tolerancia):\n",
        "    '''\n",
        "    f:      función a la que encontraremos la raiz\n",
        "    x0:     primera aproximación de la raiz\n",
        "    x1:     segunda aproximación de la raiz\n",
        "    tol:    tolerancia\n",
        "    '''\n",
        "    error = 2*tolerancia\n",
        "    n_iteraciones = 0\n",
        "    errores = []\n",
        "    aproximaciones = []\n",
        "    while (error>tolerancia):\n",
        "        x_next = x1 - f(x1)*(x0-x1)/(f(x0)-f(x1))\n",
        "        aproximaciones.append(x_next)\n",
        "        if x1 != 0:\n",
        "            error = error_relativo(x_next,x1)\n",
        "            errores.append(error)\n",
        "        x0 = x1\n",
        "        x1 = x_next\n",
        "        n_iteraciones += 1\n",
        "    return {'raiz': x_next,\n",
        "            'error': error,\n",
        "            'iteraciones': n_iteraciones,\n",
        "            'errores': np.array(errores),\n",
        "            'aproximaciones': np.array(aproximaciones)\n",
        "            }"
      ]
    },
    {
      "cell_type": "markdown",
      "metadata": {
        "id": "vOW0jpggHTTQ"
      },
      "source": [
        "Implementamos una función que grafique una función en un intérvalo"
      ]
    },
    {
      "cell_type": "code",
      "execution_count": null,
      "metadata": {
        "id": "dv0Y99apHTTR"
      },
      "outputs": [],
      "source": [
        "def graficar(f,a,b,num=100):\n",
        "    eje_x = np.linspace(start=a,\n",
        "                    stop=b,\n",
        "                    num=num)\n",
        "    eje_y = [f(x) for x in eje_x]  # Listas de compresión\n",
        "    plt.figure(figsize=(7,5))\n",
        "    plt.plot(eje_x,eje_y,color='red')\n",
        "    plt.axhline(0,color='gray') # Dibujar eje X\n",
        "    plt.show()"
      ]
    },
    {
      "cell_type": "markdown",
      "metadata": {
        "id": "mb-EbRJ-HTTR"
      },
      "source": [
        "Consideremos la siguiente función y grafiquémosla."
      ]
    },
    {
      "cell_type": "code",
      "execution_count": null,
      "metadata": {
        "id": "2pUqX1SNHTTR"
      },
      "outputs": [],
      "source": [
        "def f(x):\n",
        "    y = x**3 - 9*x**2 + 26*x - 23.8\n",
        "    return y"
      ]
    },
    {
      "cell_type": "code",
      "execution_count": null,
      "metadata": {
        "id": "SfX8lR20HTTR"
      },
      "outputs": [],
      "source": [
        "graficar(f,1.5,4.5)"
      ]
    },
    {
      "cell_type": "code",
      "execution_count": null,
      "metadata": {
        "id": "XuyVIP6EHTTS"
      },
      "outputs": [],
      "source": [
        "resultados_fp = falsa_posicion(f,xl=2.5,xu=3.5,\n",
        "                               tolerancia=0.0001)\n",
        "resultados_sc = secante(f,x0=2.5,x1=3,tolerancia=0.0001)"
      ]
    },
    {
      "cell_type": "markdown",
      "metadata": {
        "id": "GeDFf8fkHTTT"
      },
      "source": [
        "**Ejemplo:** Grafiquemos en una misma grafica, en diferente subgráfica, los errores relativos en cada iteración en cada método.\n",
        "\n",
        "[Documentación](https://matplotlib.org/stable/gallery/subplots_axes_and_figures/subplots_demo.html)\n",
        "\n",
        "La diferencia en este ejemplo con el método `subplots` es que cada uno de ellos es una instancia de la clase [`Axes`](https://matplotlib.org/stable/api/_as_gen/matplotlib.axes.Axes.html#matplotlib.axes.Axes). Un objeto `Axes` encapsula todos los elementos de un (sub)gráfico individual en una figura.\n",
        "\n",
        "Un objeto `Figure` es el contenedor más externo de un gráfico en matplotlib, este puede contener múltiples objetos `Axes`."
      ]
    },
    {
      "cell_type": "markdown",
      "source": [
        "Primero, graficamos las dos sub-gráficas verticalmente, en un grid de $2\\times 1$."
      ],
      "metadata": {
        "id": "BYISbyx02cd5"
      }
    },
    {
      "cell_type": "code",
      "execution_count": null,
      "metadata": {
        "id": "699XjdFpHTTT"
      },
      "outputs": [],
      "source": [
        "errores_fp = resultados_fp['errores']\n",
        "num_iteraciones_fp = resultados_fp['iteraciones']\n",
        "errores_sc = resultados_sc['errores']\n",
        "num_iteraciones_sc = resultados_sc['iteraciones']\n",
        "\n",
        "# ---- Graficamos ----\n",
        "fig, (ax1, ax2) = plt.subplots(2)  # Generamos la figura y los dos `Axes`\n",
        "fig.suptitle('Comparación entre los errores',fontsize=14)\n",
        "ax1.plot(list(range(num_iteraciones_fp)),\n",
        "         errores_fp)\n",
        "ax1.set_xticks(list(range(num_iteraciones_fp)))\n",
        "ax1.set_title(\"Falsa Posición\")\n",
        "ax2.plot(list(range(num_iteraciones_sc)),\n",
        "         errores_sc)\n",
        "ax2.set_xticks(list(range(num_iteraciones_sc)))\n",
        "ax2.set_title(\"Secante\")\n",
        "fig.show()"
      ]
    },
    {
      "cell_type": "markdown",
      "source": [
        "Ahora lo hacemos en un grid de $1\\times 2$.\n",
        "\n",
        "Observa el parámetro `dpi`."
      ],
      "metadata": {
        "id": "-4UeflvZ2kgy"
      }
    },
    {
      "cell_type": "code",
      "execution_count": null,
      "metadata": {
        "id": "TzOd3ELDHTTT"
      },
      "outputs": [],
      "source": [
        "fig, (ax1, ax2) = plt.subplots(1,2,)\n",
        "fig.set_figwidth(10)\n",
        "fig.set_figheight(5)\n",
        "# fig.set_dpi(200)\n",
        "fig.suptitle('Comparación entre los errores',fontsize=14)\n",
        "ax1.plot(list(range(num_iteraciones_fp)),\n",
        "         errores_fp)\n",
        "ax1.set_xticks(list(range(num_iteraciones_fp)))\n",
        "ax1.set_title(\"Falsa Posición\")\n",
        "ax2.plot(list(range(num_iteraciones_sc)),\n",
        "         errores_sc)\n",
        "ax2.set_xticks(list(range(num_iteraciones_sc)))\n",
        "ax2.set_title(\"Secante\")\n",
        "fig.show()"
      ]
    },
    {
      "cell_type": "code",
      "execution_count": null,
      "metadata": {
        "id": "bd3C6_vBHTTT"
      },
      "outputs": [],
      "source": []
    }
  ],
  "metadata": {
    "colab": {
      "provenance": [],
      "include_colab_link": true
    },
    "kernelspec": {
      "display_name": "Python 3",
      "name": "python3"
    },
    "language_info": {
      "codemirror_mode": {
        "name": "ipython",
        "version": 3
      },
      "file_extension": ".py",
      "mimetype": "text/x-python",
      "name": "python",
      "nbconvert_exporter": "python",
      "pygments_lexer": "ipython3",
      "version": "3.8.10"
    }
  },
  "nbformat": 4,
  "nbformat_minor": 0
}