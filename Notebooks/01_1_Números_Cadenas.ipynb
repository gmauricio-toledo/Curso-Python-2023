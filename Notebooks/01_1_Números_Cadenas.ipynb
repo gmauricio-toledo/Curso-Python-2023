{
  "nbformat": 4,
  "nbformat_minor": 0,
  "metadata": {
    "colab": {
      "provenance": [],
      "collapsed_sections": [
        "ljVLzirwLPsV",
        "BCWQ235sGYVw",
        "GX0wD8Me8xxv",
        "LW9xF8ar_Rno"
      ],
      "include_colab_link": true
    },
    "kernelspec": {
      "name": "python3",
      "display_name": "Python 3"
    }
  },
  "cells": [
    {
      "cell_type": "markdown",
      "metadata": {
        "id": "view-in-github",
        "colab_type": "text"
      },
      "source": [
        "<a href=\"https://colab.research.google.com/github/gmauricio-toledo/Curso-Python-2023/blob/main/Notebooks/01_1_N%C3%BAmeros_Cadenas.ipynb\" target=\"_parent\"><img src=\"https://colab.research.google.com/assets/colab-badge.svg\" alt=\"Open In Colab\"/></a>"
      ]
    },
    {
      "cell_type": "markdown",
      "source": [
        "<div>\n",
        "<img src=\"https://github.com/gmauricio-toledo/Curso-Python-2023/blob/main/1-Fundamentos/Notebooks/img/python-logo.png?raw=1\" width=\"500\"/>\n",
        "</div>"
      ],
      "metadata": {
        "id": "Edsf7jxfsJp0"
      }
    },
    {
      "cell_type": "markdown",
      "source": [
        "Python es un lenguaje de programación de propósito general, moderno, dinámico, robusto, de alto nivel e interpretado. Se utiliza en desarrollo web, ciencia de datos, creación de prototipos de software, etc. Python tiene una sintaxis sencilla y fácil de usar. Esto hace que Python sea un lenguaje excelente para aprender a programar y para realizar programas rapidamente.\n",
        "\n",
        "[Documentación](https://www.python.org/)\n",
        "\n",
        "Para usar Python usaremos Google Colab, el cual es un servicio gratuito de Google en el cual podemos contectarnos a un entorno de ejecución rémoto. Para esto necesitamos una cuenta de Google. Colab funciona por medio de notebooks, los cuales son archivos que combinan código de Python y texto/imágenes. Esto a diferencia del enfoque usual de trabajar con archivos de script *py*."
      ],
      "metadata": {
        "id": "M2C8zVWEzcCF"
      }
    },
    {
      "cell_type": "markdown",
      "source": [
        "\n",
        "\n",
        "---\n",
        "\n",
        "\n",
        "**Scripting vs Programming**\n",
        "\n",
        "* Un lenguaje de programación es un conjunto de instrucciones para que el ordenador realice una tarea. Por lo general, estos lenguajes se compilan antes del tiempo de ejecución, de modo que un compilador convierte este código en código comprensible por la máquina. Ejemplos: C/C++, Java, etc.\n",
        "\n",
        "* Por otro lado, un lenguaje scripting, en tiempo de ejecución, es interpretado directamente por el entorno para obtener el resultado en lugar de ser traducidos a código comprensible por la máquina antes de ser ejecutados. Ejemplos: Python, MATLAB, Javascript, Perl, Ruby, PHP.\n",
        "\n",
        "---"
      ],
      "metadata": {
        "id": "if7OFMJa7pyx"
      }
    },
    {
      "cell_type": "markdown",
      "source": [
        "# Instalar Python (**OPCIONAL**)"
      ],
      "metadata": {
        "id": "WZehJJ170fyP"
      }
    },
    {
      "cell_type": "markdown",
      "source": [
        "Python funciona en Windows, Linux, Mac y otros entornos. Hay muchas distribuciones de python disponibles. Sin embargo, la forma recomendada de instalar python en Microsoft Windows o Linux es utilizar la distribución Anaconda disponible en [https://www.anaconda.com/products/individual#windows]. Si instalas python desde otro lugar, asegúrate de obtener al menos la versión Python 3.8, no la 2.7.\n",
        "\n",
        "La distribución Anaconda viene con la colección SciPy de herramientas científicas python así como el cuaderno iron python. Para desarrollar código python sin notebooks considere usar spyder (también incluido con Anaconda) o su IDE favorito bajo windows, mac etc (e.g. Visual Studio Code que maneja tanto programas python planos como cuadernos)"
      ],
      "metadata": {
        "id": "cJHb-NDv0oEQ"
      }
    },
    {
      "cell_type": "markdown",
      "source": [
        "# Introducción a Python"
      ],
      "metadata": {
        "id": "YymPghREsQ_I"
      }
    },
    {
      "cell_type": "markdown",
      "metadata": {
        "id": "-JLpZlWGLOIw"
      },
      "source": [
        "## Usando Python\n",
        "\n",
        "¡La mejor forma de aprender a programar es haciéndolo!\n",
        "\n",
        "**Da click en cualquier bloque de código de este curso y presiona `ctrl + Enter` para 'correrlo'. Debemos tener presente que las instrucciones se organizan en bloques y se ejecutan de acuerdo al orden en el que fueron escritas.**"
      ]
    },
    {
      "cell_type": "markdown",
      "metadata": {
        "id": "ljVLzirwLPsV"
      },
      "source": [
        "### Números\n",
        "\n",
        "El intérprete de Python puede utilizarse como una calculadora simple: al escribir una expresión numérica en él éste te 'regresará' un valor (numérico)."
      ]
    },
    {
      "cell_type": "markdown",
      "source": [
        "La sintaxis para las expresiones numéricas es sencilla: los operadores\n",
        "\n",
        "`+`,  `-`, `*`  y  `/`\n",
        "\n",
        "funcionan como en la mayoría de otros lenguajes de programación. También podemos usar paréntesis `()` para agrupar expresiones."
      ],
      "metadata": {
        "id": "oRcUxR2N_0Zs"
      }
    },
    {
      "cell_type": "code",
      "metadata": {
        "id": "T2yXZU7jBklI"
      },
      "source": [
        "2 + 2"
      ],
      "execution_count": null,
      "outputs": []
    },
    {
      "cell_type": "code",
      "metadata": {
        "id": "Pg2PB1IFBpa6"
      },
      "source": [
        "50 - 5*6"
      ],
      "execution_count": null,
      "outputs": []
    },
    {
      "cell_type": "code",
      "metadata": {
        "id": "pcG5D5i2BtDj"
      },
      "source": [
        "(50 - 5*6) / 4"
      ],
      "execution_count": null,
      "outputs": []
    },
    {
      "cell_type": "code",
      "metadata": {
        "id": "nEe3X8EbBwYW"
      },
      "source": [
        "8 / 5 # la division siempre regresa un numero flotante"
      ],
      "execution_count": null,
      "outputs": []
    },
    {
      "cell_type": "markdown",
      "metadata": {
        "id": "1AqFfgosB5T-"
      },
      "source": [
        "**Nota:** Los números enteros (ej. 2, 4, 20) son de tipo `int` y los que tienen parte racional (ej. 5.0, 1.6) son de tipo `float`."
      ]
    },
    {
      "cell_type": "markdown",
      "source": [
        "La división ''`/`' (siempre) regresa un valor flotante. Para obtener un valor entero en la división y olvidarnos de la parte racional podemos usar el operador `//`."
      ],
      "metadata": {
        "id": "RnNfwsreAe4S"
      }
    },
    {
      "cell_type": "code",
      "metadata": {
        "id": "iRh7VYPRC-k-"
      },
      "source": [
        "17 / 3 # la divison clásica regresa un valor flotante"
      ],
      "execution_count": null,
      "outputs": []
    },
    {
      "cell_type": "code",
      "metadata": {
        "id": "E9aqg0NPDEef"
      },
      "source": [
        "17 // 3 # regresa solo la parte entera"
      ],
      "execution_count": null,
      "outputs": []
    },
    {
      "cell_type": "markdown",
      "metadata": {
        "id": "f-7oJI2dDd52"
      },
      "source": [
        "En Python, se usa el operador `**` para calcular potencias."
      ]
    },
    {
      "cell_type": "code",
      "metadata": {
        "id": "0O5ydVafDk_Y"
      },
      "source": [
        "5**2 # 5 al cuadrado"
      ],
      "execution_count": null,
      "outputs": []
    },
    {
      "cell_type": "code",
      "metadata": {
        "id": "z2kLMHn2DpgX"
      },
      "source": [
        "2**7"
      ],
      "execution_count": null,
      "outputs": []
    },
    {
      "cell_type": "code",
      "metadata": {
        "id": "aYtoOBNkM1BJ"
      },
      "source": [
        "2*3**2 # ¿Resultado?"
      ],
      "execution_count": null,
      "outputs": []
    },
    {
      "cell_type": "code",
      "metadata": {
        "id": "w8k_ceJYN9DP"
      },
      "source": [
        "2**3*2 # ¿Resultado?"
      ],
      "execution_count": null,
      "outputs": []
    },
    {
      "cell_type": "markdown",
      "metadata": {
        "id": "oc5vDoV7ENKJ"
      },
      "source": [
        "Al operar con números enteros (`int`) y flotantes (`float`) el resultado será de tipo flotante."
      ]
    },
    {
      "cell_type": "code",
      "metadata": {
        "id": "QMT3E_aVEhWh"
      },
      "source": [
        "4 * 3.75 - 1"
      ],
      "execution_count": null,
      "outputs": []
    },
    {
      "cell_type": "markdown",
      "metadata": {
        "id": "rLFNvM7pxvMn"
      },
      "source": [
        "La función `round()` sirve para redondear a un número fijo de decimales."
      ]
    },
    {
      "cell_type": "code",
      "metadata": {
        "id": "CqDEwkcDFXO1"
      },
      "source": [
        "round(5.75, 3)"
      ],
      "execution_count": null,
      "outputs": []
    },
    {
      "cell_type": "markdown",
      "metadata": {
        "id": "BCWQ235sGYVw"
      },
      "source": [
        "### Cadenas\n",
        "\n",
        "Además de variables numéricas `(int, float)`, Python también permite manipular cadenas de caracteres o variables de tipo `string`. Este tipo de variables se escriben entre comillas sencillas `('...')` o comillas dobles `(\"...\")`.\n"
      ]
    },
    {
      "cell_type": "markdown",
      "source": [],
      "metadata": {
        "id": "LvwWc6kPBQlE"
      }
    },
    {
      "cell_type": "code",
      "metadata": {
        "id": "5muok6R1QtWW"
      },
      "source": [
        "'Hola Mundo'"
      ],
      "execution_count": null,
      "outputs": []
    },
    {
      "cell_type": "code",
      "metadata": {
        "id": "AfgHSmb1Qv-v"
      },
      "source": [
        "\"Hola Mundo\""
      ],
      "execution_count": null,
      "outputs": []
    },
    {
      "cell_type": "markdown",
      "metadata": {
        "id": "xMUwDNwVQyAU"
      },
      "source": [
        "La función `print()` nos permite mostrar texto en pantalla."
      ]
    },
    {
      "cell_type": "code",
      "metadata": {
        "id": "6w5EtFkrGvjA"
      },
      "source": [
        "print(1 + 1)"
      ],
      "execution_count": null,
      "outputs": []
    },
    {
      "cell_type": "code",
      "metadata": {
        "id": "4BLLMxT4G2Gt"
      },
      "source": [
        "print(\"Hola Mundo\")"
      ],
      "execution_count": null,
      "outputs": []
    },
    {
      "cell_type": "markdown",
      "metadata": {
        "id": "wuY4qxxpIo39"
      },
      "source": [
        "Revisa el siguiente código, córrelo y describe lo que sucede."
      ]
    },
    {
      "cell_type": "code",
      "metadata": {
        "id": "MfbxLO6vJdyj"
      },
      "source": [
        "print('Geometria con')\n",
        "print('Python')"
      ],
      "execution_count": null,
      "outputs": []
    },
    {
      "cell_type": "markdown",
      "source": [
        "### Variables"
      ],
      "metadata": {
        "id": "GX0wD8Me8xxv"
      }
    },
    {
      "cell_type": "markdown",
      "metadata": {
        "id": "9JdDoaoDDr89"
      },
      "source": [
        "El signo ''`=`'' se usa para asignar un valor a una variable."
      ]
    },
    {
      "cell_type": "code",
      "metadata": {
        "id": "N6VlwIhUD06-"
      },
      "source": [
        "Ancho = 20\n",
        "Alto = 5*9"
      ],
      "execution_count": null,
      "outputs": []
    },
    {
      "cell_type": "code",
      "source": [
        "Ancho * Alto"
      ],
      "metadata": {
        "id": "es5krAZW-cXD"
      },
      "execution_count": null,
      "outputs": []
    },
    {
      "cell_type": "markdown",
      "metadata": {
        "id": "-0Sm3mrZD_2x"
      },
      "source": [
        "Si una variable no está definida (no tiene un valor asignado) Python marcará *error* al usarla."
      ]
    },
    {
      "cell_type": "code",
      "metadata": {
        "id": "hD_zLzqaEH2X"
      },
      "source": [
        "n # trata de usar una variable indefinida"
      ],
      "execution_count": null,
      "outputs": []
    },
    {
      "cell_type": "markdown",
      "metadata": {
        "id": "sq68JHoOJgni"
      },
      "source": [
        "Otro ejemplo:"
      ]
    },
    {
      "cell_type": "code",
      "metadata": {
        "id": "PK2U7Ot0JjcQ"
      },
      "source": [
        "palabra1 = \"Geometria\"\n",
        "palabra2 = \"con\"\n",
        "palabra3 = \"Python\""
      ],
      "execution_count": null,
      "outputs": []
    },
    {
      "cell_type": "code",
      "metadata": {
        "id": "PYW0wS93Cd1s"
      },
      "source": [
        "print(palabra1, palabra2, palabra3)"
      ],
      "execution_count": null,
      "outputs": []
    },
    {
      "cell_type": "markdown",
      "metadata": {
        "id": "C-9NEkinKPMS"
      },
      "source": [
        "Podemos pensar a las variables como un contenedor, en el cual almacenamos cualquier tipo de información. En el ejemplo anterior, almacenamos la cadena de texto \"Geometria\" en la variable `palabra1`. Aunque lucen similares, existe una diferencia importante entre cadenas de texto como \"Geometría\" y variables como `palabra1`. Como ya lo mencionamos, las cadenas de texto se escriben entre comillas, mientras que las variables no. Sin las comillas, Python considera el correspondiete texto como una variable. Para hacer más clara esta diferencia, corramos el siguiente código:"
      ]
    },
    {
      "cell_type": "code",
      "metadata": {
        "id": "ff7nx5TyK3RE"
      },
      "source": [
        "Geometria = \"Python\"\n",
        "Python = \"Geometria\""
      ],
      "execution_count": null,
      "outputs": []
    },
    {
      "cell_type": "code",
      "metadata": {
        "id": "9n2HFSDjCiBp"
      },
      "source": [
        "print(Geometria, palabra2, Python)"
      ],
      "execution_count": null,
      "outputs": []
    },
    {
      "cell_type": "markdown",
      "metadata": {
        "id": "SP2JIKjaLTCy"
      },
      "source": [
        "Los nombres de las variables los podemos escoger arbitrariamente. Sin embargo, es recomendable utilizar nombres significativos/intuitivos para que nos sea más fácil recordar lo que almacenamos en las variables (ojo, existen palabras reservadas: [https://realpython.com/python-keywords/](https://realpython.com/python-keywords/))."
      ]
    },
    {
      "cell_type": "markdown",
      "source": [
        "En general, llamamos 'valor' al contenido de una variable."
      ],
      "metadata": {
        "id": "o4Yfpf5pC5Jz"
      }
    },
    {
      "cell_type": "code",
      "metadata": {
        "id": "CYVpmvdWLh1G"
      },
      "source": [
        "numero = 1\n",
        "NUMERO = 100000000"
      ],
      "execution_count": null,
      "outputs": []
    },
    {
      "cell_type": "markdown",
      "metadata": {
        "id": "4rxJJvcGLk1U"
      },
      "source": [
        "Notemos que Python distingue mayúsculas de minúsculas, es decir, NUMERO ≠ numero.\n",
        "\n",
        "__Ejercicio__: Escribe una línea de código que imprima la suma de numero y NUMERO. Después, asigna el resultado de esta suma a una nueva variable. Hazlo en la siguiente celda."
      ]
    },
    {
      "cell_type": "code",
      "metadata": {
        "id": "ZM_Gpr5xLtLy"
      },
      "source": [
        "#Elimina este comentario e inserta tu código aquí."
      ],
      "execution_count": null,
      "outputs": []
    },
    {
      "cell_type": "markdown",
      "source": [
        "### Operaciones con Cadenas"
      ],
      "metadata": {
        "id": "LW9xF8ar_Rno"
      }
    },
    {
      "cell_type": "markdown",
      "metadata": {
        "id": "u8eKKqkOKDj_"
      },
      "source": [
        "Con el operador `+` podemos concatenar cadenas de texto."
      ]
    },
    {
      "cell_type": "code",
      "metadata": {
        "id": "-GUCKVjGKMTQ"
      },
      "source": [
        "palabra1 = \"Geometria\"\n",
        "palabra2 = \"con\"\n",
        "palabra3 = \"Python\"\n",
        "\n",
        "palabra4 = palabra1 + \" \" + palabra2 + \" \" + palabra3"
      ],
      "execution_count": null,
      "outputs": []
    },
    {
      "cell_type": "code",
      "metadata": {
        "id": "c-kxsN_0CgGu"
      },
      "source": [
        "print(palabra4)"
      ],
      "execution_count": null,
      "outputs": []
    },
    {
      "cell_type": "markdown",
      "metadata": {
        "id": "bj6yhp9kLvKP"
      },
      "source": [
        "Las cadenas de caracteres están indexadas: al primer carácter se le asocia el índice `0`.  Un (solo) caracter es simplemente una cadena de tamaño uno."
      ]
    },
    {
      "cell_type": "code",
      "metadata": {
        "id": "hzrdAPqQVQ4Y"
      },
      "source": [
        "palabra = \"Python\"\n",
        "palabra[0]"
      ],
      "execution_count": null,
      "outputs": []
    },
    {
      "cell_type": "code",
      "metadata": {
        "id": "XPFWEiidVhNc"
      },
      "source": [
        "palabra[5]"
      ],
      "execution_count": null,
      "outputs": []
    },
    {
      "cell_type": "markdown",
      "metadata": {
        "id": "4WUavRleVjVx"
      },
      "source": [
        "Los índices también pueden ser números negativos, lo que permite empezar a contar desde la derecha:"
      ]
    },
    {
      "cell_type": "code",
      "metadata": {
        "id": "ic_rKOqLVuZs"
      },
      "source": [
        "palabra[-1]"
      ],
      "execution_count": null,
      "outputs": []
    },
    {
      "cell_type": "code",
      "metadata": {
        "id": "1WvVugNCVyK6"
      },
      "source": [
        "palabra[-2]"
      ],
      "execution_count": null,
      "outputs": []
    },
    {
      "cell_type": "code",
      "metadata": {
        "id": "tdB3RWAmV1nr"
      },
      "source": [
        "palabra[-6]"
      ],
      "execution_count": null,
      "outputs": []
    },
    {
      "cell_type": "markdown",
      "metadata": {
        "id": "AxuuboBSV9hC"
      },
      "source": [
        "También es posible acceder a un conjunto de caracteres de la cadena de texto:"
      ]
    },
    {
      "cell_type": "code",
      "metadata": {
        "id": "oAvRKZF8WHQP"
      },
      "source": [
        "palabra[0: 2]"
      ],
      "execution_count": null,
      "outputs": []
    },
    {
      "cell_type": "code",
      "metadata": {
        "id": "7PTzxVPGWK2M"
      },
      "source": [
        "palabra[2: 5]"
      ],
      "execution_count": null,
      "outputs": []
    },
    {
      "cell_type": "markdown",
      "metadata": {
        "id": "1_zftv3cWNKl"
      },
      "source": [
        "Debemos notar que el primer índice esta incluido y el último no."
      ]
    },
    {
      "cell_type": "code",
      "metadata": {
        "id": "efY2HofuWqB5"
      },
      "source": [
        "palabra[0 : 2] + palabra[2: 6]"
      ],
      "execution_count": null,
      "outputs": []
    },
    {
      "cell_type": "code",
      "metadata": {
        "id": "Q7Zn4SOMWv6g"
      },
      "source": [
        "palabra[0 : 4] + palabra[4: 6]"
      ],
      "execution_count": null,
      "outputs": []
    },
    {
      "cell_type": "markdown",
      "metadata": {
        "id": "1kTjxtlvW0xS"
      },
      "source": [
        "Omiciones de índices:"
      ]
    },
    {
      "cell_type": "code",
      "metadata": {
        "id": "KRxWNACbXI2q"
      },
      "source": [
        "palabra[ : 2] # Caracteres desde el principio hasta la posicion 2, la cual es excluida"
      ],
      "execution_count": null,
      "outputs": []
    },
    {
      "cell_type": "code",
      "metadata": {
        "id": "Nof6LbjzXUAC"
      },
      "source": [
        "palabra[4: ] # caracteres desde la posicion 4 (incluida) hasta el final"
      ],
      "execution_count": null,
      "outputs": []
    },
    {
      "cell_type": "code",
      "metadata": {
        "id": "bi7BHg_XXb-Z"
      },
      "source": [
        "palabra[-2: ] # caracteres desde la posicion -2 (incluida) hasta el final"
      ],
      "execution_count": null,
      "outputs": []
    },
    {
      "cell_type": "code",
      "source": [
        "palabra[ : ]"
      ],
      "metadata": {
        "id": "8ivzXE26EYs3"
      },
      "execution_count": null,
      "outputs": []
    },
    {
      "cell_type": "markdown",
      "metadata": {
        "id": "wl3Cr4XjXuWJ"
      },
      "source": [
        "Usar índices fuera de rango para extraer un caracter marcará *error*:"
      ]
    },
    {
      "cell_type": "code",
      "source": [
        "palabra[7]"
      ],
      "metadata": {
        "id": "qCQSp_GdEi6A"
      },
      "execution_count": null,
      "outputs": []
    },
    {
      "cell_type": "code",
      "metadata": {
        "id": "X8OulJsuYHUd"
      },
      "source": [
        "palabra[100: ] # ¿Qué sucede?"
      ],
      "execution_count": null,
      "outputs": []
    },
    {
      "cell_type": "markdown",
      "metadata": {
        "id": "rdUowp3bYKVG"
      },
      "source": [
        "Las cadenas de caracteres son immutables. Por lo que si intentamos asignar un nuevo valor a una posición de una cadena se marcará *error*:"
      ]
    },
    {
      "cell_type": "code",
      "metadata": {
        "id": "KQhrwcKTYj1W"
      },
      "source": [
        "palabra[0] = \"J\""
      ],
      "execution_count": null,
      "outputs": []
    },
    {
      "cell_type": "markdown",
      "metadata": {
        "id": "QJGw1u-dYpzk"
      },
      "source": [
        "Si queremos una cadena de caracteres diferente, debemos crearla:"
      ]
    },
    {
      "cell_type": "code",
      "metadata": {
        "id": "U0SyR5rCYvP0"
      },
      "source": [
        "\"J\" + palabra[1: ]"
      ],
      "execution_count": null,
      "outputs": []
    },
    {
      "cell_type": "code",
      "metadata": {
        "id": "1F1XbrOOY5bh"
      },
      "source": [
        "palabra[ : 2] + \"py\""
      ],
      "execution_count": null,
      "outputs": []
    },
    {
      "cell_type": "markdown",
      "metadata": {
        "id": "Xh4SkFaTY_L1"
      },
      "source": [
        "La función `len()` retorna el tamaño de la cadena:"
      ]
    },
    {
      "cell_type": "code",
      "metadata": {
        "id": "f_ycx28SZFIm"
      },
      "source": [
        "s = \"Bienvenidos \"\n",
        "len(s)"
      ],
      "execution_count": null,
      "outputs": []
    }
  ]
}