{
  "cells": [
    {
      "cell_type": "markdown",
      "metadata": {
        "id": "view-in-github",
        "colab_type": "text"
      },
      "source": [
        "<a href=\"https://colab.research.google.com/github/gmauricio-toledo/Curso-Python-2023/blob/main/Notebooks/03-Funciones.ipynb\" target=\"_parent\"><img src=\"https://colab.research.google.com/assets/colab-badge.svg\" alt=\"Open In Colab\"/></a>"
      ]
    },
    {
      "cell_type": "markdown",
      "metadata": {
        "id": "PsIhg3BDaNL2"
      },
      "source": [
        "<h1>Funciones</h1>"
      ]
    },
    {
      "cell_type": "markdown",
      "metadata": {
        "id": "0-g-lGDsYu-b"
      },
      "source": [
        "En esta notebook revisaremos cómo definir y usar y funciones en Python.\n",
        "\n",
        "En Python, una **función es un bloque de código organizado, reutilizable (DRY- Don't Repeat Yourself) con un nombre** que se utiliza para realizar una única tarea específica. Puede tomar argumentos y puede devuelve algún valor.\n",
        "\n",
        "Las funciones ayudan a dividir nuestro programa en partes más pequeñas y modulares. A medida que nuestro programa se hace más grande, las funciones lo hacen más organizado y manejable.\n",
        "\n",
        "Además, mejoran la eficiencia y reducen los errores gracias a la reutilización de un código.\n",
        "\n",
        "**<h4>Tipos de funciones</h4>**\n",
        "\n",
        "Python soporta dos tipos de funciones\n",
        "\n",
        "1. **Función Built-in**: Las funciones que vienen con Python se denominan funciones incorporadas o predefinidas. Algunas de ellas son:\n",
        "\n",
        "        `range()`, `print()`, `input()`, `type()`, `id()`, `eval()`, ...\n",
        "\n",
        "2. **Función definida por el usuario**: Son funciones creadas explícitamente por el programador según los requisitos respectivos.\n",
        "\n",
        "\n",
        "**Syntaxis:**\n",
        "\n",
        "```python\n",
        "def function_name(parameter1, parameter2, ...):\n",
        "    '''\n",
        "    Descripción ... # <---- descripción de la función (opcional)\n",
        "    '''  \n",
        "    # function body    \n",
        "    return value # Opcional\n",
        "```\n",
        "\n"
      ]
    },
    {
      "cell_type": "markdown",
      "metadata": {
        "id": "pUM4bPudp-Tj"
      },
      "source": [
        "**Ejemplo:** Una función sin parámetros ni `return`"
      ]
    },
    {
      "cell_type": "code",
      "execution_count": null,
      "metadata": {
        "id": "lyo6l2ZDfrNL"
      },
      "outputs": [],
      "source": [
        "def saludar():\n",
        "    print(\"Welcome to Python\")"
      ]
    },
    {
      "cell_type": "code",
      "execution_count": null,
      "metadata": {
        "id": "ObMHYfCTqIwX"
      },
      "outputs": [],
      "source": [
        "saludar()\n",
        "# saludar()"
      ]
    },
    {
      "cell_type": "markdown",
      "metadata": {
        "id": "C3j2B9vrqaXX"
      },
      "source": [
        "**Ejemplo:** Una función sin parámetros y que regrese un valor"
      ]
    },
    {
      "cell_type": "code",
      "execution_count": null,
      "metadata": {
        "id": "R3SCRe8qqe4u"
      },
      "outputs": [],
      "source": [
        "def sumar_numeros():\n",
        "    numero_1 = 3\n",
        "    numero_2 = 6\n",
        "    total = numero_1 + numero_2\n",
        "    return total"
      ]
    },
    {
      "cell_type": "code",
      "execution_count": null,
      "metadata": {
        "id": "KzEK1DgtqyBO"
      },
      "outputs": [],
      "source": [
        "sumar_numeros()"
      ]
    },
    {
      "cell_type": "markdown",
      "metadata": {
        "id": "wZmKpae0aa0J"
      },
      "source": [
        "**Ejemplo**: Una función con parámetros y que regresa un valor. Por ejemplo, podemos definir una función que eleve un número al cuadrado. Las tres opciones son equivalentes:"
      ]
    },
    {
      "cell_type": "code",
      "execution_count": null,
      "metadata": {
        "id": "f-9_K3uIYpyo"
      },
      "outputs": [],
      "source": [
        "def elevar_al_cuadrado(x):\n",
        "    y = x*x\n",
        "    return y"
      ]
    },
    {
      "cell_type": "code",
      "execution_count": null,
      "metadata": {
        "id": "C9c52wsBaiXP"
      },
      "outputs": [],
      "source": [
        "def elevar_al_cuadrado(x):\n",
        "    y = x**2\n",
        "    return y"
      ]
    },
    {
      "cell_type": "code",
      "execution_count": null,
      "metadata": {
        "id": "jRR5PDzpZvjn"
      },
      "outputs": [],
      "source": [
        "def elevar_al_cuadrado(x):\n",
        "    return x**2"
      ]
    },
    {
      "cell_type": "markdown",
      "metadata": {
        "id": "y8J93rpvUSIi"
      },
      "source": [
        "Podemos probar cualquiera de las definiciones anteriores:"
      ]
    },
    {
      "cell_type": "code",
      "execution_count": null,
      "metadata": {
        "colab": {
          "base_uri": "https://localhost:8080/"
        },
        "id": "0IItQdooT9eQ",
        "outputId": "31fd92e3-ea2e-4ff6-bfca-f638d9ee8aed"
      },
      "outputs": [
        {
          "data": {
            "text/plain": [
              "9"
            ]
          },
          "execution_count": 2,
          "metadata": {},
          "output_type": "execute_result"
        }
      ],
      "source": [
        "elevar_al_cuadrado(3)"
      ]
    },
    {
      "cell_type": "markdown",
      "metadata": {
        "id": "Uby1O3hAntOQ"
      },
      "source": [
        "**Ejemplo:** Una función también puede regresar otro tipo de valores"
      ]
    },
    {
      "cell_type": "code",
      "execution_count": null,
      "metadata": {
        "id": "oRXQryifr9ti"
      },
      "outputs": [],
      "source": [
        "from math import fabs\n",
        "\n",
        "def son_cercanos(x,y):\n",
        "    if fabs(x-y)<0.5:\n",
        "        return True\n",
        "    else:\n",
        "        return False"
      ]
    },
    {
      "cell_type": "code",
      "execution_count": null,
      "metadata": {
        "id": "Xe6wj7NOsTJG"
      },
      "outputs": [],
      "source": [
        "son_cercanos(3,6.5)"
      ]
    },
    {
      "cell_type": "markdown",
      "metadata": {
        "id": "YvUsrJnqsnqa"
      },
      "source": [
        "**Ejemplo:** Una función también puede tomar argumentos nombrados"
      ]
    },
    {
      "cell_type": "code",
      "execution_count": null,
      "metadata": {
        "id": "8w4UiBQhsrio"
      },
      "outputs": [],
      "source": [
        "def dividir(dividendo,divisor):\n",
        "    cociente = dividendo//divisor\n",
        "    residuo = dividendo%divisor\n",
        "    return (cociente,residuo) # Regresamos una tupla\n",
        "\n",
        "# def dividir(dividendo,divisor):\n",
        "#     cociente = dividendo//divisor\n",
        "#     residuo = dividendo%divisor\n",
        "#     return {'cociente':cociente, 'residuo':residuo} # Regresamos un diccionario"
      ]
    },
    {
      "cell_type": "code",
      "execution_count": null,
      "metadata": {
        "id": "x1pgyX4ts9mV"
      },
      "outputs": [],
      "source": [
        "dividir(divisor=13,dividendo=152)"
      ]
    },
    {
      "cell_type": "code",
      "execution_count": null,
      "metadata": {
        "id": "EbL7Fz9ltS5p"
      },
      "outputs": [],
      "source": [
        "x = dividir(divisor=13,dividendo=152)\n",
        "\n",
        "print(x)\n",
        "\n",
        "# x['residuo']"
      ]
    },
    {
      "cell_type": "markdown",
      "metadata": {
        "id": "cvtyvAT_c9Gq"
      },
      "source": [
        "## ⚡ Funciones lambda"
      ]
    },
    {
      "cell_type": "markdown",
      "metadata": {
        "id": "B1a_WjH8T16I"
      },
      "source": [
        "Las funciones lambda sirven para definir una función sencilla en una sola línea. Suelen usarse para pasar una función sencilla como argumento de un método; de esta manera no tenemos que usar un nombre/definición para una función que no volveremos a usar."
      ]
    },
    {
      "cell_type": "code",
      "execution_count": null,
      "metadata": {
        "id": "FRQaQSAmalVr"
      },
      "outputs": [],
      "source": [
        "elevar_al_cuadrado = lambda x: x**2"
      ]
    },
    {
      "cell_type": "markdown",
      "metadata": {
        "id": "JGrHRvF7dQro"
      },
      "source": [
        "**Ejemplo:** Elevar al cuadrado cada elemento de una lista. Esto lo haremos de tres maneras:\n",
        "\n",
        "* Manualmente, usando un ciclo `for`.\n",
        "* Usando la función de Python [`map()`](https://docs.python.org/3/library/functions.html#map). Observar que esta función regresa un *iterador*, por lo que hay que convertir a lista el resultado."
      ]
    },
    {
      "cell_type": "code",
      "execution_count": null,
      "metadata": {
        "id": "_26slBhGeKio"
      },
      "outputs": [],
      "source": [
        "lista = [2,5,-3,4,7.3]"
      ]
    },
    {
      "cell_type": "markdown",
      "metadata": {
        "id": "fEDdyTOeemM8"
      },
      "source": [
        "Primero, usando un ciclo `for`:"
      ]
    },
    {
      "cell_type": "code",
      "execution_count": null,
      "metadata": {
        "colab": {
          "base_uri": "https://localhost:8080/"
        },
        "id": "Z51JManYeL7L",
        "outputId": "278a161c-c0e4-4ec0-e5d0-dbe02de136f8"
      },
      "outputs": [
        {
          "name": "stdout",
          "output_type": "stream",
          "text": [
            "4\n",
            "25\n",
            "9\n",
            "16\n",
            "53.29\n"
          ]
        }
      ],
      "source": [
        "for x in lista:\n",
        "    print(x**2)"
      ]
    },
    {
      "cell_type": "markdown",
      "metadata": {
        "id": "i6HPiIavesCI"
      },
      "source": [
        "Segundo, usando la función `map()`"
      ]
    },
    {
      "cell_type": "code",
      "execution_count": null,
      "metadata": {
        "colab": {
          "base_uri": "https://localhost:8080/"
        },
        "id": "n7M9-n2mdfQO",
        "outputId": "600cd6aa-0af9-42e7-87bb-3e7cd514af75"
      },
      "outputs": [
        {
          "data": {
            "text/plain": [
              "[4, 25, 9, 16, 53.29]"
            ]
          },
          "execution_count": 6,
          "metadata": {},
          "output_type": "execute_result"
        }
      ],
      "source": [
        "list(map(elevar_al_cuadrado, lista))"
      ]
    },
    {
      "cell_type": "code",
      "execution_count": null,
      "metadata": {
        "colab": {
          "base_uri": "https://localhost:8080/"
        },
        "id": "K4jkJi6mdGx1",
        "outputId": "fc5bf33f-c540-4ebc-8512-e06b8857a18e"
      },
      "outputs": [
        {
          "data": {
            "text/plain": [
              "[4, 25, 9, 16, 53.29]"
            ]
          },
          "execution_count": 7,
          "metadata": {},
          "output_type": "execute_result"
        }
      ],
      "source": [
        "list(map(lambda x: x**2, lista))"
      ]
    },
    {
      "cell_type": "markdown",
      "metadata": {
        "id": "wnodtLwqVZdp"
      },
      "source": [
        "#⭕ Ejercicios"
      ]
    },
    {
      "cell_type": "markdown",
      "metadata": {
        "id": "awSKk0rkXDoM"
      },
      "source": [
        "## ⭕ Ejercicio 1"
      ]
    },
    {
      "cell_type": "markdown",
      "metadata": {
        "id": "m7p2ZzIoWlCO"
      },
      "source": [
        "1. Definir una función que calcule el error relativo entre un valor real y un valor aproximado. La función recibirá dos argumentos y regresará el error relativo."
      ]
    },
    {
      "cell_type": "code",
      "execution_count": null,
      "metadata": {
        "id": "GFw3t1vCejue"
      },
      "outputs": [],
      "source": []
    },
    {
      "cell_type": "markdown",
      "metadata": {
        "id": "Gx5eBBAzXLTt"
      },
      "source": [
        "2. Usar esta función para calcular el error relativo entre los siguientes valores. Imprimir el resultado en cada caso.\n",
        "\n",
        "| Valor real    | Valor aproximado  |\n",
        "| -----------   | -----------       |\n",
        "| 3.5           | 3.65              |\n",
        "| -1            | -0.88             |\n",
        "| 102           | 99.94             |"
      ]
    },
    {
      "cell_type": "code",
      "source": [],
      "metadata": {
        "id": "sKdNMx0McO2Z"
      },
      "execution_count": null,
      "outputs": []
    }
  ],
  "metadata": {
    "colab": {
      "provenance": [],
      "include_colab_link": true
    },
    "kernelspec": {
      "display_name": "Python 3",
      "name": "python3"
    },
    "language_info": {
      "name": "python"
    }
  },
  "nbformat": 4,
  "nbformat_minor": 0
}