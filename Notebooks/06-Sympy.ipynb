{
  "nbformat": 4,
  "nbformat_minor": 0,
  "metadata": {
    "colab": {
      "provenance": [],
      "include_colab_link": true
    },
    "kernelspec": {
      "name": "python3",
      "display_name": "Python 3"
    }
  },
  "cells": [
    {
      "cell_type": "markdown",
      "metadata": {
        "id": "view-in-github",
        "colab_type": "text"
      },
      "source": [
        "<a href=\"https://colab.research.google.com/github/gmauricio-toledo/Curso-Python-2023/blob/main/Notebooks/06-Sympy.ipynb\" target=\"_parent\"><img src=\"https://colab.research.google.com/assets/colab-badge.svg\" alt=\"Open In Colab\"/></a>"
      ]
    },
    {
      "cell_type": "markdown",
      "metadata": {
        "id": "lbER9rKS6fcQ"
      },
      "source": [
        "El módulo [`SymPy`](https://docs.sympy.org/latest/index.html) es una librería de Python que nos permite realizar cálculo simbólico. Como siempre, para poder acceder a ella y utilizar sus funciones, lo primero que debemos hacer es importarla.\n",
        "\n",
        "*   [https://www.sympy.org/en/index.html](https://www.sympy.org/en/index.html)\n",
        "*   [https://scipy-lectures.org/packages/sympy.html](https://scipy-lectures.org/packages/sympy.html)\n",
        "\n",
        "**Maneras en las que podemos importar `SymPy`:**  \n",
        "\n",
        "\n",
        "1.  `import sympy`\n",
        "2. `import sympy as sym`     (*renombrar SymPy como sym*)\n",
        "3. `from sympy import *`     (*importar todas las funciones de SymPy. Aunque no es muy recomendable importar de esta manera*)\n",
        "4. `from sympy import 'nombre de funciones separadas por comas'`     (*importar solo algunas funciones*)"
      ]
    },
    {
      "cell_type": "markdown",
      "source": [
        "Observación:"
      ],
      "metadata": {
        "id": "EoViqD-LBS62"
      }
    },
    {
      "cell_type": "code",
      "source": [
        "x*x   # ¿Cuál es el output?"
      ],
      "metadata": {
        "id": "GEWnQihuBSGO"
      },
      "execution_count": null,
      "outputs": []
    },
    {
      "cell_type": "markdown",
      "source": [
        "El error se produce porque no hemos definido la variable ``x``. Podríamos definirla asignándole un valor numérico:\n",
        "\n"
      ],
      "metadata": {
        "id": "CNJg7KfxBwmm"
      }
    },
    {
      "cell_type": "code",
      "source": [
        "x=3"
      ],
      "metadata": {
        "id": "E7BPtNNOBukb"
      },
      "execution_count": null,
      "outputs": []
    },
    {
      "cell_type": "code",
      "source": [
        "x*x"
      ],
      "metadata": {
        "id": "fiMm_JX7FB91"
      },
      "execution_count": null,
      "outputs": []
    },
    {
      "cell_type": "markdown",
      "source": [
        "¡Pero esto no es lo que se quiere!"
      ],
      "metadata": {
        "id": "efhN7ezgFFjv"
      }
    },
    {
      "cell_type": "code",
      "metadata": {
        "id": "rLglhHq46ACK"
      },
      "source": [
        "# Importar el módulo SymPy\n",
        "import sympy as sym"
      ],
      "execution_count": null,
      "outputs": []
    },
    {
      "cell_type": "markdown",
      "metadata": {
        "id": "D_YEGXqA-a3x"
      },
      "source": [
        "Una vez que hemos importado este módulo, lo siguiente es definir los __símbolos__ o __variables__ que usaremos. Por ejemplo, si vamos a realizar operaciones con la variable `x` debemos definirla de la siguiente manera:"
      ]
    },
    {
      "cell_type": "code",
      "metadata": {
        "id": "_W07twss_Edl"
      },
      "source": [
        "x = sym.symbols('x')"
      ],
      "execution_count": null,
      "outputs": []
    },
    {
      "cell_type": "markdown",
      "source": [
        "Ya con esto podemos calcular el cuadrado de ``x`` de manera simbólica:"
      ],
      "metadata": {
        "id": "yv-Bm-HYFjUO"
      }
    },
    {
      "cell_type": "code",
      "source": [
        "x * x"
      ],
      "metadata": {
        "id": "JkCXAyicFn5L"
      },
      "execution_count": null,
      "outputs": []
    },
    {
      "cell_type": "markdown",
      "metadata": {
        "id": "GWMxxI51_Mva"
      },
      "source": [
        "Si queremos usar las variables `x` e `y` las definiremos como:"
      ]
    },
    {
      "cell_type": "code",
      "metadata": {
        "id": "_8ALdSSu_UdB"
      },
      "source": [
        "x, y = sym.symbols('x, y')"
      ],
      "execution_count": null,
      "outputs": []
    },
    {
      "cell_type": "markdown",
      "metadata": {
        "id": "ZUuphsK0Vyb5"
      },
      "source": [
        "**OBSERVACIÓN:**\n",
        "\n",
        "* Hay que advertir la diferencia entre designar el nombre de la variable en la que almacenamos una variable simbólica y el caracter usada para ésta."
      ]
    },
    {
      "cell_type": "markdown",
      "metadata": {
        "id": "u4plWTOqV2xg"
      },
      "source": [
        "Por ejemplo, podemos almanecaner la variagle simbólica `x` en una variable cuyo nombre contenga caracteres diferentes:"
      ]
    },
    {
      "cell_type": "code",
      "metadata": {
        "id": "pRykRjaVVyAO"
      },
      "source": [
        "pythan = sym.symbols('x')"
      ],
      "execution_count": null,
      "outputs": []
    },
    {
      "cell_type": "code",
      "metadata": {
        "id": "O_H6BuP9Wy64"
      },
      "source": [
        "pythan"
      ],
      "execution_count": null,
      "outputs": []
    },
    {
      "cell_type": "markdown",
      "metadata": {
        "id": "zgvSvqtRWmdN"
      },
      "source": [
        "Luego, operar según se requiera:"
      ]
    },
    {
      "cell_type": "code",
      "metadata": {
        "id": "Ak9CqHDsWwfX"
      },
      "source": [
        "pythan * pythan"
      ],
      "execution_count": null,
      "outputs": []
    },
    {
      "cell_type": "code",
      "metadata": {
        "id": "jY_aEWWUW2N5"
      },
      "source": [
        "pythan ** pythan"
      ],
      "execution_count": null,
      "outputs": []
    },
    {
      "cell_type": "markdown",
      "metadata": {
        "id": "iCosKRyAW8qL"
      },
      "source": [
        "Podemos almanecaner la variable simbólica `pythan` en una variable cuyo nombre sea `x`:"
      ]
    },
    {
      "cell_type": "code",
      "metadata": {
        "id": "Z7ZdlZdEW8Of"
      },
      "source": [
        "x = sym.symbols('pythan')"
      ],
      "execution_count": null,
      "outputs": []
    },
    {
      "cell_type": "code",
      "metadata": {
        "id": "lz4FWmgpXHw_"
      },
      "source": [
        "x"
      ],
      "execution_count": null,
      "outputs": []
    },
    {
      "cell_type": "markdown",
      "metadata": {
        "id": "W4zmS0WPXJ_P"
      },
      "source": [
        "Luego, operar según se requiera:"
      ]
    },
    {
      "cell_type": "code",
      "metadata": {
        "id": "-f3vastoXKhv"
      },
      "source": [
        "x * x"
      ],
      "execution_count": null,
      "outputs": []
    },
    {
      "cell_type": "code",
      "metadata": {
        "id": "Llv15_OoXMTH"
      },
      "source": [
        "x ** x"
      ],
      "execution_count": null,
      "outputs": []
    },
    {
      "cell_type": "markdown",
      "metadata": {
        "id": "UBav1VlmFKlV"
      },
      "source": [
        "Ya que tenemos definidos nuestros _símbolos_, podemos empezar a realizar [_cálculo simbólico_](https://docs.sympy.org/latest/tutorial/intro.html)."
      ]
    }
  ]
}