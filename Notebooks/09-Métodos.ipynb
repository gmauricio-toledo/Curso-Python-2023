{
  "cells": [
    {
      "cell_type": "markdown",
      "metadata": {
        "id": "view-in-github",
        "colab_type": "text"
      },
      "source": [
        "<a href=\"https://colab.research.google.com/github/gmauricio-toledo/Curso-Python-2023/blob/main/Notebooks/09-M%C3%A9todos.ipynb\" target=\"_parent\"><img src=\"https://colab.research.google.com/assets/colab-badge.svg\" alt=\"Open In Colab\"/></a>"
      ]
    },
    {
      "cell_type": "code",
      "execution_count": null,
      "metadata": {
        "id": "c3HLz5qZBV7f"
      },
      "outputs": [],
      "source": [
        "import numpy as np"
      ]
    },
    {
      "cell_type": "markdown",
      "metadata": {
        "id": "xblT6awOBV7h"
      },
      "source": [
        "# Eliminación Gaussiana\n",
        "\n",
        "En todas las implementaciones, observar el argumento por default en el llamado a la función"
      ]
    },
    {
      "cell_type": "markdown",
      "metadata": {
        "id": "cRSLL7EVBV7i"
      },
      "source": [
        "Implementación usando vectorización de Numpy"
      ]
    },
    {
      "cell_type": "code",
      "execution_count": null,
      "metadata": {
        "id": "JUP28106BV7i"
      },
      "outputs": [],
      "source": [
        "def eliminacion_gaussiana(A,b,resultados_parciales=False):\n",
        "    '''\n",
        "    Esta función calcula la solución de un sistema de ecuaciones Ax=b usando Eliminación Gaussiana para llevar la\n",
        "    matriz A a su forma triangular superior y después realiza la sustitución hacia atrás.\n",
        "    '''\n",
        "    n = A.shape[0]\n",
        "    assert b.shape[0] == n  # Aquí nos aseguramos que la forma de b sea compatible con la forma de A\n",
        "    A = np.hstack((A,b.reshape(-1,1))) # Formamos la matriz aumentada del sistema\n",
        "    if resultados_parciales: print(\"Inicial:\\n\", A) # Podemos escribir el if en una sola línea\n",
        "    for k in range(n-1): # Recorremos cada columna\n",
        "        for i in range(k+1,n): # Recorremos de la diagonal hacia adelante\n",
        "            ratio = A[i,k]/A[k,k]\n",
        "            A[i] = A[i]-ratio*A[k] # En este punto usamos la vectorización\n",
        "            if resultados_parciales: print(A)\n",
        "    if resultados_parciales: print(\"Forward elimination:\\n\",A)\n",
        "    variables = A[:,n]\n",
        "    for k in reversed(range(n)): # Realizamos la sustitución hacia atras\n",
        "        for j in range(k+1,n):\n",
        "            variables[k] = variables[k] - A[k,j]*variables[j] # Otra vez, usamos vectorización\n",
        "        variables[k] = variables[k]/A[k,k]\n",
        "    return variables"
      ]
    },
    {
      "cell_type": "markdown",
      "metadata": {
        "id": "jTqshx8PBV7k"
      },
      "source": [
        "Ahora, incluyamos el pivoteo parcial. Esto lo hacemos manipulando los índices de los arreglos de numpy."
      ]
    },
    {
      "cell_type": "code",
      "execution_count": null,
      "metadata": {
        "id": "EVRkv5CeBV7l"
      },
      "outputs": [],
      "source": [
        "def eliminacion_gaussiana_pp(A,b,resultados_parciales=False):\n",
        "    '''\n",
        "    Esta función calcula la solución de un sistema de ecuaciones Ax=b usando Eliminación Gaussiana con\n",
        "    pivoteo parcial para llevar la matriz A a su forma triangular superior y después realiza la\n",
        "    sustitución hacia atrás.\n",
        "    '''\n",
        "    n = A.shape[0]\n",
        "    assert b.shape[0] == n\n",
        "    A = np.hstack((A,b.reshape(-1,1))) # Formamos la matriz aumentada del sistema\n",
        "    if resultados_parciales: print(\"Inicial:\\n\", A)\n",
        "    for k in range(n-1):\n",
        "        idx_max = np.argmax(np.abs(A[k:,k])) + k\n",
        "        new_idxs = list(range(A.shape[0]))\n",
        "        new_idxs[k] = idx_max\n",
        "        new_idxs[idx_max] = k\n",
        "        A = A[new_idxs]\n",
        "        if resultados_parciales: print(\"cambio de renglones:\\n\",A)\n",
        "        for i in range(k+1,n):\n",
        "            ratio = A[i,k]/A[k,k]\n",
        "            A[i] = A[i]-ratio*A[k] # En este punto usamos la vectorización\n",
        "            if resultados_parciales: print(A)\n",
        "    if resultados_parciales: print(\"Forward elimination:\\n\",A)\n",
        "    variables = A[:,n]\n",
        "    for k in reversed(range(n)):\n",
        "        for j in range(k+1,n):\n",
        "            variables[k] = variables[k] - A[k,j]*variables[j] # Otra vez, usamos vectorización\n",
        "        variables[k] = variables[k]/A[k,k]\n",
        "    return variables"
      ]
    },
    {
      "cell_type": "markdown",
      "metadata": {
        "id": "ynHjGzSKBV7n"
      },
      "source": [
        "## Aspectos importantes"
      ]
    },
    {
      "cell_type": "markdown",
      "metadata": {
        "id": "ZBstV4xVBV7n"
      },
      "source": [
        "¿Cómo juntamos arreglos en uno solo?"
      ]
    },
    {
      "cell_type": "code",
      "execution_count": null,
      "metadata": {
        "id": "vy9HtDw3BV7o"
      },
      "outputs": [],
      "source": [
        "A = np.array([[3,2,1],[5,3,4],[1,1,-1]],dtype=float)\n",
        "b = np.array([1,2,1],dtype=float)\n",
        "\n",
        "print(A)\n",
        "print(b.reshape(-1,1))\n",
        "np.hstack((A,b.reshape(-1,1)))"
      ]
    },
    {
      "cell_type": "markdown",
      "metadata": {
        "id": "WGgd4vcZBV7p"
      },
      "source": [
        "¿Cómo intercambiamos dos líneas de un arreglo?"
      ]
    },
    {
      "cell_type": "code",
      "execution_count": null,
      "metadata": {
        "id": "RGQ0V5FMBV7q"
      },
      "outputs": [],
      "source": [
        "A = np.array([[3,2,1],[5,3,4],[1,1,-1]],dtype=float)\n",
        "print(A)\n",
        "new_idxs = [2,1,0]\n",
        "A = A[new_idxs]  # Aquí hacemos la permutación\n",
        "print(A)"
      ]
    },
    {
      "cell_type": "markdown",
      "metadata": {
        "id": "hCsHns2jBV7q"
      },
      "source": [
        "## Ejemplo 1"
      ]
    },
    {
      "cell_type": "markdown",
      "metadata": {
        "id": "sdyVbnctBV7q"
      },
      "source": [
        "### Usando nuestra implementación"
      ]
    },
    {
      "cell_type": "code",
      "execution_count": null,
      "metadata": {
        "id": "lDiVPQ6wBV7r"
      },
      "outputs": [],
      "source": [
        "A = np.array([[3,2,1],[5,3,4],[1,1,-1]],dtype=float)\n",
        "b = np.array([1,2,1],dtype=float)\n",
        "print(A,\"\\n\\n\",b)"
      ]
    },
    {
      "cell_type": "code",
      "execution_count": null,
      "metadata": {
        "id": "aTac8MqmBV7r"
      },
      "outputs": [],
      "source": [
        "eliminacion_gaussiana(A,b)"
      ]
    },
    {
      "cell_type": "code",
      "execution_count": null,
      "metadata": {
        "id": "ci14UA1dBV7s"
      },
      "outputs": [],
      "source": [
        "eliminacion_gaussiana_pp(A,b,resultados_parciales=True)"
      ]
    },
    {
      "cell_type": "markdown",
      "metadata": {
        "id": "wfrdzCzGBV7s"
      },
      "source": [
        "### Usando implementaciones de Python"
      ]
    },
    {
      "cell_type": "markdown",
      "metadata": {
        "id": "1wtyyCdKBV7s"
      },
      "source": [
        "Usando numpy."
      ]
    },
    {
      "cell_type": "code",
      "execution_count": null,
      "metadata": {
        "id": "4fflOi0cBV7s"
      },
      "outputs": [],
      "source": [
        "import numpy as np\n",
        "\n",
        "np.linalg.solve(A,b)"
      ]
    },
    {
      "cell_type": "code",
      "execution_count": null,
      "metadata": {
        "id": "VoU2N_XKBV7t"
      },
      "outputs": [],
      "source": [
        "np.linalg.inv(A)@b"
      ]
    },
    {
      "cell_type": "markdown",
      "metadata": {
        "id": "GMN7pFjBBV7t"
      },
      "source": [
        "Usando [`scipy`](https://docs.scipy.org/doc/scipy/tutorial/index.html#user-guide)"
      ]
    },
    {
      "cell_type": "code",
      "execution_count": null,
      "metadata": {
        "id": "uqvvx4LcBV7t"
      },
      "outputs": [],
      "source": [
        "import scipy\n",
        "\n",
        "scipy.linalg.solve(A,b)"
      ]
    },
    {
      "cell_type": "markdown",
      "metadata": {
        "id": "BLXc0vxmBV7u"
      },
      "source": [
        "En el siguiente ejemplo vemos que, en general, necesitamos el método con pivoteo parcial"
      ]
    },
    {
      "cell_type": "code",
      "execution_count": null,
      "metadata": {
        "id": "3ne0astDBV7u"
      },
      "outputs": [],
      "source": [
        "A = np.array([[0,2,1],[5,0,4],[1,1,-1]],dtype=float)\n",
        "b = np.array([1,2,1],dtype=float)\n",
        "print(A,\"\\n\\n\",b,\"\\n\")\n",
        "\n",
        "print(f\"Eliminación Gaussiana sin pivoteo parcial\\n{eliminacion_gaussiana(A,b)}\\n\")\n",
        "print(f\"Eliminación Gaussiana con pivoteo parcial\\n{eliminacion_gaussiana_pp(A,b)}\\n\")\n",
        "print(f\"Usando el solver de numpy\\n{np.linalg.solve(A,b)}\")"
      ]
    },
    {
      "cell_type": "markdown",
      "metadata": {
        "id": "QtaowWdIBV7u"
      },
      "source": [
        "Comparemos el tiempo de ejecución de ambas opciones (la propia y la de Python):"
      ]
    },
    {
      "cell_type": "code",
      "execution_count": null,
      "metadata": {
        "id": "chqfpFDoBV7v"
      },
      "outputs": [],
      "source": [
        "import time\n",
        "import scipy\n",
        "\n",
        "# --- opción 1 ---\n",
        "inicio = time.time()\n",
        "sol = eliminacion_gaussiana(A,b)\n",
        "final = time.time()\n",
        "print(f\"Duración (EG): {final-inicio} segundos\")\n",
        "\n",
        "# --- opción 2 ---\n",
        "inicio = time.time()\n",
        "sol = eliminacion_gaussiana_pp(A,b)\n",
        "final = time.time()\n",
        "print(f\"Duración (EGpp): {final-inicio} segundos\")\n",
        "\n",
        "# --- opción 3 ---\n",
        "inicio = time.time()\n",
        "sol = np.linalg.solve(A,b)\n",
        "final = time.time()\n",
        "print(f\"Duración (numpy): {final-inicio} segundos\")\n",
        "\n",
        "# --- opción 4 ---\n",
        "inicio = time.time()\n",
        "sol = scipy.linalg.solve(A,b)\n",
        "final = time.time()\n",
        "print(f\"Duración (scipy): {final-inicio} segundos\")"
      ]
    },
    {
      "cell_type": "markdown",
      "metadata": {
        "id": "qWUeDV-RBV7v"
      },
      "source": [
        "Ahora, veamos con un ejemplo grande"
      ]
    },
    {
      "cell_type": "code",
      "execution_count": null,
      "metadata": {
        "id": "2POYUGGvBV7v"
      },
      "outputs": [],
      "source": [
        "import numpy as np\n",
        "\n",
        "np.random.seed(22)\n",
        "Ab = np.random.normal(size=(200,201))\n",
        "\n",
        "A = Ab[:,:-1].copy()\n",
        "b = Ab[:,-1].copy()\n",
        "print(f\"Determinante de A: {np.linalg.det(A)}\")"
      ]
    },
    {
      "cell_type": "code",
      "execution_count": null,
      "metadata": {
        "id": "mUy2EuwqBV7w"
      },
      "outputs": [],
      "source": [
        "import time\n",
        "import scipy\n",
        "\n",
        "# --- opción 2 ---\n",
        "inicio = time.time()\n",
        "sol = eliminacion_gaussiana_pp(A,b)\n",
        "final = time.time()\n",
        "print(f\"Duración (EGpp): {final-inicio} segundos\")\n",
        "\n",
        "# --- opción 3 ---\n",
        "inicio = time.time()\n",
        "sol = np.linalg.solve(A,b)\n",
        "final = time.time()\n",
        "print(f\"Duración (numpy): {final-inicio} segundos\")\n",
        "\n",
        "# --- opción 4 ---\n",
        "inicio = time.time()\n",
        "sol = scipy.linalg.solve(A,b)\n",
        "final = time.time()\n",
        "print(f\"Duración (scipy): {final-inicio} segundos\")"
      ]
    }
  ],
  "metadata": {
    "kernelspec": {
      "display_name": "Python 3",
      "language": "python",
      "name": "python3"
    },
    "language_info": {
      "codemirror_mode": {
        "name": "ipython",
        "version": 3
      },
      "file_extension": ".py",
      "mimetype": "text/x-python",
      "name": "python",
      "nbconvert_exporter": "python",
      "pygments_lexer": "ipython3",
      "version": "3.8.10"
    },
    "colab": {
      "provenance": [],
      "include_colab_link": true
    }
  },
  "nbformat": 4,
  "nbformat_minor": 0
}