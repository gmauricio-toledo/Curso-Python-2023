{
 "cells": [
  {
   "cell_type": "code",
   "execution_count": 4,
   "metadata": {},
   "outputs": [],
   "source": [
    "import numpy as np"
   ]
  },
  {
   "cell_type": "markdown",
   "metadata": {},
   "source": [
    "# Eliminación Gaussiana\n",
    "\n",
    "En todas las implementaciones, observar el argumento por default en el llamado a la función"
   ]
  },
  {
   "cell_type": "markdown",
   "metadata": {},
   "source": [
    "Implementación usando vectorización de Numpy"
   ]
  },
  {
   "cell_type": "code",
   "execution_count": 5,
   "metadata": {},
   "outputs": [],
   "source": [
    "def eliminacion_gaussiana(A,b,resultados_parciales=False):\n",
    "    '''\n",
    "    Esta función calcula la solución de un sistema de ecuaciones Ax=b usando Eliminación Gaussiana para llevar la \n",
    "    matriz A a su forma triangular superior y después realiza la sustitución hacia atrás.\n",
    "    '''\n",
    "    n = A.shape[0]\n",
    "    assert b.shape[0] == n  # Aquí nos aseguramos que la forma de b sea compatible con la forma de A\n",
    "    A = np.hstack((A,b.reshape(-1,1))) # Formamos la matriz aumentada del sistema\n",
    "    if resultados_parciales: print(\"Inicial:\\n\", A) # Podemos escribir el if en una sola línea\n",
    "    for k in range(n-1): # Recorremos cada columna\n",
    "        for i in range(k+1,n): # Recorremos de la diagonal hacia adelante\n",
    "            ratio = A[i,k]/A[k,k]\n",
    "            A[i] = A[i]-ratio*A[k] # En este punto usamos la vectorización\n",
    "            if resultados_parciales: print(A)\n",
    "    if resultados_parciales: print(\"Forward elimination:\\n\",A)\n",
    "    variables = A[:,n]\n",
    "    for k in reversed(range(n)): # Realizamos la sustitución hacia atras\n",
    "        for j in range(k+1,n):\n",
    "            variables[k] = variables[k] - A[k,j]*variables[j] # Otra vez, usamos vectorización\n",
    "        variables[k] = variables[k]/A[k,k]\n",
    "    return variables"
   ]
  },
  {
   "cell_type": "markdown",
   "metadata": {},
   "source": [
    "Ahora, incluyamos el pivoteo parcial. Esto lo hacemos manipulando los índices de los arreglos de numpy."
   ]
  },
  {
   "cell_type": "code",
   "execution_count": 6,
   "metadata": {},
   "outputs": [],
   "source": [
    "def eliminacion_gaussiana_pp(A,b,resultados_parciales=False):\n",
    "    '''\n",
    "    Esta función calcula la solución de un sistema de ecuaciones Ax=b usando Eliminación Gaussiana con\n",
    "    pivoteo parcial para llevar la matriz A a su forma triangular superior y después realiza la \n",
    "    sustitución hacia atrás.\n",
    "    '''\n",
    "    n = A.shape[0]\n",
    "    assert b.shape[0] == n\n",
    "    A = np.hstack((A,b.reshape(-1,1))) # Formamos la matriz aumentada del sistema\n",
    "    if resultados_parciales: print(\"Inicial:\\n\", A)\n",
    "    for k in range(n-1):\n",
    "        idx_max = np.argmax(np.abs(A[k:,k])) + k\n",
    "        new_idxs = list(range(A.shape[0]))\n",
    "        new_idxs[k] = idx_max\n",
    "        new_idxs[idx_max] = k\n",
    "        A = A[new_idxs]\n",
    "        if resultados_parciales: print(\"cambio de renglones:\\n\",A)\n",
    "        for i in range(k+1,n):\n",
    "            ratio = A[i,k]/A[k,k]\n",
    "            A[i] = A[i]-ratio*A[k] # En este punto usamos la vectorización\n",
    "            if resultados_parciales: print(A)\n",
    "    if resultados_parciales: print(\"Forward elimination:\\n\",A)\n",
    "    variables = A[:,n]\n",
    "    for k in reversed(range(n)):\n",
    "        for j in range(k+1,n):\n",
    "            variables[k] = variables[k] - A[k,j]*variables[j] # Otra vez, usamos vectorización\n",
    "        variables[k] = variables[k]/A[k,k]\n",
    "    return variables"
   ]
  },
  {
   "cell_type": "markdown",
   "metadata": {},
   "source": [
    "## Aspectos importantes"
   ]
  },
  {
   "cell_type": "markdown",
   "metadata": {},
   "source": [
    "¿Cómo juntamos arreglos en uno solo?"
   ]
  },
  {
   "cell_type": "code",
   "execution_count": 6,
   "metadata": {},
   "outputs": [
    {
     "name": "stdout",
     "output_type": "stream",
     "text": [
      "[[ 3.  2.  1.]\n",
      " [ 5.  3.  4.]\n",
      " [ 1.  1. -1.]]\n",
      "[[1.]\n",
      " [2.]\n",
      " [1.]]\n"
     ]
    },
    {
     "data": {
      "text/plain": [
       "array([[ 3.,  2.,  1.,  1.],\n",
       "       [ 5.,  3.,  4.,  2.],\n",
       "       [ 1.,  1., -1.,  1.]])"
      ]
     },
     "execution_count": 6,
     "metadata": {},
     "output_type": "execute_result"
    }
   ],
   "source": [
    "A = np.array([[3,2,1],[5,3,4],[1,1,-1]],dtype=float)\n",
    "b = np.array([1,2,1],dtype=float)\n",
    "\n",
    "print(A)\n",
    "print(b.reshape(-1,1))\n",
    "np.hstack((A,b.reshape(-1,1)))"
   ]
  },
  {
   "cell_type": "markdown",
   "metadata": {},
   "source": [
    "¿Cómo intercambiamos dos líneas de un arreglo?"
   ]
  },
  {
   "cell_type": "code",
   "execution_count": 10,
   "metadata": {},
   "outputs": [
    {
     "name": "stdout",
     "output_type": "stream",
     "text": [
      "[[ 3.  2.  1.]\n",
      " [ 5.  3.  4.]\n",
      " [ 1.  1. -1.]]\n",
      "[[ 1.  1. -1.]\n",
      " [ 5.  3.  4.]\n",
      " [ 3.  2.  1.]]\n"
     ]
    }
   ],
   "source": [
    "A = np.array([[3,2,1],[5,3,4],[1,1,-1]],dtype=float)\n",
    "print(A)\n",
    "new_idxs = [2,1,0]\n",
    "A = A[new_idxs]  # Aquí hacemos la permutación\n",
    "print(A)"
   ]
  },
  {
   "cell_type": "markdown",
   "metadata": {},
   "source": [
    "## Ejemplo 1"
   ]
  },
  {
   "cell_type": "markdown",
   "metadata": {},
   "source": [
    "### Usando nuestra implementación"
   ]
  },
  {
   "cell_type": "code",
   "execution_count": 32,
   "metadata": {},
   "outputs": [
    {
     "name": "stdout",
     "output_type": "stream",
     "text": [
      "[[ 3.  2.  1.]\n",
      " [ 5.  3.  4.]\n",
      " [ 1.  1. -1.]] \n",
      "\n",
      " [1. 2. 1.]\n"
     ]
    }
   ],
   "source": [
    "A = np.array([[3,2,1],[5,3,4],[1,1,-1]],dtype=float)\n",
    "b = np.array([1,2,1],dtype=float)\n",
    "print(A,\"\\n\\n\",b)"
   ]
  },
  {
   "cell_type": "code",
   "execution_count": 33,
   "metadata": {},
   "outputs": [
    {
     "data": {
      "text/plain": [
       "array([-4.,  6.,  1.])"
      ]
     },
     "execution_count": 33,
     "metadata": {},
     "output_type": "execute_result"
    }
   ],
   "source": [
    "eliminacion_gaussiana(A,b)"
   ]
  },
  {
   "cell_type": "code",
   "execution_count": 38,
   "metadata": {},
   "outputs": [
    {
     "name": "stdout",
     "output_type": "stream",
     "text": [
      "Inicial:\n",
      " [[ 3.  2.  1.  1.]\n",
      " [ 5.  3.  4.  2.]\n",
      " [ 1.  1. -1.  1.]]\n",
      "cambio de renglones:\n",
      " [[ 5.  3.  4.  2.]\n",
      " [ 3.  2.  1.  1.]\n",
      " [ 1.  1. -1.  1.]]\n",
      "[[ 5.   3.   4.   2. ]\n",
      " [ 0.   0.2 -1.4 -0.2]\n",
      " [ 1.   1.  -1.   1. ]]\n",
      "[[ 5.   3.   4.   2. ]\n",
      " [ 0.   0.2 -1.4 -0.2]\n",
      " [ 0.   0.4 -1.8  0.6]]\n",
      "cambio de renglones:\n",
      " [[ 5.   3.   4.   2. ]\n",
      " [ 0.   0.4 -1.8  0.6]\n",
      " [ 0.   0.2 -1.4 -0.2]]\n",
      "[[ 5.   3.   4.   2. ]\n",
      " [ 0.   0.4 -1.8  0.6]\n",
      " [ 0.   0.  -0.5 -0.5]]\n",
      "Forward elimination:\n",
      " [[ 5.   3.   4.   2. ]\n",
      " [ 0.   0.4 -1.8  0.6]\n",
      " [ 0.   0.  -0.5 -0.5]]\n"
     ]
    },
    {
     "data": {
      "text/plain": [
       "array([-4.,  6.,  1.])"
      ]
     },
     "execution_count": 38,
     "metadata": {},
     "output_type": "execute_result"
    }
   ],
   "source": [
    "eliminacion_gaussiana_pp(A,b,resultados_parciales=True)"
   ]
  },
  {
   "cell_type": "markdown",
   "metadata": {},
   "source": [
    "### Usando implementaciones de Python"
   ]
  },
  {
   "cell_type": "markdown",
   "metadata": {},
   "source": [
    "Usando numpy."
   ]
  },
  {
   "cell_type": "code",
   "execution_count": 15,
   "metadata": {},
   "outputs": [
    {
     "data": {
      "text/plain": [
       "array([-4.,  6.,  1.])"
      ]
     },
     "execution_count": 15,
     "metadata": {},
     "output_type": "execute_result"
    }
   ],
   "source": [
    "import numpy as np\n",
    "\n",
    "np.linalg.solve(A,b)"
   ]
  },
  {
   "cell_type": "code",
   "execution_count": 16,
   "metadata": {},
   "outputs": [
    {
     "data": {
      "text/plain": [
       "array([-4.,  6.,  1.])"
      ]
     },
     "execution_count": 16,
     "metadata": {},
     "output_type": "execute_result"
    }
   ],
   "source": [
    "np.linalg.inv(A)@b"
   ]
  },
  {
   "cell_type": "markdown",
   "metadata": {},
   "source": [
    "Usando [`scipy`](https://docs.scipy.org/doc/scipy/tutorial/index.html#user-guide)"
   ]
  },
  {
   "cell_type": "code",
   "execution_count": 24,
   "metadata": {},
   "outputs": [
    {
     "data": {
      "text/plain": [
       "array([-4.,  6.,  1.])"
      ]
     },
     "execution_count": 24,
     "metadata": {},
     "output_type": "execute_result"
    }
   ],
   "source": [
    "import scipy\n",
    "\n",
    "scipy.linalg.solve(A,b)"
   ]
  },
  {
   "cell_type": "markdown",
   "metadata": {},
   "source": [
    "En el siguiente ejemplo vemos que, en general, necesitamos el método con pivoteo parcial"
   ]
  },
  {
   "cell_type": "code",
   "execution_count": null,
   "metadata": {},
   "outputs": [],
   "source": [
    "A = np.array([[0,2,1],[5,0,4],[1,1,-1]],dtype=float)\n",
    "b = np.array([1,2,1],dtype=float)\n",
    "print(A,\"\\n\\n\",b,\"\\n\")\n",
    "\n",
    "print(f\"Eliminación Gaussiana sin pivoteo parcial\\n{eliminacion_gaussiana(A,b)}\\n\")\n",
    "print(f\"Eliminación Gaussiana con pivoteo parcial\\n{eliminacion_gaussiana_pp(A,b)}\\n\")\n",
    "print(f\"Usando el solver de numpy\\n{np.linalg.solve(A,b)}\")"
   ]
  },
  {
   "cell_type": "markdown",
   "metadata": {},
   "source": [
    "Comparemos el tiempo de ejecución de ambas opciones (la propia y la de Python):"
   ]
  },
  {
   "cell_type": "code",
   "execution_count": 42,
   "metadata": {},
   "outputs": [
    {
     "name": "stdout",
     "output_type": "stream",
     "text": [
      "Duración: 0.0003113746643066406 segundos\n",
      "Duración: 0.00017833709716796875 segundos\n",
      "Duración: 8.392333984375e-05 segundos\n",
      "Duración: 0.0008668899536132812 segundos\n"
     ]
    }
   ],
   "source": [
    "import time\n",
    "import scipy\n",
    "\n",
    "# --- opción 1 ---\n",
    "inicio = time.time()\n",
    "sol = eliminacion_gaussiana(A,b)\n",
    "final = time.time()\n",
    "print(f\"Duración (EG): {final-inicio} segundos\")\n",
    "\n",
    "# --- opción 2 ---\n",
    "inicio = time.time()\n",
    "sol = eliminacion_gaussiana_pp(A,b)\n",
    "final = time.time()\n",
    "print(f\"Duración (EGpp): {final-inicio} segundos\")\n",
    "\n",
    "# --- opción 3 ---\n",
    "inicio = time.time()\n",
    "sol = np.linalg.solve(A,b)\n",
    "final = time.time()\n",
    "print(f\"Duración (numpy): {final-inicio} segundos\")\n",
    "\n",
    "# --- opción 4 ---\n",
    "inicio = time.time()\n",
    "sol = scipy.linalg.solve(A,b)\n",
    "final = time.time()\n",
    "print(f\"Duración (scipy): {final-inicio} segundos\")"
   ]
  },
  {
   "cell_type": "markdown",
   "metadata": {},
   "source": [
    "Ahora, veamos con un ejemplo grande"
   ]
  },
  {
   "cell_type": "code",
   "execution_count": 20,
   "metadata": {},
   "outputs": [
    {
     "name": "stdout",
     "output_type": "stream",
     "text": [
      "Determinante de A: 1.7298866403633389e+187\n"
     ]
    }
   ],
   "source": [
    "import numpy as np\n",
    "\n",
    "np.random.seed(22)\n",
    "Ab = np.random.normal(size=(200,201))\n",
    "\n",
    "A = Ab[:,:-1].copy()\n",
    "b = Ab[:,-1].copy()\n",
    "print(f\"Determinante de A: {np.linalg.det(A)}\")"
   ]
  },
  {
   "cell_type": "code",
   "execution_count": 21,
   "metadata": {},
   "outputs": [
    {
     "name": "stdout",
     "output_type": "stream",
     "text": [
      "Duración (EGpp): 0.1434800624847412 segundos\n",
      "Duración (numpy): 0.000736236572265625 segundos\n",
      "Duración (scipy): 0.0961148738861084 segundos\n"
     ]
    }
   ],
   "source": [
    "import time\n",
    "import scipy\n",
    "\n",
    "# --- opción 2 ---\n",
    "inicio = time.time()\n",
    "sol = eliminacion_gaussiana_pp(A,b)\n",
    "final = time.time()\n",
    "print(f\"Duración (EGpp): {final-inicio} segundos\")\n",
    "\n",
    "# --- opción 3 ---\n",
    "inicio = time.time()\n",
    "sol = np.linalg.solve(A,b)\n",
    "final = time.time()\n",
    "print(f\"Duración (numpy): {final-inicio} segundos\")\n",
    "\n",
    "# --- opción 4 ---\n",
    "inicio = time.time()\n",
    "sol = scipy.linalg.solve(A,b)\n",
    "final = time.time()\n",
    "print(f\"Duración (scipy): {final-inicio} segundos\")"
   ]
  },
  {
   "cell_type": "markdown",
   "metadata": {},
   "source": [
    "# Método de Simpson para Integración"
   ]
  },
  {
   "cell_type": "markdown",
   "metadata": {},
   "source": []
  }
 ],
 "metadata": {
  "kernelspec": {
   "display_name": "Python 3",
   "language": "python",
   "name": "python3"
  },
  "language_info": {
   "codemirror_mode": {
    "name": "ipython",
    "version": 3
   },
   "file_extension": ".py",
   "mimetype": "text/x-python",
   "name": "python",
   "nbconvert_exporter": "python",
   "pygments_lexer": "ipython3",
   "version": "3.8.10"
  }
 },
 "nbformat": 4,
 "nbformat_minor": 2
}
