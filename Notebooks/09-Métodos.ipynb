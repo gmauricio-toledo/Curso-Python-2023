{
  "cells": [
    {
      "cell_type": "markdown",
      "metadata": {
        "colab_type": "text",
        "id": "view-in-github"
      },
      "source": [
        "<a href=\"https://colab.research.google.com/github/gmauricio-toledo/Curso-Python-2023/blob/main/Notebooks/09-M%C3%A9todos.ipynb\" target=\"_parent\"><img src=\"https://colab.research.google.com/assets/colab-badge.svg\" alt=\"Open In Colab\"/></a>"
      ]
    },
    {
      "cell_type": "markdown",
      "metadata": {},
      "source": [
        "En esta notebook pondremos en práctica lo aprendido en las sesiones anteriores implementando algunos métodos numéricos. Concretamente:\n",
        "\n",
        "* **Eliminación Gaussiana**: Iteración, argumentos por default, vectorización y slicing de numpy.\n",
        "* **Regla de Simpson de aplicación multiple**: Evaluación de derivadas en simpy, slicing.\n",
        "* **Métodos de Runge-Kutta para EDO**: Vectorización, clases y el tipo `None`. "
      ]
    },
    {
      "cell_type": "code",
      "execution_count": null,
      "metadata": {
        "id": "c3HLz5qZBV7f"
      },
      "outputs": [],
      "source": [
        "import numpy as np"
      ]
    },
    {
      "cell_type": "markdown",
      "metadata": {
        "id": "xblT6awOBV7h"
      },
      "source": [
        "# 1. Eliminación Gaussiana\n",
        "\n",
        "En todas las implementaciones, observar el argumento por default en el llamado a la función"
      ]
    },
    {
      "cell_type": "markdown",
      "metadata": {
        "id": "cRSLL7EVBV7i"
      },
      "source": [
        "Implementación usando vectorización de Numpy"
      ]
    },
    {
      "cell_type": "code",
      "execution_count": null,
      "metadata": {
        "id": "JUP28106BV7i"
      },
      "outputs": [],
      "source": [
        "def eliminacion_gaussiana(A,b,resultados_parciales=False):\n",
        "    '''\n",
        "    Esta función calcula la solución de un sistema de ecuaciones Ax=b usando Eliminación Gaussiana para llevar la\n",
        "    matriz A a su forma triangular superior y después realiza la sustitución hacia atrás.\n",
        "    '''\n",
        "    n = A.shape[0]\n",
        "    assert b.shape[0] == n  # Aquí nos aseguramos que la forma de b sea compatible con la forma de A\n",
        "    A = np.hstack((A,b.reshape(-1,1))) # Formamos la matriz aumentada del sistema\n",
        "    if resultados_parciales: print(\"Inicial:\\n\", A) # Podemos escribir el if en una sola línea\n",
        "    for k in range(n-1): # Recorremos cada columna\n",
        "        for i in range(k+1,n): # Recorremos de la diagonal hacia adelante\n",
        "            ratio = A[i,k]/A[k,k]\n",
        "            A[i] = A[i]-ratio*A[k] # En este punto usamos la vectorización\n",
        "            if resultados_parciales: print(A)\n",
        "    if resultados_parciales: print(\"Forward elimination:\\n\",A)\n",
        "    variables = A[:,n]\n",
        "    for k in reversed(range(n)): # Realizamos la sustitución hacia atras\n",
        "        for j in range(k+1,n):\n",
        "            variables[k] = variables[k] - A[k,j]*variables[j] # Otra vez, usamos vectorización\n",
        "        variables[k] = variables[k]/A[k,k]\n",
        "    return variables"
      ]
    },
    {
      "cell_type": "markdown",
      "metadata": {
        "id": "jTqshx8PBV7k"
      },
      "source": [
        "Ahora, incluyamos el pivoteo parcial. Esto lo hacemos manipulando los índices de los arreglos de numpy."
      ]
    },
    {
      "cell_type": "code",
      "execution_count": null,
      "metadata": {
        "id": "EVRkv5CeBV7l"
      },
      "outputs": [],
      "source": [
        "def eliminacion_gaussiana_pp(A,b,resultados_parciales=False):\n",
        "    '''\n",
        "    Esta función calcula la solución de un sistema de ecuaciones Ax=b usando Eliminación Gaussiana con\n",
        "    pivoteo parcial para llevar la matriz A a su forma triangular superior y después realiza la\n",
        "    sustitución hacia atrás.\n",
        "    '''\n",
        "    n = A.shape[0]\n",
        "    assert b.shape[0] == n\n",
        "    A = np.hstack((A,b.reshape(-1,1))) # Formamos la matriz aumentada del sistema\n",
        "    if resultados_parciales: print(\"Inicial:\\n\", A)\n",
        "    for k in range(n-1):\n",
        "        #------- Pivoteo parcial -------\n",
        "        idx_max = np.argmax(np.abs(A[k:,k])) + k\n",
        "        new_idxs = list(range(A.shape[0]))\n",
        "        new_idxs[k] = idx_max\n",
        "        new_idxs[idx_max] = k\n",
        "        A = A[new_idxs]\n",
        "        #--------------------------------\n",
        "        if resultados_parciales: print(\"cambio de renglones:\\n\",A)\n",
        "        for i in range(k+1,n):\n",
        "            ratio = A[i,k]/A[k,k]\n",
        "            A[i] = A[i]-ratio*A[k] # En este punto usamos la vectorización\n",
        "            if resultados_parciales: print(A)\n",
        "    if resultados_parciales: print(\"Forward elimination:\\n\",A)\n",
        "    variables = A[:,n]\n",
        "    for k in reversed(range(n)):\n",
        "        for j in range(k+1,n):\n",
        "            variables[k] = variables[k] - A[k,j]*variables[j] # Otra vez, usamos vectorización\n",
        "        variables[k] = variables[k]/A[k,k]\n",
        "    return variables"
      ]
    },
    {
      "cell_type": "markdown",
      "metadata": {
        "id": "ynHjGzSKBV7n"
      },
      "source": [
        "## Aspectos importantes"
      ]
    },
    {
      "cell_type": "markdown",
      "metadata": {
        "id": "ZBstV4xVBV7n"
      },
      "source": [
        "¿Cómo juntamos arreglos en uno solo?"
      ]
    },
    {
      "cell_type": "code",
      "execution_count": null,
      "metadata": {
        "id": "vy9HtDw3BV7o"
      },
      "outputs": [],
      "source": [
        "A = np.array([[3,2,1],[5,3,4],[1,1,-1]],dtype=float)\n",
        "b = np.array([1,2,1],dtype=float)\n",
        "\n",
        "print(A)\n",
        "print(b.reshape(-1,1))\n",
        "np.hstack((A,b.reshape(-1,1)))"
      ]
    },
    {
      "cell_type": "markdown",
      "metadata": {
        "id": "WGgd4vcZBV7p"
      },
      "source": [
        "¿Cómo intercambiamos dos líneas de un arreglo?"
      ]
    },
    {
      "cell_type": "code",
      "execution_count": null,
      "metadata": {
        "id": "RGQ0V5FMBV7q"
      },
      "outputs": [],
      "source": [
        "A = np.array([[3,2,1],[5,3,4],[1,1,-1]],dtype=float)\n",
        "print(A)\n",
        "new_idxs = [2,1,0]\n",
        "A = A[new_idxs]  # Aquí hacemos la permutación\n",
        "print(A)"
      ]
    },
    {
      "cell_type": "markdown",
      "metadata": {
        "id": "hCsHns2jBV7q"
      },
      "source": [
        "## Ejemplo 1"
      ]
    },
    {
      "cell_type": "markdown",
      "metadata": {
        "id": "sdyVbnctBV7q"
      },
      "source": [
        "### Usando nuestra implementación"
      ]
    },
    {
      "cell_type": "code",
      "execution_count": null,
      "metadata": {
        "id": "lDiVPQ6wBV7r"
      },
      "outputs": [],
      "source": [
        "A = np.array([[3,2,1],[5,3,4],[1,1,-1]],dtype=float)\n",
        "b = np.array([1,2,1],dtype=float)\n",
        "print(A,\"\\n\\n\",b)"
      ]
    },
    {
      "cell_type": "code",
      "execution_count": null,
      "metadata": {
        "id": "aTac8MqmBV7r"
      },
      "outputs": [],
      "source": [
        "eliminacion_gaussiana(A,b)"
      ]
    },
    {
      "cell_type": "code",
      "execution_count": null,
      "metadata": {
        "id": "ci14UA1dBV7s"
      },
      "outputs": [],
      "source": [
        "eliminacion_gaussiana_pp(A,b,resultados_parciales=True)"
      ]
    },
    {
      "cell_type": "markdown",
      "metadata": {
        "id": "wfrdzCzGBV7s"
      },
      "source": [
        "### Usando implementaciones de Python"
      ]
    },
    {
      "cell_type": "markdown",
      "metadata": {
        "id": "1wtyyCdKBV7s"
      },
      "source": [
        "Usando numpy."
      ]
    },
    {
      "cell_type": "code",
      "execution_count": null,
      "metadata": {
        "id": "4fflOi0cBV7s"
      },
      "outputs": [],
      "source": [
        "import numpy as np\n",
        "\n",
        "np.linalg.solve(A,b)"
      ]
    },
    {
      "cell_type": "code",
      "execution_count": null,
      "metadata": {
        "id": "VoU2N_XKBV7t"
      },
      "outputs": [],
      "source": [
        "np.linalg.inv(A)@b"
      ]
    },
    {
      "cell_type": "markdown",
      "metadata": {
        "id": "GMN7pFjBBV7t"
      },
      "source": [
        "Usando [`scipy`](https://docs.scipy.org/doc/scipy/tutorial/index.html#user-guide)"
      ]
    },
    {
      "cell_type": "code",
      "execution_count": null,
      "metadata": {
        "id": "uqvvx4LcBV7t"
      },
      "outputs": [],
      "source": [
        "import scipy\n",
        "\n",
        "scipy.linalg.solve(A,b)"
      ]
    },
    {
      "cell_type": "markdown",
      "metadata": {
        "id": "BLXc0vxmBV7u"
      },
      "source": [
        "En el siguiente ejemplo vemos que, en general, necesitamos el método con pivoteo parcial"
      ]
    },
    {
      "cell_type": "code",
      "execution_count": null,
      "metadata": {
        "id": "3ne0astDBV7u"
      },
      "outputs": [],
      "source": [
        "A = np.array([[0,2,1],[5,0,4],[1,1,-1]],dtype=float)\n",
        "b = np.array([1,2,1],dtype=float)\n",
        "print(A,\"\\n\\n\",b,\"\\n\")\n",
        "\n",
        "print(f\"Eliminación Gaussiana sin pivoteo parcial\\n{eliminacion_gaussiana(A,b)}\\n\")\n",
        "print(f\"Eliminación Gaussiana con pivoteo parcial\\n{eliminacion_gaussiana_pp(A,b)}\\n\")\n",
        "print(f\"Usando el solver de numpy\\n{np.linalg.solve(A,b)}\")"
      ]
    },
    {
      "cell_type": "markdown",
      "metadata": {
        "id": "QtaowWdIBV7u"
      },
      "source": [
        "Comparemos el tiempo de ejecución de ambas opciones (la propia y la de Python):"
      ]
    },
    {
      "cell_type": "code",
      "execution_count": null,
      "metadata": {
        "id": "chqfpFDoBV7v"
      },
      "outputs": [],
      "source": [
        "import time\n",
        "import scipy\n",
        "\n",
        "# --- opción 1 ---\n",
        "inicio = time.time()\n",
        "sol = eliminacion_gaussiana(A,b)\n",
        "final = time.time()\n",
        "print(f\"Duración (EG): {final-inicio} segundos\")\n",
        "\n",
        "# --- opción 2 ---\n",
        "inicio = time.time()\n",
        "sol = eliminacion_gaussiana_pp(A,b)\n",
        "final = time.time()\n",
        "print(f\"Duración (EGpp): {final-inicio} segundos\")\n",
        "\n",
        "# --- opción 3 ---\n",
        "inicio = time.time()\n",
        "sol = np.linalg.solve(A,b)\n",
        "final = time.time()\n",
        "print(f\"Duración (numpy): {final-inicio} segundos\")\n",
        "\n",
        "# --- opción 4 ---\n",
        "inicio = time.time()\n",
        "sol = scipy.linalg.solve(A,b)\n",
        "final = time.time()\n",
        "print(f\"Duración (scipy): {final-inicio} segundos\")"
      ]
    },
    {
      "cell_type": "markdown",
      "metadata": {
        "id": "qWUeDV-RBV7v"
      },
      "source": [
        "Ahora, veamos con un ejemplo grande"
      ]
    },
    {
      "cell_type": "code",
      "execution_count": null,
      "metadata": {
        "id": "2POYUGGvBV7v"
      },
      "outputs": [],
      "source": [
        "import numpy as np\n",
        "\n",
        "np.random.seed(22)\n",
        "Ab = np.random.normal(size=(200,201))\n",
        "\n",
        "A = Ab[:,:-1].copy()\n",
        "b = Ab[:,-1].copy()\n",
        "print(f\"Determinante de A: {np.linalg.det(A)}\")"
      ]
    },
    {
      "cell_type": "code",
      "execution_count": null,
      "metadata": {
        "id": "mUy2EuwqBV7w"
      },
      "outputs": [],
      "source": [
        "import time\n",
        "import scipy\n",
        "\n",
        "# --- opción 2 ---\n",
        "inicio = time.time()\n",
        "sol = eliminacion_gaussiana_pp(A,b)\n",
        "final = time.time()\n",
        "print(f\"Duración (EGpp): {final-inicio} segundos\")\n",
        "\n",
        "# --- opción 3 ---\n",
        "inicio = time.time()\n",
        "sol = np.linalg.solve(A,b)\n",
        "final = time.time()\n",
        "print(f\"Duración (numpy): {final-inicio} segundos\")\n",
        "\n",
        "# --- opción 4 ---\n",
        "inicio = time.time()\n",
        "sol = scipy.linalg.solve(A,b)\n",
        "final = time.time()\n",
        "print(f\"Duración (scipy): {final-inicio} segundos\")"
      ]
    },
    {
      "cell_type": "markdown",
      "metadata": {},
      "source": [
        "# 2. Regla de Simpson para integrar"
      ]
    },
    {
      "cell_type": "code",
      "execution_count": 13,
      "metadata": {},
      "outputs": [],
      "source": [
        "import sympy as sym\n",
        "\n",
        "def simpson_compuesta(f_str:str,a:float,b:float,n):\n",
        "    '''\n",
        "    f_str:      Expresión como string de la función a integrar, la función debe estar \n",
        "                expresada en términos de 'x' \n",
        "    [a,b]:      Intervalo de integración\n",
        "    n:          Número de subintervalos a considerar\n",
        "    prom_df4:   Promedio de la segunda derivada en el intervalo\n",
        "    int_real:   Valor real de la integral en el intervalo [a,b]\n",
        "    '''\n",
        "    if a<=b and n%2==0: # Hay que verificar que el número de subintervalos sea par\n",
        "        # --- Obtener la función de python \n",
        "        f = sym.lambdify(sym.symbols(\"x\"), sym.sympify(f_str))\n",
        "        # --- Cálculo de la aproximación a la integral ---\n",
        "        nodos = np.linspace(a,b,n+1)\n",
        "        indices_int_pares = [j for j in range(1,nodos.shape[0]-1) if j%2==0]\n",
        "        indices_int_impares = [j for j in range(nodos.shape[0]) if (j-1)%2==0]\n",
        "        suma_nodos_pares = np.sum(f(nodos[indices_int_pares]))\n",
        "        suma_nodos_impares = np.sum(f(nodos[indices_int_impares]))\n",
        "        aproximacion = (b-a)*(f(a)+4*suma_nodos_impares+2*suma_nodos_pares+f(b))/(3*n)\n",
        "        resultado = {'aproximación': aproximacion}\n",
        "        # --- Cálculo del error aproximado ---\n",
        "        d3_f = sym.diff(sym.sympify(f_str), sym.symbols(\"x\"), 3)\n",
        "        d3_f = sym.lambdify(sym.symbols(\"x\"), d3_f)\n",
        "        prom_derivadas_cuartas = (d3_f(b)-d3_f(a))/(b-a)\n",
        "        error_aprox = -(prom_derivadas_cuartas*(b-a)**5)/(180*n**4)\n",
        "        resultado['error aproximado'] = error_aprox\n",
        "        return resultado\n",
        "    else:\n",
        "        print(\"revisar los parámetros\")"
      ]
    },
    {
      "cell_type": "markdown",
      "metadata": {},
      "source": [
        "Aproximemos el valor de la integral \n",
        "\n",
        "$$\\int_0^3 4-0.5x-2x^2+0.5x^3+0.1 x^4 dx = 6.735$$"
      ]
    },
    {
      "cell_type": "code",
      "execution_count": 14,
      "metadata": {},
      "outputs": [
        {
          "data": {
            "text/plain": [
              "{'aproximación': 6.737500000000001, 'error aproximado': -0.0024999999999999996}"
            ]
          },
          "execution_count": 14,
          "metadata": {},
          "output_type": "execute_result"
        }
      ],
      "source": [
        "simpson_compuesta(f_str=\"4-0.5*x-2*x**2+0.5*x**3+0.1*x**4\",\n",
        "                  a=0,\n",
        "                  b=3,\n",
        "                  n=6)"
      ]
    },
    {
      "cell_type": "markdown",
      "metadata": {},
      "source": [
        "## Aspectos importantes"
      ]
    },
    {
      "cell_type": "markdown",
      "metadata": {},
      "source": [
        "¿Cómo accedemos a los nodos pares/impares interiores?"
      ]
    },
    {
      "cell_type": "code",
      "execution_count": 15,
      "metadata": {},
      "outputs": [
        {
          "name": "stdout",
          "output_type": "stream",
          "text": [
            "[4.  4.5 5.  5.5 6.  6.5 7.  7.5 8. ]\n",
            "Nodos interiores pares: [5. 6. 7.]\n",
            "Nodos interiores impares: [4.5 5.5 6.5 7.5]\n"
          ]
        }
      ],
      "source": [
        "import numpy as np\n",
        "\n",
        "v = np.array([4,4.5,5,5.5,6,6.5,7,7.5,8])\n",
        "print(v)\n",
        "\n",
        "indices_int_pares = [j for j in range(1,v.shape[0]-1) if j%2==0]\n",
        "indices_int_impares = [j for j in range(v.shape[0]) if (j-1)%2==0]\n",
        "print(f\"Nodos interiores pares: {v[indices_int_pares]}\")\n",
        "print(f\"Nodos interiores impares: {v[indices_int_impares]}\")"
      ]
    },
    {
      "cell_type": "markdown",
      "metadata": {},
      "source": [
        "# 3. Métodos de Runge-Kutta"
      ]
    },
    {
      "cell_type": "markdown",
      "metadata": {},
      "source": [
        "La siguiente es una implementación de los métodos de Runge-Kutta de orden 2, 3 y 4 en una clase. De esta forma, se considera como si el método estuviera *empaquetado* en un objeto que contiene métodos y atributos. Esto genera una implementación más versatil y limpia.\n",
        "\n",
        "Recordar que, dentro de una clase:\n",
        "* Una variable se llama **atributo**.\n",
        "* Una función se llama **método**.\n",
        "\n",
        "Observa la *keyword* `self`. Cuando se trabaja con clases en Python, el término \"self\" se refiere a la instancia de la clase que se está utilizando en el momento. Es habitual utilizar \"self\" como primer parámetro en los métodos de instancia de una clase. Esto le **permite modificar los atributos del objeto y ejecutar métodos de la instancia.\n",
        "\n",
        "Por otro lado, observa la *keyword* `None`. Es un tipo de dato *nulo*, no es una string \"\". tampoco `0` o `False`. Son útiles, por ejemplo, para asignarlos como valor por defecto a argumentos que podemos o no recibir. \n",
        "\n",
        "Finalmente, observa el módulo Pandas ([documentación](https://pandas.pydata.org/docs/user_guide/index.html)). Sirve para presentar y manipular datos tabulares de forma eficiente y flexible.\n",
        "\n"
      ]
    },
    {
      "cell_type": "markdown",
      "metadata": {},
      "source": [
        "El problema a resolver es la EDO\n",
        "$$\\frac{dy}{dx}=f(x,y)$$"
      ]
    },
    {
      "cell_type": "markdown",
      "metadata": {},
      "source": [
        "<div>\n",
        "<img src=\"https://github.com/gmauricio-toledo/Curso-Python-2023/blob/main/Notebooks/img/rk-orden2.png?raw=1\" width=\"600\"/>\n",
        "</div>"
      ]
    },
    {
      "cell_type": "markdown",
      "metadata": {},
      "source": [
        "<div>\n",
        "<img src=\"https://github.com/gmauricio-toledo/Curso-Python-2023/blob/main/Notebooks/img/rk-orden3.png?raw=1\" width=\"600\"/>\n",
        "</div>"
      ]
    },
    {
      "cell_type": "markdown",
      "metadata": {},
      "source": [
        "<div>\n",
        "<img src=\"https://github.com/gmauricio-toledo/Curso-Python-2023/blob/main/Notebooks/img/rk-orden4.png?raw=1\" width=\"600\"/>\n",
        "</div>"
      ]
    },
    {
      "cell_type": "code",
      "execution_count": 9,
      "metadata": {},
      "outputs": [],
      "source": [
        "import matplotlib.pyplot as plt\n",
        "import numpy as np\n",
        "import pandas as pd\n",
        "\n",
        "class RungeKutta:\n",
        "    '''\n",
        "    Implementación de los métodos de Runge-Kutta de orden 2,3,4 para resolver EDOs escalares\n",
        "    '''\n",
        "\n",
        "    def __init__(self,f,sol=None,order=3,a_order2=None,name=None):\n",
        "        '''\n",
        "        Este método se llama \"constructor\" y es la función que se ejecuta cuando\n",
        "        se inicializa el objeto, está función crea el objeto \"en blanco\".\n",
        "        '''\n",
        "        self.f = f  # Creamos un atributo de la clase que se llama \"f\"\n",
        "        self.sol = sol\n",
        "        assert order==2 or order==3 or order==4  # Verificamos que el orden sea 2, 3 o 4\n",
        "        self.order = order \n",
        "        if name is not None:\n",
        "            name_meaning_dict = {'Euler': 0,\n",
        "                                 'Heun': 0.5,\n",
        "                                 'Mid': 1,\n",
        "                                 'Ralston': 2/3}\n",
        "            if name in name_meaning_dict.keys():\n",
        "                self.a2 = name_meaning_dict[name]\n",
        "                self.__get_params()\n",
        "                self.order = 2\n",
        "            else:\n",
        "                raise KeyError(f\"Nombre no valido: {name}\")\n",
        "        else:\n",
        "            if self.order == 2:\n",
        "                assert a_order2 is not None\n",
        "                self.a2 = a_order2\n",
        "                self.__get_params()\n",
        "\n",
        "    def __get_params(self):\n",
        "        '''\n",
        "        función que obtiene el resto de parametros de RK de orden 2 a partir del valor de a2\n",
        "        '''\n",
        "        self.a1 = 1-self.a2\n",
        "        if self.a2!=0:\n",
        "            self.p = 1/(2*self.a2)\n",
        "        else:\n",
        "            self.p = 1\n",
        "        self.q = self.p\n",
        "\n",
        "    def solve(self,a,b,h,x0,y0):\n",
        "        assert a==x0        \n",
        "        self.a = a\n",
        "        self.b = b\n",
        "        self.h = h\n",
        "        n = int((b-a)/h)\n",
        "        xs = np.linspace(a,b,n+1)\n",
        "        ys = np.zeros_like(xs)\n",
        "        ys[0] = y0\n",
        "        for j in range(1,n+1):\n",
        "            k1 = self.f(xs[j-1],ys[j-1])\n",
        "            if self.order==2:\n",
        "                k2 = self.f(xs[j-1]+self.p*h,ys[j-1]+self.q*k1*h)\n",
        "                ys[j] = ys[j-1] + (self.a1*k1 + self.a2*k2)*h \n",
        "            else:\n",
        "                k2 = self.f(xs[j-1]+0.5*h,ys[j-1]+0.5*k1*h)\n",
        "                if self.order==3:\n",
        "                    k3 = self.f(xs[j-1]+h,ys[j-1]-k1*h + 2*k2*h)\n",
        "                    ys[j] = ys[j-1] + (1/6)*(k1 + 4*k2+k3)*h\n",
        "                elif self.order==4:\n",
        "                    k3 = self.f(xs[j-1]+0.5*h,ys[j-1] + 0.5*k2*h)\n",
        "                    k4 = self.f(xs[j-1]+h,ys[j-1] + k3*h)\n",
        "                    ys[j] = ys[j-1] + (1/6)*(k1 + 2*k2+2*k3+k4)*h\n",
        "        self.xs = xs \n",
        "        self.ys = ys\n",
        "\n",
        "    def plot(self,plot_nodes=True):\n",
        "        xaxis = np.linspace(self.a,self.b,100)\n",
        "        plt.figure(dpi=100)\n",
        "        plt.plot(self.xs,self.ys,color='blue',label='Solución aprox')\n",
        "        if plot_nodes:\n",
        "            plt.scatter(self.xs,self.ys,color='blue')\n",
        "        if self.sol is not None:\n",
        "            plt.plot(xaxis,[self.sol(x) for x in xaxis],color='red',label='Solución real')\n",
        "            plt.legend(loc='best')\n",
        "        if self.h>0.2:\n",
        "            plt.xticks(self.xs)\n",
        "        plt.show()      \n",
        "\n",
        "    def table(self,num_digits=4):\n",
        "        if self.sol is not None:\n",
        "            valores_reales = self.sol(self.xs)\n",
        "            errores_relativos = (self.sol(self.xs) - self.ys)/self.sol(self.xs)\n",
        "            datos = {'x': self.xs,\n",
        "                     'y aprox': self.ys,\n",
        "                     'y real': valores_reales,\n",
        "                     'error relativo': errores_relativos}            \n",
        "            self.reales = valores_reales\n",
        "            self.ers = errores_relativos\n",
        "        else:\n",
        "            datos = {'x': self.xs,\n",
        "                     'y aprox': self.ys\n",
        "                     }            \n",
        "        self.resultados = pd.DataFrame(datos)\n",
        "        display(self.resultados)\n"
      ]
    },
    {
      "cell_type": "code",
      "execution_count": 6,
      "metadata": {},
      "outputs": [],
      "source": [
        "f = lambda x,y: -2*x**3 + 12*x**2 - 20*x + 8.5\n",
        "sol = lambda x:-0.5*x**4 + 4*x**3 - 10*x**2 + 8.5*x + 1\n",
        "\n",
        "a = 0\n",
        "b = 4\n",
        "h = 0.5\n",
        "x0 = 0\n",
        "y0 = 1"
      ]
    },
    {
      "cell_type": "code",
      "execution_count": 10,
      "metadata": {},
      "outputs": [
        {
          "data": {
            "image/png": "[encoded data removed]",
            "text/plain": [
              "<Figure size 600x400 with 1 Axes>"
            ]
          },
          "metadata": {
            "needs_background": "light"
          },
          "output_type": "display_data"
        },
        {
          "data": {
            "text/html": [
              "<div>\n",
              "<style scoped>\n",
              "    .dataframe tbody tr th:only-of-type {\n",
              "        vertical-align: middle;\n",
              "    }\n",
              "\n",
              "    .dataframe tbody tr th {\n",
              "        vertical-align: top;\n",
              "    }\n",
              "\n",
              "    .dataframe thead th {\n",
              "        text-align: right;\n",
              "    }\n",
              "</style>\n",
              "<table border=\"1\" class=\"dataframe\">\n",
              "  <thead>\n",
              "    <tr style=\"text-align: right;\">\n",
              "      <th></th>\n",
              "      <th>x</th>\n",
              "      <th>y aprox</th>\n",
              "      <th>y real</th>\n",
              "      <th>error relativo</th>\n",
              "    </tr>\n",
              "  </thead>\n",
              "  <tbody>\n",
              "    <tr>\n",
              "      <th>0</th>\n",
              "      <td>0.0</td>\n",
              "      <td>1.0000</td>\n",
              "      <td>1.00000</td>\n",
              "      <td>0.000000</td>\n",
              "    </tr>\n",
              "    <tr>\n",
              "      <th>1</th>\n",
              "      <td>0.5</td>\n",
              "      <td>3.4375</td>\n",
              "      <td>3.21875</td>\n",
              "      <td>-0.067961</td>\n",
              "    </tr>\n",
              "    <tr>\n",
              "      <th>2</th>\n",
              "      <td>1.0</td>\n",
              "      <td>3.3750</td>\n",
              "      <td>3.00000</td>\n",
              "      <td>-0.125000</td>\n",
              "    </tr>\n",
              "    <tr>\n",
              "      <th>3</th>\n",
              "      <td>1.5</td>\n",
              "      <td>2.6875</td>\n",
              "      <td>2.21875</td>\n",
              "      <td>-0.211268</td>\n",
              "    </tr>\n",
              "    <tr>\n",
              "      <th>4</th>\n",
              "      <td>2.0</td>\n",
              "      <td>2.5000</td>\n",
              "      <td>2.00000</td>\n",
              "      <td>-0.250000</td>\n",
              "    </tr>\n",
              "    <tr>\n",
              "      <th>5</th>\n",
              "      <td>2.5</td>\n",
              "      <td>3.1875</td>\n",
              "      <td>2.71875</td>\n",
              "      <td>-0.172414</td>\n",
              "    </tr>\n",
              "    <tr>\n",
              "      <th>6</th>\n",
              "      <td>3.0</td>\n",
              "      <td>4.3750</td>\n",
              "      <td>4.00000</td>\n",
              "      <td>-0.093750</td>\n",
              "    </tr>\n",
              "    <tr>\n",
              "      <th>7</th>\n",
              "      <td>3.5</td>\n",
              "      <td>4.9375</td>\n",
              "      <td>4.71875</td>\n",
              "      <td>-0.046358</td>\n",
              "    </tr>\n",
              "    <tr>\n",
              "      <th>8</th>\n",
              "      <td>4.0</td>\n",
              "      <td>3.0000</td>\n",
              "      <td>3.00000</td>\n",
              "      <td>0.000000</td>\n",
              "    </tr>\n",
              "  </tbody>\n",
              "</table>\n",
              "</div>"
            ],
            "text/plain": [
              "     x  y aprox   y real  error relativo\n",
              "0  0.0   1.0000  1.00000        0.000000\n",
              "1  0.5   3.4375  3.21875       -0.067961\n",
              "2  1.0   3.3750  3.00000       -0.125000\n",
              "3  1.5   2.6875  2.21875       -0.211268\n",
              "4  2.0   2.5000  2.00000       -0.250000\n",
              "5  2.5   3.1875  2.71875       -0.172414\n",
              "6  3.0   4.3750  4.00000       -0.093750\n",
              "7  3.5   4.9375  4.71875       -0.046358\n",
              "8  4.0   3.0000  3.00000        0.000000"
            ]
          },
          "metadata": {},
          "output_type": "display_data"
        }
      ],
      "source": [
        "solver = RungeKutta(f=f,\n",
        "                    name='Heun',\n",
        "                    sol=sol)\n",
        "\n",
        "solver.solve(a,b,h,x0,y0)\n",
        "solver.plot(plot_nodes=True)\n",
        "solver.table()"
      ]
    },
    {
      "cell_type": "code",
      "execution_count": 15,
      "metadata": {},
      "outputs": [
        {
          "data": {
            "text/plain": [
              "array([0. , 0.5, 1. , 1.5, 2. , 2.5, 3. , 3.5, 4. ])"
            ]
          },
          "execution_count": 15,
          "metadata": {},
          "output_type": "execute_result"
        }
      ],
      "source": [
        "solver.xs"
      ]
    },
    {
      "cell_type": "code",
      "execution_count": 16,
      "metadata": {},
      "outputs": [
        {
          "data": {
            "text/plain": [
              "0.5"
            ]
          },
          "execution_count": 16,
          "metadata": {},
          "output_type": "execute_result"
        }
      ],
      "source": [
        "solver.h"
      ]
    },
    {
      "cell_type": "code",
      "execution_count": 12,
      "metadata": {},
      "outputs": [
        {
          "data": {
            "text/html": [
              "<div>\n",
              "<style scoped>\n",
              "    .dataframe tbody tr th:only-of-type {\n",
              "        vertical-align: middle;\n",
              "    }\n",
              "\n",
              "    .dataframe tbody tr th {\n",
              "        vertical-align: top;\n",
              "    }\n",
              "\n",
              "    .dataframe thead th {\n",
              "        text-align: right;\n",
              "    }\n",
              "</style>\n",
              "<table border=\"1\" class=\"dataframe\">\n",
              "  <thead>\n",
              "    <tr style=\"text-align: right;\">\n",
              "      <th></th>\n",
              "      <th>x</th>\n",
              "      <th>y aprox</th>\n",
              "      <th>y real</th>\n",
              "      <th>error relativo</th>\n",
              "    </tr>\n",
              "  </thead>\n",
              "  <tbody>\n",
              "    <tr>\n",
              "      <th>0</th>\n",
              "      <td>0.0</td>\n",
              "      <td>1.0000</td>\n",
              "      <td>1.00000</td>\n",
              "      <td>0.000000</td>\n",
              "    </tr>\n",
              "    <tr>\n",
              "      <th>1</th>\n",
              "      <td>0.5</td>\n",
              "      <td>3.4375</td>\n",
              "      <td>3.21875</td>\n",
              "      <td>-0.067961</td>\n",
              "    </tr>\n",
              "    <tr>\n",
              "      <th>2</th>\n",
              "      <td>1.0</td>\n",
              "      <td>3.3750</td>\n",
              "      <td>3.00000</td>\n",
              "      <td>-0.125000</td>\n",
              "    </tr>\n",
              "    <tr>\n",
              "      <th>3</th>\n",
              "      <td>1.5</td>\n",
              "      <td>2.6875</td>\n",
              "      <td>2.21875</td>\n",
              "      <td>-0.211268</td>\n",
              "    </tr>\n",
              "    <tr>\n",
              "      <th>4</th>\n",
              "      <td>2.0</td>\n",
              "      <td>2.5000</td>\n",
              "      <td>2.00000</td>\n",
              "      <td>-0.250000</td>\n",
              "    </tr>\n",
              "    <tr>\n",
              "      <th>5</th>\n",
              "      <td>2.5</td>\n",
              "      <td>3.1875</td>\n",
              "      <td>2.71875</td>\n",
              "      <td>-0.172414</td>\n",
              "    </tr>\n",
              "    <tr>\n",
              "      <th>6</th>\n",
              "      <td>3.0</td>\n",
              "      <td>4.3750</td>\n",
              "      <td>4.00000</td>\n",
              "      <td>-0.093750</td>\n",
              "    </tr>\n",
              "    <tr>\n",
              "      <th>7</th>\n",
              "      <td>3.5</td>\n",
              "      <td>4.9375</td>\n",
              "      <td>4.71875</td>\n",
              "      <td>-0.046358</td>\n",
              "    </tr>\n",
              "    <tr>\n",
              "      <th>8</th>\n",
              "      <td>4.0</td>\n",
              "      <td>3.0000</td>\n",
              "      <td>3.00000</td>\n",
              "      <td>0.000000</td>\n",
              "    </tr>\n",
              "  </tbody>\n",
              "</table>\n",
              "</div>"
            ],
            "text/plain": [
              "     x  y aprox   y real  error relativo\n",
              "0  0.0   1.0000  1.00000        0.000000\n",
              "1  0.5   3.4375  3.21875       -0.067961\n",
              "2  1.0   3.3750  3.00000       -0.125000\n",
              "3  1.5   2.6875  2.21875       -0.211268\n",
              "4  2.0   2.5000  2.00000       -0.250000\n",
              "5  2.5   3.1875  2.71875       -0.172414\n",
              "6  3.0   4.3750  4.00000       -0.093750\n",
              "7  3.5   4.9375  4.71875       -0.046358\n",
              "8  4.0   3.0000  3.00000        0.000000"
            ]
          },
          "execution_count": 12,
          "metadata": {},
          "output_type": "execute_result"
        }
      ],
      "source": [
        "solver.resultados"
      ]
    },
    {
      "cell_type": "code",
      "execution_count": null,
      "metadata": {},
      "outputs": [],
      "source": []
    }
  ],
  "metadata": {
    "colab": {
      "include_colab_link": true,
      "provenance": []
    },
    "kernelspec": {
      "display_name": "Python 3",
      "language": "python",
      "name": "python3"
    },
    "language_info": {
      "codemirror_mode": {
        "name": "ipython",
        "version": 3
      },
      "file_extension": ".py",
      "mimetype": "text/x-python",
      "name": "python",
      "nbconvert_exporter": "python",
      "pygments_lexer": "ipython3",
      "version": "3.8.10"
    }
  },
  "nbformat": 4,
  "nbformat_minor": 0
}
