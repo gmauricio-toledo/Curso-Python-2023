{
  "nbformat": 4,
  "nbformat_minor": 0,
  "metadata": {
    "colab": {
      "provenance": [],
      "include_colab_link": true
    },
    "kernelspec": {
      "name": "python3",
      "display_name": "Python 3"
    },
    "language_info": {
      "name": "python"
    }
  },
  "cells": [
    {
      "cell_type": "markdown",
      "metadata": {
        "id": "view-in-github",
        "colab_type": "text"
      },
      "source": [
        "<a href=\"https://colab.research.google.com/github/gmauricio-toledo/Curso-Python-2023/blob/main/Notebooks/02-Funciones.ipynb\" target=\"_parent\"><img src=\"https://colab.research.google.com/assets/colab-badge.svg\" alt=\"Open In Colab\"/></a>"
      ]
    },
    {
      "cell_type": "markdown",
      "source": [
        "# Definición de funciones"
      ],
      "metadata": {
        "id": "pOGrrx8QYrmI"
      }
    },
    {
      "cell_type": "markdown",
      "source": [
        "En esta notebook revisaremos cómo definir, usar y graficar funciones usando funciones de Python.\n",
        "\n",
        "En Python, una **función es un bloque de código organizado, reutilizable (DRY- Don't Repeat Yourself) con un nombre** que se utiliza para realizar una única tarea específica. Puede tomar argumentos y puede devuelve algún valor.\n",
        "\n",
        "Las funciones ayudan a dividir nuestro programa en partes más pequeñas y modulares. A medida que nuestro programa se hace más grande, las funciones lo hacen más organizado y manejable.\n",
        "\n",
        "Además, mejoran la eficiencia y reducen los errores gracias a la reutilización de un código.\n",
        "\n",
        "**<h4>Tipos de funciones</h4>**\n",
        "\n",
        "Python soporta dos tipos de funciones\n",
        "\n",
        "1. **Función Built-in**: Las funciones que vienen con Python se denominan funciones incorporadas o predefinidas. Algunas de ellas son:\n",
        "\n",
        "        `range()`, `print()`, `input()`, `type()`, `id()`, `eval()`, ...\n",
        "\n",
        "2. **Función definida por el usuario**: Son funciones creadas explícitamente por el programador según los requisitos respectivos.\n",
        "\n",
        "\n",
        "**Syntaxis:**\n",
        "\n",
        "```python\n",
        "def function_name(parameter1, parameter2, ...):\n",
        "    '''\n",
        "    Descripción ... # <---- descripción de la función (opcional)\n",
        "    '''  \n",
        "    # function body    \n",
        "    return value # Opcional\n",
        "```\n",
        "\n"
      ],
      "metadata": {
        "id": "0-g-lGDsYu-b"
      }
    },
    {
      "cell_type": "markdown",
      "source": [
        "**Ejemplo:** Una función sin parámetros ni `return`"
      ],
      "metadata": {
        "id": "pUM4bPudp-Tj"
      }
    },
    {
      "cell_type": "code",
      "source": [
        "def saludar():\n",
        "    print(\"Welcome to Python\")"
      ],
      "metadata": {
        "id": "lyo6l2ZDfrNL"
      },
      "execution_count": null,
      "outputs": []
    },
    {
      "cell_type": "code",
      "source": [
        "saludar()\n",
        "# saludar()"
      ],
      "metadata": {
        "id": "ObMHYfCTqIwX"
      },
      "execution_count": null,
      "outputs": []
    },
    {
      "cell_type": "markdown",
      "source": [
        "**Ejemplo:** Una función sin parámetros y que regrese un valor"
      ],
      "metadata": {
        "id": "C3j2B9vrqaXX"
      }
    },
    {
      "cell_type": "code",
      "source": [
        "def sumar_numeros():\n",
        "    numero_1 = 3\n",
        "    numero_2 = 6\n",
        "    total = numero_1 + numero_2\n",
        "    return total"
      ],
      "metadata": {
        "id": "R3SCRe8qqe4u"
      },
      "execution_count": null,
      "outputs": []
    },
    {
      "cell_type": "code",
      "source": [
        "sumar_numeros()"
      ],
      "metadata": {
        "id": "KzEK1DgtqyBO"
      },
      "execution_count": null,
      "outputs": []
    },
    {
      "cell_type": "markdown",
      "source": [
        "**Ejemplo**: Una función con parámetros y que regresa un valor. Por ejemplo, podemos definir una función que eleve un número al cuadrado. Las tres opciones son equivalentes:"
      ],
      "metadata": {
        "id": "wZmKpae0aa0J"
      }
    },
    {
      "cell_type": "code",
      "execution_count": null,
      "metadata": {
        "id": "f-9_K3uIYpyo"
      },
      "outputs": [],
      "source": [
        "def elevar_al_cuadrado(x):\n",
        "    y = x*x\n",
        "    return y"
      ]
    },
    {
      "cell_type": "code",
      "source": [
        "def elevar_al_cuadrado(x):\n",
        "    y = x**2\n",
        "    return y"
      ],
      "metadata": {
        "id": "C9c52wsBaiXP"
      },
      "execution_count": null,
      "outputs": []
    },
    {
      "cell_type": "code",
      "source": [
        "def elevar_al_cuadrado(x):\n",
        "    return x**2"
      ],
      "metadata": {
        "id": "jRR5PDzpZvjn"
      },
      "execution_count": null,
      "outputs": []
    },
    {
      "cell_type": "markdown",
      "source": [
        "Las funciones lambda sirven para definir una función sencilla en una sola línea. Suelen usarse para pasar una función sencilla como argumento de un método; de esta manera no tenemos que usar un nombre/definición para una función que no volveremos a usar."
      ],
      "metadata": {
        "id": "B1a_WjH8T16I"
      }
    },
    {
      "cell_type": "code",
      "source": [
        "elevar_al_cuadrado = lambda x: x**2"
      ],
      "metadata": {
        "id": "FRQaQSAmalVr"
      },
      "execution_count": null,
      "outputs": []
    },
    {
      "cell_type": "markdown",
      "source": [
        "Podemos probar cualquiera de las definiciones anteriores:"
      ],
      "metadata": {
        "id": "y8J93rpvUSIi"
      }
    },
    {
      "cell_type": "code",
      "source": [
        "elevar_al_cuadrado(3)"
      ],
      "metadata": {
        "colab": {
          "base_uri": "https://localhost:8080/"
        },
        "id": "0IItQdooT9eQ",
        "outputId": "31fd92e3-ea2e-4ff6-bfca-f638d9ee8aed"
      },
      "execution_count": null,
      "outputs": [
        {
          "output_type": "execute_result",
          "data": {
            "text/plain": [
              "9"
            ]
          },
          "metadata": {},
          "execution_count": 2
        }
      ]
    },
    {
      "cell_type": "markdown",
      "source": [
        "**Ejemplo:** Una función también puede regresar otro tipo de valores"
      ],
      "metadata": {
        "id": "Uby1O3hAntOQ"
      }
    },
    {
      "cell_type": "code",
      "source": [
        "from math import fabs\n",
        "\n",
        "def son_cercanos(x,y):\n",
        "    if fabs(x-y)<0.5:\n",
        "        return True\n",
        "    else:\n",
        "        return False"
      ],
      "metadata": {
        "id": "oRXQryifr9ti"
      },
      "execution_count": null,
      "outputs": []
    },
    {
      "cell_type": "code",
      "source": [
        "son_cercanos(3,6.5)"
      ],
      "metadata": {
        "id": "Xe6wj7NOsTJG"
      },
      "execution_count": null,
      "outputs": []
    },
    {
      "cell_type": "markdown",
      "source": [
        "**Ejemplo:** Una función también puede tomar argumentos nombrados"
      ],
      "metadata": {
        "id": "YvUsrJnqsnqa"
      }
    },
    {
      "cell_type": "code",
      "source": [
        "def dividir(dividendo,divisor):\n",
        "    cociente = dividendo//divisor\n",
        "    residuo = dividendo%divisor\n",
        "    return (cociente,residuo) # Regresamos una tupla\n",
        "\n",
        "# def dividir(dividendo,divisor):\n",
        "#     cociente = dividendo//divisor\n",
        "#     residuo = dividendo%divisor\n",
        "#     return {'cociente':cociente, 'residuo':residuo} # Regresamos un diccionario"
      ],
      "metadata": {
        "id": "8w4UiBQhsrio"
      },
      "execution_count": null,
      "outputs": []
    },
    {
      "cell_type": "code",
      "source": [
        "dividir(divisor=13,dividendo=152)"
      ],
      "metadata": {
        "id": "x1pgyX4ts9mV"
      },
      "execution_count": null,
      "outputs": []
    },
    {
      "cell_type": "code",
      "source": [
        "x = dividir(divisor=13,dividendo=152)\n",
        "\n",
        "print(x)\n",
        "\n",
        "# x['residuo']"
      ],
      "metadata": {
        "id": "EbL7Fz9ltS5p"
      },
      "execution_count": null,
      "outputs": []
    },
    {
      "cell_type": "markdown",
      "source": [
        "Si se ejecuta todo, cuál función es la que se ejecuta"
      ],
      "metadata": {
        "id": "7WHRXkHr63Xv"
      }
    }
  ]
}