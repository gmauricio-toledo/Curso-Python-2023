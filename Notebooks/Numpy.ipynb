{
  "nbformat": 4,
  "nbformat_minor": 0,
  "metadata": {
    "colab": {
      "provenance": [],
      "authorship_tag": "ABX9TyOI6UzwxS92KFAgvt/OlYjh",
      "include_colab_link": true
    },
    "kernelspec": {
      "name": "python3",
      "display_name": "Python 3"
    },
    "language_info": {
      "name": "python"
    }
  },
  "cells": [
    {
      "cell_type": "markdown",
      "metadata": {
        "id": "view-in-github",
        "colab_type": "text"
      },
      "source": [
        "<a href=\"https://colab.research.google.com/github/gmauricio-toledo/Curso-Python-2023/blob/main/Notebooks/Numpy.ipynb\" target=\"_parent\"><img src=\"https://colab.research.google.com/assets/colab-badge.svg\" alt=\"Open In Colab\"/></a>"
      ]
    },
    {
      "cell_type": "markdown",
      "source": [
        "<div>\n",
        "<img src=\"img/numpy-logo.png\" width=\"800\"/>\n",
        "</div>"
      ],
      "metadata": {
        "id": "h2_l5ROtBwfF"
      }
    },
    {
      "cell_type": "markdown",
      "source": [
        "NumPy ofrece una enorme gama de formas rápidas y eficientes de crear arreglos y manipular datos numéricos dentro de ellos.\n",
        "\n",
        "Mientras que una lista Python puede contener diferentes tipos de datos dentro de una misma lista, todos los elementos de un array NumPy deben ser homogéneos. Las operaciones matemáticas que se realizan sobre arrays serían extremadamente ineficientes si los arrays no fueran homogéneos.\n",
        "\n",
        "Los arrays de NumPy son más rápidos y compactos que las listas de Python. Un array consume menos memoria y es cómodo de usar. NumPy utiliza mucha menos memoria para almacenar datos y proporciona un mecanismo de especificación de los tipos de datos. Esto permite optimizar aún más el código."
      ],
      "metadata": {
        "id": "n4rmDnVtFfpJ"
      }
    },
    {
      "cell_type": "markdown",
      "source": [
        "#Inicialización de arreglos"
      ],
      "metadata": {
        "id": "_NRRl6Q9CXD5"
      }
    },
    {
      "cell_type": "markdown",
      "source": [
        "#Operaciones con arreglos"
      ],
      "metadata": {
        "id": "CzU56j7JCUof"
      }
    },
    {
      "cell_type": "code",
      "execution_count": null,
      "metadata": {
        "id": "wg1pct8xBRo9"
      },
      "outputs": [],
      "source": []
    }
  ]
}