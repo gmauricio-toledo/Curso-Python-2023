{
  "nbformat": 4,
  "nbformat_minor": 0,
  "metadata": {
    "colab": {
      "provenance": [],
      "authorship_tag": "ABX9TyOUzmEiEwc3feJomYNmeKib",
      "include_colab_link": true
    },
    "kernelspec": {
      "name": "python3",
      "display_name": "Python 3"
    },
    "language_info": {
      "name": "python"
    }
  },
  "cells": [
    {
      "cell_type": "markdown",
      "metadata": {
        "id": "view-in-github",
        "colab_type": "text"
      },
      "source": [
        "<a href=\"https://colab.research.google.com/github/gmauricio-toledo/Curso-Python-2023/blob/main/Notebooks/Numpy.ipynb\" target=\"_parent\"><img src=\"https://colab.research.google.com/assets/colab-badge.svg\" alt=\"Open In Colab\"/></a>"
      ]
    },
    {
      "cell_type": "markdown",
      "source": [
        "<div>\n",
        "<img src=\"https://github.com/gmauricio-toledo/Curso-Python-2023/blob/main/Notebooks/img/numpy-logo.png?raw=1\" width=\"800\"/>\n",
        "</div>"
      ],
      "metadata": {
        "id": "h2_l5ROtBwfF"
      }
    },
    {
      "cell_type": "markdown",
      "source": [
        "[NumPy](https://numpy.org/doc/stable/user/index.html#user) es el paquete fundamental para la computación científica en Python. Es una biblioteca de Python que proporciona un objeto de matriz multidimensional, varios objetos derivados y muchas rutinas para realizar operaciones rápidas con matrices, incluidas operaciones matemáticas, lógicas, de manipulación de formas, ordenación, selección, I/O, transformadas discretas de Fourier, álgebra lineal básica, operaciones estadísticas básicas, simulación aleatoria y mucho más.\n",
        "\n",
        "Además, NumPy es usado ampliamente por otros módulos importantes de Python como Pandas, Scikit learn, TensorFlow, etc.\n",
        "\n",
        "NumPy ofrece una enorme gama de formas rápidas y eficientes de crear arreglos y manipular datos numéricos dentro de ellos.\n",
        "\n",
        "Mientras que una lista Python puede contener diferentes tipos de datos dentro de una misma lista, todos los elementos de un array NumPy deben ser homogéneos. Las operaciones matemáticas que se realizan sobre arrays serían extremadamente ineficientes si los arrays no fueran homogéneos.\n",
        "\n",
        "Los arrays de NumPy son más rápidos y compactos que las listas de Python. Un array consume menos memoria y es cómodo de usar. NumPy utiliza mucha menos memoria para almacenar datos y proporciona un mecanismo de especificación de los tipos de datos. Esto permite optimizar aún más el código."
      ],
      "metadata": {
        "id": "n4rmDnVtFfpJ"
      }
    },
    {
      "cell_type": "code",
      "source": [
        "import numpy"
      ],
      "metadata": {
        "id": "pAlxquVJXJBk"
      },
      "execution_count": null,
      "outputs": []
    },
    {
      "cell_type": "markdown",
      "source": [
        "*Tradicionalmente* se importa así"
      ],
      "metadata": {
        "id": "c6KtXqDQOTHA"
      }
    },
    {
      "cell_type": "code",
      "source": [
        "import numpy as np"
      ],
      "metadata": {
        "id": "K-GpORpAXKMo"
      },
      "execution_count": 2,
      "outputs": []
    },
    {
      "cell_type": "markdown",
      "source": [
        "#Inicialización de arreglos `ndarray`"
      ],
      "metadata": {
        "id": "_NRRl6Q9CXD5"
      }
    },
    {
      "cell_type": "markdown",
      "source": [
        "Una de las clases fundamentales y básicas de Numpy es el arreglo `numpy.array`. Este puede pensarse como un vector, matriz o tensor $n$-dimensional.\n",
        "\n",
        "* **Vectores**: Arreglos unidimensionales de tamaño (*forma*) $(n,)$.\n",
        "* **Matrices**: Arreglos bidimensionales de tamaño $(n,m)$. Son $n$ filas y $m$ columnas.\n",
        "\n",
        "Se puede definir a partir de varios métodos o a partir de una lista de python. [Detalles](https://numpy.org/doc/stable/user/basics.creation.html)"
      ],
      "metadata": {
        "id": "6plEOFRAYtU-"
      }
    },
    {
      "cell_type": "markdown",
      "source": [
        "**Ejemplo:** Definiendo un arreglo de numpy a partir de una lista de Python."
      ],
      "metadata": {
        "id": "yEqnefZqQlmd"
      }
    },
    {
      "cell_type": "code",
      "source": [
        "valores = [3,2,-3,5.5]\n",
        "\n",
        "arreglo = np.array(valores)\n",
        "\n",
        "print(arreglo)\n",
        "print(type(arreglo))"
      ],
      "metadata": {
        "colab": {
          "base_uri": "https://localhost:8080/"
        },
        "id": "iwPmRCiNY9CA",
        "outputId": "c49264fc-6117-4054-89c1-382f43404599"
      },
      "execution_count": 3,
      "outputs": [
        {
          "output_type": "stream",
          "name": "stdout",
          "text": [
            "[ 3.   2.  -3.   5.5]\n",
            "<class 'numpy.ndarray'>\n"
          ]
        }
      ]
    },
    {
      "cell_type": "markdown",
      "source": [
        "**Ejemplo:** Definiendo un arreglo de numpy de tamaño determinado lleno con ceros o unos."
      ],
      "metadata": {
        "id": "yxhCqv9iQrD0"
      }
    },
    {
      "cell_type": "code",
      "source": [
        "arreglo_ceros = np.zeros(shape=(4,))\n",
        "print(arreglo_ceros,end='\\n\\n')\n",
        "\n",
        "matriz_unos = np.ones(shape=(3,2))\n",
        "print(matriz_unos)"
      ],
      "metadata": {
        "id": "r9KD3Wv4QxWl",
        "outputId": "541a0346-6819-43b8-d492-2fb8413e8470",
        "colab": {
          "base_uri": "https://localhost:8080/"
        }
      },
      "execution_count": 6,
      "outputs": [
        {
          "output_type": "stream",
          "name": "stdout",
          "text": [
            "[0. 0. 0. 0.]\n",
            "\n",
            "[[1. 1.]\n",
            " [1. 1.]\n",
            " [1. 1.]]\n"
          ]
        }
      ]
    },
    {
      "cell_type": "markdown",
      "source": [
        "Una vez que tenemos un arreglo, podemos usar cualquiera de los métodos de un arreglo de numpy. Por ejemplo,\n",
        "\n",
        "* La forma del arreglo:"
      ],
      "metadata": {
        "id": "E3pxYWYqZGoG"
      }
    },
    {
      "cell_type": "code",
      "source": [
        "arreglo.shape"
      ],
      "metadata": {
        "colab": {
          "base_uri": "https://localhost:8080/"
        },
        "id": "K14x1rozZMEw",
        "outputId": "07088b4e-7776-4538-a5bc-8c07ea00e724"
      },
      "execution_count": null,
      "outputs": [
        {
          "output_type": "execute_result",
          "data": {
            "text/plain": [
              "(4,)"
            ]
          },
          "metadata": {},
          "execution_count": 11
        }
      ]
    },
    {
      "cell_type": "markdown",
      "source": [
        "* El número de dimensiones del arreglo"
      ],
      "metadata": {
        "id": "EGyNm14KZTBy"
      }
    },
    {
      "cell_type": "code",
      "source": [
        "arreglo.ndim"
      ],
      "metadata": {
        "colab": {
          "base_uri": "https://localhost:8080/"
        },
        "id": "A3HkW-kfZPA1",
        "outputId": "9d5dec73-7664-47f2-fbae-4ab74f0cbfa1"
      },
      "execution_count": null,
      "outputs": [
        {
          "output_type": "execute_result",
          "data": {
            "text/plain": [
              "1"
            ]
          },
          "metadata": {},
          "execution_count": 12
        }
      ]
    },
    {
      "cell_type": "markdown",
      "source": [
        "También podemos definir arreglos bidimensionales (matrices)."
      ],
      "metadata": {
        "id": "Ieph5p78t-R2"
      }
    },
    {
      "cell_type": "code",
      "source": [
        "valores = [[-1,1],[0,3],[2,-1],[0.5,-3]]\n",
        "\n",
        "matriz = np.array(valores)\n",
        "\n",
        "print(matriz)\n",
        "print(f\"Forma del arreglo: {matriz.shape}\")\n",
        "print(f\"Dimensiones del arreglo: {matriz.ndim}\")"
      ],
      "metadata": {
        "colab": {
          "base_uri": "https://localhost:8080/"
        },
        "id": "cfRNgtiluBSn",
        "outputId": "180dc76a-d175-4394-8a4f-8978b6d20d70"
      },
      "execution_count": null,
      "outputs": [
        {
          "output_type": "stream",
          "name": "stdout",
          "text": [
            "[[-1.   1. ]\n",
            " [ 0.   3. ]\n",
            " [ 2.  -1. ]\n",
            " [ 0.5 -3. ]]\n",
            "Forma del arreglo: (4, 2)\n",
            "Dimensiones del arreglo: 2\n"
          ]
        }
      ]
    },
    {
      "cell_type": "markdown",
      "source": [
        "Podemos acceder a los valores individuales del arreglo, renglones o filas.\n",
        "\n",
        "**Recordar que en python enumeramos las secuencias como $0,1,2,...$ en lugar de $1,2,3,...$**"
      ],
      "metadata": {
        "id": "h1TB43BcuWCp"
      }
    },
    {
      "cell_type": "code",
      "source": [
        "entrada = matriz[1,0]\n",
        "print(f\"Elemento (2,1): {entrada}\")\n",
        "\n",
        "renglon = matriz[1]\n",
        "renglon = matriz[1,:]\n",
        "print(f\"Renglón 2: {renglon}\")\n",
        "\n",
        "columna = matriz[:,0]\n",
        "print(f\"Columna 1: {columna}\")"
      ],
      "metadata": {
        "colab": {
          "base_uri": "https://localhost:8080/"
        },
        "id": "DYNfwPqtuVG-",
        "outputId": "945bd0f2-061f-44ad-b854-8cd6f0c85408"
      },
      "execution_count": null,
      "outputs": [
        {
          "output_type": "stream",
          "name": "stdout",
          "text": [
            "Elemento (2,1): 0.0\n",
            "Renglón 2: [0. 3.]\n",
            "Columna 1: [-1.   0.   2.   0.5]\n"
          ]
        }
      ]
    },
    {
      "cell_type": "markdown",
      "source": [
        "✅ \"Ventajas de numpy\" operaciones con arreglos vs iteración"
      ],
      "metadata": {
        "id": "rwKow1hG9CLB"
      }
    },
    {
      "cell_type": "code",
      "source": [
        "v = np.array([-1,2,0,1])\n",
        "w = np.array([3,1,-2,5])\n",
        "\n",
        "v+w"
      ],
      "metadata": {
        "id": "eMxh2ni6FoWx"
      },
      "execution_count": null,
      "outputs": []
    },
    {
      "cell_type": "markdown",
      "source": [
        "## Ejemplo: Calcular errores"
      ],
      "metadata": {
        "id": "b4piqB7WWcQv"
      }
    },
    {
      "cell_type": "markdown",
      "source": [
        "Definimos una función para calcular el error absoluto entre un valor real y una aproximación a este valor"
      ],
      "metadata": {
        "id": "JZyUphKihxHT"
      }
    },
    {
      "cell_type": "code",
      "source": [
        "import numpy as np\n",
        "\n",
        "def error_absoluto(real, aproximacion):\n",
        "    return np.abs(real-aproximacion)\n",
        "\n",
        "def error_relativo(real, aproximacion):\n",
        "    '''\n",
        "    Implementar la función\n",
        "    '''\n",
        "    pass  # instrucción para \"dejar en blanco\" el cuerpo de una función"
      ],
      "metadata": {
        "id": "qi6xeywGUQ2E"
      },
      "execution_count": null,
      "outputs": []
    },
    {
      "cell_type": "markdown",
      "source": [
        "Como ejemplo, consideremos el siguiente valor real y una secuencia de aproximaciones a dicho valor real"
      ],
      "metadata": {
        "id": "LRx9klXwh8-y"
      }
    },
    {
      "cell_type": "code",
      "source": [
        "valor_real = 4.5\n",
        "\n",
        "aproximaciones = [2.5, 2.7, 3.1, 3.6, 3.9, 4.2, 4.6, 4.55]"
      ],
      "metadata": {
        "id": "xMDjPgIEWoR8"
      },
      "execution_count": null,
      "outputs": []
    },
    {
      "cell_type": "markdown",
      "source": [
        "Usando un ciclo `for` calculamos e imprimimos el error absoluto entre cada valor de la secuencia y el valor real"
      ],
      "metadata": {
        "id": "0_OLoCf5iDqy"
      }
    },
    {
      "cell_type": "code",
      "source": [
        "for aprox in aproximaciones:\n",
        "    print(f\"Error absoluto: {error_absoluto(valor_real,aprox)}\")\n",
        "    # print(f\"Error absoluto: {round(error_absoluto(valor_real,aprox),3)}\")"
      ],
      "metadata": {
        "id": "09bdXtsvYP9G"
      },
      "execution_count": null,
      "outputs": []
    },
    {
      "cell_type": "markdown",
      "source": [
        "Usando numpy podemos simplificar el proceso anterior y hacerlo más rápido. Esta es una de muchas ventajas de Numpy."
      ],
      "metadata": {
        "id": "ejCKplCZhYhv"
      }
    },
    {
      "cell_type": "code",
      "source": [
        "aproximaciones = np.array(aproximaciones)\n",
        "\n",
        "error_absoluto(valor_real, aproximaciones)"
      ],
      "metadata": {
        "colab": {
          "base_uri": "https://localhost:8080/"
        },
        "id": "LDyAQ4U-YbVh",
        "outputId": "4216fda8-a86d-446a-9cb5-62fe464ac4f5"
      },
      "execution_count": null,
      "outputs": [
        {
          "output_type": "execute_result",
          "data": {
            "text/plain": [
              "array([2.  , 1.8 , 1.4 , 0.9 , 0.6 , 0.3 , 0.1 , 0.05])"
            ]
          },
          "metadata": {},
          "execution_count": 32
        }
      ]
    }
  ]
}